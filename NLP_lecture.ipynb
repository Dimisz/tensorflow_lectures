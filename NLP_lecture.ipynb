{
  "nbformat": 4,
  "nbformat_minor": 0,
  "metadata": {
    "colab": {
      "name": "NLP_lecture.ipynb",
      "provenance": [],
      "authorship_tag": "ABX9TyPUV7BH1AWQWCgXIWcpOfha",
      "include_colab_link": true
    },
    "kernelspec": {
      "name": "python3",
      "display_name": "Python 3"
    },
    "language_info": {
      "name": "python"
    },
    "accelerator": "GPU"
  },
  "cells": [
    {
      "cell_type": "markdown",
      "metadata": {
        "id": "view-in-github",
        "colab_type": "text"
      },
      "source": [
        "<a href=\"https://colab.research.google.com/github/Dimisz/tensorflow_lectures/blob/main/NLP_lecture.ipynb\" target=\"_parent\"><img src=\"https://colab.research.google.com/assets/colab-badge.svg\" alt=\"Open In Colab\"/></a>"
      ]
    },
    {
      "cell_type": "markdown",
      "metadata": {
        "id": "HKlSmEm4U617"
      },
      "source": [
        "## Read in the Data"
      ]
    },
    {
      "cell_type": "code",
      "metadata": {
        "id": "SAZDzzI-pnVd"
      },
      "source": [
        "import numpy as np\n",
        "import pandas as pd\n",
        "import matplotlib.pyplot as plt\n",
        "import tensorflow as tf\n"
      ],
      "execution_count": 1,
      "outputs": []
    },
    {
      "cell_type": "markdown",
      "metadata": {
        "id": "SPNbOSd7puuF"
      },
      "source": [
        "### Download and prepare the text"
      ]
    },
    {
      "cell_type": "code",
      "metadata": {
        "colab": {
          "base_uri": "https://localhost:8080/"
        },
        "id": "3oUx0QBSqmZl",
        "outputId": "cb726159-e7be-41ae-8708-5fd79bbfbd7a"
      },
      "source": [
        "!wget \"https://raw.githubusercontent.com/Dimisz/tensorflow_lectures/main/shakespeare.txt\""
      ],
      "execution_count": 2,
      "outputs": [
        {
          "output_type": "stream",
          "name": "stdout",
          "text": [
            "--2021-10-07 06:23:42--  https://raw.githubusercontent.com/Dimisz/tensorflow_lectures/main/shakespeare.txt\n",
            "Resolving raw.githubusercontent.com (raw.githubusercontent.com)... 185.199.108.133, 185.199.109.133, 185.199.110.133, ...\n",
            "Connecting to raw.githubusercontent.com (raw.githubusercontent.com)|185.199.108.133|:443... connected.\n",
            "HTTP request sent, awaiting response... 200 OK\n",
            "Length: 5445609 (5.2M) [text/plain]\n",
            "Saving to: ‘shakespeare.txt’\n",
            "\n",
            "shakespeare.txt     100%[===================>]   5.19M  --.-KB/s    in 0.08s   \n",
            "\n",
            "2021-10-07 06:23:43 (66.3 MB/s) - ‘shakespeare.txt’ saved [5445609/5445609]\n",
            "\n"
          ]
        }
      ]
    },
    {
      "cell_type": "code",
      "metadata": {
        "id": "9y3HI515qnxR"
      },
      "source": [
        "path = \"/content/shakespeare.txt\""
      ],
      "execution_count": 3,
      "outputs": []
    },
    {
      "cell_type": "code",
      "metadata": {
        "id": "bFB-Eg90qwm1"
      },
      "source": [
        "text = open(path, 'r').read()"
      ],
      "execution_count": 4,
      "outputs": []
    },
    {
      "cell_type": "code",
      "metadata": {
        "id": "LA_KrIwyq2R8"
      },
      "source": [
        "#print(text[:500])"
      ],
      "execution_count": 5,
      "outputs": []
    },
    {
      "cell_type": "markdown",
      "metadata": {
        "id": "91HmxbkEq4Nm"
      },
      "source": [
        "### Grab unique charachters"
      ]
    },
    {
      "cell_type": "code",
      "metadata": {
        "id": "fXRD3F4MrP6e"
      },
      "source": [
        "vocab = sorted(set(text))"
      ],
      "execution_count": 6,
      "outputs": []
    },
    {
      "cell_type": "code",
      "metadata": {
        "colab": {
          "base_uri": "https://localhost:8080/"
        },
        "id": "Q3-9EtW5rSqE",
        "outputId": "6f0ba6e1-b964-4671-838d-d2839b433026"
      },
      "source": [
        "# important for the last Dense layer\n",
        "len(vocab)"
      ],
      "execution_count": 7,
      "outputs": [
        {
          "output_type": "execute_result",
          "data": {
            "text/plain": [
              "84"
            ]
          },
          "metadata": {},
          "execution_count": 7
        }
      ]
    },
    {
      "cell_type": "markdown",
      "metadata": {
        "id": "4kRy7YVmrTr_"
      },
      "source": [
        "## Text Proccessing\n",
        "\n",
        "* Vectorize the text\n",
        "\n",
        "* Create encoding dictionary"
      ]
    },
    {
      "cell_type": "code",
      "metadata": {
        "id": "r42jpI2crk7W"
      },
      "source": [
        "# for pair in enumerate(vocab):\n",
        "#   print(pair)"
      ],
      "execution_count": 8,
      "outputs": []
    },
    {
      "cell_type": "code",
      "metadata": {
        "id": "bg_0aD7vr8NE"
      },
      "source": [
        "char_to_ind = {char: ind for ind, char in enumerate(vocab)}"
      ],
      "execution_count": 9,
      "outputs": []
    },
    {
      "cell_type": "code",
      "metadata": {
        "colab": {
          "base_uri": "https://localhost:8080/"
        },
        "id": "owfzk7gvsIN9",
        "outputId": "6c5c840a-c7d1-41d6-aa62-1f96c791c687"
      },
      "source": [
        "char_to_ind['H']"
      ],
      "execution_count": 10,
      "outputs": [
        {
          "output_type": "execute_result",
          "data": {
            "text/plain": [
              "33"
            ]
          },
          "metadata": {},
          "execution_count": 10
        }
      ]
    },
    {
      "cell_type": "code",
      "metadata": {
        "id": "x-dLBJvQsK7t"
      },
      "source": [
        "ind_to_char = np.array(vocab)"
      ],
      "execution_count": 11,
      "outputs": []
    },
    {
      "cell_type": "code",
      "metadata": {
        "colab": {
          "base_uri": "https://localhost:8080/",
          "height": 35
        },
        "id": "1v_By2WpsTok",
        "outputId": "1db1ed3d-6940-4b7f-ff2c-2248811d1786"
      },
      "source": [
        "ind_to_char[33]"
      ],
      "execution_count": 12,
      "outputs": [
        {
          "output_type": "execute_result",
          "data": {
            "application/vnd.google.colaboratory.intrinsic+json": {
              "type": "string"
            },
            "text/plain": [
              "'H'"
            ]
          },
          "metadata": {},
          "execution_count": 12
        }
      ]
    },
    {
      "cell_type": "code",
      "metadata": {
        "id": "vUV6pu2UsVk9"
      },
      "source": [
        "encoded_text = np.array([char_to_ind[c] for c in text])"
      ],
      "execution_count": 13,
      "outputs": []
    },
    {
      "cell_type": "code",
      "metadata": {
        "colab": {
          "base_uri": "https://localhost:8080/"
        },
        "id": "2WEp2RnlsqCx",
        "outputId": "67c50cbb-044b-47bd-fe20-48ff8dd84cb2"
      },
      "source": [
        "encoded_text.shape"
      ],
      "execution_count": 14,
      "outputs": [
        {
          "output_type": "execute_result",
          "data": {
            "text/plain": [
              "(5445609,)"
            ]
          },
          "metadata": {},
          "execution_count": 14
        }
      ]
    },
    {
      "cell_type": "code",
      "metadata": {
        "id": "oyuUb_WEstd6"
      },
      "source": [
        "sample = text[:500]"
      ],
      "execution_count": 15,
      "outputs": []
    },
    {
      "cell_type": "code",
      "metadata": {
        "colab": {
          "base_uri": "https://localhost:8080/",
          "height": 103
        },
        "id": "tQZ46llps2Cu",
        "outputId": "8b967c37-9da3-4823-c8c3-c73bb8aa3d4f"
      },
      "source": [
        "sample"
      ],
      "execution_count": 16,
      "outputs": [
        {
          "output_type": "execute_result",
          "data": {
            "application/vnd.google.colaboratory.intrinsic+json": {
              "type": "string"
            },
            "text/plain": [
              "\"\\n                     1\\n  From fairest creatures we desire increase,\\n  That thereby beauty's rose might never die,\\n  But as the riper should by time decease,\\n  His tender heir might bear his memory:\\n  But thou contracted to thine own bright eyes,\\n  Feed'st thy light's flame with self-substantial fuel,\\n  Making a famine where abundance lies,\\n  Thy self thy foe, to thy sweet self too cruel:\\n  Thou that art now the world's fresh ornament,\\n  And only herald to the gaudy spring,\\n  Within thine own bu\""
            ]
          },
          "metadata": {},
          "execution_count": 16
        }
      ]
    },
    {
      "cell_type": "code",
      "metadata": {
        "colab": {
          "base_uri": "https://localhost:8080/"
        },
        "id": "UQWRSrlXs38U",
        "outputId": "f6679f89-1577-4b8e-9623-a688bc9fb925"
      },
      "source": [
        "encoded_text[:500]"
      ],
      "execution_count": 17,
      "outputs": [
        {
          "output_type": "execute_result",
          "data": {
            "text/plain": [
              "array([ 0,  1,  1,  1,  1,  1,  1,  1,  1,  1,  1,  1,  1,  1,  1,  1,  1,\n",
              "        1,  1,  1,  1,  1, 12,  0,  1,  1, 31, 73, 70, 68,  1, 61, 56, 64,\n",
              "       73, 60, 74, 75,  1, 58, 73, 60, 56, 75, 76, 73, 60, 74,  1, 78, 60,\n",
              "        1, 59, 60, 74, 64, 73, 60,  1, 64, 69, 58, 73, 60, 56, 74, 60,  8,\n",
              "        0,  1,  1, 45, 63, 56, 75,  1, 75, 63, 60, 73, 60, 57, 80,  1, 57,\n",
              "       60, 56, 76, 75, 80,  5, 74,  1, 73, 70, 74, 60,  1, 68, 64, 62, 63,\n",
              "       75,  1, 69, 60, 77, 60, 73,  1, 59, 64, 60,  8,  0,  1,  1, 27, 76,\n",
              "       75,  1, 56, 74,  1, 75, 63, 60,  1, 73, 64, 71, 60, 73,  1, 74, 63,\n",
              "       70, 76, 67, 59,  1, 57, 80,  1, 75, 64, 68, 60,  1, 59, 60, 58, 60,\n",
              "       56, 74, 60,  8,  0,  1,  1, 33, 64, 74,  1, 75, 60, 69, 59, 60, 73,\n",
              "        1, 63, 60, 64, 73,  1, 68, 64, 62, 63, 75,  1, 57, 60, 56, 73,  1,\n",
              "       63, 64, 74,  1, 68, 60, 68, 70, 73, 80, 21,  0,  1,  1, 27, 76, 75,\n",
              "        1, 75, 63, 70, 76,  1, 58, 70, 69, 75, 73, 56, 58, 75, 60, 59,  1,\n",
              "       75, 70,  1, 75, 63, 64, 69, 60,  1, 70, 78, 69,  1, 57, 73, 64, 62,\n",
              "       63, 75,  1, 60, 80, 60, 74,  8,  0,  1,  1, 31, 60, 60, 59,  5, 74,\n",
              "       75,  1, 75, 63, 80,  1, 67, 64, 62, 63, 75,  5, 74,  1, 61, 67, 56,\n",
              "       68, 60,  1, 78, 64, 75, 63,  1, 74, 60, 67, 61,  9, 74, 76, 57, 74,\n",
              "       75, 56, 69, 75, 64, 56, 67,  1, 61, 76, 60, 67,  8,  0,  1,  1, 38,\n",
              "       56, 66, 64, 69, 62,  1, 56,  1, 61, 56, 68, 64, 69, 60,  1, 78, 63,\n",
              "       60, 73, 60,  1, 56, 57, 76, 69, 59, 56, 69, 58, 60,  1, 67, 64, 60,\n",
              "       74,  8,  0,  1,  1, 45, 63, 80,  1, 74, 60, 67, 61,  1, 75, 63, 80,\n",
              "        1, 61, 70, 60,  8,  1, 75, 70,  1, 75, 63, 80,  1, 74, 78, 60, 60,\n",
              "       75,  1, 74, 60, 67, 61,  1, 75, 70, 70,  1, 58, 73, 76, 60, 67, 21,\n",
              "        0,  1,  1, 45, 63, 70, 76,  1, 75, 63, 56, 75,  1, 56, 73, 75,  1,\n",
              "       69, 70, 78,  1, 75, 63, 60,  1, 78, 70, 73, 67, 59,  5, 74,  1, 61,\n",
              "       73, 60, 74, 63,  1, 70, 73, 69, 56, 68, 60, 69, 75,  8,  0,  1,  1,\n",
              "       26, 69, 59,  1, 70, 69, 67, 80,  1, 63, 60, 73, 56, 67, 59,  1, 75,\n",
              "       70,  1, 75, 63, 60,  1, 62, 56, 76, 59, 80,  1, 74, 71, 73, 64, 69,\n",
              "       62,  8,  0,  1,  1, 48, 64, 75, 63, 64, 69,  1, 75, 63, 64, 69, 60,\n",
              "        1, 70, 78, 69,  1, 57, 76])"
            ]
          },
          "metadata": {},
          "execution_count": 17
        }
      ]
    },
    {
      "cell_type": "markdown",
      "metadata": {
        "id": "vuLwHHIas6iC"
      },
      "source": [
        "## Creating Batches\n",
        "\n",
        "Batches should be long enough to let the model to pick up the structure"
      ]
    },
    {
      "cell_type": "code",
      "metadata": {
        "colab": {
          "base_uri": "https://localhost:8080/"
        },
        "id": "n_nAcZPrtoLn",
        "outputId": "7ad2b204-a484-4664-c136-67ea4fc4ed7c"
      },
      "source": [
        "print(text[:500])"
      ],
      "execution_count": 18,
      "outputs": [
        {
          "output_type": "stream",
          "name": "stdout",
          "text": [
            "\n",
            "                     1\n",
            "  From fairest creatures we desire increase,\n",
            "  That thereby beauty's rose might never die,\n",
            "  But as the riper should by time decease,\n",
            "  His tender heir might bear his memory:\n",
            "  But thou contracted to thine own bright eyes,\n",
            "  Feed'st thy light's flame with self-substantial fuel,\n",
            "  Making a famine where abundance lies,\n",
            "  Thy self thy foe, to thy sweet self too cruel:\n",
            "  Thou that art now the world's fresh ornament,\n",
            "  And only herald to the gaudy spring,\n",
            "  Within thine own bu\n"
          ]
        }
      ]
    },
    {
      "cell_type": "code",
      "metadata": {
        "colab": {
          "base_uri": "https://localhost:8080/"
        },
        "id": "hzuyBll_uNHo",
        "outputId": "c858e416-07e8-48df-8ca6-178eb1d6e649"
      },
      "source": [
        "line = \"From fairest creatures we desire increase\"\n",
        "len(line)"
      ],
      "execution_count": 19,
      "outputs": [
        {
          "output_type": "execute_result",
          "data": {
            "text/plain": [
              "41"
            ]
          },
          "metadata": {},
          "execution_count": 19
        }
      ]
    },
    {
      "cell_type": "code",
      "metadata": {
        "colab": {
          "base_uri": "https://localhost:8080/"
        },
        "id": "e0S4XqgquUMx",
        "outputId": "572f0fc9-b8f3-4120-dba7-a3c0ec79fc4c"
      },
      "source": [
        "lines = \"\"\"\n",
        "From fairest creatures we desire increase,\n",
        "  That thereby beauty's rose might never die,\n",
        "  But as the riper should by time decease,\n",
        "\"\"\"\n",
        "len(lines)"
      ],
      "execution_count": 20,
      "outputs": [
        {
          "output_type": "execute_result",
          "data": {
            "text/plain": [
              "133"
            ]
          },
          "metadata": {},
          "execution_count": 20
        }
      ]
    },
    {
      "cell_type": "code",
      "metadata": {
        "id": "QLCCjrC_ucoP"
      },
      "source": [
        "seq_len = 120"
      ],
      "execution_count": 21,
      "outputs": []
    },
    {
      "cell_type": "code",
      "metadata": {
        "id": "WJtU-pkQvBQq"
      },
      "source": [
        "total_num_seq = len(text) // (seq_len + 1)"
      ],
      "execution_count": 22,
      "outputs": []
    },
    {
      "cell_type": "code",
      "metadata": {
        "colab": {
          "base_uri": "https://localhost:8080/"
        },
        "id": "54DBe_50vJOF",
        "outputId": "76a08273-940e-451b-ec75-7f5eb8d0e6cf"
      },
      "source": [
        "total_num_seq"
      ],
      "execution_count": 23,
      "outputs": [
        {
          "output_type": "execute_result",
          "data": {
            "text/plain": [
              "45005"
            ]
          },
          "metadata": {},
          "execution_count": 23
        }
      ]
    },
    {
      "cell_type": "markdown",
      "metadata": {
        "id": "ZoL2GvUnvLS1"
      },
      "source": [
        "### Prepare dataset using sequences"
      ]
    },
    {
      "cell_type": "code",
      "metadata": {
        "id": "xBtE_UkRvTQl"
      },
      "source": [
        "char_dataset = tf.data.Dataset.from_tensor_slices(encoded_text)"
      ],
      "execution_count": 24,
      "outputs": []
    },
    {
      "cell_type": "code",
      "metadata": {
        "colab": {
          "base_uri": "https://localhost:8080/"
        },
        "id": "UjuYHovrvejd",
        "outputId": "67821695-0f8c-4c97-af74-a44ec0679dee"
      },
      "source": [
        "type(char_dataset)"
      ],
      "execution_count": 25,
      "outputs": [
        {
          "output_type": "execute_result",
          "data": {
            "text/plain": [
              "tensorflow.python.data.ops.dataset_ops.TensorSliceDataset"
            ]
          },
          "metadata": {},
          "execution_count": 25
        }
      ]
    },
    {
      "cell_type": "code",
      "metadata": {
        "id": "sZjqUEM6vizY"
      },
      "source": [
        "# Demonstrate how it looks like\n",
        "# for item in char_dataset.take(500):\n",
        "#   print(ind_to_char[item.numpy()])"
      ],
      "execution_count": 26,
      "outputs": []
    },
    {
      "cell_type": "code",
      "metadata": {
        "id": "vtfP1xSOv6ju"
      },
      "source": [
        "sequences = char_dataset.batch(seq_len + 1, drop_remainder=True)"
      ],
      "execution_count": 27,
      "outputs": []
    },
    {
      "cell_type": "code",
      "metadata": {
        "id": "xuD_L2MUwZwV"
      },
      "source": [
        "def create_seq_targets(seq):\n",
        "  input_txt = seq[:-1] # Hello my nam\n",
        "  target_txt = seq[1:] # ello my name\n",
        "  return input_txt, target_txt"
      ],
      "execution_count": 28,
      "outputs": []
    },
    {
      "cell_type": "code",
      "metadata": {
        "id": "OLDZ7fbFxjOg"
      },
      "source": [
        "# map the function to all the sequences\n",
        "dataset = sequences.map(create_seq_targets)"
      ],
      "execution_count": 29,
      "outputs": []
    },
    {
      "cell_type": "code",
      "metadata": {
        "colab": {
          "base_uri": "https://localhost:8080/"
        },
        "id": "j6R0UWayxsus",
        "outputId": "759364ab-a6f7-42fe-ebef-2f6f51506cde"
      },
      "source": [
        "for input_txt, target_txt in dataset.take(1):\n",
        "  print(input_txt.numpy())\n",
        "  print(\"\".join(ind_to_char[input_txt.numpy()]))\n",
        "  print(\"\\n\")\n",
        "  print(target_txt.numpy())\n",
        "  print(\"\".join(ind_to_char[target_txt.numpy()]))"
      ],
      "execution_count": 30,
      "outputs": [
        {
          "output_type": "stream",
          "name": "stdout",
          "text": [
            "[ 0  1  1  1  1  1  1  1  1  1  1  1  1  1  1  1  1  1  1  1  1  1 12  0\n",
            "  1  1 31 73 70 68  1 61 56 64 73 60 74 75  1 58 73 60 56 75 76 73 60 74\n",
            "  1 78 60  1 59 60 74 64 73 60  1 64 69 58 73 60 56 74 60  8  0  1  1 45\n",
            " 63 56 75  1 75 63 60 73 60 57 80  1 57 60 56 76 75 80  5 74  1 73 70 74\n",
            " 60  1 68 64 62 63 75  1 69 60 77 60 73  1 59 64 60  8  0  1  1 27 76 75]\n",
            "\n",
            "                     1\n",
            "  From fairest creatures we desire increase,\n",
            "  That thereby beauty's rose might never die,\n",
            "  But\n",
            "\n",
            "\n",
            "[ 1  1  1  1  1  1  1  1  1  1  1  1  1  1  1  1  1  1  1  1  1 12  0  1\n",
            "  1 31 73 70 68  1 61 56 64 73 60 74 75  1 58 73 60 56 75 76 73 60 74  1\n",
            " 78 60  1 59 60 74 64 73 60  1 64 69 58 73 60 56 74 60  8  0  1  1 45 63\n",
            " 56 75  1 75 63 60 73 60 57 80  1 57 60 56 76 75 80  5 74  1 73 70 74 60\n",
            "  1 68 64 62 63 75  1 69 60 77 60 73  1 59 64 60  8  0  1  1 27 76 75  1]\n",
            "                     1\n",
            "  From fairest creatures we desire increase,\n",
            "  That thereby beauty's rose might never die,\n",
            "  But \n"
          ]
        }
      ]
    },
    {
      "cell_type": "markdown",
      "metadata": {
        "id": "YIGOGZt6yemV"
      },
      "source": [
        "### Generate training batches"
      ]
    },
    {
      "cell_type": "code",
      "metadata": {
        "id": "nMDQIbBFy0_5"
      },
      "source": [
        "batch_size = 128"
      ],
      "execution_count": 31,
      "outputs": []
    },
    {
      "cell_type": "code",
      "metadata": {
        "id": "O2z2vX4Ey2uk"
      },
      "source": [
        "buffer_size = 10000 \n",
        "# Need to shuffle!!!\n",
        "dataset = dataset.shuffle(buffer_size).batch(batch_size,  drop_remainder=True)"
      ],
      "execution_count": 32,
      "outputs": []
    },
    {
      "cell_type": "code",
      "metadata": {
        "colab": {
          "base_uri": "https://localhost:8080/"
        },
        "id": "KGHL9JOnzTqR",
        "outputId": "53ffd547-0cf0-477c-f50b-8fbe776c0c59"
      },
      "source": [
        "dataset"
      ],
      "execution_count": 33,
      "outputs": [
        {
          "output_type": "execute_result",
          "data": {
            "text/plain": [
              "<BatchDataset shapes: ((128, 120), (128, 120)), types: (tf.int64, tf.int64)>"
            ]
          },
          "metadata": {},
          "execution_count": 33
        }
      ]
    },
    {
      "cell_type": "markdown",
      "metadata": {
        "id": "kAi8jATWzVPT"
      },
      "source": [
        "## Create a model"
      ]
    },
    {
      "cell_type": "code",
      "metadata": {
        "id": "tg7dphER0ynX"
      },
      "source": [
        "vocab_size = len(vocab)"
      ],
      "execution_count": 34,
      "outputs": []
    },
    {
      "cell_type": "code",
      "metadata": {
        "colab": {
          "base_uri": "https://localhost:8080/"
        },
        "id": "Y3cF9wSo06MP",
        "outputId": "564e2683-b6f8-4cc9-a249-54e671c5f0e2"
      },
      "source": [
        "vocab_size"
      ],
      "execution_count": 35,
      "outputs": [
        {
          "output_type": "execute_result",
          "data": {
            "text/plain": [
              "84"
            ]
          },
          "metadata": {},
          "execution_count": 35
        }
      ]
    },
    {
      "cell_type": "code",
      "metadata": {
        "id": "gQHdeWw008TZ"
      },
      "source": [
        "embed_dim = 64"
      ],
      "execution_count": 36,
      "outputs": []
    },
    {
      "cell_type": "code",
      "metadata": {
        "id": "CpqagB0y0-m5"
      },
      "source": [
        "rnn_neurons = 1026"
      ],
      "execution_count": 37,
      "outputs": []
    },
    {
      "cell_type": "code",
      "metadata": {
        "id": "bNitiE081Cu4"
      },
      "source": [
        "from tensorflow.keras.losses import sparse_categorical_crossentropy"
      ],
      "execution_count": 38,
      "outputs": []
    },
    {
      "cell_type": "code",
      "metadata": {
        "colab": {
          "base_uri": "https://localhost:8080/"
        },
        "id": "paAwuflx1Q_4",
        "outputId": "7b14758d-8ddc-47ed-caf9-be709c76f8f5"
      },
      "source": [
        "help(sparse_categorical_crossentropy)"
      ],
      "execution_count": 39,
      "outputs": [
        {
          "output_type": "stream",
          "name": "stdout",
          "text": [
            "Help on function sparse_categorical_crossentropy in module keras.losses:\n",
            "\n",
            "sparse_categorical_crossentropy(y_true, y_pred, from_logits=False, axis=-1)\n",
            "    Computes the sparse categorical crossentropy loss.\n",
            "    \n",
            "    Standalone usage:\n",
            "    \n",
            "    >>> y_true = [1, 2]\n",
            "    >>> y_pred = [[0.05, 0.95, 0], [0.1, 0.8, 0.1]]\n",
            "    >>> loss = tf.keras.losses.sparse_categorical_crossentropy(y_true, y_pred)\n",
            "    >>> assert loss.shape == (2,)\n",
            "    >>> loss.numpy()\n",
            "    array([0.0513, 2.303], dtype=float32)\n",
            "    \n",
            "    Args:\n",
            "      y_true: Ground truth values.\n",
            "      y_pred: The predicted values.\n",
            "      from_logits: Whether `y_pred` is expected to be a logits tensor. By default,\n",
            "        we assume that `y_pred` encodes a probability distribution.\n",
            "      axis: Defaults to -1. The dimension along which the entropy is\n",
            "        computed.\n",
            "    \n",
            "    Returns:\n",
            "      Sparse categorical crossentropy loss value.\n",
            "\n"
          ]
        }
      ]
    },
    {
      "cell_type": "code",
      "metadata": {
        "id": "C_VbOFfX1Ves"
      },
      "source": [
        "def sparse_cat_loss(y_true, y_pred):\n",
        "  return sparse_categorical_crossentropy(y_true, y_pred, from_logits=True)"
      ],
      "execution_count": 40,
      "outputs": []
    },
    {
      "cell_type": "code",
      "metadata": {
        "id": "m5ZAajPR11iK"
      },
      "source": [
        "from tensorflow.keras.models import Sequential\n",
        "from tensorflow.keras.layers import Embedding, GRU, Dense"
      ],
      "execution_count": 41,
      "outputs": []
    },
    {
      "cell_type": "code",
      "metadata": {
        "id": "eskOE5a21kIQ"
      },
      "source": [
        "def create_model(vocab_size, embed_dim, rnn_neurons, batch_size):\n",
        "  model = Sequential()\n",
        "  model.add(Embedding(vocab_size, embed_dim, batch_input_shape=[batch_size, None]))\n",
        "  model.add(GRU(rnn_neurons, \n",
        "                return_sequences=True, \n",
        "                stateful=True, \n",
        "                recurrent_initializer='glorot_uniform'))\n",
        "  model.add(Dense(vocab_size))\n",
        "\n",
        "  model.compile(optimizer='adam', loss=sparse_cat_loss)\n",
        "\n",
        "  return model"
      ],
      "execution_count": 42,
      "outputs": []
    },
    {
      "cell_type": "code",
      "metadata": {
        "id": "1V97wDU53az5"
      },
      "source": [
        "model = create_model(vocab_size=vocab_size,\n",
        "                     embed_dim=embed_dim,\n",
        "                     rnn_neurons=rnn_neurons,\n",
        "                     batch_size=batch_size)"
      ],
      "execution_count": 43,
      "outputs": []
    },
    {
      "cell_type": "code",
      "metadata": {
        "colab": {
          "base_uri": "https://localhost:8080/"
        },
        "id": "tibMPKXa3rjs",
        "outputId": "d5cbd87f-6476-4a5a-e798-11c2b9c5db3b"
      },
      "source": [
        "model.summary()"
      ],
      "execution_count": 44,
      "outputs": [
        {
          "output_type": "stream",
          "name": "stdout",
          "text": [
            "Model: \"sequential\"\n",
            "_________________________________________________________________\n",
            "Layer (type)                 Output Shape              Param #   \n",
            "=================================================================\n",
            "embedding (Embedding)        (128, None, 64)           5376      \n",
            "_________________________________________________________________\n",
            "gru (GRU)                    (128, None, 1026)         3361176   \n",
            "_________________________________________________________________\n",
            "dense (Dense)                (128, None, 84)           86268     \n",
            "=================================================================\n",
            "Total params: 3,452,820\n",
            "Trainable params: 3,452,820\n",
            "Non-trainable params: 0\n",
            "_________________________________________________________________\n"
          ]
        }
      ]
    },
    {
      "cell_type": "code",
      "metadata": {
        "id": "p2PBeetx3tKD"
      },
      "source": [
        "for input_example_batch, target_example_batch in dataset.take(1):\n",
        "\n",
        "  example_batch_predictions = model(input_example_batch)"
      ],
      "execution_count": 45,
      "outputs": []
    },
    {
      "cell_type": "code",
      "metadata": {
        "colab": {
          "base_uri": "https://localhost:8080/"
        },
        "id": "3TfgIRt3cIT3",
        "outputId": "c037dc12-dc41-442f-d2d6-531cc651ca23"
      },
      "source": [
        "example_batch_predictions.shape"
      ],
      "execution_count": 46,
      "outputs": [
        {
          "output_type": "execute_result",
          "data": {
            "text/plain": [
              "TensorShape([128, 120, 84])"
            ]
          },
          "metadata": {},
          "execution_count": 46
        }
      ]
    },
    {
      "cell_type": "code",
      "metadata": {
        "colab": {
          "base_uri": "https://localhost:8080/"
        },
        "id": "nyam15RdcLr5",
        "outputId": "9314475e-7a99-4344-d119-db888287236e"
      },
      "source": [
        "example_batch_predictions[0]"
      ],
      "execution_count": 47,
      "outputs": [
        {
          "output_type": "execute_result",
          "data": {
            "text/plain": [
              "<tf.Tensor: shape=(120, 84), dtype=float32, numpy=\n",
              "array([[-4.4641254e-04, -5.6545073e-03, -3.2771968e-03, ...,\n",
              "         1.0830046e-02, -2.3791230e-04,  4.3035531e-03],\n",
              "       [ 7.2741094e-03, -4.5144404e-03, -9.8069310e-03, ...,\n",
              "         4.0336875e-03, -1.1707855e-02,  5.6841723e-03],\n",
              "       [-8.8659152e-05, -4.7053621e-04, -5.5421661e-03, ...,\n",
              "        -3.2657834e-03,  5.2272761e-04,  4.0610339e-03],\n",
              "       ...,\n",
              "       [ 8.0655162e-05, -1.1545721e-03, -6.4481478e-03, ...,\n",
              "        -3.0350538e-03,  7.0549821e-04,  5.3036502e-03],\n",
              "       [ 1.0104814e-04, -6.4861821e-03, -5.9962366e-03, ...,\n",
              "         9.9907927e-03,  1.2214131e-03,  7.6431124e-03],\n",
              "       [-1.4029222e-04, -1.3858570e-03,  2.3633808e-04, ...,\n",
              "         1.1033756e-02, -1.4753001e-03,  6.9138147e-03]], dtype=float32)>"
            ]
          },
          "metadata": {},
          "execution_count": 47
        }
      ]
    },
    {
      "cell_type": "code",
      "metadata": {
        "id": "HG9RzzBecWD0"
      },
      "source": [
        "samples_indices = tf.random.categorical(example_batch_predictions[0], num_samples=1)"
      ],
      "execution_count": 49,
      "outputs": []
    },
    {
      "cell_type": "code",
      "metadata": {
        "id": "jaGXWMNEcd_8"
      },
      "source": [
        "samples_indices = tf.squeeze(samples_indices, axis=-1).numpy()"
      ],
      "execution_count": 51,
      "outputs": []
    },
    {
      "cell_type": "code",
      "metadata": {
        "colab": {
          "base_uri": "https://localhost:8080/"
        },
        "id": "6uUKXHw6c07c",
        "outputId": "af120e79-13ec-4d05-8d69-5c3fd8957b84"
      },
      "source": [
        "ind_to_char[samples_indices]"
      ],
      "execution_count": 52,
      "outputs": [
        {
          "output_type": "execute_result",
          "data": {
            "text/plain": [
              "array(['8', \"'\", 'V', ' ', 'U', 'h', '>', ')', 'h', 'm', 'D', '(', 'f',\n",
              "       'l', 'U', 'F', ':', '?', 'A', 'X', 'X', '!', 'c', 'A', '|', ':',\n",
              "       'N', 'S', '5', 'i', 'I', '?', '`', 'B', 'w', 'x', 'N', 'S', 'p',\n",
              "       'H', 'm', 'H', 'A', 'T', '6', 'J', 'D', 'j', '\"', 'j', 'V', '6',\n",
              "       'j', 'T', '\\n', 'g', ' ', 'b', ':', 'x', ']', '?', 'J', 'C', 'd',\n",
              "       'B', '-', 'V', 'k', 'S', 'J', 'p', 'v', 'A', 'H', 'y', 'T', '5',\n",
              "       'n', '.', 'S', '`', '3', '`', 'm', 'U', 'V', 'c', 'B', ' ', 'P',\n",
              "       'w', 'Y', 'L', '`', '4', '&', 'v', 'I', ')', '6', 'l', ']', 'n',\n",
              "       '`', 'X', '_', '`', '<', '3', \"'\", '0', 't', 't', 'e', '.', 'p',\n",
              "       '5', '>', 'v'], dtype='<U1')"
            ]
          },
          "metadata": {},
          "execution_count": 52
        }
      ]
    },
    {
      "cell_type": "code",
      "metadata": {
        "id": "Fu807a5sdIVr"
      },
      "source": [
        "epochs = 30"
      ],
      "execution_count": 53,
      "outputs": []
    },
    {
      "cell_type": "code",
      "metadata": {
        "colab": {
          "base_uri": "https://localhost:8080/"
        },
        "id": "24HgNhStdNG7",
        "outputId": "66bec9a6-c386-461d-91d9-c9b0b8c5f5b6"
      },
      "source": [
        "# Takes around 45 minutes to train the model\n",
        "# model.fit(dataset, epochs=epochs)"
      ],
      "execution_count": 55,
      "outputs": [
        {
          "output_type": "stream",
          "name": "stdout",
          "text": [
            "Epoch 1/30\n",
            "351/351 [==============================] - 93s 253ms/step - loss: 2.5221\n",
            "Epoch 2/30\n",
            "351/351 [==============================] - 91s 253ms/step - loss: 1.7183\n",
            "Epoch 3/30\n",
            "351/351 [==============================] - 91s 253ms/step - loss: 1.4544\n",
            "Epoch 4/30\n",
            "351/351 [==============================] - 91s 253ms/step - loss: 1.3390\n",
            "Epoch 5/30\n",
            "351/351 [==============================] - 91s 254ms/step - loss: 1.2774\n",
            "Epoch 6/30\n",
            "351/351 [==============================] - 91s 253ms/step - loss: 1.2375\n",
            "Epoch 7/30\n",
            "351/351 [==============================] - 91s 254ms/step - loss: 1.2081\n",
            "Epoch 8/30\n",
            "351/351 [==============================] - 91s 255ms/step - loss: 1.1849\n",
            "Epoch 9/30\n",
            "351/351 [==============================] - 92s 257ms/step - loss: 1.1653\n",
            "Epoch 10/30\n",
            "351/351 [==============================] - 91s 254ms/step - loss: 1.1487\n",
            "Epoch 11/30\n",
            "351/351 [==============================] - 91s 255ms/step - loss: 1.1328\n",
            "Epoch 12/30\n",
            "351/351 [==============================] - 92s 256ms/step - loss: 1.1184\n",
            "Epoch 13/30\n",
            "351/351 [==============================] - 91s 253ms/step - loss: 1.1048\n",
            "Epoch 14/30\n",
            "351/351 [==============================] - 91s 253ms/step - loss: 1.0923\n",
            "Epoch 15/30\n",
            "351/351 [==============================] - 90s 252ms/step - loss: 1.0804\n",
            "Epoch 16/30\n",
            "351/351 [==============================] - 90s 251ms/step - loss: 1.0693\n",
            "Epoch 17/30\n",
            "351/351 [==============================] - 90s 252ms/step - loss: 1.0580\n",
            "Epoch 18/30\n",
            "351/351 [==============================] - 90s 252ms/step - loss: 1.0479\n",
            "Epoch 19/30\n",
            "351/351 [==============================] - 90s 252ms/step - loss: 1.0378\n",
            "Epoch 20/30\n",
            "351/351 [==============================] - 90s 252ms/step - loss: 1.0289\n",
            "Epoch 21/30\n",
            "351/351 [==============================] - 90s 252ms/step - loss: 1.0202\n",
            "Epoch 22/30\n",
            "351/351 [==============================] - 90s 251ms/step - loss: 1.0130\n",
            "Epoch 23/30\n",
            "351/351 [==============================] - 90s 250ms/step - loss: 1.0057\n",
            "Epoch 24/30\n",
            "351/351 [==============================] - 90s 250ms/step - loss: 0.9990\n",
            "Epoch 25/30\n",
            "351/351 [==============================] - 90s 251ms/step - loss: 0.9931\n",
            "Epoch 26/30\n",
            "351/351 [==============================] - 90s 252ms/step - loss: 0.9880\n",
            "Epoch 27/30\n",
            "351/351 [==============================] - 90s 252ms/step - loss: 0.9835\n",
            "Epoch 28/30\n",
            "351/351 [==============================] - 90s 251ms/step - loss: 0.9793\n",
            "Epoch 29/30\n",
            "351/351 [==============================] - 91s 252ms/step - loss: 0.9751\n",
            "Epoch 30/30\n",
            "351/351 [==============================] - 90s 251ms/step - loss: 0.9718\n"
          ]
        },
        {
          "output_type": "execute_result",
          "data": {
            "text/plain": [
              "<keras.callbacks.History at 0x7fbddd87c350>"
            ]
          },
          "metadata": {},
          "execution_count": 55
        }
      ]
    },
    {
      "cell_type": "code",
      "metadata": {
        "id": "04Lr-WMTdR0p"
      },
      "source": [
        "model.save(\"shakespeare_model.h5\")"
      ],
      "execution_count": 56,
      "outputs": []
    },
    {
      "cell_type": "code",
      "metadata": {
        "id": "wYfiM1lsqb38"
      },
      "source": [
        "from tensorflow.keras.models import load_model"
      ],
      "execution_count": 57,
      "outputs": []
    },
    {
      "cell_type": "code",
      "metadata": {
        "id": "zGaHcRvDssdK"
      },
      "source": [
        "model = create_model(vocab_size, embed_dim, rnn_neurons, batch_size=1)\n",
        "\n",
        "model.load_weights(\"/content/shakespeare_model.h5\")\n",
        "\n",
        "model.build(tf.TensorShape([1, None]))"
      ],
      "execution_count": 58,
      "outputs": []
    },
    {
      "cell_type": "code",
      "metadata": {
        "colab": {
          "base_uri": "https://localhost:8080/"
        },
        "id": "3dA2ivKptR7q",
        "outputId": "f17ef142-fb38-46a1-e52b-ded219828ae1"
      },
      "source": [
        "model.summary()"
      ],
      "execution_count": 59,
      "outputs": [
        {
          "output_type": "stream",
          "name": "stdout",
          "text": [
            "Model: \"sequential_1\"\n",
            "_________________________________________________________________\n",
            "Layer (type)                 Output Shape              Param #   \n",
            "=================================================================\n",
            "embedding_1 (Embedding)      (1, None, 64)             5376      \n",
            "_________________________________________________________________\n",
            "gru_1 (GRU)                  (1, None, 1026)           3361176   \n",
            "_________________________________________________________________\n",
            "dense_1 (Dense)              (1, None, 84)             86268     \n",
            "=================================================================\n",
            "Total params: 3,452,820\n",
            "Trainable params: 3,452,820\n",
            "Non-trainable params: 0\n",
            "_________________________________________________________________\n"
          ]
        }
      ]
    },
    {
      "cell_type": "code",
      "metadata": {
        "id": "S2e5qOT4tT0s"
      },
      "source": [
        "def generate_text(model, start_seed, gen_size=500, temp=1.0):\n",
        "  \n",
        "  num_generate = gen_size\n",
        "  input_eval = [char_to_ind[s] for s in start_seed]\n",
        "  input_eval = tf.expand_dims(input_eval,0)\n",
        "  text_generated = []\n",
        "  temperature = temp\n",
        "  model.reset_states()\n",
        "\n",
        "  for i in range(num_generate):\n",
        "    predictions = model(input_eval)\n",
        "    predictions = tf.squeeze(predictions, 0)\n",
        "    predictionns = predictions/temperature\n",
        "    predicted_id = tf.random.categorical(predictions, num_samples=1)[-1,0].numpy()\n",
        "    input_eval = tf.expand_dims([predicted_id],0)\n",
        "    text_generated.append(ind_to_char[predicted_id])\n",
        "  \n",
        "  return (start_seed + \"\".join(text_generated))\n"
      ],
      "execution_count": 60,
      "outputs": []
    },
    {
      "cell_type": "code",
      "metadata": {
        "colab": {
          "base_uri": "https://localhost:8080/"
        },
        "id": "_KN-OkTpv6WV",
        "outputId": "b4218fa4-e5ca-4de7-b825-b0a621836012"
      },
      "source": [
        "print(generate_text(model, \"JULIET\", gen_size=2000))"
      ],
      "execution_count": 61,
      "outputs": [
        {
          "output_type": "stream",
          "name": "stdout",
          "text": [
            "JULIET. Then she approve it. Well, we have vering parts\n",
            "    To th' dascling which he bids be past.\n",
            "  COSTARD. 'Tis no hair up, but by ambitious tear;\n",
            "    But when she was a wife?\n",
            "  MARILEN. The smitest he were best.\n",
            "  Rom. There lies your base, and whe'd much mov'd possession; which so oft?\n",
            "    That he, he's desolate, all things of all,\n",
            "    If 'o behootfor more than this is up.\n",
            "  TRANIO. Let him adored with grass again.\n",
            "    Now, when the artistractory day\n",
            "    Good sign to dian\n",
            "sweet with the\n",
            "    inform but he was Walter Brutus, will be pacious I may have answer the\n",
            "    constancy, Gonzia, begins.\n",
            "  FIRST MUSICIAN. Come, sir, by this hand, and all ostractione world\n",
            "    How many of the world can lia a voice\n",
            "    To parley. He is with customise her musicians, cass with that\n",
            "    thou and hain so good diseased with a truth.\n",
            "  RODARIUS. O then; you are welcome offich one, it was my love;\n",
            "    And yet, ig your swift trembling native rests\n",
            "    That never had drown dralling his envy be pleas'd\n",
            "    To weep at flies. O eldest day, ho!\n",
            "\n",
            "               Enter the GHOST OF ILLINOIS PERCEL, to death scarcely life\n",
            "    With bloodless watchful words better than ours\n",
            "    Where he swore than our marriage [sleeps]\n",
            "    Justice! Recreate some glove, thou drives him to his fury?\n",
            "    And thus I will not know that I have slept at\n",
            "    him.\n",
            "  FABIAN. They are worthy of it.         [Come after the Fate\n",
            "\n",
            "Enter SIR TOBY, SIR ANDREW and CATESBY\n",
            "\n",
            "  MALVOLIO. 'Say the truth like heaven! Lear, read out of wrongness is as giving\n",
            "    many a right-hour tears? Away with him! It is apple of wealth (as\n",
            "    They confess much away with his peril to you, fly,\n",
            "    For he is prouded with his voyage sorry\n",
            "    That entcry, whose heart restrains as this.\n",
            "  TITUS. As mine, a good dugn-at our purstantities.\n",
            "    I am assault's savouring; but play forth in\n",
            "    The Queen is almost delivered.\n",
            "  TITUS. Lo, with a robut the youth of to dinner trifle.\n",
            "    'Tis pride and wild hatternoon,\n",
            "    But to maintain a lugger all of her she is\n"
          ]
        }
      ]
    },
    {
      "cell_type": "code",
      "metadata": {
        "id": "PTzXvcV_wBmP"
      },
      "source": [
        ""
      ],
      "execution_count": null,
      "outputs": []
    }
  ]
}