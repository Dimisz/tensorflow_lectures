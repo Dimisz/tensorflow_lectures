{
  "nbformat": 4,
  "nbformat_minor": 0,
  "metadata": {
    "colab": {
      "name": "Autoencoders_lecture.ipynb",
      "provenance": [],
      "authorship_tag": "ABX9TyMIaHCQrbJAAbGbaxZZg5Pw",
      "include_colab_link": true
    },
    "kernelspec": {
      "name": "python3",
      "display_name": "Python 3"
    },
    "language_info": {
      "name": "python"
    },
    "accelerator": "GPU"
  },
  "cells": [
    {
      "cell_type": "markdown",
      "metadata": {
        "id": "view-in-github",
        "colab_type": "text"
      },
      "source": [
        "<a href=\"https://colab.research.google.com/github/Dimisz/tensorflow_lectures/blob/main/Autoencoders_lecture.ipynb\" target=\"_parent\"><img src=\"https://colab.research.google.com/assets/colab-badge.svg\" alt=\"Open In Colab\"/></a>"
      ]
    },
    {
      "cell_type": "markdown",
      "metadata": {
        "id": "C3wKQe1V0Zzq"
      },
      "source": [
        "**Autoencoders** are sometimes called **semi-supervised** learning, because:\n",
        "\n",
        "* sometimes during training of an autoencoder we may have access to correct labels\n",
        "\n",
        "* but we cannot produce metrics such as accuracy or rmse"
      ]
    },
    {
      "cell_type": "markdown",
      "metadata": {
        "id": "6_t_8Gn4170K"
      },
      "source": [
        "# Autoencoder Basics"
      ]
    },
    {
      "cell_type": "markdown",
      "metadata": {
        "id": "1z-AFi-W2FE0"
      },
      "source": [
        "Autoencoders are designed to reproduce the input, i.e. the number of input neurons is equal to the nummber of output neurons.\n",
        "\n",
        "Very similar to PCA.\n",
        "\n",
        "The hidden layer is NOT simply sub-selecting features.\n",
        "\n",
        "It is calculating combinations of the original features **representing the original data in a reduced dimensional space**. \n",
        "\n",
        "Then, we expand it back out to the output layer.\n"
      ]
    },
    {
      "cell_type": "markdown",
      "metadata": {
        "id": "FsgEn2B04E_T"
      },
      "source": [
        "## Two use cases (we will see)\n",
        "\n",
        "* Dimensionality Reduction\n",
        "* Noise Removal"
      ]
    },
    {
      "cell_type": "markdown",
      "metadata": {
        "id": "rGk8R2k94SWu"
      },
      "source": [
        "## Dimensionality Reduction\n",
        "\n",
        "Consists of:\n",
        "1.   Encoder\n",
        "2.   Decoder\n",
        "\n",
        "Used for:\n",
        "* Compressing data\n",
        "* Visualizing data in lower dimensions\n",
        "* Reveal hidden relationships not clearly seen in higher dimensions\n"
      ]
    },
    {
      "cell_type": "code",
      "metadata": {
        "id": "Cn6idUMB8iyl"
      },
      "source": [
        "import numpy as np\n",
        "import pandas as pd\n",
        "import seaborn as sns\n",
        "import matplotlib.pyplot as plt"
      ],
      "execution_count": 1,
      "outputs": []
    },
    {
      "cell_type": "code",
      "metadata": {
        "id": "GX1mv8JK8sA5"
      },
      "source": [
        "from sklearn.datasets import make_blobs"
      ],
      "execution_count": 2,
      "outputs": []
    },
    {
      "cell_type": "code",
      "metadata": {
        "id": "ZNVaHEWu8wak"
      },
      "source": [
        "data = make_blobs(n_samples=300,\n",
        "                  n_features=2,\n",
        "                  centers=2,\n",
        "                  cluster_std=1.0,\n",
        "                  random_state=101)"
      ],
      "execution_count": 3,
      "outputs": []
    },
    {
      "cell_type": "code",
      "metadata": {
        "id": "03yfYuZA9G_3"
      },
      "source": [
        "X,y = data"
      ],
      "execution_count": 4,
      "outputs": []
    },
    {
      "cell_type": "code",
      "metadata": {
        "id": "aEDMzfEM9LZN"
      },
      "source": [
        "# add noise\n",
        "np.random.seed(seed=101)\n",
        "z_noise = np.random.normal(size=len(X))\n",
        "z_noise = pd.Series(z_noise)"
      ],
      "execution_count": 5,
      "outputs": []
    },
    {
      "cell_type": "code",
      "metadata": {
        "colab": {
          "base_uri": "https://localhost:8080/"
        },
        "id": "Me8IwsWn9NM_",
        "outputId": "a4d75ce7-3253-413f-ee31-7eb331250891"
      },
      "source": [
        "z_noise"
      ],
      "execution_count": 6,
      "outputs": [
        {
          "output_type": "execute_result",
          "data": {
            "text/plain": [
              "0      2.706850\n",
              "1      0.628133\n",
              "2      0.907969\n",
              "3      0.503826\n",
              "4      0.651118\n",
              "         ...   \n",
              "295    1.523750\n",
              "296    1.290230\n",
              "297   -1.478319\n",
              "298    0.214234\n",
              "299   -0.240510\n",
              "Length: 300, dtype: float64"
            ]
          },
          "metadata": {},
          "execution_count": 6
        }
      ]
    },
    {
      "cell_type": "code",
      "metadata": {
        "id": "vQAAtrCp9ydS"
      },
      "source": [
        "feat = pd.DataFrame(X)"
      ],
      "execution_count": 7,
      "outputs": []
    },
    {
      "cell_type": "code",
      "metadata": {
        "id": "qS7-k7kw94U8"
      },
      "source": [
        "feat = pd.concat([feat, z_noise], axis=1)\n",
        "feat.columns = ['X1', 'X2', 'X3']"
      ],
      "execution_count": 8,
      "outputs": []
    },
    {
      "cell_type": "code",
      "metadata": {
        "colab": {
          "base_uri": "https://localhost:8080/",
          "height": 204
        },
        "id": "VSmYjSRv954e",
        "outputId": "3e69f92e-fc43-40cc-ea1e-d18f0c3abeac"
      },
      "source": [
        "feat.head()"
      ],
      "execution_count": 9,
      "outputs": [
        {
          "output_type": "execute_result",
          "data": {
            "text/html": [
              "<div>\n",
              "<style scoped>\n",
              "    .dataframe tbody tr th:only-of-type {\n",
              "        vertical-align: middle;\n",
              "    }\n",
              "\n",
              "    .dataframe tbody tr th {\n",
              "        vertical-align: top;\n",
              "    }\n",
              "\n",
              "    .dataframe thead th {\n",
              "        text-align: right;\n",
              "    }\n",
              "</style>\n",
              "<table border=\"1\" class=\"dataframe\">\n",
              "  <thead>\n",
              "    <tr style=\"text-align: right;\">\n",
              "      <th></th>\n",
              "      <th>X1</th>\n",
              "      <th>X2</th>\n",
              "      <th>X3</th>\n",
              "    </tr>\n",
              "  </thead>\n",
              "  <tbody>\n",
              "    <tr>\n",
              "      <th>0</th>\n",
              "      <td>-8.877721</td>\n",
              "      <td>-6.760078</td>\n",
              "      <td>2.706850</td>\n",
              "    </tr>\n",
              "    <tr>\n",
              "      <th>1</th>\n",
              "      <td>0.630638</td>\n",
              "      <td>3.107075</td>\n",
              "      <td>0.628133</td>\n",
              "    </tr>\n",
              "    <tr>\n",
              "      <th>2</th>\n",
              "      <td>-0.240609</td>\n",
              "      <td>2.820690</td>\n",
              "      <td>0.907969</td>\n",
              "    </tr>\n",
              "    <tr>\n",
              "      <th>3</th>\n",
              "      <td>-7.839091</td>\n",
              "      <td>-8.207545</td>\n",
              "      <td>0.503826</td>\n",
              "    </tr>\n",
              "    <tr>\n",
              "      <th>4</th>\n",
              "      <td>-10.972908</td>\n",
              "      <td>-7.390676</td>\n",
              "      <td>0.651118</td>\n",
              "    </tr>\n",
              "  </tbody>\n",
              "</table>\n",
              "</div>"
            ],
            "text/plain": [
              "          X1        X2        X3\n",
              "0  -8.877721 -6.760078  2.706850\n",
              "1   0.630638  3.107075  0.628133\n",
              "2  -0.240609  2.820690  0.907969\n",
              "3  -7.839091 -8.207545  0.503826\n",
              "4 -10.972908 -7.390676  0.651118"
            ]
          },
          "metadata": {},
          "execution_count": 9
        }
      ]
    },
    {
      "cell_type": "code",
      "metadata": {
        "colab": {
          "base_uri": "https://localhost:8080/",
          "height": 282
        },
        "id": "cVAl2XGM-Hp_",
        "outputId": "03b1813d-eded-4316-89c3-90ae8d762342"
      },
      "source": [
        "plt.scatter(feat['X1'], feat['X2'], c=y)"
      ],
      "execution_count": 10,
      "outputs": [
        {
          "output_type": "execute_result",
          "data": {
            "text/plain": [
              "<matplotlib.collections.PathCollection at 0x7f17d46b4910>"
            ]
          },
          "metadata": {},
          "execution_count": 10
        },
        {
          "output_type": "display_data",
          "data": {
            "image/png": "[encoded data removed]",
            "text/plain": [
              "<Figure size 432x288 with 1 Axes>"
            ]
          },
          "metadata": {
            "needs_background": "light"
          }
        }
      ]
    },
    {
      "cell_type": "code",
      "metadata": {
        "id": "f0WBwr_1-OuZ"
      },
      "source": [
        "from mpl_toolkits.mplot3d import Axes3D"
      ],
      "execution_count": 11,
      "outputs": []
    },
    {
      "cell_type": "code",
      "metadata": {
        "colab": {
          "base_uri": "https://localhost:8080/",
          "height": 265
        },
        "id": "GYMKbtOy-kKT",
        "outputId": "b6786031-c701-4236-f2fb-83243cbf0a5f"
      },
      "source": [
        "fig = plt.figure()\n",
        "ax = fig.add_subplot(111, projection='3d')\n",
        "ax.scatter(feat['X1'], feat['X2'],feat['X3'], c=y)"
      ],
      "execution_count": 12,
      "outputs": [
        {
          "output_type": "execute_result",
          "data": {
            "text/plain": [
              "<mpl_toolkits.mplot3d.art3d.Path3DCollection at 0x7f17d46b4810>"
            ]
          },
          "metadata": {},
          "execution_count": 12
        },
        {
          "output_type": "display_data",
          "data": {
            "image/png": "[encoded data removed]",
            "text/plain": [
              "<Figure size 432x288 with 1 Axes>"
            ]
          },
          "metadata": {
            "needs_background": "light"
          }
        }
      ]
    },
    {
      "cell_type": "markdown",
      "metadata": {
        "id": "D7bIO_WC-1iU"
      },
      "source": [
        "### Creating encoder and decoder"
      ]
    },
    {
      "cell_type": "code",
      "metadata": {
        "id": "Dodg61UI_y1W"
      },
      "source": [
        "from tensorflow.keras.models import Sequential\n",
        "from tensorflow.keras.layers import Dense"
      ],
      "execution_count": 13,
      "outputs": []
    },
    {
      "cell_type": "code",
      "metadata": {
        "id": "ygEAjbNb_778"
      },
      "source": [
        "from tensorflow.keras.optimizers import SGD"
      ],
      "execution_count": 14,
      "outputs": []
    },
    {
      "cell_type": "code",
      "metadata": {
        "id": "aP9KFN3DAB41"
      },
      "source": [
        "# Starts with 3 inputs ----> reduces it to 2 ----> expands back to 3 neurons\n",
        "encoder = Sequential()\n",
        "encoder.add(Dense(units=2, activation=\"relu\", input_shape=[3]))"
      ],
      "execution_count": 15,
      "outputs": []
    },
    {
      "cell_type": "code",
      "metadata": {
        "id": "SAWrslCbAe49"
      },
      "source": [
        "decoder = Sequential()\n",
        "decoder.add(Dense(units=3, activation=\"relu\", input_shape=[2]))"
      ],
      "execution_count": 16,
      "outputs": []
    },
    {
      "cell_type": "code",
      "metadata": {
        "id": "xiWKR1AhAytH"
      },
      "source": [
        "autoencoder = Sequential([encoder, decoder])"
      ],
      "execution_count": 17,
      "outputs": []
    },
    {
      "cell_type": "code",
      "metadata": {
        "id": "Cr6UO-H3BAHR"
      },
      "source": [
        "autoencoder.compile(loss=\"mse\",\n",
        "                    optimizer=SGD(learning_rate=0.015))"
      ],
      "execution_count": 18,
      "outputs": []
    },
    {
      "cell_type": "code",
      "metadata": {
        "id": "zAyHiwXxBG31"
      },
      "source": [
        "from sklearn.preprocessing import MinMaxScaler"
      ],
      "execution_count": 19,
      "outputs": []
    },
    {
      "cell_type": "code",
      "metadata": {
        "id": "jmIZlI54BQUu"
      },
      "source": [
        "scaler = MinMaxScaler()\n",
        "scaled_data = scaler.fit_transform(feat)"
      ],
      "execution_count": 20,
      "outputs": []
    },
    {
      "cell_type": "code",
      "metadata": {
        "colab": {
          "base_uri": "https://localhost:8080/"
        },
        "id": "ibhJ3d5aBZn9",
        "outputId": "5971469b-9126-44d2-d7e3-883370789466"
      },
      "source": [
        "autoencoder.fit(scaled_data, scaled_data, epochs=5)"
      ],
      "execution_count": 21,
      "outputs": [
        {
          "output_type": "stream",
          "name": "stdout",
          "text": [
            "Epoch 1/5\n",
            "10/10 [==============================] - 3s 3ms/step - loss: 0.3350\n",
            "Epoch 2/5\n",
            "10/10 [==============================] - 0s 3ms/step - loss: 0.3350\n",
            "Epoch 3/5\n",
            "10/10 [==============================] - 0s 3ms/step - loss: 0.3350\n",
            "Epoch 4/5\n",
            "10/10 [==============================] - 0s 3ms/step - loss: 0.3350\n",
            "Epoch 5/5\n",
            "10/10 [==============================] - 0s 3ms/step - loss: 0.3350\n"
          ]
        },
        {
          "output_type": "execute_result",
          "data": {
            "text/plain": [
              "<keras.callbacks.History at 0x7f170cbc9cd0>"
            ]
          },
          "metadata": {},
          "execution_count": 21
        }
      ]
    },
    {
      "cell_type": "code",
      "metadata": {
        "id": "ecbI4xunBfS0"
      },
      "source": [
        "encoded_2dim = encoder.predict(scaled_data)"
      ],
      "execution_count": 22,
      "outputs": []
    },
    {
      "cell_type": "code",
      "metadata": {
        "colab": {
          "base_uri": "https://localhost:8080/"
        },
        "id": "uiyKsL0xBl5l",
        "outputId": "6c13aa5e-8d63-42f2-ee10-d59fe7bbfdd6"
      },
      "source": [
        "encoded_2dim.shape, scaled_data.shape"
      ],
      "execution_count": 23,
      "outputs": [
        {
          "output_type": "execute_result",
          "data": {
            "text/plain": [
              "((300, 2), (300, 3))"
            ]
          },
          "metadata": {},
          "execution_count": 23
        }
      ]
    },
    {
      "cell_type": "code",
      "metadata": {
        "id": "tg7yxT8oCpJO"
      },
      "source": [
        "#encoded_2dim"
      ],
      "execution_count": 24,
      "outputs": []
    },
    {
      "cell_type": "code",
      "metadata": {
        "colab": {
          "base_uri": "https://localhost:8080/",
          "height": 282
        },
        "id": "fQGB73zeBr2f",
        "outputId": "d4ca741c-04c1-47b9-f963-703dc781d690"
      },
      "source": [
        "plt.scatter(encoded_2dim[:,0], encoded_2dim[:,1], c=y)"
      ],
      "execution_count": 25,
      "outputs": [
        {
          "output_type": "execute_result",
          "data": {
            "text/plain": [
              "<matplotlib.collections.PathCollection at 0x7f170b233150>"
            ]
          },
          "metadata": {},
          "execution_count": 25
        },
        {
          "output_type": "display_data",
          "data": {
            "image/png": "[encoded data removed]",
            "text/plain": [
              "<Figure size 432x288 with 1 Axes>"
            ]
          },
          "metadata": {
            "needs_background": "light"
          }
        }
      ]
    },
    {
      "cell_type": "markdown",
      "metadata": {
        "id": "z5lND74eB65w"
      },
      "source": [
        "## Autoencoders on image data"
      ]
    },
    {
      "cell_type": "markdown",
      "metadata": {
        "id": "Uk3gye01KomH"
      },
      "source": [
        "### Read in Data"
      ]
    },
    {
      "cell_type": "code",
      "metadata": {
        "id": "7YM_qBeIJSHU"
      },
      "source": [
        "from tensorflow.keras.datasets import mnist"
      ],
      "execution_count": 69,
      "outputs": []
    },
    {
      "cell_type": "code",
      "metadata": {
        "id": "JLsTyhSWJXPi"
      },
      "source": [
        "(X_train, y_train), (X_test, y_test) = mnist.load_data()"
      ],
      "execution_count": 70,
      "outputs": []
    },
    {
      "cell_type": "code",
      "metadata": {
        "id": "RJqceNwQJh-m",
        "outputId": "07cf0d9c-4c85-4919-f8bd-8f61d6b37ec1",
        "colab": {
          "base_uri": "https://localhost:8080/",
          "height": 282
        }
      },
      "source": [
        "plt.imshow(X_train[0])"
      ],
      "execution_count": 71,
      "outputs": [
        {
          "output_type": "execute_result",
          "data": {
            "text/plain": [
              "<matplotlib.image.AxesImage at 0x7f1700929d50>"
            ]
          },
          "metadata": {},
          "execution_count": 71
        },
        {
          "output_type": "display_data",
          "data": {
            "image/png": "[encoded data removed]",
            "text/plain": [
              "<Figure size 432x288 with 1 Axes>"
            ]
          },
          "metadata": {
            "needs_background": "light"
          }
        }
      ]
    },
    {
      "cell_type": "code",
      "metadata": {
        "id": "WwsvBtvtJpw8"
      },
      "source": [
        "# scale\n",
        "X_train = X_train / 255"
      ],
      "execution_count": 72,
      "outputs": []
    },
    {
      "cell_type": "code",
      "metadata": {
        "id": "0kXSzTKEJv_b"
      },
      "source": [
        "X_test = X_test / 255"
      ],
      "execution_count": 73,
      "outputs": []
    },
    {
      "cell_type": "code",
      "metadata": {
        "id": "4zz4x9XuJz8q"
      },
      "source": [
        "from tensorflow.keras.models import Sequential\n",
        "from tensorflow.keras.layers import Dense, Flatten, Reshape\n",
        "from tensorflow.keras.optimizers import SGD"
      ],
      "execution_count": 74,
      "outputs": []
    },
    {
      "cell_type": "markdown",
      "metadata": {
        "id": "gQVT3xUbKFNC"
      },
      "source": [
        "### Building Stacked Autoencoder"
      ]
    },
    {
      "cell_type": "code",
      "metadata": {
        "id": "a3T0ZX_YKOa8",
        "outputId": "0c1d3f5e-15c5-4acc-dfdf-89d29ef3b681",
        "colab": {
          "base_uri": "https://localhost:8080/"
        }
      },
      "source": [
        "28*28"
      ],
      "execution_count": 33,
      "outputs": [
        {
          "output_type": "execute_result",
          "data": {
            "text/plain": [
              "784"
            ]
          },
          "metadata": {},
          "execution_count": 33
        }
      ]
    },
    {
      "cell_type": "code",
      "metadata": {
        "id": "ZkY-NwE7KPnQ",
        "outputId": "88a14279-32f1-4f7d-bcb1-187c4ae5963c",
        "colab": {
          "base_uri": "https://localhost:8080/"
        }
      },
      "source": [
        "784/2"
      ],
      "execution_count": 34,
      "outputs": [
        {
          "output_type": "execute_result",
          "data": {
            "text/plain": [
              "392.0"
            ]
          },
          "metadata": {},
          "execution_count": 34
        }
      ]
    },
    {
      "cell_type": "code",
      "metadata": {
        "id": "BMeZdl82KXmF",
        "outputId": "2d0a14c5-6841-476f-88bf-9bea99037044",
        "colab": {
          "base_uri": "https://localhost:8080/"
        }
      },
      "source": [
        "X_train[0].shape"
      ],
      "execution_count": 52,
      "outputs": [
        {
          "output_type": "execute_result",
          "data": {
            "text/plain": [
              "(28, 28)"
            ]
          },
          "metadata": {},
          "execution_count": 52
        }
      ]
    },
    {
      "cell_type": "code",
      "metadata": {
        "id": "3isiVkRhKSat"
      },
      "source": [
        "encoder = Sequential()\n",
        "encoder.add(Flatten(input_shape=[28,28]))\n",
        "encoder.add(Dense(400,activation=\"relu\"))\n",
        "encoder.add(Dense(200,activation=\"relu\"))\n",
        "encoder.add(Dense(100,activation=\"relu\"))\n",
        "encoder.add(Dense(50,activation=\"relu\"))\n",
        "encoder.add(Dense(25,activation=\"relu\"))"
      ],
      "execution_count": 75,
      "outputs": []
    },
    {
      "cell_type": "markdown",
      "metadata": {
        "id": "iRFMGoRYK1cl"
      },
      "source": [
        "Going down from 784 to 25"
      ]
    },
    {
      "cell_type": "code",
      "metadata": {
        "id": "ZemFz8jRK6u5"
      },
      "source": [
        "decoder = Sequential()\n",
        "decoder.add(Dense(50, input_shape=[25], activation=\"relu\"))\n",
        "decoder.add(Dense(100, activation=\"relu\"))\n",
        "decoder.add(Dense(200, activation=\"relu\"))\n",
        "decoder.add(Dense(400, activation=\"relu\"))\n",
        "decoder.add(Dense(784, activation=\"sigmoid\"))\n",
        "decoder.add(Reshape([28,28]))"
      ],
      "execution_count": 76,
      "outputs": []
    },
    {
      "cell_type": "code",
      "metadata": {
        "id": "FZFDWAs6LjIK"
      },
      "source": [
        "autoencoder = Sequential([encoder, decoder])"
      ],
      "execution_count": 77,
      "outputs": []
    },
    {
      "cell_type": "code",
      "metadata": {
        "id": "R1Ro1fglLomM"
      },
      "source": [
        "autoencoder.compile(loss=\"binary_crossentropy\",\n",
        "                    optimizer=SGD(learning_rate=1.5),\n",
        "                    metrics=['accuracy'])"
      ],
      "execution_count": 78,
      "outputs": []
    },
    {
      "cell_type": "code",
      "metadata": {
        "id": "fZRnCRB7MBIj",
        "outputId": "9c964b80-6053-46af-9f87-d27515cd2a30",
        "colab": {
          "base_uri": "https://localhost:8080/"
        }
      },
      "source": [
        "autoencoder.fit(X_train, X_train, epochs=5)"
      ],
      "execution_count": 79,
      "outputs": [
        {
          "output_type": "stream",
          "name": "stdout",
          "text": [
            "Epoch 1/5\n",
            "1875/1875 [==============================] - 10s 5ms/step - loss: 0.2547 - accuracy: 0.0816\n",
            "Epoch 2/5\n",
            "1875/1875 [==============================] - 9s 5ms/step - loss: 0.1907 - accuracy: 0.1553\n",
            "Epoch 3/5\n",
            "1875/1875 [==============================] - 9s 5ms/step - loss: 0.1701 - accuracy: 0.1869\n",
            "Epoch 4/5\n",
            "1875/1875 [==============================] - 9s 5ms/step - loss: 0.1554 - accuracy: 0.2057\n",
            "Epoch 5/5\n",
            "1875/1875 [==============================] - 9s 5ms/step - loss: 0.1452 - accuracy: 0.2181\n"
          ]
        },
        {
          "output_type": "execute_result",
          "data": {
            "text/plain": [
              "<keras.callbacks.History at 0x7f17008e1cd0>"
            ]
          },
          "metadata": {},
          "execution_count": 79
        }
      ]
    },
    {
      "cell_type": "code",
      "metadata": {
        "id": "IyiLyQDHMSb3"
      },
      "source": [
        "passed_images = autoencoder.predict(X_test[:10])"
      ],
      "execution_count": 80,
      "outputs": []
    },
    {
      "cell_type": "code",
      "metadata": {
        "id": "J5gQ4EflM5IX",
        "outputId": "96c0b8ae-3b75-4e9b-e283-11d7c950cc57",
        "colab": {
          "base_uri": "https://localhost:8080/",
          "height": 564
        }
      },
      "source": [
        "n = 4\n",
        "print(\"Original image\")\n",
        "plt.imshow(X_test[n])\n",
        "plt.show()\n",
        "print(\"AAttempted reconstruction\")\n",
        "plt.imshow(passed_images[n])"
      ],
      "execution_count": 84,
      "outputs": [
        {
          "output_type": "stream",
          "name": "stdout",
          "text": [
            "Original image\n"
          ]
        },
        {
          "output_type": "display_data",
          "data": {
            "image/png": "[encoded data removed]",
            "text/plain": [
              "<Figure size 432x288 with 1 Axes>"
            ]
          },
          "metadata": {
            "needs_background": "light"
          }
        },
        {
          "output_type": "stream",
          "name": "stdout",
          "text": [
            "AAttempted reconstruction\n"
          ]
        },
        {
          "output_type": "execute_result",
          "data": {
            "text/plain": [
              "<matplotlib.image.AxesImage at 0x7f17004399d0>"
            ]
          },
          "metadata": {},
          "execution_count": 84
        },
        {
          "output_type": "display_data",
          "data": {
            "image/png": "[encoded data removed]",
            "text/plain": [
              "<Figure size 432x288 with 1 Axes>"
            ]
          },
          "metadata": {
            "needs_background": "light"
          }
        }
      ]
    },
    {
      "cell_type": "markdown",
      "metadata": {
        "id": "EKkaR2xXR9Yl"
      },
      "source": [
        "### Using Autoencoders to denoise"
      ]
    },
    {
      "cell_type": "code",
      "metadata": {
        "id": "WtBMltD0NQYD"
      },
      "source": [
        "from tensorflow.keras.layers import GaussianNoise"
      ],
      "execution_count": 85,
      "outputs": []
    },
    {
      "cell_type": "code",
      "metadata": {
        "id": "9WYsQC-fR3cV"
      },
      "source": [
        "sample = GaussianNoise(0.2)"
      ],
      "execution_count": 86,
      "outputs": []
    },
    {
      "cell_type": "code",
      "metadata": {
        "id": "zmj6g2ImSDY5"
      },
      "source": [
        "noisy = sample(X_test[:10], training=True)"
      ],
      "execution_count": 87,
      "outputs": []
    },
    {
      "cell_type": "code",
      "metadata": {
        "id": "H_2NvsHCSNSr",
        "outputId": "fad4f166-ace5-4bab-f0dd-ef67a4bd8b5a",
        "colab": {
          "base_uri": "https://localhost:8080/",
          "height": 547
        }
      },
      "source": [
        "n = 0\n",
        "print(\"Original\")\n",
        "plt.imshow(X_test[n])\n",
        "plt.show()\n",
        "print(\"NOISY\")\n",
        "plt.imshow(noisy[n])\n",
        "plt.show()"
      ],
      "execution_count": 88,
      "outputs": [
        {
          "output_type": "stream",
          "name": "stdout",
          "text": [
            "Original\n"
          ]
        },
        {
          "output_type": "display_data",
          "data": {
            "image/png": "[encoded data removed]",
            "text/plain": [
              "<Figure size 432x288 with 1 Axes>"
            ]
          },
          "metadata": {
            "needs_background": "light"
          }
        },
        {
          "output_type": "stream",
          "name": "stdout",
          "text": [
            "NOISY\n"
          ]
        },
        {
          "output_type": "display_data",
          "data": {
            "image/png": "[encoded data removed]",
            "text/plain": [
              "<Figure size 432x288 with 1 Axes>"
            ]
          },
          "metadata": {
            "needs_background": "light"
          }
        }
      ]
    },
    {
      "cell_type": "code",
      "metadata": {
        "id": "Zd9Ez43ISfRx"
      },
      "source": [
        "import tensorflow as tf"
      ],
      "execution_count": 89,
      "outputs": []
    },
    {
      "cell_type": "code",
      "metadata": {
        "id": "SUyiUbyyS1Dd"
      },
      "source": [
        "tf.random.set_seed(101)\n",
        "\n",
        "encoder = Sequential()\n",
        "encoder.add(Flatten(input_shape=[28,28]))\n",
        "\n",
        "encoder.add(GaussianNoise(0.2))\n",
        "\n",
        "encoder.add(Dense(400,activation=\"relu\"))\n",
        "encoder.add(Dense(200,activation=\"relu\"))\n",
        "encoder.add(Dense(100,activation=\"relu\"))\n",
        "encoder.add(Dense(50,activation=\"relu\"))\n",
        "encoder.add(Dense(25,activation=\"relu\"))"
      ],
      "execution_count": 90,
      "outputs": []
    },
    {
      "cell_type": "code",
      "metadata": {
        "id": "GKqKbBbjTGbG"
      },
      "source": [
        "decoder = Sequential()\n",
        "decoder.add(Dense(50, input_shape=[25], activation=\"relu\"))\n",
        "decoder.add(Dense(100, activation=\"relu\"))\n",
        "decoder.add(Dense(200, activation=\"relu\"))\n",
        "decoder.add(Dense(400, activation=\"relu\"))\n",
        "decoder.add(Dense(784, activation=\"sigmoid\"))\n",
        "decoder.add(Reshape([28,28]))"
      ],
      "execution_count": 91,
      "outputs": []
    },
    {
      "cell_type": "code",
      "metadata": {
        "id": "p12zsfO4TKyL"
      },
      "source": [
        "noise_remover = Sequential([encoder, decoder])"
      ],
      "execution_count": 92,
      "outputs": []
    },
    {
      "cell_type": "code",
      "metadata": {
        "id": "a5u7IWtsTPPJ"
      },
      "source": [
        "noise_remover.compile(loss='binary_crossentropy',\n",
        "                      optimizer='adam',\n",
        "                      metrics=['accuracy'])"
      ],
      "execution_count": 93,
      "outputs": []
    },
    {
      "cell_type": "code",
      "metadata": {
        "id": "lJDFU_FxTZZd",
        "outputId": "da3272e0-50fd-47fe-f60b-71fc2490c27e",
        "colab": {
          "base_uri": "https://localhost:8080/"
        }
      },
      "source": [
        "noise_remover.fit(X_train, X_train, epochs=8)"
      ],
      "execution_count": 94,
      "outputs": [
        {
          "output_type": "stream",
          "name": "stdout",
          "text": [
            "Epoch 1/8\n",
            "1875/1875 [==============================] - 11s 5ms/step - loss: 0.1714 - accuracy: 0.1797\n",
            "Epoch 2/8\n",
            "1875/1875 [==============================] - 10s 5ms/step - loss: 0.1313 - accuracy: 0.2310\n",
            "Epoch 3/8\n",
            "1875/1875 [==============================] - 10s 5ms/step - loss: 0.1216 - accuracy: 0.2440\n",
            "Epoch 4/8\n",
            "1875/1875 [==============================] - 10s 5ms/step - loss: 0.1158 - accuracy: 0.2540\n",
            "Epoch 5/8\n",
            "1875/1875 [==============================] - 10s 5ms/step - loss: 0.1117 - accuracy: 0.2605\n",
            "Epoch 6/8\n",
            "1875/1875 [==============================] - 10s 5ms/step - loss: 0.1088 - accuracy: 0.2656\n",
            "Epoch 7/8\n",
            "1875/1875 [==============================] - 10s 5ms/step - loss: 0.1067 - accuracy: 0.2691\n",
            "Epoch 8/8\n",
            "1875/1875 [==============================] - 10s 5ms/step - loss: 0.1052 - accuracy: 0.2726\n"
          ]
        },
        {
          "output_type": "execute_result",
          "data": {
            "text/plain": [
              "<keras.callbacks.History at 0x7f17005a3190>"
            ]
          },
          "metadata": {},
          "execution_count": 94
        }
      ]
    },
    {
      "cell_type": "code",
      "metadata": {
        "id": "2Otj8dEEThly"
      },
      "source": [
        "ten_noisy_images = sample(X_test[:10], training=True)"
      ],
      "execution_count": 95,
      "outputs": []
    },
    {
      "cell_type": "code",
      "metadata": {
        "id": "VC38fHLmT20t"
      },
      "source": [
        "denoised = noise_remover(ten_noisy_images)"
      ],
      "execution_count": 96,
      "outputs": []
    },
    {
      "cell_type": "code",
      "metadata": {
        "id": "yI2rClB2T8dy",
        "outputId": "e7286681-81c0-4b6d-e6e1-aa517f2395f0",
        "colab": {
          "base_uri": "https://localhost:8080/",
          "height": 812
        }
      },
      "source": [
        "n=0\n",
        "print(\"ORIGINAL IMAGE\")\n",
        "plt.imshow(X_test[n])\n",
        "plt.show()\n",
        "print(\"NOISE ADDED IMAGE\")\n",
        "plt.imshow(ten_noisy_images[n])\n",
        "plt.show()\n",
        "print(\"NOISE REMOVED\")\n",
        "plt.imshow(denoised[n])\n",
        "plt.show()"
      ],
      "execution_count": 97,
      "outputs": [
        {
          "output_type": "stream",
          "name": "stdout",
          "text": [
            "ORIGINAL IMAGE\n"
          ]
        },
        {
          "output_type": "display_data",
          "data": {
            "image/png": "[encoded data removed]",
            "text/plain": [
              "<Figure size 432x288 with 1 Axes>"
            ]
          },
          "metadata": {
            "needs_background": "light"
          }
        },
        {
          "output_type": "stream",
          "name": "stdout",
          "text": [
            "NOISE ADDED IMAGE\n"
          ]
        },
        {
          "output_type": "display_data",
          "data": {
            "image/png": "[encoded data removed]",
            "text/plain": [
              "<Figure size 432x288 with 1 Axes>"
            ]
          },
          "metadata": {
            "needs_background": "light"
          }
        },
        {
          "output_type": "stream",
          "name": "stdout",
          "text": [
            "NOISE REMOVED\n"
          ]
        },
        {
          "output_type": "display_data",
          "data": {
            "image/png": "[encoded data removed]",
            "text/plain": [
              "<Figure size 432x288 with 1 Axes>"
            ]
          },
          "metadata": {
            "needs_background": "light"
          }
        }
      ]
    },
    {
      "cell_type": "code",
      "metadata": {
        "id": "-bb1hR4RUVvw"
      },
      "source": [
        ""
      ],
      "execution_count": null,
      "outputs": []
    }
  ]
}