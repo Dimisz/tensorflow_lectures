{
  "nbformat": 4,
  "nbformat_minor": 0,
  "metadata": {
    "colab": {
      "name": "CNN_lecture.ipynb",
      "provenance": [],
      "authorship_tag": "ABX9TyN4TatMxvb5YQcaBM0t8/Ni",
      "include_colab_link": true
    },
    "kernelspec": {
      "name": "python3",
      "display_name": "Python 3"
    },
    "language_info": {
      "name": "python"
    }
  },
  "cells": [
    {
      "cell_type": "markdown",
      "metadata": {
        "id": "view-in-github",
        "colab_type": "text"
      },
      "source": [
        "<a href=\"https://colab.research.google.com/github/Dimisz/tensorflow_lectures/blob/main/CNN_lecture.ipynb\" target=\"_parent\"><img src=\"https://colab.research.google.com/assets/colab-badge.svg\" alt=\"Open In Colab\"/></a>"
      ]
    },
    {
      "cell_type": "markdown",
      "metadata": {
        "id": "FgOfMpC__-Zz"
      },
      "source": [
        "# Convolutional Neural Networks"
      ]
    },
    {
      "cell_type": "markdown",
      "metadata": {
        "id": "xbzw4Sl-Ro9C"
      },
      "source": [
        "# Theoretical Background"
      ]
    },
    {
      "cell_type": "markdown",
      "metadata": {
        "id": "3ECKvdmsC7Fq"
      },
      "source": [
        "## Filters and Image Kernels"
      ]
    },
    {
      "cell_type": "markdown",
      "metadata": {
        "id": "WXRlfAby_a5d"
      },
      "source": [
        "Filters are essentially an **image kernel**, which is a small matrix applied to an entire image."
      ]
    },
    {
      "cell_type": "markdown",
      "metadata": {
        "id": "MBvTUtN7AZJY"
      },
      "source": [
        "**Applying filter** is:\n",
        "* 'sliding' the kernel matrix across the entire image with a particular `stride`.\n",
        "* multipying the image pixels by filter-weights\n",
        "* <a href=\"https://setosa.io/ev/image-kernels/\" target=\"_blank\">Example of filters in action</a>\n",
        "\n",
        "The process of applying a filter is sometimes called a **Convolution**. \n",
        "\n",
        "The point of CNN is that the network will figure out the weights and decide what **weights matter for image-classification**.\n"
      ]
    },
    {
      "cell_type": "markdown",
      "metadata": {
        "id": "-clKvuLZCoFE"
      },
      "source": [
        "In the context of CNNs these filters are referred to as **convolution kernels**.\n",
        "\n",
        "The process of passing them over an image is known as **convolution**."
      ]
    },
    {
      "cell_type": "markdown",
      "metadata": {
        "id": "DxH3VpC3BGct"
      },
      "source": [
        "## Convolutional Layers"
      ]
    },
    {
      "cell_type": "markdown",
      "metadata": {
        "id": "IeSRTV7WDR-8"
      },
      "source": [
        "**Why ANNs are not a good choice for working with images?**:\n",
        "* Large amount of parameters (100 000 for 28X28 images).\n",
        "* We have to flatten our images thus losing all the 2D information.\n",
        "* Will only work on very similar, well-centered images.\n",
        "\n",
        "(MNIST dataset is 28x28 and well-centered, so the ANN built on the dataset will not generalize well)\n"
      ]
    },
    {
      "cell_type": "markdown",
      "metadata": {
        "id": "-1p0CJVbF3rA"
      },
      "source": [
        "A convolutional layer is created when we apply *multiple image filters* to the input images.\n",
        "\n",
        "The layer will then be trained to figure out **the best filter weight values**.\n",
        "\n",
        "A CNN also helps to reduce parameters by focusing on **local connectivity**, i.e. not all neurons are fully connected, **neurons are only connected to a subset of local neurons in the next layer** (these end up becoming the filters).\n",
        "\n"
      ]
    },
    {
      "cell_type": "markdown",
      "metadata": {
        "id": "oqZjjncdEtCD"
      },
      "source": [
        "**3D images** can be thought of as 3D Tensors consisting of RGB channels + height + width, e.g (1200, 700, 3)."
      ]
    },
    {
      "cell_type": "markdown",
      "metadata": {
        "id": "ybyvut_-KGuA"
      },
      "source": [
        "## Pooling Layers"
      ]
    },
    {
      "cell_type": "markdown",
      "metadata": {
        "id": "NPhuWtisKLBg"
      },
      "source": [
        "When dealing with Convolutional layers we have a large amount of parameters.\n",
        "\n",
        "We can use pooling layers to reduce the number of parameters.\n",
        "\n",
        "**Pooling Layer** accepts convolutional layers as input.\n",
        "\n",
        "For a pooling layer we have to decide on: \n",
        "* Window-size, e.g. 2x2\n",
        "* Stride, e.g. 2\n",
        "\n",
        "Types of pooling layers:\n",
        "* **Max**: takes the highest value (e.g. if the window-size is 2x2 it will go from left to right from top to bottom picking 4 values at a time and picking up the highest value out of these 4).\n",
        "* **Average** - pulls the average value out of the 4\n",
        "\n",
        "*A 2x2 pooling kernel with a stride of 2 removes 75% of the input data*."
      ]
    },
    {
      "cell_type": "markdown",
      "metadata": {
        "id": "xFAfcPefQD7r"
      },
      "source": [
        "## Dropout"
      ]
    },
    {
      "cell_type": "markdown",
      "metadata": {
        "id": "nLE-5dS2QGu7"
      },
      "source": [
        "**Dropout** is a form of regularization to help prevent overfitting.\n",
        "\n",
        "During training, units are randomly dropped, along with their connections."
      ]
    },
    {
      "cell_type": "markdown",
      "metadata": {
        "id": "z0Y-IcpvQhf8"
      },
      "source": [
        "## Famous CNN architectures"
      ]
    },
    {
      "cell_type": "markdown",
      "metadata": {
        "id": "MG_WW0ItQl0S"
      },
      "source": [
        "* **LeNet-5** by Yann LeCun\n",
        "* **AlexNet** by Alex Krizhevsky et al.\n",
        "* **GoogleLeNet** by Szegedy\n",
        "* **ResNet** by Kaiming He et al.\n"
      ]
    },
    {
      "cell_type": "markdown",
      "metadata": {
        "id": "41OvYE_lQ8r2"
      },
      "source": [
        "# Hands-On Practive"
      ]
    },
    {
      "cell_type": "markdown",
      "metadata": {
        "id": "QUk_LeqmR0Rd"
      },
      "source": [
        "## MNIST Dataset"
      ]
    },
    {
      "cell_type": "markdown",
      "metadata": {
        "id": "EMQleNThjyjZ"
      },
      "source": [
        "### Reading in and Preparing the Data"
      ]
    },
    {
      "cell_type": "code",
      "metadata": {
        "id": "Z6_Evo00j2Q2"
      },
      "source": [
        "# initial imports\n",
        "import pandas as pd\n",
        "import numpy as np\n",
        "\n",
        "import matplotlib.pyplot as plt\n",
        "%matplotlib inline"
      ],
      "execution_count": null,
      "outputs": []
    },
    {
      "cell_type": "code",
      "metadata": {
        "id": "fwUBWKuWkAhX"
      },
      "source": [
        "# Downlloading the MNIST dataset from Keras\n",
        "from tensorflow.keras.datasets import mnist"
      ],
      "execution_count": null,
      "outputs": []
    },
    {
      "cell_type": "code",
      "metadata": {
        "colab": {
          "base_uri": "https://localhost:8080/"
        },
        "id": "XinFg2OHkNiZ",
        "outputId": "9efcb1c7-598c-493a-f7a8-60b3097f6bcc"
      },
      "source": [
        "(X_train, Y_train), (X_test, Y_test) = mnist.load_data()"
      ],
      "execution_count": null,
      "outputs": [
        {
          "output_type": "stream",
          "name": "stdout",
          "text": [
            "Downloading data from https://storage.googleapis.com/tensorflow/tf-keras-datasets/mnist.npz\n",
            "11493376/11490434 [==============================] - 0s 0us/step\n",
            "11501568/11490434 [==============================] - 0s 0us/step\n"
          ]
        }
      ]
    },
    {
      "cell_type": "code",
      "metadata": {
        "colab": {
          "base_uri": "https://localhost:8080/"
        },
        "id": "01lgiG7fkbYx",
        "outputId": "6cb948b6-904d-42bc-e729-b8caad83d56b"
      },
      "source": [
        "X_train.shape"
      ],
      "execution_count": null,
      "outputs": [
        {
          "output_type": "execute_result",
          "data": {
            "text/plain": [
              "(60000, 28, 28)"
            ]
          },
          "metadata": {},
          "execution_count": 4
        }
      ]
    },
    {
      "cell_type": "code",
      "metadata": {
        "id": "rzL6vTL0kecc"
      },
      "source": [
        "single_image = X_train[0]"
      ],
      "execution_count": null,
      "outputs": []
    },
    {
      "cell_type": "code",
      "metadata": {
        "colab": {
          "base_uri": "https://localhost:8080/"
        },
        "id": "2gfO0vfXkkMR",
        "outputId": "e0d1771a-5569-4dbc-e69d-5f44cf00f9bd"
      },
      "source": [
        "plt.imshow(single_image)"
      ],
      "execution_count": null,
      "outputs": [
        {
          "output_type": "execute_result",
          "data": {
            "text/plain": [
              "<matplotlib.image.AxesImage at 0x7f00c2310a10>"
            ]
          },
          "metadata": {},
          "execution_count": 6
        },
        {
          "output_type": "display_data",
          "data": {
            "image/png": "[encoded data removed]",
            "text/plain": [
              "<Figure size 432x288 with 1 Axes>"
            ]
          },
          "metadata": {
            "needs_background": "light"
          }
        }
      ]
    },
    {
      "cell_type": "code",
      "metadata": {
        "colab": {
          "base_uri": "https://localhost:8080/"
        },
        "id": "AMYkuw80klyp",
        "outputId": "76b10d93-377a-4f48-fe42-a975b4669c00"
      },
      "source": [
        "Y_train"
      ],
      "execution_count": null,
      "outputs": [
        {
          "output_type": "execute_result",
          "data": {
            "text/plain": [
              "array([5, 0, 4, ..., 5, 6, 8], dtype=uint8)"
            ]
          },
          "metadata": {},
          "execution_count": 7
        }
      ]
    },
    {
      "cell_type": "markdown",
      "metadata": {
        "id": "MTu8qMSHmvSN"
      },
      "source": [
        "#### Convert the labels to categories"
      ]
    },
    {
      "cell_type": "markdown",
      "metadata": {
        "id": "6EAxAL25lIYM"
      },
      "source": [
        "We need to convert the labels to categorical (since they are categories expressed in numeric way, the model may mistakenly see it as just a continuous numeric value, not category)"
      ]
    },
    {
      "cell_type": "code",
      "metadata": {
        "id": "XQa_-J94lsyV"
      },
      "source": [
        "from tensorflow.keras.utils import to_categorical"
      ],
      "execution_count": null,
      "outputs": []
    },
    {
      "cell_type": "code",
      "metadata": {
        "colab": {
          "base_uri": "https://localhost:8080/"
        },
        "id": "9TOSWTRclzbv",
        "outputId": "fcce68f6-889d-4129-f5f9-91df43efbfa2"
      },
      "source": [
        "Y_train.shape"
      ],
      "execution_count": null,
      "outputs": [
        {
          "output_type": "execute_result",
          "data": {
            "text/plain": [
              "(60000,)"
            ]
          },
          "metadata": {},
          "execution_count": 9
        }
      ]
    },
    {
      "cell_type": "code",
      "metadata": {
        "id": "m3tcp_c0l3jS"
      },
      "source": [
        "y_example = to_categorical(Y_train)"
      ],
      "execution_count": null,
      "outputs": []
    },
    {
      "cell_type": "code",
      "metadata": {
        "colab": {
          "base_uri": "https://localhost:8080/"
        },
        "id": "Y8kzJt0Zl_fw",
        "outputId": "0b966b43-27b9-44a0-fd21-e3e2a3b1efb1"
      },
      "source": [
        "y_example.shape"
      ],
      "execution_count": null,
      "outputs": [
        {
          "output_type": "execute_result",
          "data": {
            "text/plain": [
              "(60000, 10)"
            ]
          },
          "metadata": {},
          "execution_count": 11
        }
      ]
    },
    {
      "cell_type": "code",
      "metadata": {
        "colab": {
          "base_uri": "https://localhost:8080/"
        },
        "id": "xG3wJdy5mA7f",
        "outputId": "3d308afb-7677-4d50-f274-979b69e01d1b"
      },
      "source": [
        "y_example[0]"
      ],
      "execution_count": null,
      "outputs": [
        {
          "output_type": "execute_result",
          "data": {
            "text/plain": [
              "array([0., 0., 0., 0., 0., 1., 0., 0., 0., 0.], dtype=float32)"
            ]
          },
          "metadata": {},
          "execution_count": 12
        }
      ]
    },
    {
      "cell_type": "code",
      "metadata": {
        "id": "eV4YGSqTmP4-"
      },
      "source": [
        "y_cat_test = to_categorical(Y_test)\n",
        "y_cat_train = to_categorical(Y_train)"
      ],
      "execution_count": null,
      "outputs": []
    },
    {
      "cell_type": "code",
      "metadata": {
        "colab": {
          "base_uri": "https://localhost:8080/"
        },
        "id": "SUKUsW4img10",
        "outputId": "e9da094e-334c-4c96-dab8-7cc7474c749a"
      },
      "source": [
        "y_cat_train.shape, y_cat_test.shape"
      ],
      "execution_count": null,
      "outputs": [
        {
          "output_type": "execute_result",
          "data": {
            "text/plain": [
              "((60000, 10), (10000, 10))"
            ]
          },
          "metadata": {},
          "execution_count": 14
        }
      ]
    },
    {
      "cell_type": "markdown",
      "metadata": {
        "id": "Tkukt5BNmlrv"
      },
      "source": [
        "#### Normalize the training data"
      ]
    },
    {
      "cell_type": "code",
      "metadata": {
        "colab": {
          "base_uri": "https://localhost:8080/"
        },
        "id": "QMPUhADMn9iF",
        "outputId": "7e9593a4-72db-4c9e-aa47-31466f534dd9"
      },
      "source": [
        "single_image.min(), single_image.max()"
      ],
      "execution_count": null,
      "outputs": [
        {
          "output_type": "execute_result",
          "data": {
            "text/plain": [
              "(0, 255)"
            ]
          },
          "metadata": {},
          "execution_count": 15
        }
      ]
    },
    {
      "cell_type": "markdown",
      "metadata": {
        "id": "-JBhgeenoEKh"
      },
      "source": [
        "We need to normalize the values (make the values between 0 and 1)"
      ]
    },
    {
      "cell_type": "code",
      "metadata": {
        "id": "2dHPLwABoMUZ"
      },
      "source": [
        "X_train = X_train/255"
      ],
      "execution_count": null,
      "outputs": []
    },
    {
      "cell_type": "code",
      "metadata": {
        "id": "jA-GS7ygobRV"
      },
      "source": [
        "X_test = X_test/255"
      ],
      "execution_count": null,
      "outputs": []
    },
    {
      "cell_type": "code",
      "metadata": {
        "colab": {
          "base_uri": "https://localhost:8080/"
        },
        "id": "oGe4LQiiodRS",
        "outputId": "24b72eba-5671-450d-91ab-3fcb43919352"
      },
      "source": [
        "scaled_image = X_train[0]\n",
        "scaled_image.min(), scaled_image.max()"
      ],
      "execution_count": null,
      "outputs": [
        {
          "output_type": "execute_result",
          "data": {
            "text/plain": [
              "(0.0, 1.0)"
            ]
          },
          "metadata": {},
          "execution_count": 18
        }
      ]
    },
    {
      "cell_type": "markdown",
      "metadata": {
        "id": "pvR2_Vr6ookh"
      },
      "source": [
        "#### Reshape the data\n",
        "\n",
        "We need to add one more dimention to let the CNN know we are dealing with one channel"
      ]
    },
    {
      "cell_type": "code",
      "metadata": {
        "colab": {
          "base_uri": "https://localhost:8080/"
        },
        "id": "MMgbLRmYo18E",
        "outputId": "fb1dcf60-fd87-4561-95b6-adbb14b57288"
      },
      "source": [
        "X_train.shape"
      ],
      "execution_count": null,
      "outputs": [
        {
          "output_type": "execute_result",
          "data": {
            "text/plain": [
              "(60000, 28, 28)"
            ]
          },
          "metadata": {},
          "execution_count": 19
        }
      ]
    },
    {
      "cell_type": "code",
      "metadata": {
        "id": "IEPT30Oro5mD"
      },
      "source": [
        "#batch_size, width, height, color_channels\n",
        "X_train = X_train.reshape(60000, 28, 28, 1)"
      ],
      "execution_count": null,
      "outputs": []
    },
    {
      "cell_type": "code",
      "metadata": {
        "colab": {
          "base_uri": "https://localhost:8080/"
        },
        "id": "in8S7zDqo_Ea",
        "outputId": "4f68c0cb-61ff-4898-d0f3-34f6cc1eff85"
      },
      "source": [
        "X_train.shape"
      ],
      "execution_count": null,
      "outputs": [
        {
          "output_type": "execute_result",
          "data": {
            "text/plain": [
              "(60000, 28, 28, 1)"
            ]
          },
          "metadata": {},
          "execution_count": 21
        }
      ]
    },
    {
      "cell_type": "code",
      "metadata": {
        "colab": {
          "base_uri": "https://localhost:8080/"
        },
        "id": "Ij4-HXhbpFzI",
        "outputId": "7a8b0cf9-4f2e-4a0e-e658-33fade0b994a"
      },
      "source": [
        "X_test.shape"
      ],
      "execution_count": null,
      "outputs": [
        {
          "output_type": "execute_result",
          "data": {
            "text/plain": [
              "(10000, 28, 28)"
            ]
          },
          "metadata": {},
          "execution_count": 22
        }
      ]
    },
    {
      "cell_type": "code",
      "metadata": {
        "id": "nh0lwS_3pKaQ"
      },
      "source": [
        "X_test = X_test.reshape(10000, 28, 28, 1)"
      ],
      "execution_count": null,
      "outputs": []
    },
    {
      "cell_type": "code",
      "metadata": {
        "colab": {
          "base_uri": "https://localhost:8080/"
        },
        "id": "D90YL7U9pOh8",
        "outputId": "093bd399-6170-4906-ba89-b4839d34f6c3"
      },
      "source": [
        "X_test.shape"
      ],
      "execution_count": null,
      "outputs": [
        {
          "output_type": "execute_result",
          "data": {
            "text/plain": [
              "(10000, 28, 28, 1)"
            ]
          },
          "metadata": {},
          "execution_count": 24
        }
      ]
    },
    {
      "cell_type": "markdown",
      "metadata": {
        "id": "tka_OOrNpSHF"
      },
      "source": [
        "### Creating a Model"
      ]
    },
    {
      "cell_type": "code",
      "metadata": {
        "id": "0fyZQ0ATpY7p"
      },
      "source": [
        "from tensorflow.keras.models import Sequential"
      ],
      "execution_count": null,
      "outputs": []
    },
    {
      "cell_type": "code",
      "metadata": {
        "id": "tvWPwiC6pcoI"
      },
      "source": [
        "from tensorflow.keras.layers import Dense, Conv2D, MaxPool2D, Flatten"
      ],
      "execution_count": null,
      "outputs": []
    },
    {
      "cell_type": "code",
      "metadata": {
        "id": "7jmfE3LJpkBH"
      },
      "source": [
        "model = Sequential()\n",
        "\n",
        "model.add(Conv2D(filters=32, \n",
        "                 kernel_size=(4,4),\n",
        "                 input_shape=(28,28,1),\n",
        "                 activation=\"relu\"))\n",
        "\n",
        "model.add(MaxPool2D(pool_size=(2,2))) #half the kernel_size\n",
        "model.add(Flatten())\n",
        "#after flatten can add dense layers\n",
        "model.add(Dense(128, activation=\"relu\"))\n",
        "\n",
        "#output layer / 1 neuron per class\n",
        "model.add(Dense(10, activation=\"softmax\"))\n",
        "\n",
        "\n",
        "#compile the model\n",
        "model.compile(loss=\"categorical_crossentropy\",\n",
        "              optimizer=\"adam\",\n",
        "              metrics=['accuracy'])"
      ],
      "execution_count": null,
      "outputs": []
    },
    {
      "cell_type": "markdown",
      "metadata": {
        "id": "vo_aJFsRpnsv"
      },
      "source": [
        "#### Set up an EarlyStopping callback"
      ]
    },
    {
      "cell_type": "code",
      "metadata": {
        "id": "07q2Zb3As2fX"
      },
      "source": [
        "from tensorflow.keras.callbacks import EarlyStopping"
      ],
      "execution_count": null,
      "outputs": []
    },
    {
      "cell_type": "code",
      "metadata": {
        "id": "QSsaW2NQs8Q8"
      },
      "source": [
        "early_stop = EarlyStopping(monitor='val_loss', patience=1)"
      ],
      "execution_count": null,
      "outputs": []
    },
    {
      "cell_type": "markdown",
      "metadata": {
        "id": "PI_56yqZwB_q"
      },
      "source": [
        "### Train the model"
      ]
    },
    {
      "cell_type": "code",
      "metadata": {
        "colab": {
          "base_uri": "https://localhost:8080/"
        },
        "id": "E5fqlvAlwGOM",
        "outputId": "3ce8c225-59a3-49f3-d8cc-44f3ef3a911c"
      },
      "source": [
        "model.fit(X_train, \n",
        "          y_cat_train,\n",
        "          epochs=10,\n",
        "          validation_data=(X_test, y_cat_test),\n",
        "          callbacks=[early_stop])"
      ],
      "execution_count": null,
      "outputs": [
        {
          "output_type": "stream",
          "name": "stdout",
          "text": [
            "Epoch 1/10\n",
            "1875/1875 [==============================] - 35s 18ms/step - loss: 0.1370 - accuracy: 0.9598 - val_loss: 0.0583 - val_accuracy: 0.9806\n",
            "Epoch 2/10\n",
            "1875/1875 [==============================] - 34s 18ms/step - loss: 0.0455 - accuracy: 0.9865 - val_loss: 0.0380 - val_accuracy: 0.9879\n",
            "Epoch 3/10\n",
            "1875/1875 [==============================] - 34s 18ms/step - loss: 0.0300 - accuracy: 0.9903 - val_loss: 0.0435 - val_accuracy: 0.9854\n"
          ]
        },
        {
          "output_type": "execute_result",
          "data": {
            "text/plain": [
              "<keras.callbacks.History at 0x7f00beb7aa10>"
            ]
          },
          "metadata": {},
          "execution_count": 30
        }
      ]
    },
    {
      "cell_type": "markdown",
      "metadata": {
        "id": "mNXC8YbXweaP"
      },
      "source": [
        "### Evaluate the Model"
      ]
    },
    {
      "cell_type": "code",
      "metadata": {
        "id": "oKXRJOxsxiSS"
      },
      "source": [
        "metrics = pd.DataFrame(model.history.history)"
      ],
      "execution_count": null,
      "outputs": []
    },
    {
      "cell_type": "code",
      "metadata": {
        "colab": {
          "base_uri": "https://localhost:8080/",
          "height": 142
        },
        "id": "GIR0Z02QxoHM",
        "outputId": "7317e83e-6b20-48f2-c214-60338b1316ed"
      },
      "source": [
        "metrics"
      ],
      "execution_count": null,
      "outputs": [
        {
          "output_type": "execute_result",
          "data": {
            "text/html": [
              "<div>\n",
              "<style scoped>\n",
              "    .dataframe tbody tr th:only-of-type {\n",
              "        vertical-align: middle;\n",
              "    }\n",
              "\n",
              "    .dataframe tbody tr th {\n",
              "        vertical-align: top;\n",
              "    }\n",
              "\n",
              "    .dataframe thead th {\n",
              "        text-align: right;\n",
              "    }\n",
              "</style>\n",
              "<table border=\"1\" class=\"dataframe\">\n",
              "  <thead>\n",
              "    <tr style=\"text-align: right;\">\n",
              "      <th></th>\n",
              "      <th>loss</th>\n",
              "      <th>accuracy</th>\n",
              "      <th>val_loss</th>\n",
              "      <th>val_accuracy</th>\n",
              "    </tr>\n",
              "  </thead>\n",
              "  <tbody>\n",
              "    <tr>\n",
              "      <th>0</th>\n",
              "      <td>0.137046</td>\n",
              "      <td>0.959833</td>\n",
              "      <td>0.058335</td>\n",
              "      <td>0.9806</td>\n",
              "    </tr>\n",
              "    <tr>\n",
              "      <th>1</th>\n",
              "      <td>0.045496</td>\n",
              "      <td>0.986450</td>\n",
              "      <td>0.038025</td>\n",
              "      <td>0.9879</td>\n",
              "    </tr>\n",
              "    <tr>\n",
              "      <th>2</th>\n",
              "      <td>0.029978</td>\n",
              "      <td>0.990300</td>\n",
              "      <td>0.043539</td>\n",
              "      <td>0.9854</td>\n",
              "    </tr>\n",
              "  </tbody>\n",
              "</table>\n",
              "</div>"
            ],
            "text/plain": [
              "       loss  accuracy  val_loss  val_accuracy\n",
              "0  0.137046  0.959833  0.058335        0.9806\n",
              "1  0.045496  0.986450  0.038025        0.9879\n",
              "2  0.029978  0.990300  0.043539        0.9854"
            ]
          },
          "metadata": {},
          "execution_count": 32
        }
      ]
    },
    {
      "cell_type": "code",
      "metadata": {
        "colab": {
          "base_uri": "https://localhost:8080/",
          "height": 282
        },
        "id": "WZYK2hQcxpAa",
        "outputId": "8843606b-a7a6-4b49-b249-f00bb697945d"
      },
      "source": [
        "metrics[['loss', 'val_loss']].plot()"
      ],
      "execution_count": null,
      "outputs": [
        {
          "output_type": "execute_result",
          "data": {
            "text/plain": [
              "<matplotlib.axes._subplots.AxesSubplot at 0x7f00bea9c4d0>"
            ]
          },
          "metadata": {},
          "execution_count": 33
        },
        {
          "output_type": "display_data",
          "data": {
            "image/png": "[encoded data removed]",
            "text/plain": [
              "<Figure size 432x288 with 1 Axes>"
            ]
          },
          "metadata": {
            "needs_background": "light"
          }
        }
      ]
    },
    {
      "cell_type": "code",
      "metadata": {
        "colab": {
          "base_uri": "https://localhost:8080/",
          "height": 282
        },
        "id": "QkJSfkWdxzLJ",
        "outputId": "7dbe3c52-6494-4201-f044-a4bc1ac385b5"
      },
      "source": [
        "metrics[['accuracy', 'val_accuracy']].plot()"
      ],
      "execution_count": null,
      "outputs": [
        {
          "output_type": "execute_result",
          "data": {
            "text/plain": [
              "<matplotlib.axes._subplots.AxesSubplot at 0x7f00c22d12d0>"
            ]
          },
          "metadata": {},
          "execution_count": 34
        },
        {
          "output_type": "display_data",
          "data": {
            "image/png": "[encoded data removed]",
            "text/plain": [
              "<Figure size 432x288 with 1 Axes>"
            ]
          },
          "metadata": {
            "needs_background": "light"
          }
        }
      ]
    },
    {
      "cell_type": "code",
      "metadata": {
        "colab": {
          "base_uri": "https://localhost:8080/"
        },
        "id": "2Xo2_-_5x41E",
        "outputId": "70ecc3c6-538c-40d4-ca46-d0d41e785e82"
      },
      "source": [
        "model.metrics_names"
      ],
      "execution_count": null,
      "outputs": [
        {
          "output_type": "execute_result",
          "data": {
            "text/plain": [
              "['loss', 'accuracy']"
            ]
          },
          "metadata": {},
          "execution_count": 35
        }
      ]
    },
    {
      "cell_type": "code",
      "metadata": {
        "colab": {
          "base_uri": "https://localhost:8080/"
        },
        "id": "OiBQYoQOx9GU",
        "outputId": "2af07354-a704-437e-ea05-f9560b58750c"
      },
      "source": [
        "model.evaluate(X_test, y_cat_test)"
      ],
      "execution_count": null,
      "outputs": [
        {
          "output_type": "stream",
          "name": "stdout",
          "text": [
            "313/313 [==============================] - 2s 5ms/step - loss: 0.0435 - accuracy: 0.9854\n"
          ]
        },
        {
          "output_type": "execute_result",
          "data": {
            "text/plain": [
              "[0.04353860393166542, 0.9854000210762024]"
            ]
          },
          "metadata": {},
          "execution_count": 36
        }
      ]
    },
    {
      "cell_type": "code",
      "metadata": {
        "id": "aFBJWtNFyFYv"
      },
      "source": [
        "from sklearn.metrics import classification_report, confusion_matrix"
      ],
      "execution_count": null,
      "outputs": []
    },
    {
      "cell_type": "code",
      "metadata": {
        "id": "meCgLBNXydMV"
      },
      "source": [
        "predictions = np.argmax(model.predict(X_test), axis=1)"
      ],
      "execution_count": null,
      "outputs": []
    },
    {
      "cell_type": "code",
      "metadata": {
        "colab": {
          "base_uri": "https://localhost:8080/"
        },
        "id": "0EeXJx1PygvG",
        "outputId": "478de67f-e092-411f-d186-9a3a37183ea9"
      },
      "source": [
        "print(classification_report(Y_test, predictions))"
      ],
      "execution_count": null,
      "outputs": [
        {
          "output_type": "stream",
          "name": "stdout",
          "text": [
            "              precision    recall  f1-score   support\n",
            "\n",
            "           0       0.99      0.99      0.99       980\n",
            "           1       0.99      1.00      0.99      1135\n",
            "           2       0.97      0.99      0.98      1032\n",
            "           3       0.99      0.99      0.99      1010\n",
            "           4       0.99      0.99      0.99       982\n",
            "           5       0.96      1.00      0.98       892\n",
            "           6       1.00      0.98      0.99       958\n",
            "           7       0.99      0.98      0.99      1028\n",
            "           8       1.00      0.95      0.98       974\n",
            "           9       0.98      0.98      0.98      1009\n",
            "\n",
            "    accuracy                           0.99     10000\n",
            "   macro avg       0.99      0.99      0.99     10000\n",
            "weighted avg       0.99      0.99      0.99     10000\n",
            "\n"
          ]
        }
      ]
    },
    {
      "cell_type": "code",
      "metadata": {
        "colab": {
          "base_uri": "https://localhost:8080/"
        },
        "id": "zPFaN7YOzGTT",
        "outputId": "87a66889-3974-4afe-d64c-ad189d1c3912"
      },
      "source": [
        "confusion_matrix(Y_test, predictions)"
      ],
      "execution_count": null,
      "outputs": [
        {
          "output_type": "execute_result",
          "data": {
            "text/plain": [
              "array([[ 975,    1,    1,    1,    0,    2,    0,    0,    0,    0],\n",
              "       [   0, 1131,    2,    0,    0,    2,    0,    0,    0,    0],\n",
              "       [   0,    2, 1025,    1,    0,    0,    0,    3,    0,    1],\n",
              "       [   0,    0,    2,  998,    0,    8,    0,    0,    1,    1],\n",
              "       [   2,    0,    1,    0,  971,    0,    1,    0,    0,    7],\n",
              "       [   0,    0,    0,    3,    0,  888,    1,    0,    0,    0],\n",
              "       [   5,    3,    1,    0,    3,   11,  935,    0,    0,    0],\n",
              "       [   0,    1,   12,    0,    0,    0,    0, 1011,    0,    4],\n",
              "       [   7,    1,   13,    3,    4,    9,    1,    2,  929,    5],\n",
              "       [   0,    3,    1,    2,    2,    5,    0,    4,    1,  991]])"
            ]
          },
          "metadata": {},
          "execution_count": 40
        }
      ]
    },
    {
      "cell_type": "code",
      "metadata": {
        "colab": {
          "base_uri": "https://localhost:8080/",
          "height": 391
        },
        "id": "LsBOphJbzRX1",
        "outputId": "33ab5797-e6ac-4d7d-addc-ee105f6c108c"
      },
      "source": [
        "import seaborn as sns\n",
        "plt.figure(figsize=(10,6))\n",
        "sns.heatmap(confusion_matrix(Y_test, predictions), annot=True)"
      ],
      "execution_count": null,
      "outputs": [
        {
          "output_type": "execute_result",
          "data": {
            "text/plain": [
              "<matplotlib.axes._subplots.AxesSubplot at 0x7f00bb3d7410>"
            ]
          },
          "metadata": {},
          "execution_count": 41
        },
        {
          "output_type": "display_data",
          "data": {
            "image/png": "[encoded data removed]",
            "text/plain": [
              "<Figure size 720x432 with 2 Axes>"
            ]
          },
          "metadata": {
            "needs_background": "light"
          }
        }
      ]
    },
    {
      "cell_type": "markdown",
      "metadata": {
        "id": "auHSPb93zjth"
      },
      "source": [
        "#### Predict a single image"
      ]
    },
    {
      "cell_type": "code",
      "metadata": {
        "colab": {
          "base_uri": "https://localhost:8080/"
        },
        "id": "4Smtssu6zqmw",
        "outputId": "e7b8c306-4298-405e-a343-0bbfd347a6e8"
      },
      "source": [
        "my_number = X_test[0]\n",
        "plt.imshow(my_number.reshape(28,28))"
      ],
      "execution_count": null,
      "outputs": [
        {
          "output_type": "execute_result",
          "data": {
            "text/plain": [
              "<matplotlib.image.AxesImage at 0x7f00aa5ca3d0>"
            ]
          },
          "metadata": {},
          "execution_count": 42
        },
        {
          "output_type": "display_data",
          "data": {
            "image/png": "[encoded data removed]",
            "text/plain": [
              "<Figure size 432x288 with 1 Axes>"
            ]
          },
          "metadata": {
            "needs_background": "light"
          }
        }
      ]
    },
    {
      "cell_type": "code",
      "metadata": {
        "colab": {
          "base_uri": "https://localhost:8080/"
        },
        "id": "jZzT9e7Iz0ai",
        "outputId": "7619e389-33cb-42d8-b30a-a3baba306d28"
      },
      "source": [
        "# num_images, width, height, color_channels\n",
        "np.argmax(model.predict(my_number.reshape(1, 28,28,1)))"
      ],
      "execution_count": null,
      "outputs": [
        {
          "output_type": "execute_result",
          "data": {
            "text/plain": [
              "7"
            ]
          },
          "metadata": {},
          "execution_count": 43
        }
      ]
    },
    {
      "cell_type": "markdown",
      "metadata": {
        "id": "Tv5EiXAm0L5f"
      },
      "source": [
        "## CNN on CIFAR (RGB IMAGES)"
      ]
    },
    {
      "cell_type": "markdown",
      "metadata": {
        "id": "bkfmjOU90dZb"
      },
      "source": [
        "### Load in and Prepare the Data"
      ]
    },
    {
      "cell_type": "code",
      "metadata": {
        "id": "KuJwzdzF03iC"
      },
      "source": [
        "from tensorflow.keras.datasets import cifar10"
      ],
      "execution_count": null,
      "outputs": []
    },
    {
      "cell_type": "code",
      "metadata": {
        "colab": {
          "base_uri": "https://localhost:8080/"
        },
        "id": "maeXcGfQ080R",
        "outputId": "517cfbc3-e5b8-4e8b-9079-4e52d028b0d1"
      },
      "source": [
        "(x_train, y_train), (x_test, y_test) = cifar10.load_data()"
      ],
      "execution_count": null,
      "outputs": [
        {
          "output_type": "stream",
          "name": "stdout",
          "text": [
            "Downloading data from https://www.cs.toronto.edu/~kriz/cifar-10-python.tar.gz\n",
            "170500096/170498071 [==============================] - 4s 0us/step\n",
            "170508288/170498071 [==============================] - 4s 0us/step\n"
          ]
        }
      ]
    },
    {
      "cell_type": "code",
      "metadata": {
        "colab": {
          "base_uri": "https://localhost:8080/"
        },
        "id": "J3JTy4rj1KAl",
        "outputId": "0e42240b-93c9-4e05-9ee6-aa1de0855987"
      },
      "source": [
        "x_train.shape"
      ],
      "execution_count": null,
      "outputs": [
        {
          "output_type": "execute_result",
          "data": {
            "text/plain": [
              "(50000, 32, 32, 3)"
            ]
          },
          "metadata": {},
          "execution_count": 46
        }
      ]
    },
    {
      "cell_type": "code",
      "metadata": {
        "colab": {
          "base_uri": "https://localhost:8080/"
        },
        "id": "13TFZdbc1PPz",
        "outputId": "6faa0e20-e49a-4fd7-997b-03330e4efef9"
      },
      "source": [
        "x_train[0].shape"
      ],
      "execution_count": null,
      "outputs": [
        {
          "output_type": "execute_result",
          "data": {
            "text/plain": [
              "(32, 32, 3)"
            ]
          },
          "metadata": {},
          "execution_count": 47
        }
      ]
    },
    {
      "cell_type": "code",
      "metadata": {
        "colab": {
          "base_uri": "https://localhost:8080/",
          "height": 283
        },
        "id": "tFIHw5Gd1Soq",
        "outputId": "5ba407fd-142c-4b07-c9a3-f19613f6cd6a"
      },
      "source": [
        "plt.imshow(x_train[0])"
      ],
      "execution_count": null,
      "outputs": [
        {
          "output_type": "execute_result",
          "data": {
            "text/plain": [
              "<matplotlib.image.AxesImage at 0x7f00b310f910>"
            ]
          },
          "metadata": {},
          "execution_count": 48
        },
        {
          "output_type": "display_data",
          "data": {
            "image/png": "[encoded data removed]",
            "text/plain": [
              "<Figure size 432x288 with 1 Axes>"
            ]
          },
          "metadata": {
            "needs_background": "light"
          }
        }
      ]
    },
    {
      "cell_type": "code",
      "metadata": {
        "colab": {
          "base_uri": "https://localhost:8080/"
        },
        "id": "hLi4mb501YZ1",
        "outputId": "2b5036f9-1df7-4e89-d582-8825efdd83fc"
      },
      "source": [
        "x_train[0].min(), x_train[0].max()"
      ],
      "execution_count": null,
      "outputs": [
        {
          "output_type": "execute_result",
          "data": {
            "text/plain": [
              "(0, 255)"
            ]
          },
          "metadata": {},
          "execution_count": 49
        }
      ]
    },
    {
      "cell_type": "code",
      "metadata": {
        "id": "wlC-H8lp1qKV"
      },
      "source": [
        "# Normalize the data\n",
        "x_train = x_train/255"
      ],
      "execution_count": null,
      "outputs": []
    },
    {
      "cell_type": "code",
      "metadata": {
        "id": "pnWSsqXu1xPa"
      },
      "source": [
        "x_test = x_test/255"
      ],
      "execution_count": null,
      "outputs": []
    },
    {
      "cell_type": "code",
      "metadata": {
        "id": "Sl3B21PI11Tn"
      },
      "source": [
        "from tensorflow.keras.utils import to_categorical"
      ],
      "execution_count": null,
      "outputs": []
    },
    {
      "cell_type": "code",
      "metadata": {
        "id": "my-KgSen13wu"
      },
      "source": [
        "y_categorical_train = to_categorical(y_train,10)\n",
        "y_categorical_test = to_categorical(y_test,10)"
      ],
      "execution_count": null,
      "outputs": []
    },
    {
      "cell_type": "code",
      "metadata": {
        "id": "AEUPA1Tp2MVa"
      },
      "source": [
        "from tensorflow.keras.models import Sequential\n",
        "from tensorflow.keras.layers import Conv2D, Dense, MaxPool2D, Flatten"
      ],
      "execution_count": null,
      "outputs": []
    },
    {
      "cell_type": "markdown",
      "metadata": {
        "id": "dAsOYjme24Dj"
      },
      "source": [
        "### Build a model"
      ]
    },
    {
      "cell_type": "code",
      "metadata": {
        "id": "piL8nTgg3aTl"
      },
      "source": [
        "model = Sequential()\n",
        "\n",
        "#CONVOLUTIONAL LAYER\n",
        "model.add(Conv2D(filters=32,\n",
        "                 kernel_size=(4,4),\n",
        "                 input_shape=(32,32,3),\n",
        "                 activation=\"relu\"))\n",
        "#POOLING LAYER\n",
        "model.add(MaxPool2D(pool_size=(2,2)))\n",
        "#CONVOLUTIONAL LAYER\n",
        "model.add(Conv2D(filters=32,\n",
        "                 kernel_size=(4,4),\n",
        "                 input_shape=(32,32,3),\n",
        "                 activation=\"relu\"))\n",
        "#POOLING LAYER\n",
        "model.add(MaxPool2D(pool_size=(2,2)))\n",
        "\n",
        "\n",
        "model.add(Flatten())\n",
        "model.add(Dense(256, activation=\"relu\"))\n",
        "model.add(Dense(10, activation=\"softmax\"))\n",
        "\n",
        "\n",
        "\n",
        "model.compile(loss=\"categorical_crossentropy\",\n",
        "              optimizer=\"adam\",\n",
        "              metrics=['accuracy'])"
      ],
      "execution_count": null,
      "outputs": []
    },
    {
      "cell_type": "code",
      "metadata": {
        "colab": {
          "base_uri": "https://localhost:8080/"
        },
        "id": "coWvOkxC4nou",
        "outputId": "37806ea3-a857-4f7e-f309-089ee58d435b"
      },
      "source": [
        "model.summary()"
      ],
      "execution_count": null,
      "outputs": [
        {
          "output_type": "stream",
          "name": "stdout",
          "text": [
            "Model: \"sequential_1\"\n",
            "_________________________________________________________________\n",
            "Layer (type)                 Output Shape              Param #   \n",
            "=================================================================\n",
            "conv2d_1 (Conv2D)            (None, 29, 29, 32)        1568      \n",
            "_________________________________________________________________\n",
            "max_pooling2d_1 (MaxPooling2 (None, 14, 14, 32)        0         \n",
            "_________________________________________________________________\n",
            "conv2d_2 (Conv2D)            (None, 11, 11, 32)        16416     \n",
            "_________________________________________________________________\n",
            "max_pooling2d_2 (MaxPooling2 (None, 5, 5, 32)          0         \n",
            "_________________________________________________________________\n",
            "flatten_1 (Flatten)          (None, 800)               0         \n",
            "_________________________________________________________________\n",
            "dense_2 (Dense)              (None, 256)               205056    \n",
            "_________________________________________________________________\n",
            "dense_3 (Dense)              (None, 10)                2570      \n",
            "=================================================================\n",
            "Total params: 225,610\n",
            "Trainable params: 225,610\n",
            "Non-trainable params: 0\n",
            "_________________________________________________________________\n"
          ]
        }
      ]
    },
    {
      "cell_type": "markdown",
      "metadata": {
        "id": "IgvL9bkx4v1i"
      },
      "source": [
        "#### Add Early Stopping"
      ]
    },
    {
      "cell_type": "code",
      "metadata": {
        "id": "_t2FHv1W43EY"
      },
      "source": [
        "from tensorflow.keras.callbacks import EarlyStopping"
      ],
      "execution_count": null,
      "outputs": []
    },
    {
      "cell_type": "code",
      "metadata": {
        "id": "8HzIvYVi47L9"
      },
      "source": [
        "early_stop = EarlyStopping(monitor='val_loss', patience=2)"
      ],
      "execution_count": null,
      "outputs": []
    },
    {
      "cell_type": "markdown",
      "metadata": {
        "id": "Rf_k_pqS5Ifc"
      },
      "source": [
        "### Fit the model"
      ]
    },
    {
      "cell_type": "code",
      "metadata": {
        "colab": {
          "base_uri": "https://localhost:8080/"
        },
        "id": "sclSu0iX5Luc",
        "outputId": "042f403f-e995-4dbc-a00f-503cc06176bb"
      },
      "source": [
        "model.fit(x_train, y_categorical_train,\n",
        "          epochs=20,\n",
        "          validation_data=(x_test, y_categorical_test),\n",
        "          callbacks=[early_stop])"
      ],
      "execution_count": null,
      "outputs": [
        {
          "output_type": "stream",
          "name": "stdout",
          "text": [
            "Epoch 1/20\n",
            "1563/1563 [==============================] - 62s 39ms/step - loss: 1.5324 - accuracy: 0.4447 - val_loss: 1.3279 - val_accuracy: 0.5360\n",
            "Epoch 2/20\n",
            "1563/1563 [==============================] - 61s 39ms/step - loss: 1.1788 - accuracy: 0.5839 - val_loss: 1.1563 - val_accuracy: 0.5940\n",
            "Epoch 3/20\n",
            "1563/1563 [==============================] - 61s 39ms/step - loss: 1.0279 - accuracy: 0.6396 - val_loss: 1.0370 - val_accuracy: 0.6373\n",
            "Epoch 4/20\n",
            "1563/1563 [==============================] - 61s 39ms/step - loss: 0.9246 - accuracy: 0.6781 - val_loss: 1.0163 - val_accuracy: 0.6418\n",
            "Epoch 5/20\n",
            "1563/1563 [==============================] - 62s 39ms/step - loss: 0.8418 - accuracy: 0.7076 - val_loss: 0.9972 - val_accuracy: 0.6579\n",
            "Epoch 6/20\n",
            "1563/1563 [==============================] - 62s 39ms/step - loss: 0.7689 - accuracy: 0.7324 - val_loss: 0.9760 - val_accuracy: 0.6706\n",
            "Epoch 7/20\n",
            "1563/1563 [==============================] - 61s 39ms/step - loss: 0.7023 - accuracy: 0.7545 - val_loss: 0.9343 - val_accuracy: 0.6847\n",
            "Epoch 8/20\n",
            "1563/1563 [==============================] - 61s 39ms/step - loss: 0.6399 - accuracy: 0.7760 - val_loss: 0.9481 - val_accuracy: 0.6822\n",
            "Epoch 9/20\n",
            "1563/1563 [==============================] - 62s 39ms/step - loss: 0.5786 - accuracy: 0.7992 - val_loss: 0.9731 - val_accuracy: 0.6951\n"
          ]
        },
        {
          "output_type": "execute_result",
          "data": {
            "text/plain": [
              "<keras.callbacks.History at 0x7f00b3079d50>"
            ]
          },
          "metadata": {},
          "execution_count": 59
        }
      ]
    },
    {
      "cell_type": "markdown",
      "metadata": {
        "id": "kGwQFrNn5keb"
      },
      "source": [
        "### Evaluate the model"
      ]
    },
    {
      "cell_type": "code",
      "metadata": {
        "id": "5KFggz7Z8DvU"
      },
      "source": [
        "metrics = pd.DataFrame(model.history.history)"
      ],
      "execution_count": null,
      "outputs": []
    },
    {
      "cell_type": "code",
      "metadata": {
        "colab": {
          "base_uri": "https://localhost:8080/",
          "height": 328
        },
        "id": "zY0Xk3j48JD7",
        "outputId": "1001f24d-2eed-4d5b-ab7e-a5261c987999"
      },
      "source": [
        "metrics"
      ],
      "execution_count": null,
      "outputs": [
        {
          "output_type": "execute_result",
          "data": {
            "text/html": [
              "<div>\n",
              "<style scoped>\n",
              "    .dataframe tbody tr th:only-of-type {\n",
              "        vertical-align: middle;\n",
              "    }\n",
              "\n",
              "    .dataframe tbody tr th {\n",
              "        vertical-align: top;\n",
              "    }\n",
              "\n",
              "    .dataframe thead th {\n",
              "        text-align: right;\n",
              "    }\n",
              "</style>\n",
              "<table border=\"1\" class=\"dataframe\">\n",
              "  <thead>\n",
              "    <tr style=\"text-align: right;\">\n",
              "      <th></th>\n",
              "      <th>loss</th>\n",
              "      <th>accuracy</th>\n",
              "      <th>val_loss</th>\n",
              "      <th>val_accuracy</th>\n",
              "    </tr>\n",
              "  </thead>\n",
              "  <tbody>\n",
              "    <tr>\n",
              "      <th>0</th>\n",
              "      <td>1.532387</td>\n",
              "      <td>0.44468</td>\n",
              "      <td>1.327945</td>\n",
              "      <td>0.5360</td>\n",
              "    </tr>\n",
              "    <tr>\n",
              "      <th>1</th>\n",
              "      <td>1.178759</td>\n",
              "      <td>0.58394</td>\n",
              "      <td>1.156325</td>\n",
              "      <td>0.5940</td>\n",
              "    </tr>\n",
              "    <tr>\n",
              "      <th>2</th>\n",
              "      <td>1.027945</td>\n",
              "      <td>0.63960</td>\n",
              "      <td>1.037018</td>\n",
              "      <td>0.6373</td>\n",
              "    </tr>\n",
              "    <tr>\n",
              "      <th>3</th>\n",
              "      <td>0.924607</td>\n",
              "      <td>0.67810</td>\n",
              "      <td>1.016344</td>\n",
              "      <td>0.6418</td>\n",
              "    </tr>\n",
              "    <tr>\n",
              "      <th>4</th>\n",
              "      <td>0.841784</td>\n",
              "      <td>0.70756</td>\n",
              "      <td>0.997189</td>\n",
              "      <td>0.6579</td>\n",
              "    </tr>\n",
              "    <tr>\n",
              "      <th>5</th>\n",
              "      <td>0.768874</td>\n",
              "      <td>0.73240</td>\n",
              "      <td>0.975981</td>\n",
              "      <td>0.6706</td>\n",
              "    </tr>\n",
              "    <tr>\n",
              "      <th>6</th>\n",
              "      <td>0.702314</td>\n",
              "      <td>0.75454</td>\n",
              "      <td>0.934341</td>\n",
              "      <td>0.6847</td>\n",
              "    </tr>\n",
              "    <tr>\n",
              "      <th>7</th>\n",
              "      <td>0.639890</td>\n",
              "      <td>0.77598</td>\n",
              "      <td>0.948091</td>\n",
              "      <td>0.6822</td>\n",
              "    </tr>\n",
              "    <tr>\n",
              "      <th>8</th>\n",
              "      <td>0.578630</td>\n",
              "      <td>0.79918</td>\n",
              "      <td>0.973123</td>\n",
              "      <td>0.6951</td>\n",
              "    </tr>\n",
              "  </tbody>\n",
              "</table>\n",
              "</div>"
            ],
            "text/plain": [
              "       loss  accuracy  val_loss  val_accuracy\n",
              "0  1.532387   0.44468  1.327945        0.5360\n",
              "1  1.178759   0.58394  1.156325        0.5940\n",
              "2  1.027945   0.63960  1.037018        0.6373\n",
              "3  0.924607   0.67810  1.016344        0.6418\n",
              "4  0.841784   0.70756  0.997189        0.6579\n",
              "5  0.768874   0.73240  0.975981        0.6706\n",
              "6  0.702314   0.75454  0.934341        0.6847\n",
              "7  0.639890   0.77598  0.948091        0.6822\n",
              "8  0.578630   0.79918  0.973123        0.6951"
            ]
          },
          "metadata": {},
          "execution_count": 61
        }
      ]
    },
    {
      "cell_type": "code",
      "metadata": {
        "colab": {
          "base_uri": "https://localhost:8080/"
        },
        "id": "oYcJ1-hF8KMZ",
        "outputId": "25762328-cb5a-438f-9034-ad08d8c41f5a"
      },
      "source": [
        "metrics.columns"
      ],
      "execution_count": null,
      "outputs": [
        {
          "output_type": "execute_result",
          "data": {
            "text/plain": [
              "Index(['loss', 'accuracy', 'val_loss', 'val_accuracy'], dtype='object')"
            ]
          },
          "metadata": {},
          "execution_count": 62
        }
      ]
    },
    {
      "cell_type": "code",
      "metadata": {
        "colab": {
          "base_uri": "https://localhost:8080/",
          "height": 282
        },
        "id": "-cWakVZG8QTT",
        "outputId": "0fe72405-3ce7-49c5-cbde-7d214def75a8"
      },
      "source": [
        "metrics[['accuracy', 'val_accuracy']].plot()"
      ],
      "execution_count": null,
      "outputs": [
        {
          "output_type": "execute_result",
          "data": {
            "text/plain": [
              "<matplotlib.axes._subplots.AxesSubplot at 0x7f00b30ed5d0>"
            ]
          },
          "metadata": {},
          "execution_count": 63
        },
        {
          "output_type": "display_data",
          "data": {
            "image/png": "[encoded data removed]",
            "text/plain": [
              "<Figure size 432x288 with 1 Axes>"
            ]
          },
          "metadata": {
            "needs_background": "light"
          }
        }
      ]
    },
    {
      "cell_type": "code",
      "metadata": {
        "colab": {
          "base_uri": "https://localhost:8080/",
          "height": 282
        },
        "id": "31c8eoDD8XyL",
        "outputId": "63a62622-69fe-494a-9994-adffd6fbe3dd"
      },
      "source": [
        "metrics[['loss','val_loss']].plot()"
      ],
      "execution_count": null,
      "outputs": [
        {
          "output_type": "execute_result",
          "data": {
            "text/plain": [
              "<matplotlib.axes._subplots.AxesSubplot at 0x7f00a94f2c50>"
            ]
          },
          "metadata": {},
          "execution_count": 64
        },
        {
          "output_type": "display_data",
          "data": {
            "image/png": "[encoded data removed]",
            "text/plain": [
              "<Figure size 432x288 with 1 Axes>"
            ]
          },
          "metadata": {
            "needs_background": "light"
          }
        }
      ]
    },
    {
      "cell_type": "code",
      "metadata": {
        "colab": {
          "base_uri": "https://localhost:8080/"
        },
        "id": "LNS_ARCE8f-q",
        "outputId": "23f4588f-f591-4dbe-f004-ae0c4772b1ce"
      },
      "source": [
        "model.evaluate(x_test, y_categorical_test)"
      ],
      "execution_count": null,
      "outputs": [
        {
          "output_type": "stream",
          "name": "stdout",
          "text": [
            "313/313 [==============================] - 3s 11ms/step - loss: 0.9731 - accuracy: 0.6951\n"
          ]
        },
        {
          "output_type": "execute_result",
          "data": {
            "text/plain": [
              "[0.9731229543685913, 0.6951000094413757]"
            ]
          },
          "metadata": {},
          "execution_count": 65
        }
      ]
    },
    {
      "cell_type": "code",
      "metadata": {
        "id": "jprtBdri8qim"
      },
      "source": [
        "from sklearn.metrics import classification_report, confusion_matrix"
      ],
      "execution_count": null,
      "outputs": []
    },
    {
      "cell_type": "code",
      "metadata": {
        "id": "Dz32XJin83O9"
      },
      "source": [
        "predictions = np.argmax(model.predict(x_test), axis=1)"
      ],
      "execution_count": null,
      "outputs": []
    },
    {
      "cell_type": "code",
      "metadata": {
        "colab": {
          "base_uri": "https://localhost:8080/"
        },
        "id": "faiNTC-Q9Sfx",
        "outputId": "48599de2-d88b-406e-998d-9b5b2323c824"
      },
      "source": [
        "predictions[0]"
      ],
      "execution_count": null,
      "outputs": [
        {
          "output_type": "execute_result",
          "data": {
            "text/plain": [
              "3"
            ]
          },
          "metadata": {},
          "execution_count": 68
        }
      ]
    },
    {
      "cell_type": "code",
      "metadata": {
        "colab": {
          "base_uri": "https://localhost:8080/"
        },
        "id": "PJWvGzCe9FTb",
        "outputId": "81557564-ba00-4169-a7f2-73535df159ca"
      },
      "source": [
        "print(classification_report(y_test, predictions))"
      ],
      "execution_count": null,
      "outputs": [
        {
          "output_type": "stream",
          "name": "stdout",
          "text": [
            "              precision    recall  f1-score   support\n",
            "\n",
            "           0       0.72      0.72      0.72      1000\n",
            "           1       0.73      0.88      0.80      1000\n",
            "           2       0.60      0.59      0.59      1000\n",
            "           3       0.54      0.47      0.50      1000\n",
            "           4       0.64      0.66      0.65      1000\n",
            "           5       0.65      0.52      0.58      1000\n",
            "           6       0.71      0.81      0.76      1000\n",
            "           7       0.78      0.73      0.76      1000\n",
            "           8       0.78      0.78      0.78      1000\n",
            "           9       0.76      0.79      0.78      1000\n",
            "\n",
            "    accuracy                           0.70     10000\n",
            "   macro avg       0.69      0.70      0.69     10000\n",
            "weighted avg       0.69      0.70      0.69     10000\n",
            "\n"
          ]
        }
      ]
    },
    {
      "cell_type": "code",
      "metadata": {
        "colab": {
          "base_uri": "https://localhost:8080/",
          "height": 391
        },
        "id": "f_SzMYPG9K4S",
        "outputId": "7f86dde4-af8d-4355-c5eb-f120d9fb40de"
      },
      "source": [
        "import seaborn as sns\n",
        "\n",
        "plt.figure(figsize=(10,6))\n",
        "\n",
        "sns.heatmap(confusion_matrix(y_test, predictions),annot=True)"
      ],
      "execution_count": null,
      "outputs": [
        {
          "output_type": "execute_result",
          "data": {
            "text/plain": [
              "<matplotlib.axes._subplots.AxesSubplot at 0x7f00a9c80cd0>"
            ]
          },
          "metadata": {},
          "execution_count": 70
        },
        {
          "output_type": "display_data",
          "data": {
            "image/png": "[encoded data removed]",
            "text/plain": [
              "<Figure size 720x432 with 2 Axes>"
            ]
          },
          "metadata": {
            "needs_background": "light"
          }
        }
      ]
    },
    {
      "cell_type": "code",
      "metadata": {
        "colab": {
          "base_uri": "https://localhost:8080/",
          "height": 283
        },
        "id": "s1X48G2L-Ick",
        "outputId": "35f691fd-ad79-4382-fbff-423b1152ed29"
      },
      "source": [
        "my_img = x_test[16] #data already scaled\n",
        "plt.imshow(my_img)"
      ],
      "execution_count": null,
      "outputs": [
        {
          "output_type": "execute_result",
          "data": {
            "text/plain": [
              "<matplotlib.image.AxesImage at 0x7f00a9a7d050>"
            ]
          },
          "metadata": {},
          "execution_count": 71
        },
        {
          "output_type": "display_data",
          "data": {
            "image/png": "[encoded data removed]",
            "text/plain": [
              "<Figure size 432x288 with 1 Axes>"
            ]
          },
          "metadata": {
            "needs_background": "light"
          }
        }
      ]
    },
    {
      "cell_type": "code",
      "metadata": {
        "colab": {
          "base_uri": "https://localhost:8080/"
        },
        "id": "ajPSlEcz-Tuc",
        "outputId": "e8a1fe7d-8b54-4429-82f2-a8440666d87f"
      },
      "source": [
        "y_test[16]"
      ],
      "execution_count": null,
      "outputs": [
        {
          "output_type": "execute_result",
          "data": {
            "text/plain": [
              "array([5], dtype=uint8)"
            ]
          },
          "metadata": {},
          "execution_count": 72
        }
      ]
    },
    {
      "cell_type": "code",
      "metadata": {
        "colab": {
          "base_uri": "https://localhost:8080/"
        },
        "id": "tTsYyjTf-Wv2",
        "outputId": "296eb804-2c42-42b4-eeb5-9f66e8bb42a4"
      },
      "source": [
        "np.argmax(model.predict(my_img.reshape(1, 32, 32, 3)),axis=1)"
      ],
      "execution_count": null,
      "outputs": [
        {
          "output_type": "execute_result",
          "data": {
            "text/plain": [
              "array([5])"
            ]
          },
          "metadata": {},
          "execution_count": 73
        }
      ]
    },
    {
      "cell_type": "markdown",
      "metadata": {
        "id": "NuMwW1Pi-ggE"
      },
      "source": [
        "## CNN with Real Images"
      ]
    },
    {
      "cell_type": "markdown",
      "metadata": {
        "id": "h9AsVlchyEWz"
      },
      "source": [
        "### Download and Read In the Images"
      ]
    },
    {
      "cell_type": "code",
      "metadata": {
        "id": "DSnyd4c9ykxf",
        "colab": {
          "base_uri": "https://localhost:8080/"
        },
        "outputId": "0527acc9-674d-4686-dcb7-b02571e50db2"
      },
      "source": [
        "!gdown --id 1N1gcN8_5dZVlIejoC00QZLSZFhGoSoQb"
      ],
      "execution_count": 4,
      "outputs": [
        {
          "output_type": "stream",
          "name": "stdout",
          "text": [
            "Downloading...\n",
            "From: https://drive.google.com/uc?id=1N1gcN8_5dZVlIejoC00QZLSZFhGoSoQb\n",
            "To: /content/cell_images.zip\n",
            "354MB [00:02, 142MB/s]\n"
          ]
        }
      ]
    },
    {
      "cell_type": "code",
      "metadata": {
        "id": "4AaXvDNxytDH"
      },
      "source": [
        "#unccomment to unzip\n",
        "#!unzip \"/content/cell_images.zip\""
      ],
      "execution_count": 58,
      "outputs": []
    },
    {
      "cell_type": "code",
      "metadata": {
        "id": "E5J3nT4Jzhrj"
      },
      "source": [
        "import os"
      ],
      "execution_count": 6,
      "outputs": []
    },
    {
      "cell_type": "code",
      "metadata": {
        "id": "HN6waruFz23_"
      },
      "source": [
        "data_dir = \"/content/cell_images/\""
      ],
      "execution_count": 7,
      "outputs": []
    },
    {
      "cell_type": "code",
      "metadata": {
        "id": "j-ueptgwz-cC",
        "colab": {
          "base_uri": "https://localhost:8080/"
        },
        "outputId": "d8b45fa4-c00e-47eb-9ab5-83769b2793e7"
      },
      "source": [
        "os.listdir(data_dir)"
      ],
      "execution_count": 8,
      "outputs": [
        {
          "output_type": "execute_result",
          "data": {
            "text/plain": [
              "['train', 'test']"
            ]
          },
          "metadata": {},
          "execution_count": 8
        }
      ]
    },
    {
      "cell_type": "code",
      "metadata": {
        "id": "X0YjYPGW0BHY"
      },
      "source": [
        "import pandas as pd\n",
        "import numpy as np\n",
        "import seaborn as sns\n",
        "import matplotlib.pyplot as plt\n",
        "import random"
      ],
      "execution_count": 9,
      "outputs": []
    },
    {
      "cell_type": "code",
      "metadata": {
        "id": "dtvWF5ot0aAn"
      },
      "source": [
        "from matplotlib.image import imread"
      ],
      "execution_count": 10,
      "outputs": []
    },
    {
      "cell_type": "code",
      "metadata": {
        "id": "-FFXFfVS0dxE",
        "colab": {
          "base_uri": "https://localhost:8080/"
        },
        "outputId": "ae157747-ca95-40c6-e02c-d7e3099215ee"
      },
      "source": [
        "test_path = data_dir + \"test/\"\n",
        "train_path = data_dir + \"train/\"\n",
        "test_path, train_path"
      ],
      "execution_count": 11,
      "outputs": [
        {
          "output_type": "execute_result",
          "data": {
            "text/plain": [
              "('/content/cell_images/test/', '/content/cell_images/train/')"
            ]
          },
          "metadata": {},
          "execution_count": 11
        }
      ]
    },
    {
      "cell_type": "code",
      "metadata": {
        "id": "0GHeRoOV0taQ",
        "colab": {
          "base_uri": "https://localhost:8080/"
        },
        "outputId": "16208345-0c98-4b87-957f-5e38db8c2af8"
      },
      "source": [
        "os.listdir(test_path)"
      ],
      "execution_count": 12,
      "outputs": [
        {
          "output_type": "execute_result",
          "data": {
            "text/plain": [
              "['uninfected', 'parasitized']"
            ]
          },
          "metadata": {},
          "execution_count": 12
        }
      ]
    },
    {
      "cell_type": "code",
      "metadata": {
        "id": "3NqnV9Mf0x9D",
        "colab": {
          "base_uri": "https://localhost:8080/"
        },
        "outputId": "a087c0fc-5c20-4f47-e11c-5e093bc7d380"
      },
      "source": [
        "os.listdir(train_path)"
      ],
      "execution_count": 13,
      "outputs": [
        {
          "output_type": "execute_result",
          "data": {
            "text/plain": [
              "['uninfected', 'parasitized']"
            ]
          },
          "metadata": {},
          "execution_count": 13
        }
      ]
    },
    {
      "cell_type": "code",
      "metadata": {
        "id": "XbXtAD-h1Cgt",
        "colab": {
          "base_uri": "https://localhost:8080/"
        },
        "outputId": "951e0e5b-a624-4d9f-8380-7191e12e063a"
      },
      "source": [
        "#take a look at a single image\n",
        "random_infected_img = random.choice(os.listdir(train_path+'parasitized'))\n",
        "para_cell = train_path+'parasitized' +'/'+ random_infected_img\n",
        "imread(para_cell).shape #transforms png into array"
      ],
      "execution_count": 14,
      "outputs": [
        {
          "output_type": "execute_result",
          "data": {
            "text/plain": [
              "(151, 145, 3)"
            ]
          },
          "metadata": {},
          "execution_count": 14
        }
      ]
    },
    {
      "cell_type": "code",
      "metadata": {
        "id": "oPih8ykU1n4w",
        "colab": {
          "base_uri": "https://localhost:8080/",
          "height": 286
        },
        "outputId": "4b3c13ad-1af1-4bc2-ebff-24d8abd0c903"
      },
      "source": [
        "plt.imshow(imread(para_cell))"
      ],
      "execution_count": 15,
      "outputs": [
        {
          "output_type": "execute_result",
          "data": {
            "text/plain": [
              "<matplotlib.image.AxesImage at 0x7f636da554d0>"
            ]
          },
          "metadata": {},
          "execution_count": 15
        },
        {
          "output_type": "display_data",
          "data": {
            "image/png": "[encoded data removed]",
            "text/plain": [
              "<Figure size 432x288 with 1 Axes>"
            ]
          },
          "metadata": {
            "needs_background": "light"
          }
        }
      ]
    },
    {
      "cell_type": "code",
      "metadata": {
        "id": "FNMMSsw419Js",
        "colab": {
          "base_uri": "https://localhost:8080/"
        },
        "outputId": "33c15f28-3eeb-4a45-8ec9-a8e846dcb921"
      },
      "source": [
        "# random uninfected image\n",
        "random_uninfected_img = random.choice(os.listdir(train_path+'uninfected'))\n",
        "uninfected_cell = train_path + 'uninfected/' + random_uninfected_img\n",
        "uninfected_cell_image = imread(uninfected_cell)\n",
        "uninfected_cell_image.shape "
      ],
      "execution_count": 16,
      "outputs": [
        {
          "output_type": "execute_result",
          "data": {
            "text/plain": [
              "(133, 163, 3)"
            ]
          },
          "metadata": {},
          "execution_count": 16
        }
      ]
    },
    {
      "cell_type": "code",
      "metadata": {
        "id": "8oMXme8a26QH",
        "colab": {
          "base_uri": "https://localhost:8080/",
          "height": 286
        },
        "outputId": "a81ee195-9e40-4a86-f805-27c8113c654d"
      },
      "source": [
        "plt.imshow(uninfected_cell_image)"
      ],
      "execution_count": 17,
      "outputs": [
        {
          "output_type": "execute_result",
          "data": {
            "text/plain": [
              "<matplotlib.image.AxesImage at 0x7f636da0a510>"
            ]
          },
          "metadata": {},
          "execution_count": 17
        },
        {
          "output_type": "display_data",
          "data": {
            "image/png": "[encoded data removed]",
            "text/plain": [
              "<Figure size 432x288 with 1 Axes>"
            ]
          },
          "metadata": {
            "needs_background": "light"
          }
        }
      ]
    },
    {
      "cell_type": "markdown",
      "metadata": {
        "id": "dvOHqixe2_q0"
      },
      "source": [
        "#### Check how many images we have"
      ]
    },
    {
      "cell_type": "code",
      "metadata": {
        "id": "q68KOUBt3tUp",
        "colab": {
          "base_uri": "https://localhost:8080/"
        },
        "outputId": "3475736c-a4d2-4baa-b49f-e80f12d64453"
      },
      "source": [
        "len(os.listdir(train_path + 'parasitized'))"
      ],
      "execution_count": 18,
      "outputs": [
        {
          "output_type": "execute_result",
          "data": {
            "text/plain": [
              "12480"
            ]
          },
          "metadata": {},
          "execution_count": 18
        }
      ]
    },
    {
      "cell_type": "code",
      "metadata": {
        "id": "yzeiDKnL4J0I",
        "colab": {
          "base_uri": "https://localhost:8080/"
        },
        "outputId": "cd773f10-ff35-4171-ca3d-65ce0a7b5b03"
      },
      "source": [
        "len(os.listdir(train_path + 'uninfected'))"
      ],
      "execution_count": 19,
      "outputs": [
        {
          "output_type": "execute_result",
          "data": {
            "text/plain": [
              "12480"
            ]
          },
          "metadata": {},
          "execution_count": 19
        }
      ]
    },
    {
      "cell_type": "code",
      "metadata": {
        "id": "QrKifYbs4NgB",
        "colab": {
          "base_uri": "https://localhost:8080/"
        },
        "outputId": "5f49c045-5b94-40f6-80cc-06ebaa6825e4"
      },
      "source": [
        "len(os.listdir(test_path + 'parasitized'))"
      ],
      "execution_count": 20,
      "outputs": [
        {
          "output_type": "execute_result",
          "data": {
            "text/plain": [
              "1300"
            ]
          },
          "metadata": {},
          "execution_count": 20
        }
      ]
    },
    {
      "cell_type": "code",
      "metadata": {
        "id": "jEJ1dTfs4Pvi",
        "colab": {
          "base_uri": "https://localhost:8080/"
        },
        "outputId": "58aa21df-197a-40a6-e53e-4c744b096eeb"
      },
      "source": [
        "len(os.listdir(test_path + 'uninfected'))"
      ],
      "execution_count": 21,
      "outputs": [
        {
          "output_type": "execute_result",
          "data": {
            "text/plain": [
              "1300"
            ]
          },
          "metadata": {},
          "execution_count": 21
        }
      ]
    },
    {
      "cell_type": "markdown",
      "metadata": {
        "id": "vhe7o1vl4S5e"
      },
      "source": [
        "#### Figure out the average shape of the images\n",
        "\n",
        "Since these are 'real-life' images, they are of different shape.\n",
        "\n",
        "We have to figure out their average shape and then reshape the images for their consequent use."
      ]
    },
    {
      "cell_type": "code",
      "metadata": {
        "id": "TXym5kpX42X8"
      },
      "source": [
        "dim1 = []\n",
        "dim2 = []\n",
        "\n",
        "for image_filename in os.listdir(test_path + \"uninfected\"):\n",
        "  img = imread(test_path + 'uninfected/' + image_filename)\n",
        "  d1, d2, colors = img.shape\n",
        "  dim1.append(d1)\n",
        "  dim2.append(d2)"
      ],
      "execution_count": 22,
      "outputs": []
    },
    {
      "cell_type": "code",
      "metadata": {
        "id": "yMMnhYcm5fYK",
        "colab": {
          "base_uri": "https://localhost:8080/",
          "height": 495
        },
        "outputId": "e3d9c31b-ae86-495e-fd87-124b0ddc1251"
      },
      "source": [
        "sns.jointplot(dim1, dim2);"
      ],
      "execution_count": 23,
      "outputs": [
        {
          "output_type": "stream",
          "name": "stderr",
          "text": [
            "/usr/local/lib/python3.7/dist-packages/seaborn/_decorators.py:43: FutureWarning: Pass the following variables as keyword args: x, y. From version 0.12, the only valid positional argument will be `data`, and passing other arguments without an explicit keyword will result in an error or misinterpretation.\n",
            "  FutureWarning\n"
          ]
        },
        {
          "output_type": "display_data",
          "data": {
            "image/png": "[encoded data removed]",
            "text/plain": [
              "<Figure size 432x432 with 3 Axes>"
            ]
          },
          "metadata": {
            "needs_background": "light"
          }
        }
      ]
    },
    {
      "cell_type": "code",
      "metadata": {
        "id": "tZnRAc3L5hH3",
        "colab": {
          "base_uri": "https://localhost:8080/"
        },
        "outputId": "3263e9a7-6607-4cc2-a0dd-29b369b36f85"
      },
      "source": [
        "np.mean(dim1), np.mean(dim2)"
      ],
      "execution_count": 24,
      "outputs": [
        {
          "output_type": "execute_result",
          "data": {
            "text/plain": [
              "(130.92538461538462, 130.75)"
            ]
          },
          "metadata": {},
          "execution_count": 24
        }
      ]
    },
    {
      "cell_type": "code",
      "metadata": {
        "id": "RicF2VE053JR"
      },
      "source": [
        "# So we'll resize all the images to (130, 130, 3)\n",
        "image_shape = (130, 130, 3)"
      ],
      "execution_count": 25,
      "outputs": []
    },
    {
      "cell_type": "code",
      "metadata": {
        "id": "WZgf9Wgo6AOw"
      },
      "source": [
        "from tensorflow.keras.preprocessing.image import ImageDataGenerator"
      ],
      "execution_count": 26,
      "outputs": []
    },
    {
      "cell_type": "code",
      "metadata": {
        "id": "zxZFY-MPCZoH",
        "colab": {
          "base_uri": "https://localhost:8080/"
        },
        "outputId": "a6da8548-932f-4944-c0a5-52efc53848fd"
      },
      "source": [
        "imread(para_cell).max(), imread(uninfected_cell).max() #images already rescaled"
      ],
      "execution_count": 27,
      "outputs": [
        {
          "output_type": "execute_result",
          "data": {
            "text/plain": [
              "(0.9137255, 0.89411765)"
            ]
          },
          "metadata": {},
          "execution_count": 27
        }
      ]
    },
    {
      "cell_type": "code",
      "metadata": {
        "id": "sUByDGbIBh4O"
      },
      "source": [
        "image_gen = ImageDataGenerator(rotation_range=20,\n",
        "                               width_shift_range=0.1,\n",
        "                               height_shift_range=0.1,\n",
        "                               shear_range=0.1,\n",
        "                               zoom_range=0.1,\n",
        "                               horizontal_flip=True,\n",
        "                               fill_mode='nearest')"
      ],
      "execution_count": 28,
      "outputs": []
    },
    {
      "cell_type": "code",
      "metadata": {
        "id": "quyWiO8MC4Vo",
        "colab": {
          "base_uri": "https://localhost:8080/",
          "height": 286
        },
        "outputId": "a909752a-5229-4bf2-a026-b3c81650ce1e"
      },
      "source": [
        "uninfected_img = imread(uninfected_cell)\n",
        "plt.imshow(uninfected_img)"
      ],
      "execution_count": 29,
      "outputs": [
        {
          "output_type": "execute_result",
          "data": {
            "text/plain": [
              "<matplotlib.image.AxesImage at 0x7f6363c11510>"
            ]
          },
          "metadata": {},
          "execution_count": 29
        },
        {
          "output_type": "display_data",
          "data": {
            "image/png": "[encoded data removed]",
            "text/plain": [
              "<Figure size 432x288 with 1 Axes>"
            ]
          },
          "metadata": {
            "needs_background": "light"
          }
        }
      ]
    },
    {
      "cell_type": "code",
      "metadata": {
        "id": "_ZXymzMKC_sC",
        "colab": {
          "base_uri": "https://localhost:8080/",
          "height": 286
        },
        "outputId": "e85bb1d8-f447-4ff0-e696-608462bfd9b8"
      },
      "source": [
        "plt.imshow(image_gen.random_transform(uninfected_img))"
      ],
      "execution_count": 30,
      "outputs": [
        {
          "output_type": "execute_result",
          "data": {
            "text/plain": [
              "<matplotlib.image.AxesImage at 0x7f6363bf3710>"
            ]
          },
          "metadata": {},
          "execution_count": 30
        },
        {
          "output_type": "display_data",
          "data": {
            "image/png": "[encoded data removed]",
            "text/plain": [
              "<Figure size 432x288 with 1 Axes>"
            ]
          },
          "metadata": {
            "needs_background": "light"
          }
        }
      ]
    },
    {
      "cell_type": "markdown",
      "metadata": {
        "id": "E9ade0_JDcsx"
      },
      "source": [
        "#### Set up directories to flow batches from them"
      ]
    },
    {
      "cell_type": "code",
      "metadata": {
        "id": "W3ww1cAJEAnl",
        "colab": {
          "base_uri": "https://localhost:8080/"
        },
        "outputId": "ae0a174b-5ee7-4100-fdcf-4788e4f9fdfd"
      },
      "source": [
        "image_gen.flow_from_directory(train_path)"
      ],
      "execution_count": 31,
      "outputs": [
        {
          "output_type": "stream",
          "name": "stdout",
          "text": [
            "Found 24958 images belonging to 2 classes.\n"
          ]
        },
        {
          "output_type": "execute_result",
          "data": {
            "text/plain": [
              "<keras.preprocessing.image.DirectoryIterator at 0x7f6363bb3090>"
            ]
          },
          "metadata": {},
          "execution_count": 31
        }
      ]
    },
    {
      "cell_type": "code",
      "metadata": {
        "id": "0lH4e5CREJKI",
        "colab": {
          "base_uri": "https://localhost:8080/"
        },
        "outputId": "33aa257d-676c-4fea-f53a-730bb42a9511"
      },
      "source": [
        "image_gen.flow_from_directory(test_path)"
      ],
      "execution_count": 32,
      "outputs": [
        {
          "output_type": "stream",
          "name": "stdout",
          "text": [
            "Found 2600 images belonging to 2 classes.\n"
          ]
        },
        {
          "output_type": "execute_result",
          "data": {
            "text/plain": [
              "<keras.preprocessing.image.DirectoryIterator at 0x7f6363bf3a50>"
            ]
          },
          "metadata": {},
          "execution_count": 32
        }
      ]
    },
    {
      "cell_type": "markdown",
      "metadata": {
        "id": "dflS8ooLEtFA"
      },
      "source": [
        "### Creating a model"
      ]
    },
    {
      "cell_type": "code",
      "metadata": {
        "id": "YoJv14DhFEsV"
      },
      "source": [
        "from tensorflow.keras.models import Sequential\n",
        "from tensorflow.keras.layers import Dense, Conv2D, MaxPool2D, Dropout, Flatten"
      ],
      "execution_count": null,
      "outputs": []
    },
    {
      "cell_type": "code",
      "metadata": {
        "id": "b0KMrbNsFTsP"
      },
      "source": [
        "model = Sequential()\n",
        "\n",
        "model.add(Conv2D(filters=32, \n",
        "                 kernel_size=(3,3), \n",
        "                 input_shape=image_shape, #(130,130,3)\n",
        "                 activation='relu'))\n",
        "model.add(MaxPool2D(pool_size=(2,2)))\n",
        "\n",
        "model.add(Conv2D(filters=64, \n",
        "                 kernel_size=(3,3), \n",
        "                 input_shape=image_shape, #(130,130,3)\n",
        "                 activation='relu'))\n",
        "model.add(MaxPool2D(pool_size=(2,2)))\n",
        "\n",
        "model.add(Conv2D(filters=64, \n",
        "                 kernel_size=(3,3), \n",
        "                 input_shape=image_shape, #(130,130,3)\n",
        "                 activation='relu'))\n",
        "model.add(MaxPool2D(pool_size=(2,2)))\n",
        "\n",
        "model.add(Flatten())\n",
        "\n",
        "model.add(Dense(128, activation='relu'))\n",
        "model.add(Dropout(0.5))\n",
        "\n",
        "model.add(Dense(1, activation='sigmoid'))\n",
        "\n",
        "model.compile(loss='binary_crossentropy',\n",
        "              optimizer='adam',\n",
        "              metrics=['accuracy'])\n",
        "\n"
      ],
      "execution_count": null,
      "outputs": []
    },
    {
      "cell_type": "code",
      "metadata": {
        "id": "J9a2aZKSG3Jt",
        "colab": {
          "base_uri": "https://localhost:8080/"
        },
        "outputId": "ed7f33dd-214c-4d1a-f730-10a235d87684"
      },
      "source": [
        "model.summary()"
      ],
      "execution_count": null,
      "outputs": [
        {
          "output_type": "stream",
          "name": "stdout",
          "text": [
            "Model: \"sequential\"\n",
            "_________________________________________________________________\n",
            "Layer (type)                 Output Shape              Param #   \n",
            "=================================================================\n",
            "conv2d (Conv2D)              (None, 128, 128, 32)      896       \n",
            "_________________________________________________________________\n",
            "max_pooling2d (MaxPooling2D) (None, 64, 64, 32)        0         \n",
            "_________________________________________________________________\n",
            "conv2d_1 (Conv2D)            (None, 62, 62, 64)        18496     \n",
            "_________________________________________________________________\n",
            "max_pooling2d_1 (MaxPooling2 (None, 31, 31, 64)        0         \n",
            "_________________________________________________________________\n",
            "conv2d_2 (Conv2D)            (None, 29, 29, 64)        36928     \n",
            "_________________________________________________________________\n",
            "max_pooling2d_2 (MaxPooling2 (None, 14, 14, 64)        0         \n",
            "_________________________________________________________________\n",
            "flatten (Flatten)            (None, 12544)             0         \n",
            "_________________________________________________________________\n",
            "dense (Dense)                (None, 128)               1605760   \n",
            "_________________________________________________________________\n",
            "dropout (Dropout)            (None, 128)               0         \n",
            "_________________________________________________________________\n",
            "dense_1 (Dense)              (None, 1)                 129       \n",
            "=================================================================\n",
            "Total params: 1,662,209\n",
            "Trainable params: 1,662,209\n",
            "Non-trainable params: 0\n",
            "_________________________________________________________________\n"
          ]
        }
      ]
    },
    {
      "cell_type": "code",
      "metadata": {
        "id": "8YP4_JPLG6WN"
      },
      "source": [
        "from tensorflow.keras.callbacks import EarlyStopping"
      ],
      "execution_count": null,
      "outputs": []
    },
    {
      "cell_type": "code",
      "metadata": {
        "id": "7dNTapj1HAE1"
      },
      "source": [
        "early_stop = EarlyStopping(monitor='val_loss', patience=2)"
      ],
      "execution_count": null,
      "outputs": []
    },
    {
      "cell_type": "code",
      "metadata": {
        "id": "ud0mzJUCHG4P"
      },
      "source": [
        "batch_size=16"
      ],
      "execution_count": 35,
      "outputs": []
    },
    {
      "cell_type": "code",
      "metadata": {
        "id": "9Q02Q9qAHSdx",
        "colab": {
          "base_uri": "https://localhost:8080/"
        },
        "outputId": "ae856b57-9cb7-40d4-e675-eea1eb5758b9"
      },
      "source": [
        "train_image_gen = image_gen.flow_from_directory(train_path,\n",
        "                                                target_size=(130,130),\n",
        "                                                color_mode='rgb',\n",
        "                                                batch_size=batch_size,\n",
        "                                                class_mode='binary')"
      ],
      "execution_count": 36,
      "outputs": [
        {
          "output_type": "stream",
          "name": "stdout",
          "text": [
            "Found 24958 images belonging to 2 classes.\n"
          ]
        }
      ]
    },
    {
      "cell_type": "code",
      "metadata": {
        "id": "4PrQBvT8HsY7",
        "colab": {
          "base_uri": "https://localhost:8080/"
        },
        "outputId": "c55c7408-cf50-447f-f61b-1e51f0356fc1"
      },
      "source": [
        "test_image_gen = image_gen.flow_from_directory(test_path,\n",
        "                                                target_size=(130,130),\n",
        "                                                color_mode='rgb',\n",
        "                                                batch_size=batch_size,\n",
        "                                                class_mode='binary',\n",
        "                                               shuffle=False)"
      ],
      "execution_count": 37,
      "outputs": [
        {
          "output_type": "stream",
          "name": "stdout",
          "text": [
            "Found 2600 images belonging to 2 classes.\n"
          ]
        }
      ]
    },
    {
      "cell_type": "code",
      "metadata": {
        "id": "zgpYHyVeH2Hv",
        "colab": {
          "base_uri": "https://localhost:8080/"
        },
        "outputId": "d80ccdbb-8245-496b-e6d0-fcccf874e798"
      },
      "source": [
        "train_image_gen.class_indices"
      ],
      "execution_count": null,
      "outputs": [
        {
          "output_type": "execute_result",
          "data": {
            "text/plain": [
              "{'parasitized': 0, 'uninfected': 1}"
            ]
          },
          "metadata": {},
          "execution_count": 40
        }
      ]
    },
    {
      "cell_type": "code",
      "metadata": {
        "id": "tkElAddrH7sw",
        "colab": {
          "base_uri": "https://localhost:8080/"
        },
        "outputId": "6ccb3657-846b-42d1-c259-61c29ea742b5"
      },
      "source": [
        "results = model.fit_generator(train_image_gen,\n",
        "                              epochs=7,\n",
        "                              validation_data=test_image_gen,\n",
        "                              #callbacks=[early_stop]\n",
        "                              )"
      ],
      "execution_count": null,
      "outputs": [
        {
          "metadata": {
            "tags": null
          },
          "name": "stderr",
          "output_type": "stream",
          "text": [
            "/usr/local/lib/python3.7/dist-packages/keras/engine/training.py:1972: UserWarning: `Model.fit_generator` is deprecated and will be removed in a future version. Please use `Model.fit`, which supports generators.\n",
            "  warnings.warn('`Model.fit_generator` is deprecated and '\n"
          ]
        },
        {
          "output_type": "stream",
          "name": "stdout",
          "text": [
            "Epoch 1/7\n",
            "1560/1560 [==============================] - 761s 488ms/step - loss: 0.1743 - accuracy: 0.9455 - val_loss: 0.2060 - val_accuracy: 0.9369\n",
            "Epoch 2/7\n",
            "1560/1560 [==============================] - 758s 486ms/step - loss: 0.1690 - accuracy: 0.9466 - val_loss: 0.1730 - val_accuracy: 0.9415\n",
            "Epoch 3/7\n",
            "1560/1560 [==============================] - 758s 486ms/step - loss: 0.1663 - accuracy: 0.9494 - val_loss: 0.2165 - val_accuracy: 0.9258\n",
            "Epoch 4/7\n",
            "1560/1560 [==============================] - 764s 489ms/step - loss: 0.1794 - accuracy: 0.9443 - val_loss: 0.1727 - val_accuracy: 0.9454\n",
            "Epoch 5/7\n",
            "1560/1560 [==============================] - 762s 488ms/step - loss: 0.1647 - accuracy: 0.9487 - val_loss: 0.1583 - val_accuracy: 0.9454\n",
            "Epoch 6/7\n",
            "1560/1560 [==============================] - 762s 489ms/step - loss: 0.1648 - accuracy: 0.9489 - val_loss: 0.1606 - val_accuracy: 0.9477\n",
            "Epoch 7/7\n",
            "1560/1560 [==============================] - 763s 489ms/step - loss: 0.1655 - accuracy: 0.9485 - val_loss: 0.1566 - val_accuracy: 0.9500\n"
          ]
        }
      ]
    },
    {
      "cell_type": "code",
      "metadata": {
        "id": "9u1TLGkUT_y6",
        "colab": {
          "base_uri": "https://localhost:8080/"
        },
        "outputId": "1626dee6-f6dd-4771-c5be-dbd8d54df8b5"
      },
      "source": [
        "model.evaluate_generator(test_image_gen)"
      ],
      "execution_count": null,
      "outputs": [
        {
          "output_type": "stream",
          "name": "stderr",
          "text": [
            "/usr/local/lib/python3.7/dist-packages/keras/engine/training.py:2006: UserWarning: `Model.evaluate_generator` is deprecated and will be removed in a future version. Please use `Model.evaluate`, which supports generators.\n",
            "  warnings.warn('`Model.evaluate_generator` is deprecated and '\n"
          ]
        },
        {
          "output_type": "execute_result",
          "data": {
            "text/plain": [
              "[0.15816612541675568, 0.9480769038200378]"
            ]
          },
          "metadata": {},
          "execution_count": 44
        }
      ]
    },
    {
      "cell_type": "code",
      "metadata": {
        "id": "ONQh8NHFsdht"
      },
      "source": [
        "model.save(\"malaria_detection_model.h5\")"
      ],
      "execution_count": null,
      "outputs": []
    },
    {
      "cell_type": "code",
      "metadata": {
        "id": "1Za2Yf7lszO2"
      },
      "source": [
        "from tensorflow.keras.models import load_model\n",
        "downloaded_model = load_model(\"/malaria_detection_model.h5\")"
      ],
      "execution_count": 2,
      "outputs": []
    },
    {
      "cell_type": "code",
      "metadata": {
        "id": "4e5R6EEKtDn3",
        "colab": {
          "base_uri": "https://localhost:8080/"
        },
        "outputId": "90ac607b-a596-4599-8922-c23b8a48d7cf"
      },
      "source": [
        "downloaded_model.evaluate_generator(test_image_gen)"
      ],
      "execution_count": 38,
      "outputs": [
        {
          "output_type": "stream",
          "name": "stderr",
          "text": [
            "/usr/local/lib/python3.7/dist-packages/keras/engine/training.py:2006: UserWarning: `Model.evaluate_generator` is deprecated and will be removed in a future version. Please use `Model.evaluate`, which supports generators.\n",
            "  warnings.warn('`Model.evaluate_generator` is deprecated and '\n"
          ]
        },
        {
          "output_type": "execute_result",
          "data": {
            "text/plain": [
              "[0.15724925696849823, 0.9496153593063354]"
            ]
          },
          "metadata": {},
          "execution_count": 38
        }
      ]
    },
    {
      "cell_type": "markdown",
      "metadata": {
        "id": "Gv0Dq6_wt3mI"
      },
      "source": [
        "### Evaluating the model"
      ]
    },
    {
      "cell_type": "code",
      "metadata": {
        "colab": {
          "base_uri": "https://localhost:8080/"
        },
        "id": "fOQ4daRm79GA",
        "outputId": "bea0b5ff-1e1f-4cec-d011-6161f288087d"
      },
      "source": [
        "pred = downloaded_model.predict_generator(test_image_gen)"
      ],
      "execution_count": 40,
      "outputs": [
        {
          "output_type": "stream",
          "name": "stderr",
          "text": [
            "/usr/local/lib/python3.7/dist-packages/keras/engine/training.py:2035: UserWarning: `Model.predict_generator` is deprecated and will be removed in a future version. Please use `Model.predict`, which supports generators.\n",
            "  warnings.warn('`Model.predict_generator` is deprecated and '\n"
          ]
        }
      ]
    },
    {
      "cell_type": "code",
      "metadata": {
        "colab": {
          "base_uri": "https://localhost:8080/"
        },
        "id": "2sAUOarF8Dpb",
        "outputId": "b6afe263-02d5-4d02-c09c-26d16b8469b6"
      },
      "source": [
        "pred"
      ],
      "execution_count": 41,
      "outputs": [
        {
          "output_type": "execute_result",
          "data": {
            "text/plain": [
              "array([[2.0363927e-04],\n",
              "       [8.2534032e-05],\n",
              "       [2.1839142e-04],\n",
              "       ...,\n",
              "       [9.3948424e-01],\n",
              "       [9.5288992e-01],\n",
              "       [9.2025292e-01]], dtype=float32)"
            ]
          },
          "metadata": {},
          "execution_count": 41
        }
      ]
    },
    {
      "cell_type": "code",
      "metadata": {
        "colab": {
          "base_uri": "https://localhost:8080/"
        },
        "id": "CbQDVyTu8QiF",
        "outputId": "75fd8bbe-ad2b-4014-b28d-a9435513f40f"
      },
      "source": [
        "predictions = pred > 0.5\n",
        "len(predictions)"
      ],
      "execution_count": 43,
      "outputs": [
        {
          "output_type": "execute_result",
          "data": {
            "text/plain": [
              "2600"
            ]
          },
          "metadata": {},
          "execution_count": 43
        }
      ]
    },
    {
      "cell_type": "code",
      "metadata": {
        "id": "I5i4-Rl_8Zp9"
      },
      "source": [
        "from sklearn.metrics import classification_report, confusion_matrix"
      ],
      "execution_count": 44,
      "outputs": []
    },
    {
      "cell_type": "code",
      "metadata": {
        "colab": {
          "base_uri": "https://localhost:8080/"
        },
        "id": "HGjMBx6F8maN",
        "outputId": "fed62720-038b-42fe-e9ba-e1e5594828fd"
      },
      "source": [
        "test_image_gen.classes"
      ],
      "execution_count": 45,
      "outputs": [
        {
          "output_type": "execute_result",
          "data": {
            "text/plain": [
              "array([0, 0, 0, ..., 1, 1, 1], dtype=int32)"
            ]
          },
          "metadata": {},
          "execution_count": 45
        }
      ]
    },
    {
      "cell_type": "code",
      "metadata": {
        "colab": {
          "base_uri": "https://localhost:8080/"
        },
        "id": "0h1BQ1OG8ppW",
        "outputId": "e6974b42-b9b4-4b7b-822d-49be94745ec4"
      },
      "source": [
        "print(classification_report(test_image_gen.classes, predictions))"
      ],
      "execution_count": 47,
      "outputs": [
        {
          "output_type": "stream",
          "name": "stdout",
          "text": [
            "              precision    recall  f1-score   support\n",
            "\n",
            "           0       0.96      0.93      0.94      1300\n",
            "           1       0.93      0.96      0.95      1300\n",
            "\n",
            "    accuracy                           0.94      2600\n",
            "   macro avg       0.94      0.94      0.94      2600\n",
            "weighted avg       0.94      0.94      0.94      2600\n",
            "\n"
          ]
        }
      ]
    },
    {
      "cell_type": "code",
      "metadata": {
        "colab": {
          "base_uri": "https://localhost:8080/"
        },
        "id": "dDiWsfyW8xLl",
        "outputId": "506e13ff-4316-42e9-a64d-b299fd35310f"
      },
      "source": [
        "print(confusion_matrix(test_image_gen.classes, predictions))"
      ],
      "execution_count": 48,
      "outputs": [
        {
          "output_type": "stream",
          "name": "stdout",
          "text": [
            "[[1203   97]\n",
            " [  48 1252]]\n"
          ]
        }
      ]
    },
    {
      "cell_type": "code",
      "metadata": {
        "id": "IKQePeaj9ae0"
      },
      "source": [
        "from tensorflow.keras.preprocessing import image"
      ],
      "execution_count": 49,
      "outputs": []
    },
    {
      "cell_type": "code",
      "metadata": {
        "colab": {
          "base_uri": "https://localhost:8080/",
          "height": 147
        },
        "id": "8GWSNFh49mOl",
        "outputId": "315ca0b6-a2be-4efa-8b4b-a3a41c4c4919"
      },
      "source": [
        "my_image = image.load_img(para_cell, target_size=(130,130,3))\n",
        "my_image"
      ],
      "execution_count": 51,
      "outputs": [
        {
          "output_type": "execute_result",
          "data": {
            "image/png": "[encoded data removed]",
            "text/plain": [
              "<PIL.Image.Image image mode=RGB size=130x130 at 0x7F635DEE0490>"
            ]
          },
          "metadata": {},
          "execution_count": 51
        }
      ]
    },
    {
      "cell_type": "code",
      "metadata": {
        "id": "Nd6RkYfg9q2f"
      },
      "source": [
        "my_image_array = image.img_to_array(my_image)"
      ],
      "execution_count": 52,
      "outputs": []
    },
    {
      "cell_type": "code",
      "metadata": {
        "colab": {
          "base_uri": "https://localhost:8080/"
        },
        "id": "DZgI2jre-M4A",
        "outputId": "35083596-275e-4351-ba23-8210de7218b4"
      },
      "source": [
        "my_image_array.shape"
      ],
      "execution_count": 53,
      "outputs": [
        {
          "output_type": "execute_result",
          "data": {
            "text/plain": [
              "(130, 130, 3)"
            ]
          },
          "metadata": {},
          "execution_count": 53
        }
      ]
    },
    {
      "cell_type": "code",
      "metadata": {
        "id": "Im3j_PhF-TP8"
      },
      "source": [
        "my_image_array = np.expand_dims(my_image_array, axis=0) #add 1 (1,130,130,3)"
      ],
      "execution_count": 55,
      "outputs": []
    },
    {
      "cell_type": "code",
      "metadata": {
        "colab": {
          "base_uri": "https://localhost:8080/"
        },
        "id": "c3m-SVtx-euq",
        "outputId": "182037a4-e27c-478f-e3a2-41ab09f8504e"
      },
      "source": [
        "my_image_array.shape"
      ],
      "execution_count": 56,
      "outputs": [
        {
          "output_type": "execute_result",
          "data": {
            "text/plain": [
              "(1, 130, 130, 3)"
            ]
          },
          "metadata": {},
          "execution_count": 56
        }
      ]
    },
    {
      "cell_type": "code",
      "metadata": {
        "colab": {
          "base_uri": "https://localhost:8080/"
        },
        "id": "_GzSjwBi-mBs",
        "outputId": "c8f086b1-8bef-491e-9a96-7f925f77fd57"
      },
      "source": [
        "downloaded_model.predict(my_image_array)"
      ],
      "execution_count": 57,
      "outputs": [
        {
          "output_type": "execute_result",
          "data": {
            "text/plain": [
              "array([[0.00810227]], dtype=float32)"
            ]
          },
          "metadata": {},
          "execution_count": 57
        }
      ]
    },
    {
      "cell_type": "code",
      "metadata": {
        "id": "v2l9uUIZ-r56"
      },
      "source": [
        ""
      ],
      "execution_count": null,
      "outputs": []
    }
  ]
}