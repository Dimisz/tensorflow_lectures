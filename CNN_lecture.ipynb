{
  "nbformat": 4,
  "nbformat_minor": 0,
  "metadata": {
    "colab": {
      "name": "CNN_lecture.ipynb",
      "provenance": [],
      "authorship_tag": "ABX9TyMuK3XqQEuQ79p//y9rXBoL",
      "include_colab_link": true
    },
    "kernelspec": {
      "name": "python3",
      "display_name": "Python 3"
    },
    "language_info": {
      "name": "python"
    }
  },
  "cells": [
    {
      "cell_type": "markdown",
      "metadata": {
        "id": "view-in-github",
        "colab_type": "text"
      },
      "source": [
        "<a href=\"https://colab.research.google.com/github/Dimisz/tensorflow_lectures/blob/main/CNN_lecture.ipynb\" target=\"_parent\"><img src=\"https://colab.research.google.com/assets/colab-badge.svg\" alt=\"Open In Colab\"/></a>"
      ]
    },
    {
      "cell_type": "markdown",
      "metadata": {
        "id": "FgOfMpC__-Zz"
      },
      "source": [
        "# Convolutional Neural Networks"
      ]
    },
    {
      "cell_type": "markdown",
      "metadata": {
        "id": "xbzw4Sl-Ro9C"
      },
      "source": [
        "# Theoretical Background"
      ]
    },
    {
      "cell_type": "markdown",
      "metadata": {
        "id": "3ECKvdmsC7Fq"
      },
      "source": [
        "## Filters and Image Kernels"
      ]
    },
    {
      "cell_type": "markdown",
      "metadata": {
        "id": "WXRlfAby_a5d"
      },
      "source": [
        "Filters are essentially an **image kernel**, which is a small matrix applied to an entire image."
      ]
    },
    {
      "cell_type": "markdown",
      "metadata": {
        "id": "MBvTUtN7AZJY"
      },
      "source": [
        "**Applying filter** is:\n",
        "* 'sliding' the kernel matrix across the entire image with a particular `stride`.\n",
        "* multipying the image pixels by filter-weights\n",
        "* <a href=\"https://setosa.io/ev/image-kernels/\" target=\"_blank\">Example of filters in action</a>\n",
        "\n",
        "The process of applying a filter is sometimes called a **Convolution**. \n",
        "\n",
        "The point of CNN is that the network will figure out the weights and decide what **weights matter for image-classification**.\n"
      ]
    },
    {
      "cell_type": "markdown",
      "metadata": {
        "id": "-clKvuLZCoFE"
      },
      "source": [
        "In the context of CNNs these filters are referred to as **convolution kernels**.\n",
        "\n",
        "The process of passing them over an image is known as **convolution**."
      ]
    },
    {
      "cell_type": "markdown",
      "metadata": {
        "id": "DxH3VpC3BGct"
      },
      "source": [
        "## Convolutional Layers"
      ]
    },
    {
      "cell_type": "markdown",
      "metadata": {
        "id": "IeSRTV7WDR-8"
      },
      "source": [
        "**Why ANNs are not a good choice for working with images?**:\n",
        "* Large amount of parameters (100 000 for 28X28 images).\n",
        "* We have to flatten our images thus losing all the 2D information.\n",
        "* Will only work on very similar, well-centered images.\n",
        "\n",
        "(MNIST dataset is 28x28 and well-centered, so the ANN built on the dataset will not generalize well)\n"
      ]
    },
    {
      "cell_type": "markdown",
      "metadata": {
        "id": "-1p0CJVbF3rA"
      },
      "source": [
        "A convolutional layer is created when we apply *multiple image filters* to the input images.\n",
        "\n",
        "The layer will then be trained to figure out **the best filter weight values**.\n",
        "\n",
        "A CNN also helps to reduce parameters by focusing on **local connectivity**, i.e. not all neurons are fully connected, **neurons are only connected to a subset of local neurons in the next layer** (these end up becoming the filters).\n",
        "\n"
      ]
    },
    {
      "cell_type": "markdown",
      "metadata": {
        "id": "oqZjjncdEtCD"
      },
      "source": [
        "**3D images** can be thought of as 3D Tensors consisting of RGB channels + height + width, e.g (1200, 700, 3)."
      ]
    },
    {
      "cell_type": "markdown",
      "metadata": {
        "id": "ybyvut_-KGuA"
      },
      "source": [
        "## Pooling Layers"
      ]
    },
    {
      "cell_type": "markdown",
      "metadata": {
        "id": "NPhuWtisKLBg"
      },
      "source": [
        "When dealing with Convolutional layers we have a large amount of parameters.\n",
        "\n",
        "We can use pooling layers to reduce the number of parameters.\n",
        "\n",
        "**Pooling Layer** accepts convolutional layers as input.\n",
        "\n",
        "For a pooling layer we have to decide on: \n",
        "* Window-size, e.g. 2x2\n",
        "* Stride, e.g. 2\n",
        "\n",
        "Types of pooling layers:\n",
        "* **Max**: takes the highest value (e.g. if the window-size is 2x2 it will go from left to right from top to bottom picking 4 values at a time and picking up the highest value out of these 4).\n",
        "* **Average** - pulls the average value out of the 4\n",
        "\n",
        "*A 2x2 pooling kernel with a stride of 2 removes 75% of the input data*."
      ]
    },
    {
      "cell_type": "markdown",
      "metadata": {
        "id": "xFAfcPefQD7r"
      },
      "source": [
        "## Dropout"
      ]
    },
    {
      "cell_type": "markdown",
      "metadata": {
        "id": "nLE-5dS2QGu7"
      },
      "source": [
        "**Dropout** is a form of regularization to help prevent overfitting.\n",
        "\n",
        "During training, units are randomly dropped, along with their connections."
      ]
    },
    {
      "cell_type": "markdown",
      "metadata": {
        "id": "z0Y-IcpvQhf8"
      },
      "source": [
        "## Famous CNN architectures"
      ]
    },
    {
      "cell_type": "markdown",
      "metadata": {
        "id": "MG_WW0ItQl0S"
      },
      "source": [
        "* **LeNet-5** by Yann LeCun\n",
        "* **AlexNet** by Alex Krizhevsky et al.\n",
        "* **GoogleLeNet** by Szegedy\n",
        "* **ResNet** by Kaiming He et al.\n"
      ]
    },
    {
      "cell_type": "markdown",
      "metadata": {
        "id": "41OvYE_lQ8r2"
      },
      "source": [
        "# Hands-On Practive"
      ]
    },
    {
      "cell_type": "markdown",
      "metadata": {
        "id": "QUk_LeqmR0Rd"
      },
      "source": [
        "## MNIST Dataset"
      ]
    }
  ]
}