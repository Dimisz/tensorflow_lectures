{
  "nbformat": 4,
  "nbformat_minor": 0,
  "metadata": {
    "colab": {
      "name": "CNN_lecture.ipynb",
      "provenance": [],
      "authorship_tag": "ABX9TyPh1XuESrCsuJ6gqw9ugUoo",
      "include_colab_link": true
    },
    "kernelspec": {
      "name": "python3",
      "display_name": "Python 3"
    },
    "language_info": {
      "name": "python"
    }
  },
  "cells": [
    {
      "cell_type": "markdown",
      "metadata": {
        "id": "view-in-github",
        "colab_type": "text"
      },
      "source": [
        "<a href=\"https://colab.research.google.com/github/Dimisz/tensorflow_lectures/blob/main/CNN_lecture.ipynb\" target=\"_parent\"><img src=\"https://colab.research.google.com/assets/colab-badge.svg\" alt=\"Open In Colab\"/></a>"
      ]
    },
    {
      "cell_type": "markdown",
      "metadata": {
        "id": "FgOfMpC__-Zz"
      },
      "source": [
        "# Convolutional Neural Networks"
      ]
    },
    {
      "cell_type": "markdown",
      "metadata": {
        "id": "xbzw4Sl-Ro9C"
      },
      "source": [
        "# Theoretical Background"
      ]
    },
    {
      "cell_type": "markdown",
      "metadata": {
        "id": "3ECKvdmsC7Fq"
      },
      "source": [
        "## Filters and Image Kernels"
      ]
    },
    {
      "cell_type": "markdown",
      "metadata": {
        "id": "WXRlfAby_a5d"
      },
      "source": [
        "Filters are essentially an **image kernel**, which is a small matrix applied to an entire image."
      ]
    },
    {
      "cell_type": "markdown",
      "metadata": {
        "id": "MBvTUtN7AZJY"
      },
      "source": [
        "**Applying filter** is:\n",
        "* 'sliding' the kernel matrix across the entire image with a particular `stride`.\n",
        "* multipying the image pixels by filter-weights\n",
        "* <a href=\"https://setosa.io/ev/image-kernels/\" target=\"_blank\">Example of filters in action</a>\n",
        "\n",
        "The process of applying a filter is sometimes called a **Convolution**. \n",
        "\n",
        "The point of CNN is that the network will figure out the weights and decide what **weights matter for image-classification**.\n"
      ]
    },
    {
      "cell_type": "markdown",
      "metadata": {
        "id": "-clKvuLZCoFE"
      },
      "source": [
        "In the context of CNNs these filters are referred to as **convolution kernels**.\n",
        "\n",
        "The process of passing them over an image is known as **convolution**."
      ]
    },
    {
      "cell_type": "markdown",
      "metadata": {
        "id": "DxH3VpC3BGct"
      },
      "source": [
        "## Convolutional Layers"
      ]
    },
    {
      "cell_type": "markdown",
      "metadata": {
        "id": "IeSRTV7WDR-8"
      },
      "source": [
        "**Why ANNs are not a good choice for working with images?**:\n",
        "* Large amount of parameters (100 000 for 28X28 images).\n",
        "* We have to flatten our images thus losing all the 2D information.\n",
        "* Will only work on very similar, well-centered images.\n",
        "\n",
        "(MNIST dataset is 28x28 and well-centered, so the ANN built on the dataset will not generalize well)\n"
      ]
    },
    {
      "cell_type": "markdown",
      "metadata": {
        "id": "-1p0CJVbF3rA"
      },
      "source": [
        "A convolutional layer is created when we apply *multiple image filters* to the input images.\n",
        "\n",
        "The layer will then be trained to figure out **the best filter weight values**.\n",
        "\n",
        "A CNN also helps to reduce parameters by focusing on **local connectivity**, i.e. not all neurons are fully connected, **neurons are only connected to a subset of local neurons in the next layer** (these end up becoming the filters).\n",
        "\n"
      ]
    },
    {
      "cell_type": "markdown",
      "metadata": {
        "id": "oqZjjncdEtCD"
      },
      "source": [
        "**3D images** can be thought of as 3D Tensors consisting of RGB channels + height + width, e.g (1200, 700, 3)."
      ]
    },
    {
      "cell_type": "markdown",
      "metadata": {
        "id": "ybyvut_-KGuA"
      },
      "source": [
        "## Pooling Layers"
      ]
    },
    {
      "cell_type": "markdown",
      "metadata": {
        "id": "NPhuWtisKLBg"
      },
      "source": [
        "When dealing with Convolutional layers we have a large amount of parameters.\n",
        "\n",
        "We can use pooling layers to reduce the number of parameters.\n",
        "\n",
        "**Pooling Layer** accepts convolutional layers as input.\n",
        "\n",
        "For a pooling layer we have to decide on: \n",
        "* Window-size, e.g. 2x2\n",
        "* Stride, e.g. 2\n",
        "\n",
        "Types of pooling layers:\n",
        "* **Max**: takes the highest value (e.g. if the window-size is 2x2 it will go from left to right from top to bottom picking 4 values at a time and picking up the highest value out of these 4).\n",
        "* **Average** - pulls the average value out of the 4\n",
        "\n",
        "*A 2x2 pooling kernel with a stride of 2 removes 75% of the input data*."
      ]
    },
    {
      "cell_type": "markdown",
      "metadata": {
        "id": "xFAfcPefQD7r"
      },
      "source": [
        "## Dropout"
      ]
    },
    {
      "cell_type": "markdown",
      "metadata": {
        "id": "nLE-5dS2QGu7"
      },
      "source": [
        "**Dropout** is a form of regularization to help prevent overfitting.\n",
        "\n",
        "During training, units are randomly dropped, along with their connections."
      ]
    },
    {
      "cell_type": "markdown",
      "metadata": {
        "id": "z0Y-IcpvQhf8"
      },
      "source": [
        "## Famous CNN architectures"
      ]
    },
    {
      "cell_type": "markdown",
      "metadata": {
        "id": "MG_WW0ItQl0S"
      },
      "source": [
        "* **LeNet-5** by Yann LeCun\n",
        "* **AlexNet** by Alex Krizhevsky et al.\n",
        "* **GoogleLeNet** by Szegedy\n",
        "* **ResNet** by Kaiming He et al.\n"
      ]
    },
    {
      "cell_type": "markdown",
      "metadata": {
        "id": "41OvYE_lQ8r2"
      },
      "source": [
        "# Hands-On Practive"
      ]
    },
    {
      "cell_type": "markdown",
      "metadata": {
        "id": "QUk_LeqmR0Rd"
      },
      "source": [
        "## MNIST Dataset"
      ]
    },
    {
      "cell_type": "markdown",
      "metadata": {
        "id": "EMQleNThjyjZ"
      },
      "source": [
        "### Reading in and Preparing the Data"
      ]
    },
    {
      "cell_type": "code",
      "metadata": {
        "id": "Z6_Evo00j2Q2"
      },
      "source": [
        "# initial imports\n",
        "import pandas as pd\n",
        "import numpy as np\n",
        "\n",
        "import matplotlib.pyplot as plt\n",
        "%matplotlib inline"
      ],
      "execution_count": 1,
      "outputs": []
    },
    {
      "cell_type": "code",
      "metadata": {
        "id": "fwUBWKuWkAhX"
      },
      "source": [
        "# Downlloading the MNIST dataset from Keras\n",
        "from tensorflow.keras.datasets import mnist"
      ],
      "execution_count": 2,
      "outputs": []
    },
    {
      "cell_type": "code",
      "metadata": {
        "colab": {
          "base_uri": "https://localhost:8080/"
        },
        "id": "XinFg2OHkNiZ",
        "outputId": "7ce7840b-1172-4a73-fc2a-d6e5abef25ce"
      },
      "source": [
        "(X_train, Y_train), (X_test, Y_test) = mnist.load_data()"
      ],
      "execution_count": 3,
      "outputs": [
        {
          "output_type": "stream",
          "name": "stdout",
          "text": [
            "Downloading data from https://storage.googleapis.com/tensorflow/tf-keras-datasets/mnist.npz\n",
            "11493376/11490434 [==============================] - 0s 0us/step\n",
            "11501568/11490434 [==============================] - 0s 0us/step\n"
          ]
        }
      ]
    },
    {
      "cell_type": "code",
      "metadata": {
        "colab": {
          "base_uri": "https://localhost:8080/"
        },
        "id": "01lgiG7fkbYx",
        "outputId": "b5d77fe9-2315-41b5-8968-0a4f1a9ae7fd"
      },
      "source": [
        "X_train.shape"
      ],
      "execution_count": 4,
      "outputs": [
        {
          "output_type": "execute_result",
          "data": {
            "text/plain": [
              "(60000, 28, 28)"
            ]
          },
          "metadata": {},
          "execution_count": 4
        }
      ]
    },
    {
      "cell_type": "code",
      "metadata": {
        "id": "rzL6vTL0kecc"
      },
      "source": [
        "single_image = X_train[0]"
      ],
      "execution_count": 5,
      "outputs": []
    },
    {
      "cell_type": "code",
      "metadata": {
        "colab": {
          "base_uri": "https://localhost:8080/",
          "height": 282
        },
        "id": "2gfO0vfXkkMR",
        "outputId": "1454233f-7590-418e-bc86-70fff5f8f70a"
      },
      "source": [
        "plt.imshow(single_image)"
      ],
      "execution_count": 7,
      "outputs": [
        {
          "output_type": "execute_result",
          "data": {
            "text/plain": [
              "<matplotlib.image.AxesImage at 0x7f5ff42c0490>"
            ]
          },
          "metadata": {},
          "execution_count": 7
        },
        {
          "output_type": "display_data",
          "data": {
            "image/png": "[encoded data removed]",
            "text/plain": [
              "<Figure size 432x288 with 1 Axes>"
            ]
          },
          "metadata": {
            "needs_background": "light"
          }
        }
      ]
    },
    {
      "cell_type": "code",
      "metadata": {
        "colab": {
          "base_uri": "https://localhost:8080/"
        },
        "id": "AMYkuw80klyp",
        "outputId": "7bbcd156-fa3b-46b0-8d9a-5b6fa01d2813"
      },
      "source": [
        "Y_train"
      ],
      "execution_count": 10,
      "outputs": [
        {
          "output_type": "execute_result",
          "data": {
            "text/plain": [
              "array([5, 0, 4, ..., 5, 6, 8], dtype=uint8)"
            ]
          },
          "metadata": {},
          "execution_count": 10
        }
      ]
    },
    {
      "cell_type": "markdown",
      "metadata": {
        "id": "MTu8qMSHmvSN"
      },
      "source": [
        "#### Convert the labels to categories"
      ]
    },
    {
      "cell_type": "markdown",
      "metadata": {
        "id": "6EAxAL25lIYM"
      },
      "source": [
        "We need to convert the labels to categorical (since they are categories expressed in numeric way, the model may mistakenly see it as just a continuous numeric value, not category)"
      ]
    },
    {
      "cell_type": "code",
      "metadata": {
        "id": "XQa_-J94lsyV"
      },
      "source": [
        "from tensorflow.keras.utils import to_categorical"
      ],
      "execution_count": 11,
      "outputs": []
    },
    {
      "cell_type": "code",
      "metadata": {
        "colab": {
          "base_uri": "https://localhost:8080/"
        },
        "id": "9TOSWTRclzbv",
        "outputId": "38221b18-4224-4d3b-bb31-31ba21bfcf55"
      },
      "source": [
        "Y_train.shape"
      ],
      "execution_count": 12,
      "outputs": [
        {
          "output_type": "execute_result",
          "data": {
            "text/plain": [
              "(60000,)"
            ]
          },
          "metadata": {},
          "execution_count": 12
        }
      ]
    },
    {
      "cell_type": "code",
      "metadata": {
        "id": "m3tcp_c0l3jS"
      },
      "source": [
        "y_example = to_categorical(Y_train)"
      ],
      "execution_count": 15,
      "outputs": []
    },
    {
      "cell_type": "code",
      "metadata": {
        "colab": {
          "base_uri": "https://localhost:8080/"
        },
        "id": "Y8kzJt0Zl_fw",
        "outputId": "f83e1e19-6857-4a96-c52a-751fe7acfe2a"
      },
      "source": [
        "y_example.shape"
      ],
      "execution_count": 16,
      "outputs": [
        {
          "output_type": "execute_result",
          "data": {
            "text/plain": [
              "(60000, 10)"
            ]
          },
          "metadata": {},
          "execution_count": 16
        }
      ]
    },
    {
      "cell_type": "code",
      "metadata": {
        "colab": {
          "base_uri": "https://localhost:8080/"
        },
        "id": "xG3wJdy5mA7f",
        "outputId": "355d7e93-4a23-4ffb-cb1e-65c43f4d9a7b"
      },
      "source": [
        "y_example[0]"
      ],
      "execution_count": 17,
      "outputs": [
        {
          "output_type": "execute_result",
          "data": {
            "text/plain": [
              "array([0., 0., 0., 0., 0., 1., 0., 0., 0., 0.], dtype=float32)"
            ]
          },
          "metadata": {},
          "execution_count": 17
        }
      ]
    },
    {
      "cell_type": "code",
      "metadata": {
        "id": "eV4YGSqTmP4-"
      },
      "source": [
        "y_cat_test = to_categorical(Y_test)\n",
        "y_cat_train = to_categorical(Y_train)"
      ],
      "execution_count": 18,
      "outputs": []
    },
    {
      "cell_type": "code",
      "metadata": {
        "colab": {
          "base_uri": "https://localhost:8080/"
        },
        "id": "SUKUsW4img10",
        "outputId": "c2c9ded8-2735-47ee-b862-9d397b43d065"
      },
      "source": [
        "y_cat_train.shape, y_cat_test.shape"
      ],
      "execution_count": 19,
      "outputs": [
        {
          "output_type": "execute_result",
          "data": {
            "text/plain": [
              "((60000, 10), (10000, 10))"
            ]
          },
          "metadata": {},
          "execution_count": 19
        }
      ]
    },
    {
      "cell_type": "markdown",
      "metadata": {
        "id": "Tkukt5BNmlrv"
      },
      "source": [
        "#### Normalize the training data"
      ]
    },
    {
      "cell_type": "code",
      "metadata": {
        "colab": {
          "base_uri": "https://localhost:8080/"
        },
        "id": "QMPUhADMn9iF",
        "outputId": "9379fbea-e450-4da4-f0eb-9bac15f0f938"
      },
      "source": [
        "single_image.min(), single_image.max()"
      ],
      "execution_count": 20,
      "outputs": [
        {
          "output_type": "execute_result",
          "data": {
            "text/plain": [
              "(0, 255)"
            ]
          },
          "metadata": {},
          "execution_count": 20
        }
      ]
    },
    {
      "cell_type": "markdown",
      "metadata": {
        "id": "-JBhgeenoEKh"
      },
      "source": [
        "We need to normalize the values (make the values between 0 and 1)"
      ]
    },
    {
      "cell_type": "code",
      "metadata": {
        "id": "2dHPLwABoMUZ"
      },
      "source": [
        "X_train = X_train/255"
      ],
      "execution_count": 21,
      "outputs": []
    },
    {
      "cell_type": "code",
      "metadata": {
        "id": "jA-GS7ygobRV"
      },
      "source": [
        "X_test = X_test/255"
      ],
      "execution_count": 22,
      "outputs": []
    },
    {
      "cell_type": "code",
      "metadata": {
        "colab": {
          "base_uri": "https://localhost:8080/"
        },
        "id": "oGe4LQiiodRS",
        "outputId": "f2b11115-f689-45cd-e556-337ad81d845c"
      },
      "source": [
        "scaled_image = X_train[0]\n",
        "scaled_image.min(), scaled_image.max()"
      ],
      "execution_count": 23,
      "outputs": [
        {
          "output_type": "execute_result",
          "data": {
            "text/plain": [
              "(0.0, 1.0)"
            ]
          },
          "metadata": {},
          "execution_count": 23
        }
      ]
    },
    {
      "cell_type": "markdown",
      "metadata": {
        "id": "pvR2_Vr6ookh"
      },
      "source": [
        "#### Reshape the data\n",
        "\n",
        "We need to add one more dimention to let the CNN know we are dealing with one channel"
      ]
    },
    {
      "cell_type": "code",
      "metadata": {
        "colab": {
          "base_uri": "https://localhost:8080/"
        },
        "id": "MMgbLRmYo18E",
        "outputId": "1f11adf5-3db4-4d13-fb78-fb643caf9aa8"
      },
      "source": [
        "X_train.shape"
      ],
      "execution_count": 24,
      "outputs": [
        {
          "output_type": "execute_result",
          "data": {
            "text/plain": [
              "(60000, 28, 28)"
            ]
          },
          "metadata": {},
          "execution_count": 24
        }
      ]
    },
    {
      "cell_type": "code",
      "metadata": {
        "id": "IEPT30Oro5mD"
      },
      "source": [
        "#batch_size, width, height, color_channels\n",
        "X_train = X_train.reshape(60000, 28, 28, 1)"
      ],
      "execution_count": 26,
      "outputs": []
    },
    {
      "cell_type": "code",
      "metadata": {
        "colab": {
          "base_uri": "https://localhost:8080/"
        },
        "id": "in8S7zDqo_Ea",
        "outputId": "f627ac5d-c066-4e15-cbab-e4742792c91f"
      },
      "source": [
        "X_train.shape"
      ],
      "execution_count": 27,
      "outputs": [
        {
          "output_type": "execute_result",
          "data": {
            "text/plain": [
              "(60000, 28, 28, 1)"
            ]
          },
          "metadata": {},
          "execution_count": 27
        }
      ]
    },
    {
      "cell_type": "code",
      "metadata": {
        "colab": {
          "base_uri": "https://localhost:8080/"
        },
        "id": "Ij4-HXhbpFzI",
        "outputId": "e6d49bb1-839c-4900-a96d-62cdb32cc671"
      },
      "source": [
        "X_test.shape"
      ],
      "execution_count": 28,
      "outputs": [
        {
          "output_type": "execute_result",
          "data": {
            "text/plain": [
              "(10000, 28, 28)"
            ]
          },
          "metadata": {},
          "execution_count": 28
        }
      ]
    },
    {
      "cell_type": "code",
      "metadata": {
        "id": "nh0lwS_3pKaQ"
      },
      "source": [
        "X_test = X_test.reshape(10000, 28, 28, 1)"
      ],
      "execution_count": 30,
      "outputs": []
    },
    {
      "cell_type": "code",
      "metadata": {
        "colab": {
          "base_uri": "https://localhost:8080/"
        },
        "id": "D90YL7U9pOh8",
        "outputId": "c8138f48-147b-4d7c-86b8-59335353aba7"
      },
      "source": [
        "X_test.shape"
      ],
      "execution_count": 31,
      "outputs": [
        {
          "output_type": "execute_result",
          "data": {
            "text/plain": [
              "(10000, 28, 28, 1)"
            ]
          },
          "metadata": {},
          "execution_count": 31
        }
      ]
    },
    {
      "cell_type": "markdown",
      "metadata": {
        "id": "tka_OOrNpSHF"
      },
      "source": [
        "### Creating a Model"
      ]
    },
    {
      "cell_type": "code",
      "metadata": {
        "id": "0fyZQ0ATpY7p"
      },
      "source": [
        "from tensorflow.keras.models import Sequential"
      ],
      "execution_count": 32,
      "outputs": []
    },
    {
      "cell_type": "code",
      "metadata": {
        "id": "tvWPwiC6pcoI"
      },
      "source": [
        "from tensorflow.keras.layers import Dense, Conv2D, MaxPool2D, Flatten"
      ],
      "execution_count": 33,
      "outputs": []
    },
    {
      "cell_type": "code",
      "metadata": {
        "id": "7jmfE3LJpkBH"
      },
      "source": [
        "model = Sequential()\n",
        "\n",
        "model.add(Conv2D(filters=32, \n",
        "                 kernel_size=(4,4),\n",
        "                 input_shape=(28,28,1),\n",
        "                 activation=\"relu\"))\n",
        "\n",
        "model.add(MaxPool2D(pool_size=(2,2))) #half the kernel_size\n",
        "model.add(Flatten())\n",
        "#after flatten can add dense layers\n",
        "model.add(Dense(128, activation=\"relu\"))\n",
        "\n",
        "#output layer / 1 neuron per class\n",
        "model.add(Dense(10, activation=\"softmax\"))\n",
        "\n",
        "\n",
        "#compile the model\n",
        "model.compile(loss=\"categorical_crossentropy\",\n",
        "              optimizer=\"adam\",\n",
        "              metrics=['accuracy'])"
      ],
      "execution_count": 36,
      "outputs": []
    },
    {
      "cell_type": "markdown",
      "metadata": {
        "id": "vo_aJFsRpnsv"
      },
      "source": [
        "#### Set up an EarlyStopping callback"
      ]
    },
    {
      "cell_type": "code",
      "metadata": {
        "id": "07q2Zb3As2fX"
      },
      "source": [
        "from tensorflow.keras.callbacks import EarlyStopping"
      ],
      "execution_count": 38,
      "outputs": []
    },
    {
      "cell_type": "code",
      "metadata": {
        "id": "QSsaW2NQs8Q8"
      },
      "source": [
        "early_stop = EarlyStopping(monitor='val_loss', patience=1)"
      ],
      "execution_count": 39,
      "outputs": []
    },
    {
      "cell_type": "markdown",
      "metadata": {
        "id": "PI_56yqZwB_q"
      },
      "source": [
        "### Train the model"
      ]
    },
    {
      "cell_type": "code",
      "metadata": {
        "colab": {
          "base_uri": "https://localhost:8080/"
        },
        "id": "E5fqlvAlwGOM",
        "outputId": "830559fe-f251-419e-c5aa-5b25551fdfdd"
      },
      "source": [
        "model.fit(X_train, \n",
        "          y_cat_train,\n",
        "          epochs=10,\n",
        "          validation_data=(X_test, y_cat_test),\n",
        "          callbacks=[early_stop])"
      ],
      "execution_count": 40,
      "outputs": [
        {
          "output_type": "stream",
          "name": "stdout",
          "text": [
            "Epoch 1/10\n",
            "1875/1875 [==============================] - 25s 13ms/step - loss: 0.1411 - accuracy: 0.9577 - val_loss: 0.0637 - val_accuracy: 0.9801\n",
            "Epoch 2/10\n",
            "1875/1875 [==============================] - 24s 13ms/step - loss: 0.0475 - accuracy: 0.9852 - val_loss: 0.0464 - val_accuracy: 0.9835\n",
            "Epoch 3/10\n",
            "1875/1875 [==============================] - 23s 13ms/step - loss: 0.0301 - accuracy: 0.9903 - val_loss: 0.0449 - val_accuracy: 0.9851\n",
            "Epoch 4/10\n",
            "1875/1875 [==============================] - 24s 13ms/step - loss: 0.0204 - accuracy: 0.9934 - val_loss: 0.0381 - val_accuracy: 0.9874\n",
            "Epoch 5/10\n",
            "1875/1875 [==============================] - 24s 13ms/step - loss: 0.0140 - accuracy: 0.9952 - val_loss: 0.0382 - val_accuracy: 0.9881\n"
          ]
        },
        {
          "output_type": "execute_result",
          "data": {
            "text/plain": [
              "<keras.callbacks.History at 0x7f5fef988450>"
            ]
          },
          "metadata": {},
          "execution_count": 40
        }
      ]
    },
    {
      "cell_type": "markdown",
      "metadata": {
        "id": "mNXC8YbXweaP"
      },
      "source": [
        "### Evaluate the Model"
      ]
    },
    {
      "cell_type": "code",
      "metadata": {
        "id": "oKXRJOxsxiSS"
      },
      "source": [
        "metrics = pd.DataFrame(model.history.history)"
      ],
      "execution_count": 41,
      "outputs": []
    },
    {
      "cell_type": "code",
      "metadata": {
        "colab": {
          "base_uri": "https://localhost:8080/",
          "height": 204
        },
        "id": "GIR0Z02QxoHM",
        "outputId": "56797874-2187-4d6b-f144-3358b2a1d103"
      },
      "source": [
        "metrics"
      ],
      "execution_count": 42,
      "outputs": [
        {
          "output_type": "execute_result",
          "data": {
            "text/html": [
              "<div>\n",
              "<style scoped>\n",
              "    .dataframe tbody tr th:only-of-type {\n",
              "        vertical-align: middle;\n",
              "    }\n",
              "\n",
              "    .dataframe tbody tr th {\n",
              "        vertical-align: top;\n",
              "    }\n",
              "\n",
              "    .dataframe thead th {\n",
              "        text-align: right;\n",
              "    }\n",
              "</style>\n",
              "<table border=\"1\" class=\"dataframe\">\n",
              "  <thead>\n",
              "    <tr style=\"text-align: right;\">\n",
              "      <th></th>\n",
              "      <th>loss</th>\n",
              "      <th>accuracy</th>\n",
              "      <th>val_loss</th>\n",
              "      <th>val_accuracy</th>\n",
              "    </tr>\n",
              "  </thead>\n",
              "  <tbody>\n",
              "    <tr>\n",
              "      <th>0</th>\n",
              "      <td>0.141082</td>\n",
              "      <td>0.957683</td>\n",
              "      <td>0.063660</td>\n",
              "      <td>0.9801</td>\n",
              "    </tr>\n",
              "    <tr>\n",
              "      <th>1</th>\n",
              "      <td>0.047533</td>\n",
              "      <td>0.985233</td>\n",
              "      <td>0.046388</td>\n",
              "      <td>0.9835</td>\n",
              "    </tr>\n",
              "    <tr>\n",
              "      <th>2</th>\n",
              "      <td>0.030085</td>\n",
              "      <td>0.990300</td>\n",
              "      <td>0.044895</td>\n",
              "      <td>0.9851</td>\n",
              "    </tr>\n",
              "    <tr>\n",
              "      <th>3</th>\n",
              "      <td>0.020410</td>\n",
              "      <td>0.993450</td>\n",
              "      <td>0.038067</td>\n",
              "      <td>0.9874</td>\n",
              "    </tr>\n",
              "    <tr>\n",
              "      <th>4</th>\n",
              "      <td>0.013999</td>\n",
              "      <td>0.995233</td>\n",
              "      <td>0.038163</td>\n",
              "      <td>0.9881</td>\n",
              "    </tr>\n",
              "  </tbody>\n",
              "</table>\n",
              "</div>"
            ],
            "text/plain": [
              "       loss  accuracy  val_loss  val_accuracy\n",
              "0  0.141082  0.957683  0.063660        0.9801\n",
              "1  0.047533  0.985233  0.046388        0.9835\n",
              "2  0.030085  0.990300  0.044895        0.9851\n",
              "3  0.020410  0.993450  0.038067        0.9874\n",
              "4  0.013999  0.995233  0.038163        0.9881"
            ]
          },
          "metadata": {},
          "execution_count": 42
        }
      ]
    },
    {
      "cell_type": "code",
      "metadata": {
        "colab": {
          "base_uri": "https://localhost:8080/",
          "height": 282
        },
        "id": "WZYK2hQcxpAa",
        "outputId": "b59e8c64-fa02-453d-c262-b398908f4f65"
      },
      "source": [
        "metrics[['loss', 'val_loss']].plot()"
      ],
      "execution_count": 43,
      "outputs": [
        {
          "output_type": "execute_result",
          "data": {
            "text/plain": [
              "<matplotlib.axes._subplots.AxesSubplot at 0x7f5fef459dd0>"
            ]
          },
          "metadata": {},
          "execution_count": 43
        },
        {
          "output_type": "display_data",
          "data": {
            "image/png": "[encoded data removed]",
            "text/plain": [
              "<Figure size 432x288 with 1 Axes>"
            ]
          },
          "metadata": {
            "needs_background": "light"
          }
        }
      ]
    },
    {
      "cell_type": "code",
      "metadata": {
        "colab": {
          "base_uri": "https://localhost:8080/",
          "height": 282
        },
        "id": "QkJSfkWdxzLJ",
        "outputId": "358dd108-683b-4fdb-d54d-a2d5b9059bd2"
      },
      "source": [
        "metrics[['accuracy', 'val_accuracy']].plot()"
      ],
      "execution_count": 44,
      "outputs": [
        {
          "output_type": "execute_result",
          "data": {
            "text/plain": [
              "<matplotlib.axes._subplots.AxesSubplot at 0x7f5fef1b4310>"
            ]
          },
          "metadata": {},
          "execution_count": 44
        },
        {
          "output_type": "display_data",
          "data": {
            "image/png": "[encoded data removed]",
            "text/plain": [
              "<Figure size 432x288 with 1 Axes>"
            ]
          },
          "metadata": {
            "needs_background": "light"
          }
        }
      ]
    },
    {
      "cell_type": "code",
      "metadata": {
        "colab": {
          "base_uri": "https://localhost:8080/"
        },
        "id": "2Xo2_-_5x41E",
        "outputId": "49b7d275-a927-42c0-9275-3c5800d9aa56"
      },
      "source": [
        "model.metrics_names"
      ],
      "execution_count": 45,
      "outputs": [
        {
          "output_type": "execute_result",
          "data": {
            "text/plain": [
              "['loss', 'accuracy']"
            ]
          },
          "metadata": {},
          "execution_count": 45
        }
      ]
    },
    {
      "cell_type": "code",
      "metadata": {
        "colab": {
          "base_uri": "https://localhost:8080/"
        },
        "id": "OiBQYoQOx9GU",
        "outputId": "cb2746ed-85e9-4aa3-a175-88bf4e872bbf"
      },
      "source": [
        "model.evaluate(X_test, y_cat_test)"
      ],
      "execution_count": 47,
      "outputs": [
        {
          "output_type": "stream",
          "name": "stdout",
          "text": [
            "313/313 [==============================] - 1s 4ms/step - loss: 0.0382 - accuracy: 0.9881\n"
          ]
        },
        {
          "output_type": "execute_result",
          "data": {
            "text/plain": [
              "[0.03816259652376175, 0.988099992275238]"
            ]
          },
          "metadata": {},
          "execution_count": 47
        }
      ]
    },
    {
      "cell_type": "code",
      "metadata": {
        "id": "aFBJWtNFyFYv"
      },
      "source": [
        "from sklearn.metrics import classification_report, confusion_matrix"
      ],
      "execution_count": 48,
      "outputs": []
    },
    {
      "cell_type": "code",
      "metadata": {
        "id": "meCgLBNXydMV"
      },
      "source": [
        "predictions = np.argmax(model.predict(X_test), axis=1)"
      ],
      "execution_count": 51,
      "outputs": []
    },
    {
      "cell_type": "code",
      "metadata": {
        "colab": {
          "base_uri": "https://localhost:8080/"
        },
        "id": "0EeXJx1PygvG",
        "outputId": "55fdc08d-189c-4d0a-d0f5-74020a035835"
      },
      "source": [
        "print(classification_report(Y_test, predictions))"
      ],
      "execution_count": 52,
      "outputs": [
        {
          "output_type": "stream",
          "name": "stdout",
          "text": [
            "              precision    recall  f1-score   support\n",
            "\n",
            "           0       0.99      0.99      0.99       980\n",
            "           1       0.99      1.00      0.99      1135\n",
            "           2       0.98      0.99      0.98      1032\n",
            "           3       0.99      0.99      0.99      1010\n",
            "           4       0.98      0.99      0.99       982\n",
            "           5       0.99      0.99      0.99       892\n",
            "           6       0.99      0.98      0.99       958\n",
            "           7       0.99      0.99      0.99      1028\n",
            "           8       0.99      0.98      0.99       974\n",
            "           9       0.99      0.98      0.98      1009\n",
            "\n",
            "    accuracy                           0.99     10000\n",
            "   macro avg       0.99      0.99      0.99     10000\n",
            "weighted avg       0.99      0.99      0.99     10000\n",
            "\n"
          ]
        }
      ]
    },
    {
      "cell_type": "code",
      "metadata": {
        "colab": {
          "base_uri": "https://localhost:8080/"
        },
        "id": "zPFaN7YOzGTT",
        "outputId": "9be9ed7d-6a7f-433f-deb2-2d14175d699f"
      },
      "source": [
        "confusion_matrix(Y_test, predictions)"
      ],
      "execution_count": 53,
      "outputs": [
        {
          "output_type": "execute_result",
          "data": {
            "text/plain": [
              "array([[ 973,    0,    1,    0,    0,    0,    3,    3,    0,    0],\n",
              "       [   0, 1130,    1,    1,    1,    0,    2,    0,    0,    0],\n",
              "       [   1,    2, 1019,    1,    2,    0,    0,    4,    3,    0],\n",
              "       [   0,    0,    2, 1002,    0,    2,    0,    1,    2,    1],\n",
              "       [   0,    0,    1,    0,  976,    0,    2,    0,    0,    3],\n",
              "       [   1,    1,    0,    7,    0,  881,    0,    0,    1,    1],\n",
              "       [   2,    1,    0,    0,    4,    6,  942,    0,    3,    0],\n",
              "       [   0,    1,   10,    0,    0,    0,    0, 1013,    1,    3],\n",
              "       [   4,    0,    5,    2,    0,    1,    0,    1,  957,    4],\n",
              "       [   0,    2,    0,    0,   10,    2,    0,    5,    2,  988]])"
            ]
          },
          "metadata": {},
          "execution_count": 53
        }
      ]
    },
    {
      "cell_type": "code",
      "metadata": {
        "colab": {
          "base_uri": "https://localhost:8080/",
          "height": 391
        },
        "id": "LsBOphJbzRX1",
        "outputId": "3b40519e-e82e-4fb9-8259-2ae3bccb0f8f"
      },
      "source": [
        "import seaborn as sns\n",
        "plt.figure(figsize=(10,6))\n",
        "sns.heatmap(confusion_matrix(Y_test, predictions), annot=True)"
      ],
      "execution_count": 54,
      "outputs": [
        {
          "output_type": "execute_result",
          "data": {
            "text/plain": [
              "<matplotlib.axes._subplots.AxesSubplot at 0x7f5fe3e42890>"
            ]
          },
          "metadata": {},
          "execution_count": 54
        },
        {
          "output_type": "display_data",
          "data": {
            "image/png": "[encoded data removed]",
            "text/plain": [
              "<Figure size 720x432 with 2 Axes>"
            ]
          },
          "metadata": {
            "needs_background": "light"
          }
        }
      ]
    },
    {
      "cell_type": "markdown",
      "metadata": {
        "id": "auHSPb93zjth"
      },
      "source": [
        "#### Predict a single image"
      ]
    },
    {
      "cell_type": "code",
      "metadata": {
        "colab": {
          "base_uri": "https://localhost:8080/",
          "height": 282
        },
        "id": "4Smtssu6zqmw",
        "outputId": "641e9438-6b9c-4039-9990-943fcf8f6d80"
      },
      "source": [
        "my_number = X_test[0]\n",
        "plt.imshow(my_number.reshape(28,28))"
      ],
      "execution_count": 55,
      "outputs": [
        {
          "output_type": "execute_result",
          "data": {
            "text/plain": [
              "<matplotlib.image.AxesImage at 0x7f5fdab67f50>"
            ]
          },
          "metadata": {},
          "execution_count": 55
        },
        {
          "output_type": "display_data",
          "data": {
            "image/png": "[encoded data removed]",
            "text/plain": [
              "<Figure size 432x288 with 1 Axes>"
            ]
          },
          "metadata": {
            "needs_background": "light"
          }
        }
      ]
    },
    {
      "cell_type": "code",
      "metadata": {
        "colab": {
          "base_uri": "https://localhost:8080/"
        },
        "id": "jZzT9e7Iz0ai",
        "outputId": "ae83fda7-c6cc-4291-fb3f-3daa36e169ed"
      },
      "source": [
        "# num_images, width, height, color_channels\n",
        "np.argmax(model.predict(my_number.reshape(1, 28,28,1)))"
      ],
      "execution_count": 57,
      "outputs": [
        {
          "output_type": "execute_result",
          "data": {
            "text/plain": [
              "7"
            ]
          },
          "metadata": {},
          "execution_count": 57
        }
      ]
    },
    {
      "cell_type": "markdown",
      "metadata": {
        "id": "Tv5EiXAm0L5f"
      },
      "source": [
        "## CNN on CIFAR (RGB IMAGES)"
      ]
    },
    {
      "cell_type": "markdown",
      "metadata": {
        "id": "bkfmjOU90dZb"
      },
      "source": [
        "### Load in and Prepare the Data"
      ]
    },
    {
      "cell_type": "code",
      "metadata": {
        "id": "KuJwzdzF03iC"
      },
      "source": [
        "from tensorflow.keras.datasets import cifar10"
      ],
      "execution_count": 58,
      "outputs": []
    },
    {
      "cell_type": "code",
      "metadata": {
        "colab": {
          "base_uri": "https://localhost:8080/"
        },
        "id": "maeXcGfQ080R",
        "outputId": "19ad1ad2-aa25-4615-889e-5447d26c0423"
      },
      "source": [
        "(x_train, y_train), (x_test, y_test) = cifar10.load_data()"
      ],
      "execution_count": 59,
      "outputs": [
        {
          "output_type": "stream",
          "name": "stdout",
          "text": [
            "Downloading data from https://www.cs.toronto.edu/~kriz/cifar-10-python.tar.gz\n",
            "170500096/170498071 [==============================] - 6s 0us/step\n",
            "170508288/170498071 [==============================] - 6s 0us/step\n"
          ]
        }
      ]
    },
    {
      "cell_type": "code",
      "metadata": {
        "colab": {
          "base_uri": "https://localhost:8080/"
        },
        "id": "J3JTy4rj1KAl",
        "outputId": "04105916-3ee4-4355-ee7b-b29087f2fd03"
      },
      "source": [
        "x_train.shape"
      ],
      "execution_count": 60,
      "outputs": [
        {
          "output_type": "execute_result",
          "data": {
            "text/plain": [
              "(50000, 32, 32, 3)"
            ]
          },
          "metadata": {},
          "execution_count": 60
        }
      ]
    },
    {
      "cell_type": "code",
      "metadata": {
        "colab": {
          "base_uri": "https://localhost:8080/"
        },
        "id": "13TFZdbc1PPz",
        "outputId": "e544209d-6f37-47a5-aee2-fb786a6f81aa"
      },
      "source": [
        "x_train[0].shape"
      ],
      "execution_count": 62,
      "outputs": [
        {
          "output_type": "execute_result",
          "data": {
            "text/plain": [
              "(32, 32, 3)"
            ]
          },
          "metadata": {},
          "execution_count": 62
        }
      ]
    },
    {
      "cell_type": "code",
      "metadata": {
        "colab": {
          "base_uri": "https://localhost:8080/",
          "height": 283
        },
        "id": "tFIHw5Gd1Soq",
        "outputId": "eaa4ea38-1407-4ef8-d3b8-65aca6ddbd9e"
      },
      "source": [
        "plt.imshow(x_train[0])"
      ],
      "execution_count": 63,
      "outputs": [
        {
          "output_type": "execute_result",
          "data": {
            "text/plain": [
              "<matplotlib.image.AxesImage at 0x7f5fec0cf610>"
            ]
          },
          "metadata": {},
          "execution_count": 63
        },
        {
          "output_type": "display_data",
          "data": {
            "image/png": "[encoded data removed]",
            "text/plain": [
              "<Figure size 432x288 with 1 Axes>"
            ]
          },
          "metadata": {
            "needs_background": "light"
          }
        }
      ]
    },
    {
      "cell_type": "code",
      "metadata": {
        "colab": {
          "base_uri": "https://localhost:8080/"
        },
        "id": "hLi4mb501YZ1",
        "outputId": "4a727092-5e41-4c87-97cd-f359951cef82"
      },
      "source": [
        "x_train[0].min(), x_train[0].max()"
      ],
      "execution_count": 64,
      "outputs": [
        {
          "output_type": "execute_result",
          "data": {
            "text/plain": [
              "(0, 255)"
            ]
          },
          "metadata": {},
          "execution_count": 64
        }
      ]
    },
    {
      "cell_type": "code",
      "metadata": {
        "id": "wlC-H8lp1qKV"
      },
      "source": [
        "# Normalize the data\n",
        "x_train = x_train/255"
      ],
      "execution_count": 65,
      "outputs": []
    },
    {
      "cell_type": "code",
      "metadata": {
        "id": "pnWSsqXu1xPa"
      },
      "source": [
        "x_test = x_test/255"
      ],
      "execution_count": 66,
      "outputs": []
    },
    {
      "cell_type": "code",
      "metadata": {
        "id": "Sl3B21PI11Tn"
      },
      "source": [
        "from tensorflow.keras.utils import to_categorical"
      ],
      "execution_count": 68,
      "outputs": []
    },
    {
      "cell_type": "code",
      "metadata": {
        "id": "my-KgSen13wu"
      },
      "source": [
        "y_categorical_train = to_categorical(y_train,10)\n",
        "y_categorical_test = to_categorical(y_test,10)"
      ],
      "execution_count": 69,
      "outputs": []
    },
    {
      "cell_type": "code",
      "metadata": {
        "id": "AEUPA1Tp2MVa"
      },
      "source": [
        "from tensorflow.keras.models import Sequential\n",
        "from tensorflow.keras.layers import Conv2D, Dense, MaxPool2D, Flatten"
      ],
      "execution_count": 70,
      "outputs": []
    },
    {
      "cell_type": "markdown",
      "metadata": {
        "id": "dAsOYjme24Dj"
      },
      "source": [
        "### Build a model"
      ]
    },
    {
      "cell_type": "code",
      "metadata": {
        "id": "piL8nTgg3aTl"
      },
      "source": [
        "model = Sequential()\n",
        "\n",
        "#CONVOLUTIONAL LAYER\n",
        "model.add(Conv2D(filters=32,\n",
        "                 kernel_size=(4,4),\n",
        "                 input_shape=(32,32,3),\n",
        "                 activation=\"relu\"))\n",
        "#POOLING LAYER\n",
        "model.add(MaxPool2D(pool_size=(2,2)))\n",
        "#CONVOLUTIONAL LAYER\n",
        "model.add(Conv2D(filters=32,\n",
        "                 kernel_size=(4,4),\n",
        "                 input_shape=(32,32,3),\n",
        "                 activation=\"relu\"))\n",
        "#POOLING LAYER\n",
        "model.add(MaxPool2D(pool_size=(2,2)))\n",
        "\n",
        "\n",
        "model.add(Flatten())\n",
        "model.add(Dense(256, activation=\"relu\"))\n",
        "model.add(Dense(10, activation=\"softmax\"))\n",
        "\n",
        "\n",
        "\n",
        "model.compile(loss=\"categorical_crossentropy\",\n",
        "              optimizer=\"adam\",\n",
        "              metrics=['accuracy'])"
      ],
      "execution_count": 72,
      "outputs": []
    },
    {
      "cell_type": "code",
      "metadata": {
        "colab": {
          "base_uri": "https://localhost:8080/"
        },
        "id": "coWvOkxC4nou",
        "outputId": "ebba0b34-d98a-4bbe-de74-fbe90aa54a61"
      },
      "source": [
        "model.summary()"
      ],
      "execution_count": 73,
      "outputs": [
        {
          "output_type": "stream",
          "name": "stdout",
          "text": [
            "Model: \"sequential_3\"\n",
            "_________________________________________________________________\n",
            "Layer (type)                 Output Shape              Param #   \n",
            "=================================================================\n",
            "conv2d_1 (Conv2D)            (None, 29, 29, 32)        1568      \n",
            "_________________________________________________________________\n",
            "max_pooling2d_1 (MaxPooling2 (None, 14, 14, 32)        0         \n",
            "_________________________________________________________________\n",
            "conv2d_2 (Conv2D)            (None, 11, 11, 32)        16416     \n",
            "_________________________________________________________________\n",
            "max_pooling2d_2 (MaxPooling2 (None, 5, 5, 32)          0         \n",
            "_________________________________________________________________\n",
            "flatten_1 (Flatten)          (None, 800)               0         \n",
            "_________________________________________________________________\n",
            "dense_2 (Dense)              (None, 256)               205056    \n",
            "_________________________________________________________________\n",
            "dense_3 (Dense)              (None, 10)                2570      \n",
            "=================================================================\n",
            "Total params: 225,610\n",
            "Trainable params: 225,610\n",
            "Non-trainable params: 0\n",
            "_________________________________________________________________\n"
          ]
        }
      ]
    },
    {
      "cell_type": "markdown",
      "metadata": {
        "id": "IgvL9bkx4v1i"
      },
      "source": [
        "#### Add Early Stopping"
      ]
    },
    {
      "cell_type": "code",
      "metadata": {
        "id": "_t2FHv1W43EY"
      },
      "source": [
        "from tensorflow.keras.callbacks import EarlyStopping"
      ],
      "execution_count": 74,
      "outputs": []
    },
    {
      "cell_type": "code",
      "metadata": {
        "id": "8HzIvYVi47L9"
      },
      "source": [
        "early_stop = EarlyStopping(monitor='val_loss', patience=2)"
      ],
      "execution_count": 75,
      "outputs": []
    },
    {
      "cell_type": "markdown",
      "metadata": {
        "id": "Rf_k_pqS5Ifc"
      },
      "source": [
        "### Fit the model"
      ]
    },
    {
      "cell_type": "code",
      "metadata": {
        "colab": {
          "base_uri": "https://localhost:8080/"
        },
        "id": "sclSu0iX5Luc",
        "outputId": "86cfc95f-c7e7-45c3-b013-aef805579d02"
      },
      "source": [
        "model.fit(x_train, y_categorical_train,\n",
        "          epochs=20,\n",
        "          validation_data=(x_test, y_categorical_test),\n",
        "          callbacks=[early_stop])"
      ],
      "execution_count": 76,
      "outputs": [
        {
          "output_type": "stream",
          "name": "stdout",
          "text": [
            "Epoch 1/20\n",
            "1563/1563 [==============================] - 46s 29ms/step - loss: 1.4847 - accuracy: 0.4653 - val_loss: 1.2701 - val_accuracy: 0.5477\n",
            "Epoch 2/20\n",
            "1563/1563 [==============================] - 45s 29ms/step - loss: 1.1634 - accuracy: 0.5904 - val_loss: 1.0855 - val_accuracy: 0.6232\n",
            "Epoch 3/20\n",
            "1563/1563 [==============================] - 45s 29ms/step - loss: 1.0087 - accuracy: 0.6451 - val_loss: 0.9856 - val_accuracy: 0.6587\n",
            "Epoch 4/20\n",
            "1563/1563 [==============================] - 44s 28ms/step - loss: 0.9092 - accuracy: 0.6831 - val_loss: 0.9851 - val_accuracy: 0.6558\n",
            "Epoch 5/20\n",
            "1563/1563 [==============================] - 44s 28ms/step - loss: 0.8205 - accuracy: 0.7151 - val_loss: 1.0207 - val_accuracy: 0.6528\n",
            "Epoch 6/20\n",
            "1563/1563 [==============================] - 45s 28ms/step - loss: 0.7427 - accuracy: 0.7404 - val_loss: 0.9489 - val_accuracy: 0.6812\n",
            "Epoch 7/20\n",
            "1563/1563 [==============================] - 44s 28ms/step - loss: 0.6702 - accuracy: 0.7633 - val_loss: 0.9798 - val_accuracy: 0.6796\n",
            "Epoch 8/20\n",
            "1563/1563 [==============================] - 44s 28ms/step - loss: 0.6085 - accuracy: 0.7859 - val_loss: 0.9858 - val_accuracy: 0.6729\n"
          ]
        },
        {
          "output_type": "execute_result",
          "data": {
            "text/plain": [
              "<keras.callbacks.History at 0x7f5fe36468d0>"
            ]
          },
          "metadata": {},
          "execution_count": 76
        }
      ]
    },
    {
      "cell_type": "markdown",
      "metadata": {
        "id": "kGwQFrNn5keb"
      },
      "source": [
        "### Evaluate the model"
      ]
    },
    {
      "cell_type": "code",
      "metadata": {
        "id": "5KFggz7Z8DvU"
      },
      "source": [
        "metrics = pd.DataFrame(model.history.history)"
      ],
      "execution_count": 77,
      "outputs": []
    },
    {
      "cell_type": "code",
      "metadata": {
        "colab": {
          "base_uri": "https://localhost:8080/",
          "height": 297
        },
        "id": "zY0Xk3j48JD7",
        "outputId": "2a012d38-5a3e-43ad-a667-193a6b745e41"
      },
      "source": [
        "metrics"
      ],
      "execution_count": 78,
      "outputs": [
        {
          "output_type": "execute_result",
          "data": {
            "text/html": [
              "<div>\n",
              "<style scoped>\n",
              "    .dataframe tbody tr th:only-of-type {\n",
              "        vertical-align: middle;\n",
              "    }\n",
              "\n",
              "    .dataframe tbody tr th {\n",
              "        vertical-align: top;\n",
              "    }\n",
              "\n",
              "    .dataframe thead th {\n",
              "        text-align: right;\n",
              "    }\n",
              "</style>\n",
              "<table border=\"1\" class=\"dataframe\">\n",
              "  <thead>\n",
              "    <tr style=\"text-align: right;\">\n",
              "      <th></th>\n",
              "      <th>loss</th>\n",
              "      <th>accuracy</th>\n",
              "      <th>val_loss</th>\n",
              "      <th>val_accuracy</th>\n",
              "    </tr>\n",
              "  </thead>\n",
              "  <tbody>\n",
              "    <tr>\n",
              "      <th>0</th>\n",
              "      <td>1.484661</td>\n",
              "      <td>0.46532</td>\n",
              "      <td>1.270076</td>\n",
              "      <td>0.5477</td>\n",
              "    </tr>\n",
              "    <tr>\n",
              "      <th>1</th>\n",
              "      <td>1.163398</td>\n",
              "      <td>0.59040</td>\n",
              "      <td>1.085479</td>\n",
              "      <td>0.6232</td>\n",
              "    </tr>\n",
              "    <tr>\n",
              "      <th>2</th>\n",
              "      <td>1.008697</td>\n",
              "      <td>0.64512</td>\n",
              "      <td>0.985645</td>\n",
              "      <td>0.6587</td>\n",
              "    </tr>\n",
              "    <tr>\n",
              "      <th>3</th>\n",
              "      <td>0.909161</td>\n",
              "      <td>0.68306</td>\n",
              "      <td>0.985117</td>\n",
              "      <td>0.6558</td>\n",
              "    </tr>\n",
              "    <tr>\n",
              "      <th>4</th>\n",
              "      <td>0.820526</td>\n",
              "      <td>0.71506</td>\n",
              "      <td>1.020703</td>\n",
              "      <td>0.6528</td>\n",
              "    </tr>\n",
              "    <tr>\n",
              "      <th>5</th>\n",
              "      <td>0.742731</td>\n",
              "      <td>0.74042</td>\n",
              "      <td>0.948885</td>\n",
              "      <td>0.6812</td>\n",
              "    </tr>\n",
              "    <tr>\n",
              "      <th>6</th>\n",
              "      <td>0.670225</td>\n",
              "      <td>0.76330</td>\n",
              "      <td>0.979763</td>\n",
              "      <td>0.6796</td>\n",
              "    </tr>\n",
              "    <tr>\n",
              "      <th>7</th>\n",
              "      <td>0.608530</td>\n",
              "      <td>0.78588</td>\n",
              "      <td>0.985798</td>\n",
              "      <td>0.6729</td>\n",
              "    </tr>\n",
              "  </tbody>\n",
              "</table>\n",
              "</div>"
            ],
            "text/plain": [
              "       loss  accuracy  val_loss  val_accuracy\n",
              "0  1.484661   0.46532  1.270076        0.5477\n",
              "1  1.163398   0.59040  1.085479        0.6232\n",
              "2  1.008697   0.64512  0.985645        0.6587\n",
              "3  0.909161   0.68306  0.985117        0.6558\n",
              "4  0.820526   0.71506  1.020703        0.6528\n",
              "5  0.742731   0.74042  0.948885        0.6812\n",
              "6  0.670225   0.76330  0.979763        0.6796\n",
              "7  0.608530   0.78588  0.985798        0.6729"
            ]
          },
          "metadata": {},
          "execution_count": 78
        }
      ]
    },
    {
      "cell_type": "code",
      "metadata": {
        "colab": {
          "base_uri": "https://localhost:8080/"
        },
        "id": "oYcJ1-hF8KMZ",
        "outputId": "d4519cc1-30b6-4a86-d469-07ed0bcacd9c"
      },
      "source": [
        "metrics.columns"
      ],
      "execution_count": 79,
      "outputs": [
        {
          "output_type": "execute_result",
          "data": {
            "text/plain": [
              "Index(['loss', 'accuracy', 'val_loss', 'val_accuracy'], dtype='object')"
            ]
          },
          "metadata": {},
          "execution_count": 79
        }
      ]
    },
    {
      "cell_type": "code",
      "metadata": {
        "colab": {
          "base_uri": "https://localhost:8080/",
          "height": 285
        },
        "id": "-cWakVZG8QTT",
        "outputId": "d2f3c1f3-290d-46b3-b18b-282ba40ac471"
      },
      "source": [
        "metrics[['accuracy', 'val_accuracy']].plot()"
      ],
      "execution_count": 81,
      "outputs": [
        {
          "output_type": "execute_result",
          "data": {
            "text/plain": [
              "<matplotlib.axes._subplots.AxesSubplot at 0x7f5fe3fd2490>"
            ]
          },
          "metadata": {},
          "execution_count": 81
        },
        {
          "output_type": "display_data",
          "data": {
            "image/png": "[encoded data removed]",
            "text/plain": [
              "<Figure size 432x288 with 1 Axes>"
            ]
          },
          "metadata": {
            "needs_background": "light"
          }
        }
      ]
    },
    {
      "cell_type": "code",
      "metadata": {
        "colab": {
          "base_uri": "https://localhost:8080/",
          "height": 282
        },
        "id": "31c8eoDD8XyL",
        "outputId": "fd5b46b4-797d-4ad4-a3ac-8310132f22d0"
      },
      "source": [
        "metrics[['loss','val_loss']].plot()"
      ],
      "execution_count": 82,
      "outputs": [
        {
          "output_type": "execute_result",
          "data": {
            "text/plain": [
              "<matplotlib.axes._subplots.AxesSubplot at 0x7f5fef265090>"
            ]
          },
          "metadata": {},
          "execution_count": 82
        },
        {
          "output_type": "display_data",
          "data": {
            "image/png": "[encoded data removed]",
            "text/plain": [
              "<Figure size 432x288 with 1 Axes>"
            ]
          },
          "metadata": {
            "needs_background": "light"
          }
        }
      ]
    },
    {
      "cell_type": "code",
      "metadata": {
        "colab": {
          "base_uri": "https://localhost:8080/"
        },
        "id": "LNS_ARCE8f-q",
        "outputId": "e8e20c20-5061-40ea-e32e-31089d1913d7"
      },
      "source": [
        "model.evaluate(x_test, y_categorical_test)"
      ],
      "execution_count": 83,
      "outputs": [
        {
          "output_type": "stream",
          "name": "stdout",
          "text": [
            "313/313 [==============================] - 2s 7ms/step - loss: 0.9858 - accuracy: 0.6729\n"
          ]
        },
        {
          "output_type": "execute_result",
          "data": {
            "text/plain": [
              "[0.9857984185218811, 0.6729000210762024]"
            ]
          },
          "metadata": {},
          "execution_count": 83
        }
      ]
    },
    {
      "cell_type": "code",
      "metadata": {
        "id": "jprtBdri8qim"
      },
      "source": [
        "from sklearn.metrics import classification_report, confusion_matrix"
      ],
      "execution_count": 84,
      "outputs": []
    },
    {
      "cell_type": "code",
      "metadata": {
        "id": "Dz32XJin83O9"
      },
      "source": [
        "predictions = np.argmax(model.predict(x_test), axis=1)"
      ],
      "execution_count": 89,
      "outputs": []
    },
    {
      "cell_type": "code",
      "metadata": {
        "colab": {
          "base_uri": "https://localhost:8080/"
        },
        "id": "faiNTC-Q9Sfx",
        "outputId": "0ab46ad0-58cc-4d73-8f3a-64d2c1c3ce36"
      },
      "source": [
        "predictions[0]"
      ],
      "execution_count": 90,
      "outputs": [
        {
          "output_type": "execute_result",
          "data": {
            "text/plain": [
              "3"
            ]
          },
          "metadata": {},
          "execution_count": 90
        }
      ]
    },
    {
      "cell_type": "code",
      "metadata": {
        "colab": {
          "base_uri": "https://localhost:8080/"
        },
        "id": "PJWvGzCe9FTb",
        "outputId": "c5d20146-fae5-4f42-ac37-884dc6efde16"
      },
      "source": [
        "print(classification_report(y_test, predictions))"
      ],
      "execution_count": 91,
      "outputs": [
        {
          "output_type": "stream",
          "name": "stdout",
          "text": [
            "              precision    recall  f1-score   support\n",
            "\n",
            "           0       0.71      0.65      0.68      1000\n",
            "           1       0.86      0.72      0.78      1000\n",
            "           2       0.63      0.50      0.56      1000\n",
            "           3       0.46      0.60      0.52      1000\n",
            "           4       0.61      0.67      0.64      1000\n",
            "           5       0.58      0.58      0.58      1000\n",
            "           6       0.79      0.68      0.74      1000\n",
            "           7       0.78      0.68      0.72      1000\n",
            "           8       0.69      0.86      0.76      1000\n",
            "           9       0.74      0.79      0.76      1000\n",
            "\n",
            "    accuracy                           0.67     10000\n",
            "   macro avg       0.68      0.67      0.67     10000\n",
            "weighted avg       0.68      0.67      0.67     10000\n",
            "\n"
          ]
        }
      ]
    },
    {
      "cell_type": "code",
      "metadata": {
        "colab": {
          "base_uri": "https://localhost:8080/",
          "height": 391
        },
        "id": "f_SzMYPG9K4S",
        "outputId": "1f2cc4c3-d809-4835-c38f-29114bc113b5"
      },
      "source": [
        "import seaborn as sns\n",
        "\n",
        "plt.figure(figsize=(10,6))\n",
        "\n",
        "sns.heatmap(confusion_matrix(y_test, predictions),annot=True)"
      ],
      "execution_count": 92,
      "outputs": [
        {
          "output_type": "execute_result",
          "data": {
            "text/plain": [
              "<matplotlib.axes._subplots.AxesSubplot at 0x7f5fef89dad0>"
            ]
          },
          "metadata": {},
          "execution_count": 92
        },
        {
          "output_type": "display_data",
          "data": {
            "image/png": "[encoded data removed]",
            "text/plain": [
              "<Figure size 720x432 with 2 Axes>"
            ]
          },
          "metadata": {
            "needs_background": "light"
          }
        }
      ]
    },
    {
      "cell_type": "code",
      "metadata": {
        "colab": {
          "base_uri": "https://localhost:8080/",
          "height": 283
        },
        "id": "s1X48G2L-Ick",
        "outputId": "e8605290-da96-4bdc-cc38-4c91d06b0f48"
      },
      "source": [
        "my_img = x_test[16] #data already scaled\n",
        "plt.imshow(my_img)"
      ],
      "execution_count": 96,
      "outputs": [
        {
          "output_type": "execute_result",
          "data": {
            "text/plain": [
              "<matplotlib.image.AxesImage at 0x7f5fd9e474d0>"
            ]
          },
          "metadata": {},
          "execution_count": 96
        },
        {
          "output_type": "display_data",
          "data": {
            "image/png": "[encoded data removed]",
            "text/plain": [
              "<Figure size 432x288 with 1 Axes>"
            ]
          },
          "metadata": {
            "needs_background": "light"
          }
        }
      ]
    },
    {
      "cell_type": "code",
      "metadata": {
        "colab": {
          "base_uri": "https://localhost:8080/"
        },
        "id": "ajPSlEcz-Tuc",
        "outputId": "9396e4e6-8455-40ad-c3f3-a53836a5ed25"
      },
      "source": [
        "y_test[16]"
      ],
      "execution_count": 98,
      "outputs": [
        {
          "output_type": "execute_result",
          "data": {
            "text/plain": [
              "array([5], dtype=uint8)"
            ]
          },
          "metadata": {},
          "execution_count": 98
        }
      ]
    },
    {
      "cell_type": "code",
      "metadata": {
        "colab": {
          "base_uri": "https://localhost:8080/"
        },
        "id": "tTsYyjTf-Wv2",
        "outputId": "07ac464b-08ea-434a-85d5-be9458217fe6"
      },
      "source": [
        "np.argmax(model.predict(my_img.reshape(1, 32, 32, 3)),axis=1)"
      ],
      "execution_count": 99,
      "outputs": [
        {
          "output_type": "execute_result",
          "data": {
            "text/plain": [
              "array([5])"
            ]
          },
          "metadata": {},
          "execution_count": 99
        }
      ]
    },
    {
      "cell_type": "code",
      "metadata": {
        "id": "NuMwW1Pi-ggE"
      },
      "source": [
        ""
      ],
      "execution_count": null,
      "outputs": []
    }
  ]
}