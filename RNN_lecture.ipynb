{
  "nbformat": 4,
  "nbformat_minor": 0,
  "metadata": {
    "colab": {
      "name": "RNN_lecture.ipynb",
      "provenance": [],
      "authorship_tag": "ABX9TyM5x0eTVMWlj3paTatohUQ9",
      "include_colab_link": true
    },
    "kernelspec": {
      "name": "python3",
      "display_name": "Python 3"
    },
    "language_info": {
      "name": "python"
    }
  },
  "cells": [
    {
      "cell_type": "markdown",
      "metadata": {
        "id": "view-in-github",
        "colab_type": "text"
      },
      "source": [
        "<a href=\"https://colab.research.google.com/github/Dimisz/tensorflow_lectures/blob/main/RNN_lecture.ipynb\" target=\"_parent\"><img src=\"https://colab.research.google.com/assets/colab-badge.svg\" alt=\"Open In Colab\"/></a>"
      ]
    },
    {
      "cell_type": "markdown",
      "metadata": {
        "id": "xX0RjgVDYjN1"
      },
      "source": [
        "**Recurrent Neural Networks** are more effective with sequence data, e.g.\n",
        "* time-stamped sales data\n",
        "* sequence of text\n",
        "* heart beat data\n",
        "* etc"
      ]
    },
    {
      "cell_type": "markdown",
      "metadata": {
        "id": "sSiHKqTqbYry"
      },
      "source": [
        "## RNN Theory\n",
        "**Sequence** is data that's coming in a specific order, and order is important.\n",
        "\n",
        "**Normal Neuron workflow**:\n",
        "Input -> Aggregation of Inputs -> Activation Function -> Output\n",
        "\n",
        "**Recurrent Neuron workflow**: Input -> Aggregation of Inputs -> Activation Function -> Output -> Aggrregation of Inputs (output is fed to itself)\n",
        "\n",
        "**Memory Cells** - cells that are a function of inputs from previous time steps.\n",
        "\n",
        "**RNN Architectures**:\n",
        "* **Sequence-to-Sequence** (Many to Many): *pass in a sequence and expect a sequence out (e.g. chatbot)*\n",
        "* **Sequence-to-Vector** (Many to One): *pass in a sequence to predict a single value (generate text: next word)*\n",
        "* **Vector-to-Sequence** (One to Many)\n",
        "\n",
        "## Issues with RNNs\n",
        "Main disadvantage is that RNN only really remember the previous output. It would be useful if we could keep track of longer history, not just short term history.\n",
        "\n",
        "\n",
        "**1. Vanishing Gradient** as you go back to the 'lower' layers, gradients often get smaller, eventually causing weights to never change at lower layers.\n",
        "\n",
        "**2. Exploding Gradient** the opposite to 1., gradients 'explode' on the way back, causing issues.\n",
        "\n",
        "**Solution 1**:\n",
        "* Using ReLU\n",
        "* Uning 'Leaky' ReLU\n",
        "* Exponential Linear Unit (ELU)\n",
        "\n",
        "**Solution 2**:\n",
        "* **Batch normalization** - model will normalize each batch using the batch mean and standard deviation.\n",
        "\n",
        "* **Xavier Initialization** - choosing different initialization of weights\n",
        "\n",
        "* **Gradient Clipping** (for exploding gradient) - a 'quick fix': gradients are cut off before reaching a predetermined limit (cut off the gradient to be between -1 and 1)."
      ]
    },
    {
      "cell_type": "markdown",
      "metadata": {
        "id": "JXz64aSIsBBm"
      },
      "source": [
        "## LSTM (Long Short-Term Memory)"
      ]
    },
    {
      "cell_type": "markdown",
      "metadata": {
        "id": "V35OMy57sL-C"
      },
      "source": [
        "The solutions specified above could slow down training.\n",
        "\n",
        "After a while the network will begin to 'forget' the first inputs, as information is lost at each step going through RNN.\n",
        "\n",
        "So we need \"long-term\" memory.\n",
        "\n",
        "To address this we have **LSTM(Long Short-Term Memory)**\n",
        "\n",
        "Structure of LSTM:\n",
        "* **Forget Gate** - decides what to forget from the previous memory units.\n",
        "* **Input Gate** - decides what to accept into a neuron.\n",
        "* **Output Gate** - outputs the new long-term memory. \n",
        "* **Update Gate** - updates the memory.\n",
        "\n",
        "\n",
        "**First step** is to decide what information are we going to throw away/forget from the cell state (pass the weights through sigmoid function: the closer it is to 0, the more are the chances it will be thrown away, the closer it is to 1 - the more chances to keep)\n",
        "\n",
        "**Second step** is to decide what new information are we going to store to the cell state. 2 parts:\n",
        "\n",
        "* Input gate layer\n",
        "* Hyperbolic tangent layer, creating a vector of new candidates.\n",
        "\n",
        "**Third step** is to update the old cell state: multiply the old state by f(t) forgetting the info we've decided are not important, then we add candidates\n",
        "\n",
        "**Fourth step** is to decide what we are going to output. So we run a sigmoid layer to decide what parts of the cell state we're going to output. Then we put that cell state through a hyperbolic tangent function which pushes all the values to be between -1 and 1. And than we multiply it by the output of the initial sigmoid gate. "
      ]
    },
    {
      "cell_type": "markdown",
      "metadata": {
        "id": "rxosYOIB-_UC"
      },
      "source": [
        "## Gated Recurrent Unit (GRU)\n",
        "\n",
        "A variation of LSTM which combines the forget and input gates into 'single update' gate."
      ]
    },
    {
      "cell_type": "markdown",
      "metadata": {
        "id": "55BgY7EX_U7q"
      },
      "source": [
        "## Basic RNN on a Sine Wave"
      ]
    },
    {
      "cell_type": "markdown",
      "metadata": {
        "id": "UGSw20INHn3I"
      },
      "source": [
        "### Preparing the Data"
      ]
    },
    {
      "cell_type": "code",
      "metadata": {
        "id": "X_TJFkXJBJyq"
      },
      "source": [
        "import pandas as pd\n",
        "import numpy as np\n",
        "import matplotlib.pyplot as plt"
      ],
      "execution_count": 1,
      "outputs": []
    },
    {
      "cell_type": "code",
      "metadata": {
        "id": "juRne3AUBp53"
      },
      "source": [
        "# Create a sinewave\n",
        "x = np.linspace(0, 50, 501)"
      ],
      "execution_count": 2,
      "outputs": []
    },
    {
      "cell_type": "code",
      "metadata": {
        "id": "XzZg8VPDByyt"
      },
      "source": [
        "y = np.sin(x)"
      ],
      "execution_count": 4,
      "outputs": []
    },
    {
      "cell_type": "code",
      "metadata": {
        "id": "mhzqXrA_BzVB",
        "outputId": "13cecd7d-7da2-474b-f671-a9c618fdf5f4",
        "colab": {
          "base_uri": "https://localhost:8080/",
          "height": 282
        }
      },
      "source": [
        "plt.plot(x,y)"
      ],
      "execution_count": 5,
      "outputs": [
        {
          "output_type": "execute_result",
          "data": {
            "text/plain": [
              "[<matplotlib.lines.Line2D at 0x7f095d560790>]"
            ]
          },
          "metadata": {},
          "execution_count": 5
        },
        {
          "output_type": "display_data",
          "data": {
            "image/png": "[encoded data removed]",
            "text/plain": [
              "<Figure size 432x288 with 1 Axes>"
            ]
          },
          "metadata": {
            "needs_background": "light"
          }
        }
      ]
    },
    {
      "cell_type": "code",
      "metadata": {
        "id": "uH227mWwF9SS"
      },
      "source": [
        "df = pd.DataFrame(data=y, index=x, columns=['Sine'])"
      ],
      "execution_count": 6,
      "outputs": []
    },
    {
      "cell_type": "code",
      "metadata": {
        "id": "w4jhxG-YGGSF",
        "outputId": "143c423c-c9c6-4f6c-a8a1-af2d4341ee57",
        "colab": {
          "base_uri": "https://localhost:8080/",
          "height": 419
        }
      },
      "source": [
        "df"
      ],
      "execution_count": 7,
      "outputs": [
        {
          "output_type": "execute_result",
          "data": {
            "text/html": [
              "<div>\n",
              "<style scoped>\n",
              "    .dataframe tbody tr th:only-of-type {\n",
              "        vertical-align: middle;\n",
              "    }\n",
              "\n",
              "    .dataframe tbody tr th {\n",
              "        vertical-align: top;\n",
              "    }\n",
              "\n",
              "    .dataframe thead th {\n",
              "        text-align: right;\n",
              "    }\n",
              "</style>\n",
              "<table border=\"1\" class=\"dataframe\">\n",
              "  <thead>\n",
              "    <tr style=\"text-align: right;\">\n",
              "      <th></th>\n",
              "      <th>Sine</th>\n",
              "    </tr>\n",
              "  </thead>\n",
              "  <tbody>\n",
              "    <tr>\n",
              "      <th>0.0</th>\n",
              "      <td>0.000000</td>\n",
              "    </tr>\n",
              "    <tr>\n",
              "      <th>0.1</th>\n",
              "      <td>0.099833</td>\n",
              "    </tr>\n",
              "    <tr>\n",
              "      <th>0.2</th>\n",
              "      <td>0.198669</td>\n",
              "    </tr>\n",
              "    <tr>\n",
              "      <th>0.3</th>\n",
              "      <td>0.295520</td>\n",
              "    </tr>\n",
              "    <tr>\n",
              "      <th>0.4</th>\n",
              "      <td>0.389418</td>\n",
              "    </tr>\n",
              "    <tr>\n",
              "      <th>...</th>\n",
              "      <td>...</td>\n",
              "    </tr>\n",
              "    <tr>\n",
              "      <th>49.6</th>\n",
              "      <td>-0.617439</td>\n",
              "    </tr>\n",
              "    <tr>\n",
              "      <th>49.7</th>\n",
              "      <td>-0.535823</td>\n",
              "    </tr>\n",
              "    <tr>\n",
              "      <th>49.8</th>\n",
              "      <td>-0.448854</td>\n",
              "    </tr>\n",
              "    <tr>\n",
              "      <th>49.9</th>\n",
              "      <td>-0.357400</td>\n",
              "    </tr>\n",
              "    <tr>\n",
              "      <th>50.0</th>\n",
              "      <td>-0.262375</td>\n",
              "    </tr>\n",
              "  </tbody>\n",
              "</table>\n",
              "<p>501 rows × 1 columns</p>\n",
              "</div>"
            ],
            "text/plain": [
              "          Sine\n",
              "0.0   0.000000\n",
              "0.1   0.099833\n",
              "0.2   0.198669\n",
              "0.3   0.295520\n",
              "0.4   0.389418\n",
              "...        ...\n",
              "49.6 -0.617439\n",
              "49.7 -0.535823\n",
              "49.8 -0.448854\n",
              "49.9 -0.357400\n",
              "50.0 -0.262375\n",
              "\n",
              "[501 rows x 1 columns]"
            ]
          },
          "metadata": {},
          "execution_count": 7
        }
      ]
    },
    {
      "cell_type": "code",
      "metadata": {
        "id": "Rf_8FN8KGG3B",
        "outputId": "12baff2f-924b-4146-f7ad-e0af2cc4798d",
        "colab": {
          "base_uri": "https://localhost:8080/"
        }
      },
      "source": [
        "len(df)"
      ],
      "execution_count": 9,
      "outputs": [
        {
          "output_type": "execute_result",
          "data": {
            "text/plain": [
              "501"
            ]
          },
          "metadata": {},
          "execution_count": 9
        }
      ]
    },
    {
      "cell_type": "code",
      "metadata": {
        "id": "25RAYEXJGLIF"
      },
      "source": [
        "test_percent = 0.1"
      ],
      "execution_count": 12,
      "outputs": []
    },
    {
      "cell_type": "code",
      "metadata": {
        "id": "bfHuwFd-GRlj"
      },
      "source": [
        "test_point = np.round(len(df) * test_percent)"
      ],
      "execution_count": 13,
      "outputs": []
    },
    {
      "cell_type": "code",
      "metadata": {
        "id": "t8M9H3Y_Ghzk",
        "outputId": "02f951a8-5bf1-4b0c-b210-012fd4abbf9c",
        "colab": {
          "base_uri": "https://localhost:8080/"
        }
      },
      "source": [
        "test_point"
      ],
      "execution_count": 14,
      "outputs": [
        {
          "output_type": "execute_result",
          "data": {
            "text/plain": [
              "50.0"
            ]
          },
          "metadata": {},
          "execution_count": 14
        }
      ]
    },
    {
      "cell_type": "code",
      "metadata": {
        "id": "OjIHPWxJGqwa"
      },
      "source": [
        "test_ind = int(len(df) - test_point)"
      ],
      "execution_count": 15,
      "outputs": []
    },
    {
      "cell_type": "code",
      "metadata": {
        "id": "HpTBEHRlGx3t",
        "outputId": "d84b7629-5ae0-407a-a547-fefb364eca72",
        "colab": {
          "base_uri": "https://localhost:8080/"
        }
      },
      "source": [
        "test_ind"
      ],
      "execution_count": 16,
      "outputs": [
        {
          "output_type": "execute_result",
          "data": {
            "text/plain": [
              "451"
            ]
          },
          "metadata": {},
          "execution_count": 16
        }
      ]
    },
    {
      "cell_type": "code",
      "metadata": {
        "id": "C0R0FlpYGy4T"
      },
      "source": [
        "train = df.iloc[:test_ind]"
      ],
      "execution_count": 17,
      "outputs": []
    },
    {
      "cell_type": "code",
      "metadata": {
        "id": "cUq6LRHmG-ET"
      },
      "source": [
        "test = df.iloc[test_ind:]"
      ],
      "execution_count": 18,
      "outputs": []
    },
    {
      "cell_type": "code",
      "metadata": {
        "id": "yOCXiLQQHCvQ"
      },
      "source": [
        "from sklearn.preprocessing import MinMaxScaler"
      ],
      "execution_count": 19,
      "outputs": []
    },
    {
      "cell_type": "code",
      "metadata": {
        "id": "CQs6REhiHRBN"
      },
      "source": [
        "scaler = MinMaxScaler()"
      ],
      "execution_count": 20,
      "outputs": []
    },
    {
      "cell_type": "code",
      "metadata": {
        "id": "8dbBhiiCHVR3",
        "outputId": "4123ca0b-f951-4976-c78f-c3d539653cbd",
        "colab": {
          "base_uri": "https://localhost:8080/"
        }
      },
      "source": [
        "scaler.fit(train)"
      ],
      "execution_count": 21,
      "outputs": [
        {
          "output_type": "execute_result",
          "data": {
            "text/plain": [
              "MinMaxScaler(copy=True, feature_range=(0, 1))"
            ]
          },
          "metadata": {},
          "execution_count": 21
        }
      ]
    },
    {
      "cell_type": "code",
      "metadata": {
        "id": "wpac0bi1HZxE"
      },
      "source": [
        "scaled_train = scaler.transform(train)"
      ],
      "execution_count": 22,
      "outputs": []
    },
    {
      "cell_type": "code",
      "metadata": {
        "id": "1Ew9QIzpHguj"
      },
      "source": [
        "scaled_test = scaler.transform(test)"
      ],
      "execution_count": 23,
      "outputs": []
    },
    {
      "cell_type": "markdown",
      "metadata": {
        "id": "cWFra5VqHkz-"
      },
      "source": [
        "### Batching"
      ]
    },
    {
      "cell_type": "code",
      "metadata": {
        "id": "wKbgfDHzHuh4"
      },
      "source": [
        "from tensorflow.keras.preprocessing.sequence import TimeseriesGenerator"
      ],
      "execution_count": 24,
      "outputs": []
    },
    {
      "cell_type": "code",
      "metadata": {
        "id": "hbuxMvUgH5Gw"
      },
      "source": [
        "length = 2\n",
        "batch_size = 1\n",
        "\n",
        "generator = TimeseriesGenerator(scaled_train, scaled_train,\n",
        "                                length=length, batch_size=batch_size)"
      ],
      "execution_count": 25,
      "outputs": []
    },
    {
      "cell_type": "code",
      "metadata": {
        "id": "JW6Aghy0InSd",
        "outputId": "1b864264-d798-48e8-b1e5-5965e215f1a3",
        "colab": {
          "base_uri": "https://localhost:8080/"
        }
      },
      "source": [
        "len(scaled_train)"
      ],
      "execution_count": 26,
      "outputs": [
        {
          "output_type": "execute_result",
          "data": {
            "text/plain": [
              "451"
            ]
          },
          "metadata": {},
          "execution_count": 26
        }
      ]
    },
    {
      "cell_type": "code",
      "metadata": {
        "id": "iIB1flLZIp8X",
        "outputId": "4538e7da-94f7-4eea-f246-33e992c6a590",
        "colab": {
          "base_uri": "https://localhost:8080/"
        }
      },
      "source": [
        "len(generator) #should be 451 - length(2)"
      ],
      "execution_count": 28,
      "outputs": [
        {
          "output_type": "execute_result",
          "data": {
            "text/plain": [
              "449"
            ]
          },
          "metadata": {},
          "execution_count": 28
        }
      ]
    },
    {
      "cell_type": "markdown",
      "metadata": {
        "id": "3s0e0zSsIs-B"
      },
      "source": [
        "### Creating a model"
      ]
    },
    {
      "cell_type": "code",
      "metadata": {
        "id": "q5ZVy4GAJwle",
        "outputId": "f6e91afd-3b6b-44b8-f0b7-3556f2ee15d1",
        "colab": {
          "base_uri": "https://localhost:8080/",
          "height": 282
        }
      },
      "source": [
        "df.plot()"
      ],
      "execution_count": 29,
      "outputs": [
        {
          "output_type": "execute_result",
          "data": {
            "text/plain": [
              "<matplotlib.axes._subplots.AxesSubplot at 0x7f0902ebb890>"
            ]
          },
          "metadata": {},
          "execution_count": 29
        },
        {
          "output_type": "display_data",
          "data": {
            "image/png": "[encoded data removed]",
            "text/plain": [
              "<Figure size 432x288 with 1 Axes>"
            ]
          },
          "metadata": {
            "needs_background": "light"
          }
        }
      ]
    },
    {
      "cell_type": "code",
      "metadata": {
        "id": "0XR9GtC1Ox0c"
      },
      "source": [
        "length = 50\n",
        "batch_size = 1\n",
        "\n",
        "generator = TimeseriesGenerator(scaled_train, scaled_train,\n",
        "                                length=length, batch_size=batch_size)"
      ],
      "execution_count": 30,
      "outputs": []
    },
    {
      "cell_type": "code",
      "metadata": {
        "id": "OEXW-6KDO7kv"
      },
      "source": [
        "from tensorflow.keras.models import Sequential"
      ],
      "execution_count": 31,
      "outputs": []
    },
    {
      "cell_type": "code",
      "metadata": {
        "id": "HNiChvF4PDXQ"
      },
      "source": [
        "from tensorflow.keras.layers import Dense, SimpleRNN, LSTM"
      ],
      "execution_count": 32,
      "outputs": []
    },
    {
      "cell_type": "code",
      "metadata": {
        "id": "WsKKAtozPKub"
      },
      "source": [
        "n_features = 1"
      ],
      "execution_count": 33,
      "outputs": []
    },
    {
      "cell_type": "code",
      "metadata": {
        "id": "htIWJIRePMyK"
      },
      "source": [
        "model = Sequential()\n",
        "model.add(SimpleRNN(units=50, #equal to length of the batch\n",
        "                    input_shape=(length, n_features)))\n",
        "model.add(Dense(1))\n",
        "model.compile(optimizer=\"adam\", loss=\"mse\")"
      ],
      "execution_count": 35,
      "outputs": []
    },
    {
      "cell_type": "code",
      "metadata": {
        "id": "6us9JaAHPOVI",
        "outputId": "6af92dc6-64fb-48b6-97c1-df5080db94f4",
        "colab": {
          "base_uri": "https://localhost:8080/"
        }
      },
      "source": [
        "model.summary()"
      ],
      "execution_count": 36,
      "outputs": [
        {
          "output_type": "stream",
          "name": "stdout",
          "text": [
            "Model: \"sequential_1\"\n",
            "_________________________________________________________________\n",
            "Layer (type)                 Output Shape              Param #   \n",
            "=================================================================\n",
            "simple_rnn (SimpleRNN)       (None, 50)                2600      \n",
            "_________________________________________________________________\n",
            "dense (Dense)                (None, 1)                 51        \n",
            "=================================================================\n",
            "Total params: 2,651\n",
            "Trainable params: 2,651\n",
            "Non-trainable params: 0\n",
            "_________________________________________________________________\n"
          ]
        }
      ]
    },
    {
      "cell_type": "code",
      "metadata": {
        "id": "78Xw5gMwPsEm",
        "outputId": "e42e9c3a-fb05-49ed-9c39-529a03403794",
        "colab": {
          "base_uri": "https://localhost:8080/"
        }
      },
      "source": [
        "model.fit_generator(generator, epochs=5)"
      ],
      "execution_count": 37,
      "outputs": [
        {
          "output_type": "stream",
          "name": "stderr",
          "text": [
            "/usr/local/lib/python3.7/dist-packages/keras/engine/training.py:1972: UserWarning: `Model.fit_generator` is deprecated and will be removed in a future version. Please use `Model.fit`, which supports generators.\n",
            "  warnings.warn('`Model.fit_generator` is deprecated and '\n"
          ]
        },
        {
          "output_type": "stream",
          "name": "stdout",
          "text": [
            "Epoch 1/5\n",
            "401/401 [==============================] - 5s 10ms/step - loss: 0.0021\n",
            "Epoch 2/5\n",
            "401/401 [==============================] - 4s 10ms/step - loss: 1.0050e-04\n",
            "Epoch 3/5\n",
            "401/401 [==============================] - 4s 9ms/step - loss: 9.8416e-04\n",
            "Epoch 4/5\n",
            "401/401 [==============================] - 4s 9ms/step - loss: 9.6928e-06\n",
            "Epoch 5/5\n",
            "401/401 [==============================] - 4s 10ms/step - loss: 7.3772e-05\n"
          ]
        },
        {
          "output_type": "execute_result",
          "data": {
            "text/plain": [
              "<keras.callbacks.History at 0x7f0909bebd90>"
            ]
          },
          "metadata": {},
          "execution_count": 37
        }
      ]
    },
    {
      "cell_type": "code",
      "metadata": {
        "id": "4Az9j1rHP2ZV"
      },
      "source": [
        "losses = pd.DataFrame(model.history.history)"
      ],
      "execution_count": 38,
      "outputs": []
    },
    {
      "cell_type": "code",
      "metadata": {
        "id": "YYzGgFnCQBcg",
        "outputId": "3b71d6a8-156e-4889-e714-90e957feea28",
        "colab": {
          "base_uri": "https://localhost:8080/",
          "height": 282
        }
      },
      "source": [
        "losses.plot()"
      ],
      "execution_count": 39,
      "outputs": [
        {
          "output_type": "execute_result",
          "data": {
            "text/plain": [
              "<matplotlib.axes._subplots.AxesSubplot at 0x7f08fc12d610>"
            ]
          },
          "metadata": {},
          "execution_count": 39
        },
        {
          "output_type": "display_data",
          "data": {
            "image/png": "[encoded data removed]",
            "text/plain": [
              "<Figure size 432x288 with 1 Axes>"
            ]
          },
          "metadata": {
            "needs_background": "light"
          }
        }
      ]
    },
    {
      "cell_type": "markdown",
      "metadata": {
        "id": "pxihZZBQQD5m"
      },
      "source": [
        "### Evaluate the model"
      ]
    },
    {
      "cell_type": "code",
      "metadata": {
        "id": "mpicYVmhQMe9"
      },
      "source": [
        "first_eval_batch = scaled_train[-length:]"
      ],
      "execution_count": 40,
      "outputs": []
    },
    {
      "cell_type": "code",
      "metadata": {
        "id": "mLmEsQCeQVbg"
      },
      "source": [
        "first_eval_batch = first_eval_batch.reshape((1, length, n_features))"
      ],
      "execution_count": 41,
      "outputs": []
    },
    {
      "cell_type": "code",
      "metadata": {
        "id": "ESu6Yo-sQeBE",
        "outputId": "04337031-7cff-4e74-deeb-abce9169a8c2",
        "colab": {
          "base_uri": "https://localhost:8080/"
        }
      },
      "source": [
        "model.predict(first_eval_batch)"
      ],
      "execution_count": 42,
      "outputs": [
        {
          "output_type": "execute_result",
          "data": {
            "text/plain": [
              "array([[0.9519018]], dtype=float32)"
            ]
          },
          "metadata": {},
          "execution_count": 42
        }
      ]
    },
    {
      "cell_type": "code",
      "metadata": {
        "id": "LoKtwv_bQjMz",
        "outputId": "36459cec-1e8b-4d18-b3e9-55053fae401b",
        "colab": {
          "base_uri": "https://localhost:8080/"
        }
      },
      "source": [
        "scaled_test[0]"
      ],
      "execution_count": 43,
      "outputs": [
        {
          "output_type": "execute_result",
          "data": {
            "text/plain": [
              "array([0.94955134])"
            ]
          },
          "metadata": {},
          "execution_count": 43
        }
      ]
    },
    {
      "cell_type": "markdown",
      "metadata": {
        "id": "ujNYcSjDQm_t"
      },
      "source": [
        "### Create logic for predicting multiple points in future"
      ]
    },
    {
      "cell_type": "code",
      "metadata": {
        "id": "6Sk8XfSLQ0q5"
      },
      "source": [
        "test_predictions = []\n",
        "\n",
        "first_eval_batch = scaled_train[-length:]\n",
        "current_batch = first_eval_batch.reshape((1, length, n_features))"
      ],
      "execution_count": 44,
      "outputs": []
    },
    {
      "cell_type": "code",
      "metadata": {
        "id": "L_HhGjnjRFHW"
      },
      "source": [
        "#current_batch"
      ],
      "execution_count": 46,
      "outputs": []
    },
    {
      "cell_type": "code",
      "metadata": {
        "id": "g_7f38vVRIcQ"
      },
      "source": [
        "#np.append(current_batch[:, 1:, :], [[[99]]],axis=1)"
      ],
      "execution_count": 47,
      "outputs": []
    },
    {
      "cell_type": "code",
      "metadata": {
        "id": "JZIxJL9QR6uK"
      },
      "source": [
        "test_predictions = []\n",
        "\n",
        "first_eval_batch = scaled_train[-length:]\n",
        "current_batch = first_eval_batch.reshape((1, length, n_features))\n",
        "\n",
        "for i in range(len(test)):\n",
        "  current_pred = model.predict(current_batch)[0]\n",
        "  test_predictions.append(current_pred)\n",
        "\n",
        "  current_batch = np.append(current_batch[:,1:,:],[[current_pred]], axis=1)"
      ],
      "execution_count": 49,
      "outputs": []
    },
    {
      "cell_type": "code",
      "metadata": {
        "id": "rFs8aIhdSjdM"
      },
      "source": [
        "#test_predictions"
      ],
      "execution_count": 61,
      "outputs": []
    },
    {
      "cell_type": "markdown",
      "metadata": {
        "id": "gBfkld-iSqxR"
      },
      "source": [
        "### Inverse predictions (from scaled back to normal)"
      ]
    },
    {
      "cell_type": "code",
      "metadata": {
        "id": "c94bOXgDS5ls"
      },
      "source": [
        "true_predictions = scaler.inverse_transform(test_predictions)"
      ],
      "execution_count": 51,
      "outputs": []
    },
    {
      "cell_type": "code",
      "metadata": {
        "id": "RTRERjNlS_Xv"
      },
      "source": [
        "#true_predictions"
      ],
      "execution_count": 60,
      "outputs": []
    },
    {
      "cell_type": "code",
      "metadata": {
        "id": "U4a5hmrHTA7f",
        "outputId": "2205b865-4068-4e07-e341-2a1c802d89b7",
        "colab": {
          "base_uri": "https://localhost:8080/"
        }
      },
      "source": [
        "test['Predictions'] = true_predictions"
      ],
      "execution_count": 53,
      "outputs": [
        {
          "output_type": "stream",
          "name": "stderr",
          "text": [
            "/usr/local/lib/python3.7/dist-packages/ipykernel_launcher.py:1: SettingWithCopyWarning: \n",
            "A value is trying to be set on a copy of a slice from a DataFrame.\n",
            "Try using .loc[row_indexer,col_indexer] = value instead\n",
            "\n",
            "See the caveats in the documentation: https://pandas.pydata.org/pandas-docs/stable/user_guide/indexing.html#returning-a-view-versus-a-copy\n",
            "  \"\"\"Entry point for launching an IPython kernel.\n"
          ]
        }
      ]
    },
    {
      "cell_type": "code",
      "metadata": {
        "id": "ATG3jYCUTG6q"
      },
      "source": [
        "#test"
      ],
      "execution_count": 64,
      "outputs": []
    },
    {
      "cell_type": "code",
      "metadata": {
        "id": "chXYx4CVTI3Y",
        "outputId": "2e37346c-24a7-4555-cc2e-d87230ef4793",
        "colab": {
          "base_uri": "https://localhost:8080/",
          "height": 441
        }
      },
      "source": [
        "test.plot(figsize=(12,8))"
      ],
      "execution_count": 55,
      "outputs": [
        {
          "output_type": "execute_result",
          "data": {
            "text/plain": [
              "<matplotlib.axes._subplots.AxesSubplot at 0x7f08fc172d90>"
            ]
          },
          "metadata": {},
          "execution_count": 55
        },
        {
          "output_type": "display_data",
          "data": {
            "image/png": "[encoded data removed]",
            "text/plain": [
              "<Figure size 864x576 with 1 Axes>"
            ]
          },
          "metadata": {
            "needs_background": "light"
          }
        }
      ]
    },
    {
      "cell_type": "markdown",
      "metadata": {
        "id": "nsWqxd3dTMeP"
      },
      "source": [
        "### Using LSTM on Sine Wave"
      ]
    },
    {
      "cell_type": "code",
      "metadata": {
        "id": "4PqGb-uYTto2"
      },
      "source": [
        "from tensorflow.keras.callbacks import EarlyStopping"
      ],
      "execution_count": 56,
      "outputs": []
    },
    {
      "cell_type": "code",
      "metadata": {
        "id": "RORD565XTzN3"
      },
      "source": [
        "early_stop = EarlyStopping(monitor='val_loss', patience=2)"
      ],
      "execution_count": 57,
      "outputs": []
    },
    {
      "cell_type": "code",
      "metadata": {
        "id": "mQUS3SW_T9IU"
      },
      "source": [
        "length = 49\n",
        "generator = TimeseriesGenerator(scaled_train, scaled_train,\n",
        "                                length=length, batch_size=1)\n",
        "\n",
        "validation_generator = TimeseriesGenerator(scaled_test,\n",
        "                                           scaled_test,\n",
        "                                           length=length,\n",
        "                                           batch_size=1)"
      ],
      "execution_count": 59,
      "outputs": []
    },
    {
      "cell_type": "code",
      "metadata": {
        "id": "_cDxq9tGUNxW"
      },
      "source": [
        "model = Sequential()\n",
        "model.add(LSTM(units=50, #equal to length of the batch\n",
        "                    input_shape=(length, n_features)))\n",
        "model.add(Dense(1))\n",
        "model.compile(optimizer=\"adam\", loss=\"mse\")"
      ],
      "execution_count": 62,
      "outputs": []
    },
    {
      "cell_type": "code",
      "metadata": {
        "id": "c_raAInYVM6r",
        "outputId": "7af58811-2542-48c2-ee3f-5a555324cbb7",
        "colab": {
          "base_uri": "https://localhost:8080/"
        }
      },
      "source": [
        "model.fit_generator(generator=generator, \n",
        "                    validation_data=validation_generator,\n",
        "                    epochs=20,\n",
        "                    callbacks=[early_stop])"
      ],
      "execution_count": 63,
      "outputs": [
        {
          "output_type": "stream",
          "name": "stderr",
          "text": [
            "/usr/local/lib/python3.7/dist-packages/keras/engine/training.py:1972: UserWarning: `Model.fit_generator` is deprecated and will be removed in a future version. Please use `Model.fit`, which supports generators.\n",
            "  warnings.warn('`Model.fit_generator` is deprecated and '\n"
          ]
        },
        {
          "output_type": "stream",
          "name": "stdout",
          "text": [
            "Epoch 1/20\n",
            "402/402 [==============================] - 10s 21ms/step - loss: 0.0228 - val_loss: 7.5426e-05\n",
            "Epoch 2/20\n",
            "402/402 [==============================] - 8s 19ms/step - loss: 1.6459e-04 - val_loss: 1.6372e-05\n",
            "Epoch 3/20\n",
            "402/402 [==============================] - 8s 19ms/step - loss: 1.2463e-04 - val_loss: 8.9986e-09\n",
            "Epoch 4/20\n",
            "402/402 [==============================] - 8s 19ms/step - loss: 7.5898e-04 - val_loss: 2.9815e-05\n",
            "Epoch 5/20\n",
            "402/402 [==============================] - 8s 19ms/step - loss: 4.0934e-05 - val_loss: 2.3844e-05\n"
          ]
        },
        {
          "output_type": "execute_result",
          "data": {
            "text/plain": [
              "<keras.callbacks.History at 0x7f08fd726810>"
            ]
          },
          "metadata": {},
          "execution_count": 63
        }
      ]
    },
    {
      "cell_type": "markdown",
      "metadata": {
        "id": "4rdXS05KVYwy"
      },
      "source": [
        "### Evaluate the LSTM model"
      ]
    },
    {
      "cell_type": "code",
      "metadata": {
        "id": "aEz0myGSWJrK"
      },
      "source": [
        "test_predictions = []\n",
        "\n",
        "first_eval_batch = scaled_train[-length:]\n",
        "current_batch = first_eval_batch.reshape((1, length, n_features))\n",
        "\n",
        "for i in range(len(test)):\n",
        "  current_pred = model.predict(current_batch)[0]\n",
        "  test_predictions.append(current_pred)\n",
        "\n",
        "  current_batch = np.append(current_batch[:,1:,:],[[current_pred]], axis=1)"
      ],
      "execution_count": 65,
      "outputs": []
    },
    {
      "cell_type": "code",
      "metadata": {
        "id": "2WKNumvzWNZc",
        "outputId": "39afe322-bf37-4838-a32c-4f3e3d334234",
        "colab": {
          "base_uri": "https://localhost:8080/",
          "height": 563
        }
      },
      "source": [
        "true_predictions = scaler.inverse_transform(test_predictions)\n",
        "test['LSTM Predictions'] = true_predictions\n",
        "test.plot(figsize=(12,8))"
      ],
      "execution_count": 66,
      "outputs": [
        {
          "output_type": "stream",
          "name": "stderr",
          "text": [
            "/usr/local/lib/python3.7/dist-packages/ipykernel_launcher.py:2: SettingWithCopyWarning: \n",
            "A value is trying to be set on a copy of a slice from a DataFrame.\n",
            "Try using .loc[row_indexer,col_indexer] = value instead\n",
            "\n",
            "See the caveats in the documentation: https://pandas.pydata.org/pandas-docs/stable/user_guide/indexing.html#returning-a-view-versus-a-copy\n",
            "  \n"
          ]
        },
        {
          "output_type": "execute_result",
          "data": {
            "text/plain": [
              "<matplotlib.axes._subplots.AxesSubplot at 0x7f08fd20c650>"
            ]
          },
          "metadata": {},
          "execution_count": 66
        },
        {
          "output_type": "display_data",
          "data": {
            "image/png": "[encoded data removed]",
            "text/plain": [
              "<Figure size 864x576 with 1 Axes>"
            ]
          },
          "metadata": {
            "needs_background": "light"
          }
        }
      ]
    },
    {
      "cell_type": "code",
      "metadata": {
        "id": "L_div8spWfnt",
        "outputId": "6bea8d2d-cbbb-41ff-ab62-7733c6ea1b36",
        "colab": {
          "base_uri": "https://localhost:8080/",
          "height": 282
        }
      },
      "source": [
        "df.plot()"
      ],
      "execution_count": 67,
      "outputs": [
        {
          "output_type": "execute_result",
          "data": {
            "text/plain": [
              "<matplotlib.axes._subplots.AxesSubplot at 0x7f08fb305710>"
            ]
          },
          "metadata": {},
          "execution_count": 67
        },
        {
          "output_type": "display_data",
          "data": {
            "image/png": "[encoded data removed]",
            "text/plain": [
              "<Figure size 432x288 with 1 Axes>"
            ]
          },
          "metadata": {
            "needs_background": "light"
          }
        }
      ]
    },
    {
      "cell_type": "markdown",
      "metadata": {
        "id": "NvIaR8u7Ynjk"
      },
      "source": [
        "### Making predictions with full data"
      ]
    },
    {
      "cell_type": "code",
      "metadata": {
        "id": "mkZQhFQEYSDI"
      },
      "source": [
        "full_scaler = MinMaxScaler()\n",
        "scaled_full_data = full_scaler.fit_transform(df)"
      ],
      "execution_count": 69,
      "outputs": []
    },
    {
      "cell_type": "code",
      "metadata": {
        "id": "qySmv9ySYYEw"
      },
      "source": [
        "generator = TimeseriesGenerator(scaled_full_data, scaled_full_data,\n",
        "                                length=length, batch_size=1)"
      ],
      "execution_count": 70,
      "outputs": []
    },
    {
      "cell_type": "code",
      "metadata": {
        "id": "9WlxeR50Y1nz"
      },
      "source": [
        "model = Sequential()\n",
        "model.add(LSTM(units=50, #equal to length of the batch\n",
        "                    input_shape=(length, n_features)))\n",
        "model.add(Dense(1))\n",
        "model.compile(optimizer=\"adam\", loss=\"mse\")"
      ],
      "execution_count": 71,
      "outputs": []
    },
    {
      "cell_type": "code",
      "metadata": {
        "id": "DNHKPU6EY6ld",
        "outputId": "e64a5488-b00d-414d-86e1-a17017ef6b66",
        "colab": {
          "base_uri": "https://localhost:8080/"
        }
      },
      "source": [
        "model.fit_generator(generator, epochs=6)"
      ],
      "execution_count": 72,
      "outputs": [
        {
          "output_type": "stream",
          "name": "stderr",
          "text": [
            "/usr/local/lib/python3.7/dist-packages/keras/engine/training.py:1972: UserWarning: `Model.fit_generator` is deprecated and will be removed in a future version. Please use `Model.fit`, which supports generators.\n",
            "  warnings.warn('`Model.fit_generator` is deprecated and '\n"
          ]
        },
        {
          "output_type": "stream",
          "name": "stdout",
          "text": [
            "Epoch 1/6\n",
            "452/452 [==============================] - 11s 19ms/step - loss: 0.0144\n",
            "Epoch 2/6\n",
            "452/452 [==============================] - 8s 19ms/step - loss: 1.2451e-04\n",
            "Epoch 3/6\n",
            "452/452 [==============================] - 9s 19ms/step - loss: 9.4791e-05\n",
            "Epoch 4/6\n",
            "452/452 [==============================] - 9s 19ms/step - loss: 1.6802e-04\n",
            "Epoch 5/6\n",
            "452/452 [==============================] - 8s 19ms/step - loss: 2.0275e-04\n",
            "Epoch 6/6\n",
            "452/452 [==============================] - 9s 19ms/step - loss: 1.3948e-04\n"
          ]
        },
        {
          "output_type": "execute_result",
          "data": {
            "text/plain": [
              "<keras.callbacks.History at 0x7f08fb186190>"
            ]
          },
          "metadata": {},
          "execution_count": 72
        }
      ]
    },
    {
      "cell_type": "code",
      "metadata": {
        "id": "19ccmRmJZCDC"
      },
      "source": [
        "forecast = []\n",
        "\n",
        "first_eval_batch = scaled_train[-length:]\n",
        "current_batch = first_eval_batch.reshape((1, length, n_features))\n",
        "\n",
        "for i in range(25): # How many points in future\n",
        "  current_pred = model.predict(current_batch)[0]\n",
        "  forecast.append(current_pred)\n",
        "\n",
        "  current_batch = np.append(current_batch[:,1:,:],[[current_pred]], axis=1)"
      ],
      "execution_count": 73,
      "outputs": []
    },
    {
      "cell_type": "code",
      "metadata": {
        "id": "81-eiNxgZgeq"
      },
      "source": [
        "forecast = scaler.inverse_transform(forecast)"
      ],
      "execution_count": 74,
      "outputs": []
    },
    {
      "cell_type": "code",
      "metadata": {
        "id": "Z8kCXMQ8ZmCU"
      },
      "source": [
        "forecast_index = np.arange(50.1, 52.6, step=0.1)"
      ],
      "execution_count": 75,
      "outputs": []
    },
    {
      "cell_type": "code",
      "metadata": {
        "id": "48anQOdCZ3eI",
        "outputId": "d762fe82-c025-40c2-ca79-41e2a8827ca9",
        "colab": {
          "base_uri": "https://localhost:8080/"
        }
      },
      "source": [
        "len(forecast_index), len(forecast)"
      ],
      "execution_count": 76,
      "outputs": [
        {
          "output_type": "execute_result",
          "data": {
            "text/plain": [
              "(25, 25)"
            ]
          },
          "metadata": {},
          "execution_count": 76
        }
      ]
    },
    {
      "cell_type": "code",
      "metadata": {
        "id": "yWnfeuHrZ7Nj",
        "outputId": "a1d11c2d-fea5-4da0-ed86-5baf72b16d17",
        "colab": {
          "base_uri": "https://localhost:8080/",
          "height": 282
        }
      },
      "source": [
        "plt.plot(df.index, df['Sine'])\n",
        "plt.plot(forecast_index, forecast)"
      ],
      "execution_count": 77,
      "outputs": [
        {
          "output_type": "execute_result",
          "data": {
            "text/plain": [
              "[<matplotlib.lines.Line2D at 0x7f08faeef710>]"
            ]
          },
          "metadata": {},
          "execution_count": 77
        },
        {
          "output_type": "display_data",
          "data": {
            "image/png": "[encoded data removed]",
            "text/plain": [
              "<Figure size 432x288 with 1 Axes>"
            ]
          },
          "metadata": {
            "needs_background": "light"
          }
        }
      ]
    },
    {
      "cell_type": "code",
      "metadata": {
        "id": "Ur2-PIzaaEmn"
      },
      "source": [
        ""
      ],
      "execution_count": null,
      "outputs": []
    }
  ]
}