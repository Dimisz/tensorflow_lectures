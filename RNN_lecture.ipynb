{
  "nbformat": 4,
  "nbformat_minor": 0,
  "metadata": {
    "colab": {
      "name": "RNN_lecture.ipynb",
      "provenance": [],
      "toc_visible": true,
      "authorship_tag": "ABX9TyORSOVjC7tYg6CYOjRY9O9p",
      "include_colab_link": true
    },
    "kernelspec": {
      "name": "python3",
      "display_name": "Python 3"
    },
    "language_info": {
      "name": "python"
    },
    "accelerator": "GPU"
  },
  "cells": [
    {
      "cell_type": "markdown",
      "metadata": {
        "id": "view-in-github",
        "colab_type": "text"
      },
      "source": [
        "<a href=\"https://colab.research.google.com/github/Dimisz/tensorflow_lectures/blob/main/RNN_lecture.ipynb\" target=\"_parent\"><img src=\"https://colab.research.google.com/assets/colab-badge.svg\" alt=\"Open In Colab\"/></a>"
      ]
    },
    {
      "cell_type": "markdown",
      "metadata": {
        "id": "xX0RjgVDYjN1"
      },
      "source": [
        "**Recurrent Neural Networks** are more effective with sequence data, e.g.\n",
        "* time-stamped sales data\n",
        "* sequence of text\n",
        "* heart beat data\n",
        "* etc"
      ]
    },
    {
      "cell_type": "markdown",
      "metadata": {
        "id": "sSiHKqTqbYry"
      },
      "source": [
        "## RNN Theory\n",
        "**Sequence** is data that's coming in a specific order, and order is important.\n",
        "\n",
        "**Normal Neuron workflow**:\n",
        "Input -> Aggregation of Inputs -> Activation Function -> Output\n",
        "\n",
        "**Recurrent Neuron workflow**: Input -> Aggregation of Inputs -> Activation Function -> Output -> Aggrregation of Inputs (output is fed to itself)\n",
        "\n",
        "**Memory Cells** - cells that are a function of inputs from previous time steps.\n",
        "\n",
        "**RNN Architectures**:\n",
        "* **Sequence-to-Sequence** (Many to Many): *pass in a sequence and expect a sequence out (e.g. chatbot)*\n",
        "* **Sequence-to-Vector** (Many to One): *pass in a sequence to predict a single value (generate text: next word)*\n",
        "* **Vector-to-Sequence** (One to Many)\n",
        "\n",
        "## Issues with RNNs\n",
        "Main disadvantage is that RNN only really remember the previous output. It would be useful if we could keep track of longer history, not just short term history.\n",
        "\n",
        "\n",
        "**1. Vanishing Gradient** as you go back to the 'lower' layers, gradients often get smaller, eventually causing weights to never change at lower layers.\n",
        "\n",
        "**2. Exploding Gradient** the opposite to 1., gradients 'explode' on the way back, causing issues.\n",
        "\n",
        "**Solution 1**:\n",
        "* Using ReLU\n",
        "* Uning 'Leaky' ReLU\n",
        "* Exponential Linear Unit (ELU)\n",
        "\n",
        "**Solution 2**:\n",
        "* **Batch normalization** - model will normalize each batch using the batch mean and standard deviation.\n",
        "\n",
        "* **Xavier Initialization** - choosing different initialization of weights\n",
        "\n",
        "* **Gradient Clipping** (for exploding gradient) - a 'quick fix': gradients are cut off before reaching a predetermined limit (cut off the gradient to be between -1 and 1)."
      ]
    },
    {
      "cell_type": "markdown",
      "metadata": {
        "id": "JXz64aSIsBBm"
      },
      "source": [
        "## LSTM (Long Short-Term Memory)"
      ]
    },
    {
      "cell_type": "markdown",
      "metadata": {
        "id": "V35OMy57sL-C"
      },
      "source": [
        "The solutions specified above could slow down training.\n",
        "\n",
        "After a while the network will begin to 'forget' the first inputs, as information is lost at each step going through RNN.\n",
        "\n",
        "So we need \"long-term\" memory.\n",
        "\n",
        "To address this we have **LSTM(Long Short-Term Memory)**\n",
        "\n",
        "Structure of LSTM:\n",
        "* **Forget Gate** - decides what to forget from the previous memory units.\n",
        "* **Input Gate** - decides what to accept into a neuron.\n",
        "* **Output Gate** - outputs the new long-term memory. \n",
        "* **Update Gate** - updates the memory.\n",
        "\n",
        "\n",
        "**First step** is to decide what information are we going to throw away/forget from the cell state (pass the weights through sigmoid function: the closer it is to 0, the more are the chances it will be thrown away, the closer it is to 1 - the more chances to keep)\n",
        "\n",
        "**Second step** is to decide what new information are we going to store to the cell state. 2 parts:\n",
        "\n",
        "* Input gate layer\n",
        "* Hyperbolic tangent layer, creating a vector of new candidates.\n",
        "\n",
        "**Third step** is to update the old cell state: multiply the old state by f(t) forgetting the info we've decided are not important, then we add candidates\n",
        "\n",
        "**Fourth step** is to decide what we are going to output. So we run a sigmoid layer to decide what parts of the cell state we're going to output. Then we put that cell state through a hyperbolic tangent function which pushes all the values to be between -1 and 1. And than we multiply it by the output of the initial sigmoid gate. "
      ]
    },
    {
      "cell_type": "markdown",
      "metadata": {
        "id": "rxosYOIB-_UC"
      },
      "source": [
        "## Gated Recurrent Unit (GRU)\n",
        "\n",
        "A variation of LSTM which combines the forget and input gates into 'single update' gate."
      ]
    },
    {
      "cell_type": "markdown",
      "metadata": {
        "id": "55BgY7EX_U7q"
      },
      "source": [
        "## Basic RNN on a Sine Wave"
      ]
    },
    {
      "cell_type": "markdown",
      "metadata": {
        "id": "UGSw20INHn3I"
      },
      "source": [
        "### Preparing the Data"
      ]
    },
    {
      "cell_type": "code",
      "metadata": {
        "id": "X_TJFkXJBJyq"
      },
      "source": [
        "import pandas as pd\n",
        "import numpy as np\n",
        "import matplotlib.pyplot as plt"
      ],
      "execution_count": 1,
      "outputs": []
    },
    {
      "cell_type": "code",
      "metadata": {
        "id": "juRne3AUBp53"
      },
      "source": [
        "# Create a sinewave\n",
        "x = np.linspace(0, 50, 501)"
      ],
      "execution_count": 2,
      "outputs": []
    },
    {
      "cell_type": "code",
      "metadata": {
        "id": "XzZg8VPDByyt"
      },
      "source": [
        "y = np.sin(x)"
      ],
      "execution_count": 3,
      "outputs": []
    },
    {
      "cell_type": "code",
      "metadata": {
        "id": "mhzqXrA_BzVB",
        "colab": {
          "base_uri": "https://localhost:8080/",
          "height": 282
        },
        "outputId": "c25ad575-ebce-4c31-d804-71c7c21ba9b5"
      },
      "source": [
        "plt.plot(x,y)"
      ],
      "execution_count": 4,
      "outputs": [
        {
          "output_type": "execute_result",
          "data": {
            "text/plain": [
              "[<matplotlib.lines.Line2D at 0x7f026fed4fd0>]"
            ]
          },
          "metadata": {},
          "execution_count": 4
        },
        {
          "output_type": "display_data",
          "data": {
            "image/png": "[encoded data removed]",
            "text/plain": [
              "<Figure size 432x288 with 1 Axes>"
            ]
          },
          "metadata": {
            "needs_background": "light"
          }
        }
      ]
    },
    {
      "cell_type": "code",
      "metadata": {
        "id": "uH227mWwF9SS"
      },
      "source": [
        "df = pd.DataFrame(data=y, index=x, columns=['Sine'])"
      ],
      "execution_count": 5,
      "outputs": []
    },
    {
      "cell_type": "code",
      "metadata": {
        "id": "w4jhxG-YGGSF",
        "colab": {
          "base_uri": "https://localhost:8080/",
          "height": 419
        },
        "outputId": "5c45e475-95d2-4ee1-fd7f-206a6067ad6b"
      },
      "source": [
        "df"
      ],
      "execution_count": 6,
      "outputs": [
        {
          "output_type": "execute_result",
          "data": {
            "text/html": [
              "<div>\n",
              "<style scoped>\n",
              "    .dataframe tbody tr th:only-of-type {\n",
              "        vertical-align: middle;\n",
              "    }\n",
              "\n",
              "    .dataframe tbody tr th {\n",
              "        vertical-align: top;\n",
              "    }\n",
              "\n",
              "    .dataframe thead th {\n",
              "        text-align: right;\n",
              "    }\n",
              "</style>\n",
              "<table border=\"1\" class=\"dataframe\">\n",
              "  <thead>\n",
              "    <tr style=\"text-align: right;\">\n",
              "      <th></th>\n",
              "      <th>Sine</th>\n",
              "    </tr>\n",
              "  </thead>\n",
              "  <tbody>\n",
              "    <tr>\n",
              "      <th>0.0</th>\n",
              "      <td>0.000000</td>\n",
              "    </tr>\n",
              "    <tr>\n",
              "      <th>0.1</th>\n",
              "      <td>0.099833</td>\n",
              "    </tr>\n",
              "    <tr>\n",
              "      <th>0.2</th>\n",
              "      <td>0.198669</td>\n",
              "    </tr>\n",
              "    <tr>\n",
              "      <th>0.3</th>\n",
              "      <td>0.295520</td>\n",
              "    </tr>\n",
              "    <tr>\n",
              "      <th>0.4</th>\n",
              "      <td>0.389418</td>\n",
              "    </tr>\n",
              "    <tr>\n",
              "      <th>...</th>\n",
              "      <td>...</td>\n",
              "    </tr>\n",
              "    <tr>\n",
              "      <th>49.6</th>\n",
              "      <td>-0.617439</td>\n",
              "    </tr>\n",
              "    <tr>\n",
              "      <th>49.7</th>\n",
              "      <td>-0.535823</td>\n",
              "    </tr>\n",
              "    <tr>\n",
              "      <th>49.8</th>\n",
              "      <td>-0.448854</td>\n",
              "    </tr>\n",
              "    <tr>\n",
              "      <th>49.9</th>\n",
              "      <td>-0.357400</td>\n",
              "    </tr>\n",
              "    <tr>\n",
              "      <th>50.0</th>\n",
              "      <td>-0.262375</td>\n",
              "    </tr>\n",
              "  </tbody>\n",
              "</table>\n",
              "<p>501 rows × 1 columns</p>\n",
              "</div>"
            ],
            "text/plain": [
              "          Sine\n",
              "0.0   0.000000\n",
              "0.1   0.099833\n",
              "0.2   0.198669\n",
              "0.3   0.295520\n",
              "0.4   0.389418\n",
              "...        ...\n",
              "49.6 -0.617439\n",
              "49.7 -0.535823\n",
              "49.8 -0.448854\n",
              "49.9 -0.357400\n",
              "50.0 -0.262375\n",
              "\n",
              "[501 rows x 1 columns]"
            ]
          },
          "metadata": {},
          "execution_count": 6
        }
      ]
    },
    {
      "cell_type": "code",
      "metadata": {
        "id": "Rf_8FN8KGG3B",
        "colab": {
          "base_uri": "https://localhost:8080/"
        },
        "outputId": "32dfccd1-9d48-4902-8e3b-fa51252a3a17"
      },
      "source": [
        "len(df)"
      ],
      "execution_count": 7,
      "outputs": [
        {
          "output_type": "execute_result",
          "data": {
            "text/plain": [
              "501"
            ]
          },
          "metadata": {},
          "execution_count": 7
        }
      ]
    },
    {
      "cell_type": "code",
      "metadata": {
        "id": "25RAYEXJGLIF"
      },
      "source": [
        "test_percent = 0.1"
      ],
      "execution_count": 8,
      "outputs": []
    },
    {
      "cell_type": "code",
      "metadata": {
        "id": "bfHuwFd-GRlj"
      },
      "source": [
        "test_point = np.round(len(df) * test_percent)"
      ],
      "execution_count": 9,
      "outputs": []
    },
    {
      "cell_type": "code",
      "metadata": {
        "id": "t8M9H3Y_Ghzk",
        "colab": {
          "base_uri": "https://localhost:8080/"
        },
        "outputId": "e5666cdd-5ca5-46e1-f5eb-a76ddee5b59f"
      },
      "source": [
        "test_point"
      ],
      "execution_count": 10,
      "outputs": [
        {
          "output_type": "execute_result",
          "data": {
            "text/plain": [
              "50.0"
            ]
          },
          "metadata": {},
          "execution_count": 10
        }
      ]
    },
    {
      "cell_type": "code",
      "metadata": {
        "id": "OjIHPWxJGqwa"
      },
      "source": [
        "test_ind = int(len(df) - test_point)"
      ],
      "execution_count": 11,
      "outputs": []
    },
    {
      "cell_type": "code",
      "metadata": {
        "id": "HpTBEHRlGx3t",
        "colab": {
          "base_uri": "https://localhost:8080/"
        },
        "outputId": "22f12a93-0e13-4e82-b1f9-f6d1b59aa8fd"
      },
      "source": [
        "test_ind"
      ],
      "execution_count": 12,
      "outputs": [
        {
          "output_type": "execute_result",
          "data": {
            "text/plain": [
              "451"
            ]
          },
          "metadata": {},
          "execution_count": 12
        }
      ]
    },
    {
      "cell_type": "code",
      "metadata": {
        "id": "C0R0FlpYGy4T"
      },
      "source": [
        "train = df.iloc[:test_ind]"
      ],
      "execution_count": 13,
      "outputs": []
    },
    {
      "cell_type": "code",
      "metadata": {
        "id": "cUq6LRHmG-ET"
      },
      "source": [
        "test = df.iloc[test_ind:]"
      ],
      "execution_count": 14,
      "outputs": []
    },
    {
      "cell_type": "code",
      "metadata": {
        "id": "yOCXiLQQHCvQ"
      },
      "source": [
        "from sklearn.preprocessing import MinMaxScaler"
      ],
      "execution_count": 15,
      "outputs": []
    },
    {
      "cell_type": "code",
      "metadata": {
        "id": "CQs6REhiHRBN"
      },
      "source": [
        "scaler = MinMaxScaler()"
      ],
      "execution_count": 16,
      "outputs": []
    },
    {
      "cell_type": "code",
      "metadata": {
        "id": "8dbBhiiCHVR3",
        "colab": {
          "base_uri": "https://localhost:8080/"
        },
        "outputId": "4a4eb887-8c7a-4e83-aa2c-ddc6bf717bcd"
      },
      "source": [
        "scaler.fit(train)"
      ],
      "execution_count": 17,
      "outputs": [
        {
          "output_type": "execute_result",
          "data": {
            "text/plain": [
              "MinMaxScaler(copy=True, feature_range=(0, 1))"
            ]
          },
          "metadata": {},
          "execution_count": 17
        }
      ]
    },
    {
      "cell_type": "code",
      "metadata": {
        "id": "wpac0bi1HZxE"
      },
      "source": [
        "scaled_train = scaler.transform(train)"
      ],
      "execution_count": 18,
      "outputs": []
    },
    {
      "cell_type": "code",
      "metadata": {
        "id": "1Ew9QIzpHguj"
      },
      "source": [
        "scaled_test = scaler.transform(test)"
      ],
      "execution_count": 19,
      "outputs": []
    },
    {
      "cell_type": "markdown",
      "metadata": {
        "id": "cWFra5VqHkz-"
      },
      "source": [
        "### Batching"
      ]
    },
    {
      "cell_type": "code",
      "metadata": {
        "id": "wKbgfDHzHuh4"
      },
      "source": [
        "from tensorflow.keras.preprocessing.sequence import TimeseriesGenerator"
      ],
      "execution_count": 20,
      "outputs": []
    },
    {
      "cell_type": "code",
      "metadata": {
        "id": "hbuxMvUgH5Gw"
      },
      "source": [
        "length = 2\n",
        "batch_size = 1\n",
        "\n",
        "generator = TimeseriesGenerator(scaled_train, scaled_train,\n",
        "                                length=length, batch_size=batch_size)"
      ],
      "execution_count": 21,
      "outputs": []
    },
    {
      "cell_type": "code",
      "metadata": {
        "id": "JW6Aghy0InSd",
        "colab": {
          "base_uri": "https://localhost:8080/"
        },
        "outputId": "e9278038-6364-435f-bc52-3c4c7a0658ae"
      },
      "source": [
        "len(scaled_train)"
      ],
      "execution_count": 22,
      "outputs": [
        {
          "output_type": "execute_result",
          "data": {
            "text/plain": [
              "451"
            ]
          },
          "metadata": {},
          "execution_count": 22
        }
      ]
    },
    {
      "cell_type": "code",
      "metadata": {
        "id": "iIB1flLZIp8X",
        "colab": {
          "base_uri": "https://localhost:8080/"
        },
        "outputId": "e4344e27-2fa0-4eb8-b0aa-9da227dd457e"
      },
      "source": [
        "len(generator) #should be 451 - length(2)"
      ],
      "execution_count": 23,
      "outputs": [
        {
          "output_type": "execute_result",
          "data": {
            "text/plain": [
              "449"
            ]
          },
          "metadata": {},
          "execution_count": 23
        }
      ]
    },
    {
      "cell_type": "markdown",
      "metadata": {
        "id": "3s0e0zSsIs-B"
      },
      "source": [
        "### Creating a model"
      ]
    },
    {
      "cell_type": "code",
      "metadata": {
        "id": "q5ZVy4GAJwle",
        "colab": {
          "base_uri": "https://localhost:8080/",
          "height": 282
        },
        "outputId": "9cc6877e-3dd3-4218-dcb5-5fcf6917d269"
      },
      "source": [
        "df.plot()"
      ],
      "execution_count": 24,
      "outputs": [
        {
          "output_type": "execute_result",
          "data": {
            "text/plain": [
              "<matplotlib.axes._subplots.AxesSubplot at 0x7f02163b1d10>"
            ]
          },
          "metadata": {},
          "execution_count": 24
        },
        {
          "output_type": "display_data",
          "data": {
            "image/png": "[encoded data removed]",
            "text/plain": [
              "<Figure size 432x288 with 1 Axes>"
            ]
          },
          "metadata": {
            "needs_background": "light"
          }
        }
      ]
    },
    {
      "cell_type": "code",
      "metadata": {
        "id": "0XR9GtC1Ox0c"
      },
      "source": [
        "length = 50\n",
        "batch_size = 1\n",
        "\n",
        "generator = TimeseriesGenerator(scaled_train, scaled_train,\n",
        "                                length=length, batch_size=batch_size)"
      ],
      "execution_count": 25,
      "outputs": []
    },
    {
      "cell_type": "code",
      "metadata": {
        "id": "OEXW-6KDO7kv"
      },
      "source": [
        "from tensorflow.keras.models import Sequential"
      ],
      "execution_count": 26,
      "outputs": []
    },
    {
      "cell_type": "code",
      "metadata": {
        "id": "HNiChvF4PDXQ"
      },
      "source": [
        "from tensorflow.keras.layers import Dense, SimpleRNN, LSTM"
      ],
      "execution_count": 27,
      "outputs": []
    },
    {
      "cell_type": "code",
      "metadata": {
        "id": "WsKKAtozPKub"
      },
      "source": [
        "n_features = 1"
      ],
      "execution_count": 28,
      "outputs": []
    },
    {
      "cell_type": "code",
      "metadata": {
        "id": "htIWJIRePMyK"
      },
      "source": [
        "model = Sequential()\n",
        "model.add(SimpleRNN(units=50, #equal to length of the batch\n",
        "                    input_shape=(length, n_features)))\n",
        "model.add(Dense(1))\n",
        "model.compile(optimizer=\"adam\", loss=\"mse\")"
      ],
      "execution_count": 29,
      "outputs": []
    },
    {
      "cell_type": "code",
      "metadata": {
        "id": "6us9JaAHPOVI",
        "colab": {
          "base_uri": "https://localhost:8080/"
        },
        "outputId": "e8877b5a-6e91-44f5-fb83-d25c7c20d12d"
      },
      "source": [
        "model.summary()"
      ],
      "execution_count": 30,
      "outputs": [
        {
          "output_type": "stream",
          "name": "stdout",
          "text": [
            "Model: \"sequential\"\n",
            "_________________________________________________________________\n",
            "Layer (type)                 Output Shape              Param #   \n",
            "=================================================================\n",
            "simple_rnn (SimpleRNN)       (None, 50)                2600      \n",
            "_________________________________________________________________\n",
            "dense (Dense)                (None, 1)                 51        \n",
            "=================================================================\n",
            "Total params: 2,651\n",
            "Trainable params: 2,651\n",
            "Non-trainable params: 0\n",
            "_________________________________________________________________\n"
          ]
        }
      ]
    },
    {
      "cell_type": "code",
      "metadata": {
        "id": "78Xw5gMwPsEm",
        "colab": {
          "base_uri": "https://localhost:8080/"
        },
        "outputId": "9b6fc5db-468b-4b21-aa9d-4c0a1603ec33"
      },
      "source": [
        "model.fit_generator(generator, epochs=5)"
      ],
      "execution_count": 31,
      "outputs": [
        {
          "output_type": "stream",
          "name": "stdout",
          "text": [
            "Epoch 1/5\n"
          ]
        },
        {
          "output_type": "stream",
          "name": "stderr",
          "text": [
            "/usr/local/lib/python3.7/dist-packages/keras/engine/training.py:1972: UserWarning: `Model.fit_generator` is deprecated and will be removed in a future version. Please use `Model.fit`, which supports generators.\n",
            "  warnings.warn('`Model.fit_generator` is deprecated and '\n"
          ]
        },
        {
          "output_type": "stream",
          "name": "stdout",
          "text": [
            "401/401 [==============================] - 26s 57ms/step - loss: 0.0071\n",
            "Epoch 2/5\n",
            "401/401 [==============================] - 23s 57ms/step - loss: 1.0691e-04\n",
            "Epoch 3/5\n",
            "401/401 [==============================] - 23s 58ms/step - loss: 1.3534e-04\n",
            "Epoch 4/5\n",
            "401/401 [==============================] - 23s 58ms/step - loss: 1.4224e-04\n",
            "Epoch 5/5\n",
            "401/401 [==============================] - 23s 58ms/step - loss: 5.4182e-05\n"
          ]
        },
        {
          "output_type": "execute_result",
          "data": {
            "text/plain": [
              "<keras.callbacks.History at 0x7f02162ee4d0>"
            ]
          },
          "metadata": {},
          "execution_count": 31
        }
      ]
    },
    {
      "cell_type": "code",
      "metadata": {
        "id": "4Az9j1rHP2ZV"
      },
      "source": [
        "losses = pd.DataFrame(model.history.history)"
      ],
      "execution_count": 32,
      "outputs": []
    },
    {
      "cell_type": "code",
      "metadata": {
        "id": "YYzGgFnCQBcg",
        "colab": {
          "base_uri": "https://localhost:8080/",
          "height": 282
        },
        "outputId": "00b4cb40-efad-4790-b97a-43ae14decbe1"
      },
      "source": [
        "losses.plot()"
      ],
      "execution_count": 33,
      "outputs": [
        {
          "output_type": "execute_result",
          "data": {
            "text/plain": [
              "<matplotlib.axes._subplots.AxesSubplot at 0x7f019ba71cd0>"
            ]
          },
          "metadata": {},
          "execution_count": 33
        },
        {
          "output_type": "display_data",
          "data": {
            "image/png": "[encoded data removed]",
            "text/plain": [
              "<Figure size 432x288 with 1 Axes>"
            ]
          },
          "metadata": {
            "needs_background": "light"
          }
        }
      ]
    },
    {
      "cell_type": "markdown",
      "metadata": {
        "id": "pxihZZBQQD5m"
      },
      "source": [
        "### Evaluate the model"
      ]
    },
    {
      "cell_type": "code",
      "metadata": {
        "id": "mpicYVmhQMe9"
      },
      "source": [
        "first_eval_batch = scaled_train[-length:]"
      ],
      "execution_count": 34,
      "outputs": []
    },
    {
      "cell_type": "code",
      "metadata": {
        "id": "mLmEsQCeQVbg"
      },
      "source": [
        "first_eval_batch = first_eval_batch.reshape((1, length, n_features))"
      ],
      "execution_count": 35,
      "outputs": []
    },
    {
      "cell_type": "code",
      "metadata": {
        "id": "ESu6Yo-sQeBE",
        "colab": {
          "base_uri": "https://localhost:8080/"
        },
        "outputId": "69bc51bb-7fb6-4500-c3be-c1d8c81a07ee"
      },
      "source": [
        "model.predict(first_eval_batch)"
      ],
      "execution_count": 36,
      "outputs": [
        {
          "output_type": "execute_result",
          "data": {
            "text/plain": [
              "array([[0.94603145]], dtype=float32)"
            ]
          },
          "metadata": {},
          "execution_count": 36
        }
      ]
    },
    {
      "cell_type": "code",
      "metadata": {
        "id": "LoKtwv_bQjMz",
        "colab": {
          "base_uri": "https://localhost:8080/"
        },
        "outputId": "714246d8-8ede-47e5-b6f0-a4920561000b"
      },
      "source": [
        "scaled_test[0]"
      ],
      "execution_count": 37,
      "outputs": [
        {
          "output_type": "execute_result",
          "data": {
            "text/plain": [
              "array([0.94955134])"
            ]
          },
          "metadata": {},
          "execution_count": 37
        }
      ]
    },
    {
      "cell_type": "markdown",
      "metadata": {
        "id": "ujNYcSjDQm_t"
      },
      "source": [
        "### Create logic for predicting multiple points in future"
      ]
    },
    {
      "cell_type": "code",
      "metadata": {
        "id": "6Sk8XfSLQ0q5"
      },
      "source": [
        "test_predictions = []\n",
        "\n",
        "first_eval_batch = scaled_train[-length:]\n",
        "current_batch = first_eval_batch.reshape((1, length, n_features))"
      ],
      "execution_count": 38,
      "outputs": []
    },
    {
      "cell_type": "code",
      "metadata": {
        "id": "L_HhGjnjRFHW"
      },
      "source": [
        "#current_batch"
      ],
      "execution_count": 39,
      "outputs": []
    },
    {
      "cell_type": "code",
      "metadata": {
        "id": "g_7f38vVRIcQ"
      },
      "source": [
        "#np.append(current_batch[:, 1:, :], [[[99]]],axis=1)"
      ],
      "execution_count": 40,
      "outputs": []
    },
    {
      "cell_type": "code",
      "metadata": {
        "id": "JZIxJL9QR6uK"
      },
      "source": [
        "test_predictions = []\n",
        "\n",
        "first_eval_batch = scaled_train[-length:]\n",
        "current_batch = first_eval_batch.reshape((1, length, n_features))\n",
        "\n",
        "for i in range(len(test)):\n",
        "  current_pred = model.predict(current_batch)[0]\n",
        "  test_predictions.append(current_pred)\n",
        "\n",
        "  current_batch = np.append(current_batch[:,1:,:],[[current_pred]], axis=1)"
      ],
      "execution_count": 41,
      "outputs": []
    },
    {
      "cell_type": "code",
      "metadata": {
        "id": "rFs8aIhdSjdM"
      },
      "source": [
        "#test_predictions"
      ],
      "execution_count": 42,
      "outputs": []
    },
    {
      "cell_type": "markdown",
      "metadata": {
        "id": "gBfkld-iSqxR"
      },
      "source": [
        "### Inverse predictions (from scaled back to normal)"
      ]
    },
    {
      "cell_type": "code",
      "metadata": {
        "id": "c94bOXgDS5ls"
      },
      "source": [
        "true_predictions = scaler.inverse_transform(test_predictions)"
      ],
      "execution_count": 43,
      "outputs": []
    },
    {
      "cell_type": "code",
      "metadata": {
        "id": "RTRERjNlS_Xv"
      },
      "source": [
        "#true_predictions"
      ],
      "execution_count": 44,
      "outputs": []
    },
    {
      "cell_type": "code",
      "metadata": {
        "id": "U4a5hmrHTA7f",
        "colab": {
          "base_uri": "https://localhost:8080/"
        },
        "outputId": "4c4be3d0-aad9-4a3e-a69c-9f98f7c70577"
      },
      "source": [
        "test['Predictions'] = true_predictions"
      ],
      "execution_count": 45,
      "outputs": [
        {
          "output_type": "stream",
          "name": "stderr",
          "text": [
            "/usr/local/lib/python3.7/dist-packages/ipykernel_launcher.py:1: SettingWithCopyWarning: \n",
            "A value is trying to be set on a copy of a slice from a DataFrame.\n",
            "Try using .loc[row_indexer,col_indexer] = value instead\n",
            "\n",
            "See the caveats in the documentation: https://pandas.pydata.org/pandas-docs/stable/user_guide/indexing.html#returning-a-view-versus-a-copy\n",
            "  \"\"\"Entry point for launching an IPython kernel.\n"
          ]
        }
      ]
    },
    {
      "cell_type": "code",
      "metadata": {
        "id": "ATG3jYCUTG6q"
      },
      "source": [
        "#test"
      ],
      "execution_count": 46,
      "outputs": []
    },
    {
      "cell_type": "code",
      "metadata": {
        "id": "chXYx4CVTI3Y",
        "colab": {
          "base_uri": "https://localhost:8080/",
          "height": 500
        },
        "outputId": "1f13efe0-6220-4c70-98ae-db27c3a4f5af"
      },
      "source": [
        "test.plot(figsize=(12,8))"
      ],
      "execution_count": 47,
      "outputs": [
        {
          "output_type": "execute_result",
          "data": {
            "text/plain": [
              "<matplotlib.axes._subplots.AxesSubplot at 0x7f019d14edd0>"
            ]
          },
          "metadata": {},
          "execution_count": 47
        },
        {
          "output_type": "display_data",
          "data": {
            "image/png": "[encoded data removed]",
            "text/plain": [
              "<Figure size 864x576 with 1 Axes>"
            ]
          },
          "metadata": {
            "needs_background": "light"
          }
        }
      ]
    },
    {
      "cell_type": "markdown",
      "metadata": {
        "id": "nsWqxd3dTMeP"
      },
      "source": [
        "### Using LSTM on Sine Wave"
      ]
    },
    {
      "cell_type": "code",
      "metadata": {
        "id": "4PqGb-uYTto2"
      },
      "source": [
        "from tensorflow.keras.callbacks import EarlyStopping"
      ],
      "execution_count": 48,
      "outputs": []
    },
    {
      "cell_type": "code",
      "metadata": {
        "id": "RORD565XTzN3"
      },
      "source": [
        "early_stop = EarlyStopping(monitor='val_loss', patience=2)"
      ],
      "execution_count": 49,
      "outputs": []
    },
    {
      "cell_type": "code",
      "metadata": {
        "id": "mQUS3SW_T9IU"
      },
      "source": [
        "length = 49\n",
        "generator = TimeseriesGenerator(scaled_train, scaled_train,\n",
        "                                length=length, batch_size=1)\n",
        "\n",
        "validation_generator = TimeseriesGenerator(scaled_test,\n",
        "                                           scaled_test,\n",
        "                                           length=length,\n",
        "                                           batch_size=1)"
      ],
      "execution_count": 50,
      "outputs": []
    },
    {
      "cell_type": "code",
      "metadata": {
        "id": "_cDxq9tGUNxW"
      },
      "source": [
        "model = Sequential()\n",
        "model.add(LSTM(units=50, #equal to length of the batch\n",
        "                    input_shape=(length, n_features)))\n",
        "model.add(Dense(1))\n",
        "model.compile(optimizer=\"adam\", loss=\"mse\")"
      ],
      "execution_count": 51,
      "outputs": []
    },
    {
      "cell_type": "code",
      "metadata": {
        "id": "c_raAInYVM6r",
        "colab": {
          "base_uri": "https://localhost:8080/"
        },
        "outputId": "7ee0f2d9-da3f-4c0a-8e68-8c29564343f5"
      },
      "source": [
        "model.fit_generator(generator=generator, \n",
        "                    validation_data=validation_generator,\n",
        "                    epochs=20,\n",
        "                    callbacks=[early_stop])"
      ],
      "execution_count": 52,
      "outputs": [
        {
          "output_type": "stream",
          "name": "stderr",
          "text": [
            "/usr/local/lib/python3.7/dist-packages/keras/engine/training.py:1972: UserWarning: `Model.fit_generator` is deprecated and will be removed in a future version. Please use `Model.fit`, which supports generators.\n",
            "  warnings.warn('`Model.fit_generator` is deprecated and '\n"
          ]
        },
        {
          "output_type": "stream",
          "name": "stdout",
          "text": [
            "Epoch 1/20\n",
            "402/402 [==============================] - 9s 10ms/step - loss: 0.0160 - val_loss: 1.5672e-04\n",
            "Epoch 2/20\n",
            "402/402 [==============================] - 4s 9ms/step - loss: 2.0883e-04 - val_loss: 9.4552e-05\n",
            "Epoch 3/20\n",
            "402/402 [==============================] - 4s 9ms/step - loss: 2.2742e-04 - val_loss: 4.3225e-05\n",
            "Epoch 4/20\n",
            "402/402 [==============================] - 4s 9ms/step - loss: 1.2848e-04 - val_loss: 4.0022e-05\n",
            "Epoch 5/20\n",
            "402/402 [==============================] - 4s 9ms/step - loss: 3.9930e-05 - val_loss: 8.0269e-05\n",
            "Epoch 6/20\n",
            "402/402 [==============================] - 4s 9ms/step - loss: 2.2958e-04 - val_loss: 3.7495e-05\n",
            "Epoch 7/20\n",
            "402/402 [==============================] - 4s 9ms/step - loss: 1.1315e-04 - val_loss: 2.9731e-04\n",
            "Epoch 8/20\n",
            "402/402 [==============================] - 4s 9ms/step - loss: 7.5350e-04 - val_loss: 2.4683e-05\n",
            "Epoch 9/20\n",
            "402/402 [==============================] - 4s 9ms/step - loss: 4.6611e-05 - val_loss: 1.4903e-05\n",
            "Epoch 10/20\n",
            "402/402 [==============================] - 4s 9ms/step - loss: 5.1728e-05 - val_loss: 9.7419e-06\n",
            "Epoch 11/20\n",
            "402/402 [==============================] - 4s 9ms/step - loss: 7.5921e-05 - val_loss: 4.8770e-06\n",
            "Epoch 12/20\n",
            "402/402 [==============================] - 4s 9ms/step - loss: 5.0073e-05 - val_loss: 2.2560e-05\n",
            "Epoch 13/20\n",
            "402/402 [==============================] - 4s 9ms/step - loss: 4.1853e-05 - val_loss: 0.0027\n"
          ]
        },
        {
          "output_type": "execute_result",
          "data": {
            "text/plain": [
              "<keras.callbacks.History at 0x7f019ba7f890>"
            ]
          },
          "metadata": {},
          "execution_count": 52
        }
      ]
    },
    {
      "cell_type": "markdown",
      "metadata": {
        "id": "4rdXS05KVYwy"
      },
      "source": [
        "### Evaluate the LSTM model"
      ]
    },
    {
      "cell_type": "code",
      "metadata": {
        "id": "aEz0myGSWJrK"
      },
      "source": [
        "test_predictions = []\n",
        "\n",
        "first_eval_batch = scaled_train[-length:]\n",
        "current_batch = first_eval_batch.reshape((1, length, n_features))\n",
        "\n",
        "for i in range(len(test)):\n",
        "  current_pred = model.predict(current_batch)[0]\n",
        "  test_predictions.append(current_pred)\n",
        "\n",
        "  current_batch = np.append(current_batch[:,1:,:],[[current_pred]], axis=1)"
      ],
      "execution_count": 53,
      "outputs": []
    },
    {
      "cell_type": "code",
      "metadata": {
        "id": "2WKNumvzWNZc",
        "colab": {
          "base_uri": "https://localhost:8080/",
          "height": 563
        },
        "outputId": "569f5737-dd81-4be1-941c-630e4715faad"
      },
      "source": [
        "true_predictions = scaler.inverse_transform(test_predictions)\n",
        "test['LSTM Predictions'] = true_predictions\n",
        "test.plot(figsize=(12,8))"
      ],
      "execution_count": 54,
      "outputs": [
        {
          "output_type": "stream",
          "name": "stderr",
          "text": [
            "/usr/local/lib/python3.7/dist-packages/ipykernel_launcher.py:2: SettingWithCopyWarning: \n",
            "A value is trying to be set on a copy of a slice from a DataFrame.\n",
            "Try using .loc[row_indexer,col_indexer] = value instead\n",
            "\n",
            "See the caveats in the documentation: https://pandas.pydata.org/pandas-docs/stable/user_guide/indexing.html#returning-a-view-versus-a-copy\n",
            "  \n"
          ]
        },
        {
          "output_type": "execute_result",
          "data": {
            "text/plain": [
              "<matplotlib.axes._subplots.AxesSubplot at 0x7f019ced7210>"
            ]
          },
          "metadata": {},
          "execution_count": 54
        },
        {
          "output_type": "display_data",
          "data": {
            "image/png": "[encoded data removed]",
            "text/plain": [
              "<Figure size 864x576 with 1 Axes>"
            ]
          },
          "metadata": {
            "needs_background": "light"
          }
        }
      ]
    },
    {
      "cell_type": "code",
      "metadata": {
        "id": "L_div8spWfnt",
        "colab": {
          "base_uri": "https://localhost:8080/",
          "height": 282
        },
        "outputId": "af304292-8425-4d13-88a5-ecdbcbf106bc"
      },
      "source": [
        "df.plot()"
      ],
      "execution_count": 55,
      "outputs": [
        {
          "output_type": "execute_result",
          "data": {
            "text/plain": [
              "<matplotlib.axes._subplots.AxesSubplot at 0x7f019a67f250>"
            ]
          },
          "metadata": {},
          "execution_count": 55
        },
        {
          "output_type": "display_data",
          "data": {
            "image/png": "[encoded data removed]",
            "text/plain": [
              "<Figure size 432x288 with 1 Axes>"
            ]
          },
          "metadata": {
            "needs_background": "light"
          }
        }
      ]
    },
    {
      "cell_type": "markdown",
      "metadata": {
        "id": "NvIaR8u7Ynjk"
      },
      "source": [
        "### Making predictions with full data"
      ]
    },
    {
      "cell_type": "code",
      "metadata": {
        "id": "mkZQhFQEYSDI"
      },
      "source": [
        "full_scaler = MinMaxScaler()\n",
        "scaled_full_data = full_scaler.fit_transform(df)"
      ],
      "execution_count": 56,
      "outputs": []
    },
    {
      "cell_type": "code",
      "metadata": {
        "id": "qySmv9ySYYEw"
      },
      "source": [
        "generator = TimeseriesGenerator(scaled_full_data, scaled_full_data,\n",
        "                                length=length, batch_size=1)"
      ],
      "execution_count": 57,
      "outputs": []
    },
    {
      "cell_type": "code",
      "metadata": {
        "id": "9WlxeR50Y1nz"
      },
      "source": [
        "model = Sequential()\n",
        "model.add(LSTM(units=50, #equal to length of the batch\n",
        "                    input_shape=(length, n_features)))\n",
        "model.add(Dense(1))\n",
        "model.compile(optimizer=\"adam\", loss=\"mse\")"
      ],
      "execution_count": 58,
      "outputs": []
    },
    {
      "cell_type": "code",
      "metadata": {
        "id": "DNHKPU6EY6ld",
        "colab": {
          "base_uri": "https://localhost:8080/"
        },
        "outputId": "f3c2367c-60ee-40d2-8db2-ce4499094c91"
      },
      "source": [
        "model.fit_generator(generator, epochs=6)"
      ],
      "execution_count": 59,
      "outputs": [
        {
          "output_type": "stream",
          "name": "stderr",
          "text": [
            "/usr/local/lib/python3.7/dist-packages/keras/engine/training.py:1972: UserWarning: `Model.fit_generator` is deprecated and will be removed in a future version. Please use `Model.fit`, which supports generators.\n",
            "  warnings.warn('`Model.fit_generator` is deprecated and '\n"
          ]
        },
        {
          "output_type": "stream",
          "name": "stdout",
          "text": [
            "Epoch 1/6\n",
            "452/452 [==============================] - 6s 9ms/step - loss: 0.0164\n",
            "Epoch 2/6\n",
            "452/452 [==============================] - 4s 9ms/step - loss: 1.7922e-04\n",
            "Epoch 3/6\n",
            "452/452 [==============================] - 4s 9ms/step - loss: 4.8213e-04\n",
            "Epoch 4/6\n",
            "452/452 [==============================] - 4s 9ms/step - loss: 5.7879e-04\n",
            "Epoch 5/6\n",
            "452/452 [==============================] - 4s 9ms/step - loss: 4.4765e-05\n",
            "Epoch 6/6\n",
            "452/452 [==============================] - 4s 9ms/step - loss: 5.3479e-05\n"
          ]
        },
        {
          "output_type": "execute_result",
          "data": {
            "text/plain": [
              "<keras.callbacks.History at 0x7f019a62c090>"
            ]
          },
          "metadata": {},
          "execution_count": 59
        }
      ]
    },
    {
      "cell_type": "code",
      "metadata": {
        "id": "19ccmRmJZCDC"
      },
      "source": [
        "forecast = []\n",
        "\n",
        "first_eval_batch = scaled_train[-length:]\n",
        "current_batch = first_eval_batch.reshape((1, length, n_features))\n",
        "\n",
        "for i in range(25): # How many points in future\n",
        "  current_pred = model.predict(current_batch)[0]\n",
        "  forecast.append(current_pred)\n",
        "\n",
        "  current_batch = np.append(current_batch[:,1:,:],[[current_pred]], axis=1)"
      ],
      "execution_count": 60,
      "outputs": []
    },
    {
      "cell_type": "code",
      "metadata": {
        "id": "81-eiNxgZgeq"
      },
      "source": [
        "forecast = scaler.inverse_transform(forecast)"
      ],
      "execution_count": 61,
      "outputs": []
    },
    {
      "cell_type": "code",
      "metadata": {
        "id": "Z8kCXMQ8ZmCU"
      },
      "source": [
        "forecast_index = np.arange(50.1, 52.6, step=0.1)"
      ],
      "execution_count": 62,
      "outputs": []
    },
    {
      "cell_type": "code",
      "metadata": {
        "id": "48anQOdCZ3eI",
        "colab": {
          "base_uri": "https://localhost:8080/"
        },
        "outputId": "192deeb4-a7e9-4963-a08d-c4130c57aeec"
      },
      "source": [
        "len(forecast_index), len(forecast)"
      ],
      "execution_count": 63,
      "outputs": [
        {
          "output_type": "execute_result",
          "data": {
            "text/plain": [
              "(25, 25)"
            ]
          },
          "metadata": {},
          "execution_count": 63
        }
      ]
    },
    {
      "cell_type": "code",
      "metadata": {
        "id": "yWnfeuHrZ7Nj",
        "colab": {
          "base_uri": "https://localhost:8080/",
          "height": 282
        },
        "outputId": "ba511c03-ef54-4f42-82c7-79072582831f"
      },
      "source": [
        "plt.plot(df.index, df['Sine'])\n",
        "plt.plot(forecast_index, forecast)"
      ],
      "execution_count": 64,
      "outputs": [
        {
          "output_type": "execute_result",
          "data": {
            "text/plain": [
              "[<matplotlib.lines.Line2D at 0x7f019c8d7890>]"
            ]
          },
          "metadata": {},
          "execution_count": 64
        },
        {
          "output_type": "display_data",
          "data": {
            "image/png": "[encoded data removed]",
            "text/plain": [
              "<Figure size 432x288 with 1 Axes>"
            ]
          },
          "metadata": {
            "needs_background": "light"
          }
        }
      ]
    },
    {
      "cell_type": "markdown",
      "metadata": {
        "id": "Ur2-PIzaaEmn"
      },
      "source": [
        "## RNN on TimeSeries"
      ]
    },
    {
      "cell_type": "markdown",
      "metadata": {
        "id": "xaX9nljOeE6-"
      },
      "source": [
        "### Get Data"
      ]
    },
    {
      "cell_type": "code",
      "metadata": {
        "id": "UfjpsAxZeH2D",
        "colab": {
          "base_uri": "https://localhost:8080/"
        },
        "outputId": "0f9b4478-08e6-429f-8830-59b5f2eb58c7"
      },
      "source": [
        "!wget \"https://raw.githubusercontent.com/Dimisz/tensorflow_lectures/main/RSCCASN.csv\""
      ],
      "execution_count": 65,
      "outputs": [
        {
          "output_type": "stream",
          "name": "stdout",
          "text": [
            "--2021-10-06 07:52:09--  https://raw.githubusercontent.com/Dimisz/tensorflow_lectures/main/RSCCASN.csv\n",
            "Resolving raw.githubusercontent.com (raw.githubusercontent.com)... 185.199.108.133, 185.199.109.133, 185.199.110.133, ...\n",
            "Connecting to raw.githubusercontent.com (raw.githubusercontent.com)|185.199.108.133|:443... connected.\n",
            "HTTP request sent, awaiting response... 200 OK\n",
            "Length: 5994 (5.9K) [text/plain]\n",
            "Saving to: ‘RSCCASN.csv’\n",
            "\n",
            "\rRSCCASN.csv           0%[                    ]       0  --.-KB/s               \rRSCCASN.csv         100%[===================>]   5.85K  --.-KB/s    in 0s      \n",
            "\n",
            "2021-10-06 07:52:09 (45.5 MB/s) - ‘RSCCASN.csv’ saved [5994/5994]\n",
            "\n"
          ]
        }
      ]
    },
    {
      "cell_type": "code",
      "metadata": {
        "id": "voKF20M6eJuM"
      },
      "source": [
        "df = pd.read_csv(\"/content/RSCCASN.csv\", parse_dates=True, index_col='DATE')"
      ],
      "execution_count": 66,
      "outputs": []
    },
    {
      "cell_type": "code",
      "metadata": {
        "id": "yd-JeMpxeZQ0",
        "colab": {
          "base_uri": "https://localhost:8080/"
        },
        "outputId": "ad049381-e914-4780-988d-915effe48ed6"
      },
      "source": [
        "df.info()"
      ],
      "execution_count": 67,
      "outputs": [
        {
          "output_type": "stream",
          "name": "stdout",
          "text": [
            "<class 'pandas.core.frame.DataFrame'>\n",
            "DatetimeIndex: 334 entries, 1992-01-01 to 2019-10-01\n",
            "Data columns (total 1 columns):\n",
            " #   Column   Non-Null Count  Dtype\n",
            "---  ------   --------------  -----\n",
            " 0   RSCCASN  334 non-null    int64\n",
            "dtypes: int64(1)\n",
            "memory usage: 5.2 KB\n"
          ]
        }
      ]
    },
    {
      "cell_type": "code",
      "metadata": {
        "id": "cu-oItN0efZT"
      },
      "source": [
        "df.columns = ['Sales']"
      ],
      "execution_count": 68,
      "outputs": []
    },
    {
      "cell_type": "code",
      "metadata": {
        "id": "oE_G-DSEek5e",
        "colab": {
          "base_uri": "https://localhost:8080/",
          "height": 514
        },
        "outputId": "4855c6c2-e53d-4497-ed17-4bd695b1372c"
      },
      "source": [
        "df.plot(figsize=(12,8))\n"
      ],
      "execution_count": 69,
      "outputs": [
        {
          "output_type": "execute_result",
          "data": {
            "text/plain": [
              "<matplotlib.axes._subplots.AxesSubplot at 0x7f019c817090>"
            ]
          },
          "metadata": {},
          "execution_count": 69
        },
        {
          "output_type": "display_data",
          "data": {
            "image/png": "[encoded data removed]",
            "text/plain": [
              "<Figure size 864x576 with 1 Axes>"
            ]
          },
          "metadata": {
            "needs_background": "light"
          }
        }
      ]
    },
    {
      "cell_type": "code",
      "metadata": {
        "id": "kU_D_3djeoLl",
        "colab": {
          "base_uri": "https://localhost:8080/"
        },
        "outputId": "7627ecf4-f0bc-4714-ac7b-35704245f7d1"
      },
      "source": [
        "len(df)"
      ],
      "execution_count": 70,
      "outputs": [
        {
          "output_type": "execute_result",
          "data": {
            "text/plain": [
              "334"
            ]
          },
          "metadata": {},
          "execution_count": 70
        }
      ]
    },
    {
      "cell_type": "code",
      "metadata": {
        "id": "SVF7dcSsfCRv"
      },
      "source": [
        "test_size = 18\n",
        "test_ind = len(df) - test_size"
      ],
      "execution_count": 71,
      "outputs": []
    },
    {
      "cell_type": "code",
      "metadata": {
        "id": "QpNKGED3fO3l"
      },
      "source": [
        "train = df.iloc[:test_ind]\n",
        "test = df.iloc[test_ind:]"
      ],
      "execution_count": 72,
      "outputs": []
    },
    {
      "cell_type": "code",
      "metadata": {
        "id": "42T_5rLKfceW"
      },
      "source": [
        "from sklearn.preprocessing import MinMaxScaler"
      ],
      "execution_count": 73,
      "outputs": []
    },
    {
      "cell_type": "code",
      "metadata": {
        "id": "Nesjb18Pfm8l"
      },
      "source": [
        "scaler = MinMaxScaler()"
      ],
      "execution_count": 74,
      "outputs": []
    },
    {
      "cell_type": "code",
      "metadata": {
        "id": "KZwVT2O3fqrr",
        "colab": {
          "base_uri": "https://localhost:8080/"
        },
        "outputId": "b11d7009-7adf-4487-fffd-099e492c0c1c"
      },
      "source": [
        "scaler.fit(train)"
      ],
      "execution_count": 75,
      "outputs": [
        {
          "output_type": "execute_result",
          "data": {
            "text/plain": [
              "MinMaxScaler(copy=True, feature_range=(0, 1))"
            ]
          },
          "metadata": {},
          "execution_count": 75
        }
      ]
    },
    {
      "cell_type": "code",
      "metadata": {
        "id": "bF7CNJgDfuap"
      },
      "source": [
        "scaled_train = scaler.transform(train)"
      ],
      "execution_count": 76,
      "outputs": []
    },
    {
      "cell_type": "code",
      "metadata": {
        "id": "Q5peGlqofzNU"
      },
      "source": [
        "scaled_test = scaler.transform(test)"
      ],
      "execution_count": 77,
      "outputs": []
    },
    {
      "cell_type": "code",
      "metadata": {
        "id": "Ddw6Terof2V1"
      },
      "source": [
        "from tensorflow.keras.preprocessing.sequence import TimeseriesGenerator"
      ],
      "execution_count": 78,
      "outputs": []
    },
    {
      "cell_type": "code",
      "metadata": {
        "id": "gMe75na8f_Cz",
        "colab": {
          "base_uri": "https://localhost:8080/"
        },
        "outputId": "425d1347-87d2-438b-a5f3-4118af5e9581"
      },
      "source": [
        "len(test)"
      ],
      "execution_count": 79,
      "outputs": [
        {
          "output_type": "execute_result",
          "data": {
            "text/plain": [
              "18"
            ]
          },
          "metadata": {},
          "execution_count": 79
        }
      ]
    },
    {
      "cell_type": "code",
      "metadata": {
        "id": "gqZhl0dUgIVH"
      },
      "source": [
        "length = 12 #year\n",
        "generator = TimeseriesGenerator(scaled_train, scaled_train,\n",
        "                                length=length, batch_size=1)"
      ],
      "execution_count": 80,
      "outputs": []
    },
    {
      "cell_type": "code",
      "metadata": {
        "id": "R-rxQbpZgXuY"
      },
      "source": [
        "X,y = generator[0]"
      ],
      "execution_count": 81,
      "outputs": []
    },
    {
      "cell_type": "code",
      "metadata": {
        "id": "-NgYj1NigaGl",
        "colab": {
          "base_uri": "https://localhost:8080/"
        },
        "outputId": "6b5378e4-ae3d-4069-fb29-1c992077f2c2"
      },
      "source": [
        "X"
      ],
      "execution_count": 82,
      "outputs": [
        {
          "output_type": "execute_result",
          "data": {
            "text/plain": [
              "array([[[0.        ],\n",
              "        [0.02127505],\n",
              "        [0.05580163],\n",
              "        [0.08942056],\n",
              "        [0.09512053],\n",
              "        [0.08146965],\n",
              "        [0.07860151],\n",
              "        [0.12979233],\n",
              "        [0.09566512],\n",
              "        [0.1203892 ],\n",
              "        [0.15426227],\n",
              "        [0.41595266]]])"
            ]
          },
          "metadata": {},
          "execution_count": 82
        }
      ]
    },
    {
      "cell_type": "code",
      "metadata": {
        "id": "9PXwbPhggaoQ",
        "colab": {
          "base_uri": "https://localhost:8080/"
        },
        "outputId": "7e1a9c3c-2c15-4d53-cc9e-069b0a30f89b"
      },
      "source": [
        "y"
      ],
      "execution_count": 83,
      "outputs": [
        {
          "output_type": "execute_result",
          "data": {
            "text/plain": [
              "array([[0.02047633]])"
            ]
          },
          "metadata": {},
          "execution_count": 83
        }
      ]
    },
    {
      "cell_type": "code",
      "metadata": {
        "id": "KPkTt2w3gdHX"
      },
      "source": [
        "from tensorflow.keras.models import Sequential"
      ],
      "execution_count": 84,
      "outputs": []
    },
    {
      "cell_type": "code",
      "metadata": {
        "id": "EX1UJBQ4hDoj"
      },
      "source": [
        "from tensorflow.keras.layers import Dense, LSTM"
      ],
      "execution_count": 85,
      "outputs": []
    },
    {
      "cell_type": "code",
      "metadata": {
        "id": "my-_Tvf1hLMQ"
      },
      "source": [
        "n_features = 1"
      ],
      "execution_count": 86,
      "outputs": []
    },
    {
      "cell_type": "markdown",
      "metadata": {
        "id": "UJacLptdhacP"
      },
      "source": [
        "### Building 1st LSTM model for TimeSeries"
      ]
    },
    {
      "cell_type": "code",
      "metadata": {
        "id": "yD287RRfhNEs",
        "colab": {
          "base_uri": "https://localhost:8080/"
        },
        "outputId": "d828e7a6-2d8a-4d0a-debf-0cb598a076eb"
      },
      "source": [
        "ts_model_1 = Sequential()\n",
        "\n",
        "ts_model_1.add(LSTM(100, activation=\"relu\", input_shape=(length, n_features)))\n",
        "ts_model_1.add(Dense(1))\n",
        "\n",
        "\n",
        "ts_model_1.compile(optimizer=\"adam\",\n",
        "                   loss=\"mse\")"
      ],
      "execution_count": 87,
      "outputs": [
        {
          "output_type": "stream",
          "name": "stdout",
          "text": [
            "WARNING:tensorflow:Layer lstm_2 will not use cuDNN kernels since it doesn't meet the criteria. It will use a generic GPU kernel as fallback when running on GPU.\n"
          ]
        }
      ]
    },
    {
      "cell_type": "code",
      "metadata": {
        "id": "27kRqRSEhyL0",
        "colab": {
          "base_uri": "https://localhost:8080/"
        },
        "outputId": "30eae76f-93ee-4309-e5ef-843f5945dc81"
      },
      "source": [
        "ts_model_1.summary()"
      ],
      "execution_count": 88,
      "outputs": [
        {
          "output_type": "stream",
          "name": "stdout",
          "text": [
            "Model: \"sequential_3\"\n",
            "_________________________________________________________________\n",
            "Layer (type)                 Output Shape              Param #   \n",
            "=================================================================\n",
            "lstm_2 (LSTM)                (None, 100)               40800     \n",
            "_________________________________________________________________\n",
            "dense_3 (Dense)              (None, 1)                 101       \n",
            "=================================================================\n",
            "Total params: 40,901\n",
            "Trainable params: 40,901\n",
            "Non-trainable params: 0\n",
            "_________________________________________________________________\n"
          ]
        }
      ]
    },
    {
      "cell_type": "code",
      "metadata": {
        "id": "FPy8DrEfh6o7"
      },
      "source": [
        "from tensorflow.keras.callbacks import EarlyStopping"
      ],
      "execution_count": 89,
      "outputs": []
    },
    {
      "cell_type": "code",
      "metadata": {
        "id": "TGiEMEHOiBgs"
      },
      "source": [
        "early_stop = EarlyStopping(monitor=\"val_loss\", patience=2)"
      ],
      "execution_count": 90,
      "outputs": []
    },
    {
      "cell_type": "code",
      "metadata": {
        "id": "t7BzR25qiMxB"
      },
      "source": [
        "validation_generator = TimeseriesGenerator(scaled_test, scaled_test,\n",
        "                                           length=length, batch_size=1)\n"
      ],
      "execution_count": 91,
      "outputs": []
    },
    {
      "cell_type": "code",
      "metadata": {
        "id": "ad84DMYWiYmI",
        "colab": {
          "base_uri": "https://localhost:8080/"
        },
        "outputId": "7eb88468-2f82-403a-9f84-a32dc1648ec5"
      },
      "source": [
        "ts_model_1.fit_generator(generator, epochs=20,\n",
        "                         validation_data=validation_generator, \n",
        "                         callbacks=[early_stop],\n",
        "                         )"
      ],
      "execution_count": 92,
      "outputs": [
        {
          "output_type": "stream",
          "name": "stdout",
          "text": [
            "Epoch 1/20\n"
          ]
        },
        {
          "output_type": "stream",
          "name": "stderr",
          "text": [
            "/usr/local/lib/python3.7/dist-packages/keras/engine/training.py:1972: UserWarning: `Model.fit_generator` is deprecated and will be removed in a future version. Please use `Model.fit`, which supports generators.\n",
            "  warnings.warn('`Model.fit_generator` is deprecated and '\n"
          ]
        },
        {
          "output_type": "stream",
          "name": "stdout",
          "text": [
            "304/304 [==============================] - 13s 38ms/step - loss: 0.0282 - val_loss: 0.0046\n",
            "Epoch 2/20\n",
            "304/304 [==============================] - 11s 38ms/step - loss: 0.0166 - val_loss: 0.0030\n",
            "Epoch 3/20\n",
            "304/304 [==============================] - 11s 37ms/step - loss: 0.0083 - val_loss: 0.0025\n",
            "Epoch 4/20\n",
            "304/304 [==============================] - 11s 37ms/step - loss: 0.0032 - val_loss: 3.6441e-04\n",
            "Epoch 5/20\n",
            "304/304 [==============================] - 11s 38ms/step - loss: 0.0021 - val_loss: 5.2570e-04\n",
            "Epoch 6/20\n",
            "304/304 [==============================] - 11s 38ms/step - loss: 0.0019 - val_loss: 0.0039\n"
          ]
        },
        {
          "output_type": "execute_result",
          "data": {
            "text/plain": [
              "<keras.callbacks.History at 0x7f019c36bb90>"
            ]
          },
          "metadata": {},
          "execution_count": 92
        }
      ]
    },
    {
      "cell_type": "code",
      "metadata": {
        "id": "wEF8dOuWio7I"
      },
      "source": [
        "losses = pd.DataFrame(ts_model_1.history.history)"
      ],
      "execution_count": 93,
      "outputs": []
    },
    {
      "cell_type": "code",
      "metadata": {
        "id": "guptRDaFkH1V",
        "colab": {
          "base_uri": "https://localhost:8080/",
          "height": 282
        },
        "outputId": "08bd0aba-b41a-48db-c087-6ab439000e03"
      },
      "source": [
        "losses.plot()"
      ],
      "execution_count": 94,
      "outputs": [
        {
          "output_type": "execute_result",
          "data": {
            "text/plain": [
              "<matplotlib.axes._subplots.AxesSubplot at 0x7f019c35e0d0>"
            ]
          },
          "metadata": {},
          "execution_count": 94
        },
        {
          "output_type": "display_data",
          "data": {
            "image/png": "[encoded data removed]",
            "text/plain": [
              "<Figure size 432x288 with 1 Axes>"
            ]
          },
          "metadata": {
            "needs_background": "light"
          }
        }
      ]
    },
    {
      "cell_type": "code",
      "metadata": {
        "id": "GAv57XkxkJ3R"
      },
      "source": [
        "test_predictions = []\n",
        "\n",
        "first_eval_batch = scaled_train[-length:]\n",
        "current_batch = first_eval_batch.reshape((1, length, n_features))\n",
        "\n",
        "for i in range(len(test)):\n",
        "  #get prediction 1 time stamp ahead\n",
        "  current_pred = ts_model_1.predict(current_batch)[0]\n",
        "\n",
        "  # store predictions\n",
        "  test_predictions.append(current_pred)\n",
        "\n",
        "  #update batch to now include predictions and drop first value\n",
        "  current_batch = np.append(current_batch[:,1:,:],[[current_pred]], axis=1)"
      ],
      "execution_count": 95,
      "outputs": []
    },
    {
      "cell_type": "code",
      "metadata": {
        "id": "8Rw7NNBZlDgh"
      },
      "source": [
        "true_predictions = scaler.inverse_transform(test_predictions)"
      ],
      "execution_count": 96,
      "outputs": []
    },
    {
      "cell_type": "code",
      "metadata": {
        "id": "OcOCL4mBl1Y9",
        "colab": {
          "base_uri": "https://localhost:8080/"
        },
        "outputId": "05dc307d-b252-4ba0-e7a5-651d3e379d15"
      },
      "source": [
        "test['Predictions'] = true_predictions"
      ],
      "execution_count": 97,
      "outputs": [
        {
          "output_type": "stream",
          "name": "stderr",
          "text": [
            "/usr/local/lib/python3.7/dist-packages/ipykernel_launcher.py:1: SettingWithCopyWarning: \n",
            "A value is trying to be set on a copy of a slice from a DataFrame.\n",
            "Try using .loc[row_indexer,col_indexer] = value instead\n",
            "\n",
            "See the caveats in the documentation: https://pandas.pydata.org/pandas-docs/stable/user_guide/indexing.html#returning-a-view-versus-a-copy\n",
            "  \"\"\"Entry point for launching an IPython kernel.\n"
          ]
        }
      ]
    },
    {
      "cell_type": "code",
      "metadata": {
        "id": "Pw7XFtFhl7FN",
        "colab": {
          "base_uri": "https://localhost:8080/",
          "height": 638
        },
        "outputId": "d7b35b69-9a8a-4350-b186-8a169804bfea"
      },
      "source": [
        "test"
      ],
      "execution_count": 98,
      "outputs": [
        {
          "output_type": "execute_result",
          "data": {
            "text/html": [
              "<div>\n",
              "<style scoped>\n",
              "    .dataframe tbody tr th:only-of-type {\n",
              "        vertical-align: middle;\n",
              "    }\n",
              "\n",
              "    .dataframe tbody tr th {\n",
              "        vertical-align: top;\n",
              "    }\n",
              "\n",
              "    .dataframe thead th {\n",
              "        text-align: right;\n",
              "    }\n",
              "</style>\n",
              "<table border=\"1\" class=\"dataframe\">\n",
              "  <thead>\n",
              "    <tr style=\"text-align: right;\">\n",
              "      <th></th>\n",
              "      <th>Sales</th>\n",
              "      <th>Predictions</th>\n",
              "    </tr>\n",
              "    <tr>\n",
              "      <th>DATE</th>\n",
              "      <th></th>\n",
              "      <th></th>\n",
              "    </tr>\n",
              "  </thead>\n",
              "  <tbody>\n",
              "    <tr>\n",
              "      <th>2018-05-01</th>\n",
              "      <td>23764</td>\n",
              "      <td>22767.109887</td>\n",
              "    </tr>\n",
              "    <tr>\n",
              "      <th>2018-06-01</th>\n",
              "      <td>21589</td>\n",
              "      <td>21532.341251</td>\n",
              "    </tr>\n",
              "    <tr>\n",
              "      <th>2018-07-01</th>\n",
              "      <td>21919</td>\n",
              "      <td>21799.454031</td>\n",
              "    </tr>\n",
              "    <tr>\n",
              "      <th>2018-08-01</th>\n",
              "      <td>23381</td>\n",
              "      <td>23857.187783</td>\n",
              "    </tr>\n",
              "    <tr>\n",
              "      <th>2018-09-01</th>\n",
              "      <td>20260</td>\n",
              "      <td>21136.249281</td>\n",
              "    </tr>\n",
              "    <tr>\n",
              "      <th>2018-10-01</th>\n",
              "      <td>21473</td>\n",
              "      <td>21866.220733</td>\n",
              "    </tr>\n",
              "    <tr>\n",
              "      <th>2018-11-01</th>\n",
              "      <td>25831</td>\n",
              "      <td>26137.723473</td>\n",
              "    </tr>\n",
              "    <tr>\n",
              "      <th>2018-12-01</th>\n",
              "      <td>34706</td>\n",
              "      <td>37470.369781</td>\n",
              "    </tr>\n",
              "    <tr>\n",
              "      <th>2019-01-01</th>\n",
              "      <td>16410</td>\n",
              "      <td>17190.633983</td>\n",
              "    </tr>\n",
              "    <tr>\n",
              "      <th>2019-02-01</th>\n",
              "      <td>18134</td>\n",
              "      <td>19770.532997</td>\n",
              "    </tr>\n",
              "    <tr>\n",
              "      <th>2019-03-01</th>\n",
              "      <td>22093</td>\n",
              "      <td>23649.686958</td>\n",
              "    </tr>\n",
              "    <tr>\n",
              "      <th>2019-04-01</th>\n",
              "      <td>21597</td>\n",
              "      <td>21899.489162</td>\n",
              "    </tr>\n",
              "    <tr>\n",
              "      <th>2019-05-01</th>\n",
              "      <td>23200</td>\n",
              "      <td>24122.798361</td>\n",
              "    </tr>\n",
              "    <tr>\n",
              "      <th>2019-06-01</th>\n",
              "      <td>21123</td>\n",
              "      <td>22926.509069</td>\n",
              "    </tr>\n",
              "    <tr>\n",
              "      <th>2019-07-01</th>\n",
              "      <td>21714</td>\n",
              "      <td>23268.085077</td>\n",
              "    </tr>\n",
              "    <tr>\n",
              "      <th>2019-08-01</th>\n",
              "      <td>23791</td>\n",
              "      <td>25415.819582</td>\n",
              "    </tr>\n",
              "    <tr>\n",
              "      <th>2019-09-01</th>\n",
              "      <td>19695</td>\n",
              "      <td>22745.212221</td>\n",
              "    </tr>\n",
              "    <tr>\n",
              "      <th>2019-10-01</th>\n",
              "      <td>21113</td>\n",
              "      <td>23644.372612</td>\n",
              "    </tr>\n",
              "  </tbody>\n",
              "</table>\n",
              "</div>"
            ],
            "text/plain": [
              "            Sales   Predictions\n",
              "DATE                           \n",
              "2018-05-01  23764  22767.109887\n",
              "2018-06-01  21589  21532.341251\n",
              "2018-07-01  21919  21799.454031\n",
              "2018-08-01  23381  23857.187783\n",
              "2018-09-01  20260  21136.249281\n",
              "2018-10-01  21473  21866.220733\n",
              "2018-11-01  25831  26137.723473\n",
              "2018-12-01  34706  37470.369781\n",
              "2019-01-01  16410  17190.633983\n",
              "2019-02-01  18134  19770.532997\n",
              "2019-03-01  22093  23649.686958\n",
              "2019-04-01  21597  21899.489162\n",
              "2019-05-01  23200  24122.798361\n",
              "2019-06-01  21123  22926.509069\n",
              "2019-07-01  21714  23268.085077\n",
              "2019-08-01  23791  25415.819582\n",
              "2019-09-01  19695  22745.212221\n",
              "2019-10-01  21113  23644.372612"
            ]
          },
          "metadata": {},
          "execution_count": 98
        }
      ]
    },
    {
      "cell_type": "code",
      "metadata": {
        "id": "mhCFlpual9su",
        "colab": {
          "base_uri": "https://localhost:8080/",
          "height": 308
        },
        "outputId": "93d6fc72-20d0-48f3-ed5a-7335f20438f8"
      },
      "source": [
        "test.plot()"
      ],
      "execution_count": 99,
      "outputs": [
        {
          "output_type": "execute_result",
          "data": {
            "text/plain": [
              "<matplotlib.axes._subplots.AxesSubplot at 0x7f017277ee50>"
            ]
          },
          "metadata": {},
          "execution_count": 99
        },
        {
          "output_type": "display_data",
          "data": {
            "image/png": "[encoded data removed]",
            "text/plain": [
              "<Figure size 432x288 with 1 Axes>"
            ]
          },
          "metadata": {
            "needs_background": "light"
          }
        }
      ]
    },
    {
      "cell_type": "markdown",
      "metadata": {
        "id": "MpwD0msimcP-"
      },
      "source": [
        "### Forecast on full data"
      ]
    },
    {
      "cell_type": "code",
      "metadata": {
        "id": "xydRIMFhqAjR"
      },
      "source": [
        "full_scaler = MinMaxScaler()\n",
        "scaled_full_data = full_scaler.fit_transform(df)"
      ],
      "execution_count": 100,
      "outputs": []
    },
    {
      "cell_type": "code",
      "metadata": {
        "id": "s8GhxsFWqJJl"
      },
      "source": [
        "length = 12\n",
        "generator = TimeseriesGenerator(scaled_full_data, scaled_full_data,\n",
        "                                length=length, batch_size=1)"
      ],
      "execution_count": 101,
      "outputs": []
    },
    {
      "cell_type": "code",
      "metadata": {
        "id": "sN3-YGjqqSco",
        "outputId": "9d0012db-64ca-42fa-dcc1-707f2a8614fe",
        "colab": {
          "base_uri": "https://localhost:8080/"
        }
      },
      "source": [
        "ts_full_model = Sequential()\n",
        "ts_full_model.add(LSTM(100, activation=\"relu\", input_shape=(length, n_features)))\n",
        "ts_full_model.add(Dense(1))\n",
        "\n",
        "ts_full_model.compile(optimizer=\"adam\", loss=\"mse\")"
      ],
      "execution_count": 102,
      "outputs": [
        {
          "output_type": "stream",
          "name": "stdout",
          "text": [
            "WARNING:tensorflow:Layer lstm_3 will not use cuDNN kernels since it doesn't meet the criteria. It will use a generic GPU kernel as fallback when running on GPU.\n"
          ]
        }
      ]
    },
    {
      "cell_type": "code",
      "metadata": {
        "id": "RMcONK4PqqQs",
        "outputId": "10d7444a-1754-4ff2-a002-a04380135979",
        "colab": {
          "base_uri": "https://localhost:8080/"
        }
      },
      "source": [
        "ts_full_model.fit_generator(generator, epochs=8)"
      ],
      "execution_count": 103,
      "outputs": [
        {
          "output_type": "stream",
          "name": "stderr",
          "text": [
            "/usr/local/lib/python3.7/dist-packages/keras/engine/training.py:1972: UserWarning: `Model.fit_generator` is deprecated and will be removed in a future version. Please use `Model.fit`, which supports generators.\n",
            "  warnings.warn('`Model.fit_generator` is deprecated and '\n"
          ]
        },
        {
          "output_type": "stream",
          "name": "stdout",
          "text": [
            "Epoch 1/8\n",
            "322/322 [==============================] - 13s 36ms/step - loss: 0.0246\n",
            "Epoch 2/8\n",
            "322/322 [==============================] - 11s 35ms/step - loss: 0.0205\n",
            "Epoch 3/8\n",
            "322/322 [==============================] - 11s 36ms/step - loss: 0.0159\n",
            "Epoch 4/8\n",
            "322/322 [==============================] - 11s 35ms/step - loss: 0.0102\n",
            "Epoch 5/8\n",
            "322/322 [==============================] - 11s 35ms/step - loss: 0.0036\n",
            "Epoch 6/8\n",
            "322/322 [==============================] - 11s 35ms/step - loss: 0.0020\n",
            "Epoch 7/8\n",
            "322/322 [==============================] - 11s 35ms/step - loss: 0.0020\n",
            "Epoch 8/8\n",
            "322/322 [==============================] - 11s 36ms/step - loss: 0.0018\n"
          ]
        },
        {
          "output_type": "execute_result",
          "data": {
            "text/plain": [
              "<keras.callbacks.History at 0x7f019c9dded0>"
            ]
          },
          "metadata": {},
          "execution_count": 103
        }
      ]
    },
    {
      "cell_type": "markdown",
      "metadata": {
        "id": "vug9QMNvrT98"
      },
      "source": [
        "### Forecast loop (great helper for TimeSeries)"
      ]
    },
    {
      "cell_type": "code",
      "metadata": {
        "id": "jaiRfEyjsB0C"
      },
      "source": [
        "forecast = []\n",
        "\n",
        "# Replace periods with whatever forecast length you want\n",
        "periods = 12\n",
        "\n",
        "first_eval_batch = scaled_train[-length:]\n",
        "current_batch = first_eval_batch.reshape((1, length, n_features))\n",
        "\n",
        "for i in range(periods):\n",
        "  #get prediction 1 time stamp ahead\n",
        "  current_pred = ts_full_model.predict(current_batch)[0]\n",
        "\n",
        "  # store predictions\n",
        "  forecast.append(current_pred)\n",
        "\n",
        "  #update batch to now include predictions and drop first value\n",
        "  current_batch = np.append(current_batch[:,1:,:],[[current_pred]], axis=1)"
      ],
      "execution_count": 104,
      "outputs": []
    },
    {
      "cell_type": "code",
      "metadata": {
        "id": "zB3Em6l7srNz"
      },
      "source": [
        "forecast = scaler.inverse_transform(forecast)"
      ],
      "execution_count": 105,
      "outputs": []
    },
    {
      "cell_type": "code",
      "metadata": {
        "id": "udEfR0x6svhQ",
        "outputId": "3effd576-05fa-40d4-a324-89d46d39d765",
        "colab": {
          "base_uri": "https://localhost:8080/"
        }
      },
      "source": [
        "forecast"
      ],
      "execution_count": 106,
      "outputs": [
        {
          "output_type": "execute_result",
          "data": {
            "text/plain": [
              "array([[21986.58730078],\n",
              "       [20987.33431721],\n",
              "       [21244.13197947],\n",
              "       [23032.54643965],\n",
              "       [20724.97933006],\n",
              "       [21431.57882404],\n",
              "       [25402.61662626],\n",
              "       [36748.47574043],\n",
              "       [16651.66212368],\n",
              "       [19007.4679625 ],\n",
              "       [22339.69660473],\n",
              "       [21124.40405273]])"
            ]
          },
          "metadata": {},
          "execution_count": 106
        }
      ]
    },
    {
      "cell_type": "code",
      "metadata": {
        "id": "wRqD62iPsw_k"
      },
      "source": [
        "forecast_index = pd.date_range(start='2019-11-01', periods=periods,\n",
        "                               freq=\"MS\")"
      ],
      "execution_count": 107,
      "outputs": []
    },
    {
      "cell_type": "code",
      "metadata": {
        "id": "IAYxQlnQtaFP",
        "outputId": "f9f121cf-a7f6-4743-8603-67bd84205f83",
        "colab": {
          "base_uri": "https://localhost:8080/"
        }
      },
      "source": [
        "forecast_index"
      ],
      "execution_count": 108,
      "outputs": [
        {
          "output_type": "execute_result",
          "data": {
            "text/plain": [
              "DatetimeIndex(['2019-11-01', '2019-12-01', '2020-01-01', '2020-02-01',\n",
              "               '2020-03-01', '2020-04-01', '2020-05-01', '2020-06-01',\n",
              "               '2020-07-01', '2020-08-01', '2020-09-01', '2020-10-01'],\n",
              "              dtype='datetime64[ns]', freq='MS')"
            ]
          },
          "metadata": {},
          "execution_count": 108
        }
      ]
    },
    {
      "cell_type": "code",
      "metadata": {
        "id": "FnACuc-GtcbV"
      },
      "source": [
        "forecast_df = pd.DataFrame(data=forecast, index=forecast_index,\n",
        "                           columns=['Forecaast'])"
      ],
      "execution_count": 109,
      "outputs": []
    },
    {
      "cell_type": "markdown",
      "metadata": {
        "id": "8XgS3nT8toX-"
      },
      "source": [
        "### Combining forecast with the previous period plot"
      ]
    },
    {
      "cell_type": "code",
      "metadata": {
        "id": "3L6LHbxjt1TI",
        "outputId": "bc8cdcfe-464b-4baa-aad3-dc0ce5308d77",
        "colab": {
          "base_uri": "https://localhost:8080/",
          "height": 308
        }
      },
      "source": [
        "ax = df.plot()\n",
        "forecast_df.plot(ax=ax)\n",
        "plt.xlim('2018-01-01', '2020-12-01')"
      ],
      "execution_count": 111,
      "outputs": [
        {
          "output_type": "execute_result",
          "data": {
            "text/plain": [
              "(576.0, 611.0)"
            ]
          },
          "metadata": {},
          "execution_count": 111
        },
        {
          "output_type": "display_data",
          "data": {
            "image/png": "[encoded data removed]",
            "text/plain": [
              "<Figure size 432x288 with 1 Axes>"
            ]
          },
          "metadata": {
            "needs_background": "light"
          }
        }
      ]
    },
    {
      "cell_type": "code",
      "metadata": {
        "id": "MOnXMbO-t7AQ"
      },
      "source": [
        ""
      ],
      "execution_count": null,
      "outputs": []
    }
  ]
}