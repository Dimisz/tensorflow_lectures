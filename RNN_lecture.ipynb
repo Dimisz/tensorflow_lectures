{
  "nbformat": 4,
  "nbformat_minor": 0,
  "metadata": {
    "colab": {
      "name": "RNN_lecture.ipynb",
      "provenance": [],
      "authorship_tag": "ABX9TyNztWMAxZT5EtVDopyx6iN7",
      "include_colab_link": true
    },
    "kernelspec": {
      "name": "python3",
      "display_name": "Python 3"
    },
    "language_info": {
      "name": "python"
    },
    "accelerator": "GPU"
  },
  "cells": [
    {
      "cell_type": "markdown",
      "metadata": {
        "id": "view-in-github",
        "colab_type": "text"
      },
      "source": [
        "<a href=\"https://colab.research.google.com/github/Dimisz/tensorflow_lectures/blob/main/RNN_lecture.ipynb\" target=\"_parent\"><img src=\"https://colab.research.google.com/assets/colab-badge.svg\" alt=\"Open In Colab\"/></a>"
      ]
    },
    {
      "cell_type": "markdown",
      "metadata": {
        "id": "xX0RjgVDYjN1"
      },
      "source": [
        "**Recurrent Neural Networks** are more effective with sequence data, e.g.\n",
        "* time-stamped sales data\n",
        "* sequence of text\n",
        "* heart beat data\n",
        "* etc"
      ]
    },
    {
      "cell_type": "markdown",
      "metadata": {
        "id": "sSiHKqTqbYry"
      },
      "source": [
        "## RNN Theory\n",
        "**Sequence** is data that's coming in a specific order, and order is important.\n",
        "\n",
        "**Normal Neuron workflow**:\n",
        "Input -> Aggregation of Inputs -> Activation Function -> Output\n",
        "\n",
        "**Recurrent Neuron workflow**: Input -> Aggregation of Inputs -> Activation Function -> Output -> Aggrregation of Inputs (output is fed to itself)\n",
        "\n",
        "**Memory Cells** - cells that are a function of inputs from previous time steps.\n",
        "\n",
        "**RNN Architectures**:\n",
        "* **Sequence-to-Sequence** (Many to Many): *pass in a sequence and expect a sequence out (e.g. chatbot)*\n",
        "* **Sequence-to-Vector** (Many to One): *pass in a sequence to predict a single value (generate text: next word)*\n",
        "* **Vector-to-Sequence** (One to Many)\n",
        "\n",
        "## Issues with RNNs\n",
        "Main disadvantage is that RNN only really remember the previous output. It would be useful if we could keep track of longer history, not just short term history.\n",
        "\n",
        "\n",
        "**1. Vanishing Gradient** as you go back to the 'lower' layers, gradients often get smaller, eventually causing weights to never change at lower layers.\n",
        "\n",
        "**2. Exploding Gradient** the opposite to 1., gradients 'explode' on the way back, causing issues.\n",
        "\n",
        "**Solution 1**:\n",
        "* Using ReLU\n",
        "* Uning 'Leaky' ReLU\n",
        "* Exponential Linear Unit (ELU)\n",
        "\n",
        "**Solution 2**:\n",
        "* **Batch normalization** - model will normalize each batch using the batch mean and standard deviation.\n",
        "\n",
        "* **Xavier Initialization** - choosing different initialization of weights\n",
        "\n",
        "* **Gradient Clipping** (for exploding gradient) - a 'quick fix': gradients are cut off before reaching a predetermined limit (cut off the gradient to be between -1 and 1)."
      ]
    },
    {
      "cell_type": "markdown",
      "metadata": {
        "id": "JXz64aSIsBBm"
      },
      "source": [
        "## LSTM (Long Short-Term Memory)"
      ]
    },
    {
      "cell_type": "markdown",
      "metadata": {
        "id": "V35OMy57sL-C"
      },
      "source": [
        "The solutions specified above could slow down training.\n",
        "\n",
        "After a while the network will begin to 'forget' the first inputs, as information is lost at each step going through RNN.\n",
        "\n",
        "So we need \"long-term\" memory.\n",
        "\n",
        "To address this we have **LSTM(Long Short-Term Memory)**\n",
        "\n",
        "Structure of LSTM:\n",
        "* **Forget Gate** - decides what to forget from the previous memory units.\n",
        "* **Input Gate** - decides what to accept into a neuron.\n",
        "* **Output Gate** - outputs the new long-term memory. \n",
        "* **Update Gate** - updates the memory.\n",
        "\n",
        "\n",
        "**First step** is to decide what information are we going to throw away/forget from the cell state (pass the weights through sigmoid function: the closer it is to 0, the more are the chances it will be thrown away, the closer it is to 1 - the more chances to keep)\n",
        "\n",
        "**Second step** is to decide what new information are we going to store to the cell state. 2 parts:\n",
        "\n",
        "* Input gate layer\n",
        "* Hyperbolic tangent layer, creating a vector of new candidates.\n",
        "\n",
        "**Third step** is to update the old cell state: multiply the old state by f(t) forgetting the info we've decided are not important, then we add candidates\n",
        "\n",
        "**Fourth step** is to decide what we are going to output. So we run a sigmoid layer to decide what parts of the cell state we're going to output. Then we put that cell state through a hyperbolic tangent function which pushes all the values to be between -1 and 1. And than we multiply it by the output of the initial sigmoid gate. "
      ]
    },
    {
      "cell_type": "markdown",
      "metadata": {
        "id": "rxosYOIB-_UC"
      },
      "source": [
        "## Gated Recurrent Unit (GRU)\n",
        "\n",
        "A variation of LSTM which combines the forget and input gates into 'single update' gate."
      ]
    },
    {
      "cell_type": "markdown",
      "metadata": {
        "id": "55BgY7EX_U7q"
      },
      "source": [
        "## Basic RNN on a Sine Wave"
      ]
    },
    {
      "cell_type": "markdown",
      "metadata": {
        "id": "UGSw20INHn3I"
      },
      "source": [
        "### Preparing the Data"
      ]
    },
    {
      "cell_type": "code",
      "metadata": {
        "id": "X_TJFkXJBJyq"
      },
      "source": [
        "import pandas as pd\n",
        "import numpy as np\n",
        "import matplotlib.pyplot as plt"
      ],
      "execution_count": 1,
      "outputs": []
    },
    {
      "cell_type": "code",
      "metadata": {
        "id": "juRne3AUBp53"
      },
      "source": [
        "# Create a sinewave\n",
        "x = np.linspace(0, 50, 501)"
      ],
      "execution_count": 2,
      "outputs": []
    },
    {
      "cell_type": "code",
      "metadata": {
        "id": "XzZg8VPDByyt"
      },
      "source": [
        "y = np.sin(x)"
      ],
      "execution_count": 3,
      "outputs": []
    },
    {
      "cell_type": "code",
      "metadata": {
        "id": "mhzqXrA_BzVB",
        "colab": {
          "base_uri": "https://localhost:8080/",
          "height": 282
        },
        "outputId": "dd510ed3-48f0-42e8-afb4-b7274485d1f4"
      },
      "source": [
        "plt.plot(x,y)"
      ],
      "execution_count": 4,
      "outputs": [
        {
          "output_type": "execute_result",
          "data": {
            "text/plain": [
              "[<matplotlib.lines.Line2D at 0x7f53c953fb50>]"
            ]
          },
          "metadata": {},
          "execution_count": 4
        },
        {
          "output_type": "display_data",
          "data": {
            "image/png": "[encoded data removed]",
            "text/plain": [
              "<Figure size 432x288 with 1 Axes>"
            ]
          },
          "metadata": {
            "needs_background": "light"
          }
        }
      ]
    },
    {
      "cell_type": "code",
      "metadata": {
        "id": "uH227mWwF9SS"
      },
      "source": [
        "df = pd.DataFrame(data=y, index=x, columns=['Sine'])"
      ],
      "execution_count": 5,
      "outputs": []
    },
    {
      "cell_type": "code",
      "metadata": {
        "id": "w4jhxG-YGGSF",
        "colab": {
          "base_uri": "https://localhost:8080/",
          "height": 419
        },
        "outputId": "d29c8d97-7937-4039-dcfe-16c4cffd6215"
      },
      "source": [
        "df"
      ],
      "execution_count": 6,
      "outputs": [
        {
          "output_type": "execute_result",
          "data": {
            "text/html": [
              "<div>\n",
              "<style scoped>\n",
              "    .dataframe tbody tr th:only-of-type {\n",
              "        vertical-align: middle;\n",
              "    }\n",
              "\n",
              "    .dataframe tbody tr th {\n",
              "        vertical-align: top;\n",
              "    }\n",
              "\n",
              "    .dataframe thead th {\n",
              "        text-align: right;\n",
              "    }\n",
              "</style>\n",
              "<table border=\"1\" class=\"dataframe\">\n",
              "  <thead>\n",
              "    <tr style=\"text-align: right;\">\n",
              "      <th></th>\n",
              "      <th>Sine</th>\n",
              "    </tr>\n",
              "  </thead>\n",
              "  <tbody>\n",
              "    <tr>\n",
              "      <th>0.0</th>\n",
              "      <td>0.000000</td>\n",
              "    </tr>\n",
              "    <tr>\n",
              "      <th>0.1</th>\n",
              "      <td>0.099833</td>\n",
              "    </tr>\n",
              "    <tr>\n",
              "      <th>0.2</th>\n",
              "      <td>0.198669</td>\n",
              "    </tr>\n",
              "    <tr>\n",
              "      <th>0.3</th>\n",
              "      <td>0.295520</td>\n",
              "    </tr>\n",
              "    <tr>\n",
              "      <th>0.4</th>\n",
              "      <td>0.389418</td>\n",
              "    </tr>\n",
              "    <tr>\n",
              "      <th>...</th>\n",
              "      <td>...</td>\n",
              "    </tr>\n",
              "    <tr>\n",
              "      <th>49.6</th>\n",
              "      <td>-0.617439</td>\n",
              "    </tr>\n",
              "    <tr>\n",
              "      <th>49.7</th>\n",
              "      <td>-0.535823</td>\n",
              "    </tr>\n",
              "    <tr>\n",
              "      <th>49.8</th>\n",
              "      <td>-0.448854</td>\n",
              "    </tr>\n",
              "    <tr>\n",
              "      <th>49.9</th>\n",
              "      <td>-0.357400</td>\n",
              "    </tr>\n",
              "    <tr>\n",
              "      <th>50.0</th>\n",
              "      <td>-0.262375</td>\n",
              "    </tr>\n",
              "  </tbody>\n",
              "</table>\n",
              "<p>501 rows × 1 columns</p>\n",
              "</div>"
            ],
            "text/plain": [
              "          Sine\n",
              "0.0   0.000000\n",
              "0.1   0.099833\n",
              "0.2   0.198669\n",
              "0.3   0.295520\n",
              "0.4   0.389418\n",
              "...        ...\n",
              "49.6 -0.617439\n",
              "49.7 -0.535823\n",
              "49.8 -0.448854\n",
              "49.9 -0.357400\n",
              "50.0 -0.262375\n",
              "\n",
              "[501 rows x 1 columns]"
            ]
          },
          "metadata": {},
          "execution_count": 6
        }
      ]
    },
    {
      "cell_type": "code",
      "metadata": {
        "id": "Rf_8FN8KGG3B",
        "colab": {
          "base_uri": "https://localhost:8080/"
        },
        "outputId": "75ef7f1f-84bb-4cad-f08d-235a122e35dc"
      },
      "source": [
        "len(df)"
      ],
      "execution_count": 7,
      "outputs": [
        {
          "output_type": "execute_result",
          "data": {
            "text/plain": [
              "501"
            ]
          },
          "metadata": {},
          "execution_count": 7
        }
      ]
    },
    {
      "cell_type": "code",
      "metadata": {
        "id": "25RAYEXJGLIF"
      },
      "source": [
        "test_percent = 0.1"
      ],
      "execution_count": 8,
      "outputs": []
    },
    {
      "cell_type": "code",
      "metadata": {
        "id": "bfHuwFd-GRlj"
      },
      "source": [
        "test_point = np.round(len(df) * test_percent)"
      ],
      "execution_count": 9,
      "outputs": []
    },
    {
      "cell_type": "code",
      "metadata": {
        "id": "t8M9H3Y_Ghzk",
        "colab": {
          "base_uri": "https://localhost:8080/"
        },
        "outputId": "629cfaf7-5644-4c1f-d9fa-31a0ac358673"
      },
      "source": [
        "test_point"
      ],
      "execution_count": 10,
      "outputs": [
        {
          "output_type": "execute_result",
          "data": {
            "text/plain": [
              "50.0"
            ]
          },
          "metadata": {},
          "execution_count": 10
        }
      ]
    },
    {
      "cell_type": "code",
      "metadata": {
        "id": "OjIHPWxJGqwa"
      },
      "source": [
        "test_ind = int(len(df) - test_point)"
      ],
      "execution_count": 11,
      "outputs": []
    },
    {
      "cell_type": "code",
      "metadata": {
        "id": "HpTBEHRlGx3t",
        "colab": {
          "base_uri": "https://localhost:8080/"
        },
        "outputId": "98ad8c30-bec3-499b-ff0d-ac75e2d34507"
      },
      "source": [
        "test_ind"
      ],
      "execution_count": 12,
      "outputs": [
        {
          "output_type": "execute_result",
          "data": {
            "text/plain": [
              "451"
            ]
          },
          "metadata": {},
          "execution_count": 12
        }
      ]
    },
    {
      "cell_type": "code",
      "metadata": {
        "id": "C0R0FlpYGy4T"
      },
      "source": [
        "train = df.iloc[:test_ind]"
      ],
      "execution_count": 13,
      "outputs": []
    },
    {
      "cell_type": "code",
      "metadata": {
        "id": "cUq6LRHmG-ET"
      },
      "source": [
        "test = df.iloc[test_ind:]"
      ],
      "execution_count": 14,
      "outputs": []
    },
    {
      "cell_type": "code",
      "metadata": {
        "id": "yOCXiLQQHCvQ"
      },
      "source": [
        "from sklearn.preprocessing import MinMaxScaler"
      ],
      "execution_count": 15,
      "outputs": []
    },
    {
      "cell_type": "code",
      "metadata": {
        "id": "CQs6REhiHRBN"
      },
      "source": [
        "scaler = MinMaxScaler()"
      ],
      "execution_count": 16,
      "outputs": []
    },
    {
      "cell_type": "code",
      "metadata": {
        "id": "8dbBhiiCHVR3",
        "colab": {
          "base_uri": "https://localhost:8080/"
        },
        "outputId": "272956cb-f39b-4495-99d6-960523067a91"
      },
      "source": [
        "scaler.fit(train)"
      ],
      "execution_count": 17,
      "outputs": [
        {
          "output_type": "execute_result",
          "data": {
            "text/plain": [
              "MinMaxScaler(copy=True, feature_range=(0, 1))"
            ]
          },
          "metadata": {},
          "execution_count": 17
        }
      ]
    },
    {
      "cell_type": "code",
      "metadata": {
        "id": "wpac0bi1HZxE"
      },
      "source": [
        "scaled_train = scaler.transform(train)"
      ],
      "execution_count": 18,
      "outputs": []
    },
    {
      "cell_type": "code",
      "metadata": {
        "id": "1Ew9QIzpHguj"
      },
      "source": [
        "scaled_test = scaler.transform(test)"
      ],
      "execution_count": 19,
      "outputs": []
    },
    {
      "cell_type": "markdown",
      "metadata": {
        "id": "cWFra5VqHkz-"
      },
      "source": [
        "### Batching"
      ]
    },
    {
      "cell_type": "code",
      "metadata": {
        "id": "wKbgfDHzHuh4"
      },
      "source": [
        "from tensorflow.keras.preprocessing.sequence import TimeseriesGenerator"
      ],
      "execution_count": 20,
      "outputs": []
    },
    {
      "cell_type": "code",
      "metadata": {
        "id": "hbuxMvUgH5Gw"
      },
      "source": [
        "length = 2\n",
        "batch_size = 1\n",
        "\n",
        "generator = TimeseriesGenerator(scaled_train, scaled_train,\n",
        "                                length=length, batch_size=batch_size)"
      ],
      "execution_count": 21,
      "outputs": []
    },
    {
      "cell_type": "code",
      "metadata": {
        "id": "JW6Aghy0InSd",
        "colab": {
          "base_uri": "https://localhost:8080/"
        },
        "outputId": "88c75f50-b55c-41e8-fcd5-e315fe47ba17"
      },
      "source": [
        "len(scaled_train)"
      ],
      "execution_count": 22,
      "outputs": [
        {
          "output_type": "execute_result",
          "data": {
            "text/plain": [
              "451"
            ]
          },
          "metadata": {},
          "execution_count": 22
        }
      ]
    },
    {
      "cell_type": "code",
      "metadata": {
        "id": "iIB1flLZIp8X",
        "colab": {
          "base_uri": "https://localhost:8080/"
        },
        "outputId": "1eb8790f-f5ad-428b-d014-665e1bcf928b"
      },
      "source": [
        "len(generator) #should be 451 - length(2)"
      ],
      "execution_count": 23,
      "outputs": [
        {
          "output_type": "execute_result",
          "data": {
            "text/plain": [
              "449"
            ]
          },
          "metadata": {},
          "execution_count": 23
        }
      ]
    },
    {
      "cell_type": "markdown",
      "metadata": {
        "id": "3s0e0zSsIs-B"
      },
      "source": [
        "### Creating a model"
      ]
    },
    {
      "cell_type": "code",
      "metadata": {
        "id": "q5ZVy4GAJwle",
        "colab": {
          "base_uri": "https://localhost:8080/",
          "height": 282
        },
        "outputId": "209b0a23-8e40-4f77-d66b-663a76f55bc4"
      },
      "source": [
        "df.plot()"
      ],
      "execution_count": 24,
      "outputs": [
        {
          "output_type": "execute_result",
          "data": {
            "text/plain": [
              "<matplotlib.axes._subplots.AxesSubplot at 0x7f5372c86e50>"
            ]
          },
          "metadata": {},
          "execution_count": 24
        },
        {
          "output_type": "display_data",
          "data": {
            "image/png": "[encoded data removed]",
            "text/plain": [
              "<Figure size 432x288 with 1 Axes>"
            ]
          },
          "metadata": {
            "needs_background": "light"
          }
        }
      ]
    },
    {
      "cell_type": "code",
      "metadata": {
        "id": "0XR9GtC1Ox0c"
      },
      "source": [
        "length = 50\n",
        "batch_size = 1\n",
        "\n",
        "generator = TimeseriesGenerator(scaled_train, scaled_train,\n",
        "                                length=length, batch_size=batch_size)"
      ],
      "execution_count": 25,
      "outputs": []
    },
    {
      "cell_type": "code",
      "metadata": {
        "id": "OEXW-6KDO7kv"
      },
      "source": [
        "from tensorflow.keras.models import Sequential"
      ],
      "execution_count": 26,
      "outputs": []
    },
    {
      "cell_type": "code",
      "metadata": {
        "id": "HNiChvF4PDXQ"
      },
      "source": [
        "from tensorflow.keras.layers import Dense, SimpleRNN, LSTM"
      ],
      "execution_count": 27,
      "outputs": []
    },
    {
      "cell_type": "code",
      "metadata": {
        "id": "WsKKAtozPKub"
      },
      "source": [
        "n_features = 1"
      ],
      "execution_count": 28,
      "outputs": []
    },
    {
      "cell_type": "code",
      "metadata": {
        "id": "htIWJIRePMyK"
      },
      "source": [
        "model = Sequential()\n",
        "model.add(SimpleRNN(units=50, #equal to length of the batch\n",
        "                    input_shape=(length, n_features)))\n",
        "model.add(Dense(1))\n",
        "model.compile(optimizer=\"adam\", loss=\"mse\")"
      ],
      "execution_count": 29,
      "outputs": []
    },
    {
      "cell_type": "code",
      "metadata": {
        "id": "6us9JaAHPOVI",
        "colab": {
          "base_uri": "https://localhost:8080/"
        },
        "outputId": "1224b16b-0b89-4b55-997f-01b4dca63051"
      },
      "source": [
        "model.summary()"
      ],
      "execution_count": 30,
      "outputs": [
        {
          "output_type": "stream",
          "name": "stdout",
          "text": [
            "Model: \"sequential\"\n",
            "_________________________________________________________________\n",
            "Layer (type)                 Output Shape              Param #   \n",
            "=================================================================\n",
            "simple_rnn (SimpleRNN)       (None, 50)                2600      \n",
            "_________________________________________________________________\n",
            "dense (Dense)                (None, 1)                 51        \n",
            "=================================================================\n",
            "Total params: 2,651\n",
            "Trainable params: 2,651\n",
            "Non-trainable params: 0\n",
            "_________________________________________________________________\n"
          ]
        }
      ]
    },
    {
      "cell_type": "code",
      "metadata": {
        "id": "78Xw5gMwPsEm",
        "colab": {
          "base_uri": "https://localhost:8080/"
        },
        "outputId": "17fb310e-79cd-48c1-b279-7d7e6ecfbfe5"
      },
      "source": [
        "model.fit_generator(generator, epochs=5)"
      ],
      "execution_count": 31,
      "outputs": [
        {
          "output_type": "stream",
          "name": "stdout",
          "text": [
            "Epoch 1/5\n"
          ]
        },
        {
          "output_type": "stream",
          "name": "stderr",
          "text": [
            "/usr/local/lib/python3.7/dist-packages/keras/engine/training.py:1972: UserWarning: `Model.fit_generator` is deprecated and will be removed in a future version. Please use `Model.fit`, which supports generators.\n",
            "  warnings.warn('`Model.fit_generator` is deprecated and '\n"
          ]
        },
        {
          "output_type": "stream",
          "name": "stdout",
          "text": [
            "401/401 [==============================] - 26s 58ms/step - loss: 0.0034\n",
            "Epoch 2/5\n",
            "401/401 [==============================] - 23s 58ms/step - loss: 1.6644e-04\n",
            "Epoch 3/5\n",
            "401/401 [==============================] - 23s 56ms/step - loss: 1.6259e-04\n",
            "Epoch 4/5\n",
            "401/401 [==============================] - 22s 56ms/step - loss: 1.0976e-04\n",
            "Epoch 5/5\n",
            "401/401 [==============================] - 23s 56ms/step - loss: 5.0738e-05\n"
          ]
        },
        {
          "output_type": "execute_result",
          "data": {
            "text/plain": [
              "<keras.callbacks.History at 0x7f5372bdc390>"
            ]
          },
          "metadata": {},
          "execution_count": 31
        }
      ]
    },
    {
      "cell_type": "code",
      "metadata": {
        "id": "4Az9j1rHP2ZV"
      },
      "source": [
        "losses = pd.DataFrame(model.history.history)"
      ],
      "execution_count": 32,
      "outputs": []
    },
    {
      "cell_type": "code",
      "metadata": {
        "id": "YYzGgFnCQBcg",
        "colab": {
          "base_uri": "https://localhost:8080/",
          "height": 282
        },
        "outputId": "a2df4c10-4d14-41b9-b4b2-2f5acb1c3418"
      },
      "source": [
        "losses.plot()"
      ],
      "execution_count": 33,
      "outputs": [
        {
          "output_type": "execute_result",
          "data": {
            "text/plain": [
              "<matplotlib.axes._subplots.AxesSubplot at 0x7f53c904b6d0>"
            ]
          },
          "metadata": {},
          "execution_count": 33
        },
        {
          "output_type": "display_data",
          "data": {
            "image/png": "[encoded data removed]",
            "text/plain": [
              "<Figure size 432x288 with 1 Axes>"
            ]
          },
          "metadata": {
            "needs_background": "light"
          }
        }
      ]
    },
    {
      "cell_type": "markdown",
      "metadata": {
        "id": "pxihZZBQQD5m"
      },
      "source": [
        "### Evaluate the model"
      ]
    },
    {
      "cell_type": "code",
      "metadata": {
        "id": "mpicYVmhQMe9"
      },
      "source": [
        "first_eval_batch = scaled_train[-length:]"
      ],
      "execution_count": 34,
      "outputs": []
    },
    {
      "cell_type": "code",
      "metadata": {
        "id": "mLmEsQCeQVbg"
      },
      "source": [
        "first_eval_batch = first_eval_batch.reshape((1, length, n_features))"
      ],
      "execution_count": 35,
      "outputs": []
    },
    {
      "cell_type": "code",
      "metadata": {
        "id": "ESu6Yo-sQeBE",
        "colab": {
          "base_uri": "https://localhost:8080/"
        },
        "outputId": "b267c5fb-ada3-40d1-9b29-7d1b481717d2"
      },
      "source": [
        "model.predict(first_eval_batch)"
      ],
      "execution_count": 36,
      "outputs": [
        {
          "output_type": "execute_result",
          "data": {
            "text/plain": [
              "array([[0.9461688]], dtype=float32)"
            ]
          },
          "metadata": {},
          "execution_count": 36
        }
      ]
    },
    {
      "cell_type": "code",
      "metadata": {
        "id": "LoKtwv_bQjMz",
        "colab": {
          "base_uri": "https://localhost:8080/"
        },
        "outputId": "a5f2092c-ae86-4c28-c574-1a60f2b391a0"
      },
      "source": [
        "scaled_test[0]"
      ],
      "execution_count": 37,
      "outputs": [
        {
          "output_type": "execute_result",
          "data": {
            "text/plain": [
              "array([0.94955134])"
            ]
          },
          "metadata": {},
          "execution_count": 37
        }
      ]
    },
    {
      "cell_type": "markdown",
      "metadata": {
        "id": "ujNYcSjDQm_t"
      },
      "source": [
        "### Create logic for predicting multiple points in future"
      ]
    },
    {
      "cell_type": "code",
      "metadata": {
        "id": "6Sk8XfSLQ0q5"
      },
      "source": [
        "test_predictions = []\n",
        "\n",
        "first_eval_batch = scaled_train[-length:]\n",
        "current_batch = first_eval_batch.reshape((1, length, n_features))"
      ],
      "execution_count": 38,
      "outputs": []
    },
    {
      "cell_type": "code",
      "metadata": {
        "id": "L_HhGjnjRFHW"
      },
      "source": [
        "#current_batch"
      ],
      "execution_count": 39,
      "outputs": []
    },
    {
      "cell_type": "code",
      "metadata": {
        "id": "g_7f38vVRIcQ"
      },
      "source": [
        "#np.append(current_batch[:, 1:, :], [[[99]]],axis=1)"
      ],
      "execution_count": 40,
      "outputs": []
    },
    {
      "cell_type": "code",
      "metadata": {
        "id": "JZIxJL9QR6uK"
      },
      "source": [
        "test_predictions = []\n",
        "\n",
        "first_eval_batch = scaled_train[-length:]\n",
        "current_batch = first_eval_batch.reshape((1, length, n_features))\n",
        "\n",
        "for i in range(len(test)):\n",
        "  current_pred = model.predict(current_batch)[0]\n",
        "  test_predictions.append(current_pred)\n",
        "\n",
        "  current_batch = np.append(current_batch[:,1:,:],[[current_pred]], axis=1)"
      ],
      "execution_count": 41,
      "outputs": []
    },
    {
      "cell_type": "code",
      "metadata": {
        "id": "rFs8aIhdSjdM"
      },
      "source": [
        "#test_predictions"
      ],
      "execution_count": 42,
      "outputs": []
    },
    {
      "cell_type": "markdown",
      "metadata": {
        "id": "gBfkld-iSqxR"
      },
      "source": [
        "### Inverse predictions (from scaled back to normal)"
      ]
    },
    {
      "cell_type": "code",
      "metadata": {
        "id": "c94bOXgDS5ls"
      },
      "source": [
        "true_predictions = scaler.inverse_transform(test_predictions)"
      ],
      "execution_count": 43,
      "outputs": []
    },
    {
      "cell_type": "code",
      "metadata": {
        "id": "RTRERjNlS_Xv"
      },
      "source": [
        "#true_predictions"
      ],
      "execution_count": 44,
      "outputs": []
    },
    {
      "cell_type": "code",
      "metadata": {
        "id": "U4a5hmrHTA7f",
        "colab": {
          "base_uri": "https://localhost:8080/"
        },
        "outputId": "dd6dea8a-d815-4045-ac9f-c362871ffd31"
      },
      "source": [
        "test['Predictions'] = true_predictions"
      ],
      "execution_count": 45,
      "outputs": [
        {
          "output_type": "stream",
          "name": "stderr",
          "text": [
            "/usr/local/lib/python3.7/dist-packages/ipykernel_launcher.py:1: SettingWithCopyWarning: \n",
            "A value is trying to be set on a copy of a slice from a DataFrame.\n",
            "Try using .loc[row_indexer,col_indexer] = value instead\n",
            "\n",
            "See the caveats in the documentation: https://pandas.pydata.org/pandas-docs/stable/user_guide/indexing.html#returning-a-view-versus-a-copy\n",
            "  \"\"\"Entry point for launching an IPython kernel.\n"
          ]
        }
      ]
    },
    {
      "cell_type": "code",
      "metadata": {
        "id": "ATG3jYCUTG6q"
      },
      "source": [
        "#test"
      ],
      "execution_count": 46,
      "outputs": []
    },
    {
      "cell_type": "code",
      "metadata": {
        "id": "chXYx4CVTI3Y",
        "colab": {
          "base_uri": "https://localhost:8080/",
          "height": 441
        },
        "outputId": "a10fe358-c52b-48d2-c421-f5ed9b6c6803"
      },
      "source": [
        "test.plot(figsize=(12,8))"
      ],
      "execution_count": 47,
      "outputs": [
        {
          "output_type": "execute_result",
          "data": {
            "text/plain": [
              "<matplotlib.axes._subplots.AxesSubplot at 0x7f52fa23a390>"
            ]
          },
          "metadata": {},
          "execution_count": 47
        },
        {
          "output_type": "display_data",
          "data": {
            "image/png": "[encoded data removed]",
            "text/plain": [
              "<Figure size 864x576 with 1 Axes>"
            ]
          },
          "metadata": {
            "needs_background": "light"
          }
        }
      ]
    },
    {
      "cell_type": "markdown",
      "metadata": {
        "id": "nsWqxd3dTMeP"
      },
      "source": [
        "### Using LSTM on Sine Wave"
      ]
    },
    {
      "cell_type": "code",
      "metadata": {
        "id": "4PqGb-uYTto2"
      },
      "source": [
        "from tensorflow.keras.callbacks import EarlyStopping"
      ],
      "execution_count": 48,
      "outputs": []
    },
    {
      "cell_type": "code",
      "metadata": {
        "id": "RORD565XTzN3"
      },
      "source": [
        "early_stop = EarlyStopping(monitor='val_loss', patience=2)"
      ],
      "execution_count": 49,
      "outputs": []
    },
    {
      "cell_type": "code",
      "metadata": {
        "id": "mQUS3SW_T9IU"
      },
      "source": [
        "length = 49\n",
        "generator = TimeseriesGenerator(scaled_train, scaled_train,\n",
        "                                length=length, batch_size=1)\n",
        "\n",
        "validation_generator = TimeseriesGenerator(scaled_test,\n",
        "                                           scaled_test,\n",
        "                                           length=length,\n",
        "                                           batch_size=1)"
      ],
      "execution_count": 50,
      "outputs": []
    },
    {
      "cell_type": "code",
      "metadata": {
        "id": "_cDxq9tGUNxW"
      },
      "source": [
        "model = Sequential()\n",
        "model.add(LSTM(units=50, #equal to length of the batch\n",
        "                    input_shape=(length, n_features)))\n",
        "model.add(Dense(1))\n",
        "model.compile(optimizer=\"adam\", loss=\"mse\")"
      ],
      "execution_count": 51,
      "outputs": []
    },
    {
      "cell_type": "code",
      "metadata": {
        "id": "c_raAInYVM6r",
        "colab": {
          "base_uri": "https://localhost:8080/"
        },
        "outputId": "2d5a29eb-7351-4f8e-def3-6aaa5c11d8b4"
      },
      "source": [
        "model.fit_generator(generator=generator, \n",
        "                    validation_data=validation_generator,\n",
        "                    epochs=20,\n",
        "                    callbacks=[early_stop])"
      ],
      "execution_count": 52,
      "outputs": [
        {
          "output_type": "stream",
          "name": "stderr",
          "text": [
            "/usr/local/lib/python3.7/dist-packages/keras/engine/training.py:1972: UserWarning: `Model.fit_generator` is deprecated and will be removed in a future version. Please use `Model.fit`, which supports generators.\n",
            "  warnings.warn('`Model.fit_generator` is deprecated and '\n"
          ]
        },
        {
          "output_type": "stream",
          "name": "stdout",
          "text": [
            "Epoch 1/20\n",
            "402/402 [==============================] - 8s 10ms/step - loss: 0.0143 - val_loss: 2.0408e-04\n",
            "Epoch 2/20\n",
            "402/402 [==============================] - 3s 9ms/step - loss: 6.7841e-04 - val_loss: 1.1171e-04\n",
            "Epoch 3/20\n",
            "402/402 [==============================] - 4s 9ms/step - loss: 4.4958e-04 - val_loss: 9.6256e-06\n",
            "Epoch 4/20\n",
            "402/402 [==============================] - 4s 9ms/step - loss: 7.4589e-05 - val_loss: 1.8346e-05\n",
            "Epoch 5/20\n",
            "402/402 [==============================] - 4s 9ms/step - loss: 1.0006e-04 - val_loss: 1.4594e-06\n",
            "Epoch 6/20\n",
            "402/402 [==============================] - 4s 9ms/step - loss: 1.1655e-04 - val_loss: 1.5347e-06\n",
            "Epoch 7/20\n",
            "402/402 [==============================] - 4s 9ms/step - loss: 1.5965e-04 - val_loss: 8.9824e-05\n"
          ]
        },
        {
          "output_type": "execute_result",
          "data": {
            "text/plain": [
              "<keras.callbacks.History at 0x7f52fa1be4d0>"
            ]
          },
          "metadata": {},
          "execution_count": 52
        }
      ]
    },
    {
      "cell_type": "markdown",
      "metadata": {
        "id": "4rdXS05KVYwy"
      },
      "source": [
        "### Evaluate the LSTM model"
      ]
    },
    {
      "cell_type": "code",
      "metadata": {
        "id": "aEz0myGSWJrK"
      },
      "source": [
        "test_predictions = []\n",
        "\n",
        "first_eval_batch = scaled_train[-length:]\n",
        "current_batch = first_eval_batch.reshape((1, length, n_features))\n",
        "\n",
        "for i in range(len(test)):\n",
        "  current_pred = model.predict(current_batch)[0]\n",
        "  test_predictions.append(current_pred)\n",
        "\n",
        "  current_batch = np.append(current_batch[:,1:,:],[[current_pred]], axis=1)"
      ],
      "execution_count": 53,
      "outputs": []
    },
    {
      "cell_type": "code",
      "metadata": {
        "id": "2WKNumvzWNZc",
        "colab": {
          "base_uri": "https://localhost:8080/",
          "height": 563
        },
        "outputId": "16136aa1-be52-49c8-a95d-5de102a32246"
      },
      "source": [
        "true_predictions = scaler.inverse_transform(test_predictions)\n",
        "test['LSTM Predictions'] = true_predictions\n",
        "test.plot(figsize=(12,8))"
      ],
      "execution_count": 54,
      "outputs": [
        {
          "output_type": "stream",
          "name": "stderr",
          "text": [
            "/usr/local/lib/python3.7/dist-packages/ipykernel_launcher.py:2: SettingWithCopyWarning: \n",
            "A value is trying to be set on a copy of a slice from a DataFrame.\n",
            "Try using .loc[row_indexer,col_indexer] = value instead\n",
            "\n",
            "See the caveats in the documentation: https://pandas.pydata.org/pandas-docs/stable/user_guide/indexing.html#returning-a-view-versus-a-copy\n",
            "  \n"
          ]
        },
        {
          "output_type": "execute_result",
          "data": {
            "text/plain": [
              "<matplotlib.axes._subplots.AxesSubplot at 0x7f52f77ad910>"
            ]
          },
          "metadata": {},
          "execution_count": 54
        },
        {
          "output_type": "display_data",
          "data": {
            "image/png": "[encoded data removed]",
            "text/plain": [
              "<Figure size 864x576 with 1 Axes>"
            ]
          },
          "metadata": {
            "needs_background": "light"
          }
        }
      ]
    },
    {
      "cell_type": "code",
      "metadata": {
        "id": "L_div8spWfnt",
        "colab": {
          "base_uri": "https://localhost:8080/",
          "height": 282
        },
        "outputId": "0e4556dd-5d9b-40cf-a2b4-b2f42270938c"
      },
      "source": [
        "df.plot()"
      ],
      "execution_count": 55,
      "outputs": [
        {
          "output_type": "execute_result",
          "data": {
            "text/plain": [
              "<matplotlib.axes._subplots.AxesSubplot at 0x7f52f9bd22d0>"
            ]
          },
          "metadata": {},
          "execution_count": 55
        },
        {
          "output_type": "display_data",
          "data": {
            "image/png": "[encoded data removed]",
            "text/plain": [
              "<Figure size 432x288 with 1 Axes>"
            ]
          },
          "metadata": {
            "needs_background": "light"
          }
        }
      ]
    },
    {
      "cell_type": "markdown",
      "metadata": {
        "id": "NvIaR8u7Ynjk"
      },
      "source": [
        "### Making predictions with full data"
      ]
    },
    {
      "cell_type": "code",
      "metadata": {
        "id": "mkZQhFQEYSDI"
      },
      "source": [
        "full_scaler = MinMaxScaler()\n",
        "scaled_full_data = full_scaler.fit_transform(df)"
      ],
      "execution_count": 56,
      "outputs": []
    },
    {
      "cell_type": "code",
      "metadata": {
        "id": "qySmv9ySYYEw"
      },
      "source": [
        "generator = TimeseriesGenerator(scaled_full_data, scaled_full_data,\n",
        "                                length=length, batch_size=1)"
      ],
      "execution_count": 57,
      "outputs": []
    },
    {
      "cell_type": "code",
      "metadata": {
        "id": "9WlxeR50Y1nz"
      },
      "source": [
        "model = Sequential()\n",
        "model.add(LSTM(units=50, #equal to length of the batch\n",
        "                    input_shape=(length, n_features)))\n",
        "model.add(Dense(1))\n",
        "model.compile(optimizer=\"adam\", loss=\"mse\")"
      ],
      "execution_count": 58,
      "outputs": []
    },
    {
      "cell_type": "code",
      "metadata": {
        "id": "DNHKPU6EY6ld",
        "colab": {
          "base_uri": "https://localhost:8080/"
        },
        "outputId": "5fb09670-d9fe-4d68-8001-b34ed4d1075b"
      },
      "source": [
        "model.fit_generator(generator, epochs=6)"
      ],
      "execution_count": 59,
      "outputs": [
        {
          "output_type": "stream",
          "name": "stderr",
          "text": [
            "/usr/local/lib/python3.7/dist-packages/keras/engine/training.py:1972: UserWarning: `Model.fit_generator` is deprecated and will be removed in a future version. Please use `Model.fit`, which supports generators.\n",
            "  warnings.warn('`Model.fit_generator` is deprecated and '\n"
          ]
        },
        {
          "output_type": "stream",
          "name": "stdout",
          "text": [
            "Epoch 1/6\n",
            "452/452 [==============================] - 6s 9ms/step - loss: 0.0190\n",
            "Epoch 2/6\n",
            "452/452 [==============================] - 4s 9ms/step - loss: 3.0003e-04\n",
            "Epoch 3/6\n",
            "452/452 [==============================] - 4s 9ms/step - loss: 2.1150e-04\n",
            "Epoch 4/6\n",
            "452/452 [==============================] - 4s 9ms/step - loss: 2.6795e-04\n",
            "Epoch 5/6\n",
            "452/452 [==============================] - 4s 9ms/step - loss: 3.5887e-04\n",
            "Epoch 6/6\n",
            "452/452 [==============================] - 4s 9ms/step - loss: 7.5604e-05\n"
          ]
        },
        {
          "output_type": "execute_result",
          "data": {
            "text/plain": [
              "<keras.callbacks.History at 0x7f52f88b10d0>"
            ]
          },
          "metadata": {},
          "execution_count": 59
        }
      ]
    },
    {
      "cell_type": "code",
      "metadata": {
        "id": "19ccmRmJZCDC"
      },
      "source": [
        "forecast = []\n",
        "\n",
        "first_eval_batch = scaled_train[-length:]\n",
        "current_batch = first_eval_batch.reshape((1, length, n_features))\n",
        "\n",
        "for i in range(25): # How many points in future\n",
        "  current_pred = model.predict(current_batch)[0]\n",
        "  forecast.append(current_pred)\n",
        "\n",
        "  current_batch = np.append(current_batch[:,1:,:],[[current_pred]], axis=1)"
      ],
      "execution_count": 60,
      "outputs": []
    },
    {
      "cell_type": "code",
      "metadata": {
        "id": "81-eiNxgZgeq"
      },
      "source": [
        "forecast = scaler.inverse_transform(forecast)"
      ],
      "execution_count": 61,
      "outputs": []
    },
    {
      "cell_type": "code",
      "metadata": {
        "id": "Z8kCXMQ8ZmCU"
      },
      "source": [
        "forecast_index = np.arange(50.1, 52.6, step=0.1)"
      ],
      "execution_count": 62,
      "outputs": []
    },
    {
      "cell_type": "code",
      "metadata": {
        "id": "48anQOdCZ3eI",
        "colab": {
          "base_uri": "https://localhost:8080/"
        },
        "outputId": "6dd2edf2-2414-425d-a0d7-78b1a4d1e6a5"
      },
      "source": [
        "len(forecast_index), len(forecast)"
      ],
      "execution_count": 63,
      "outputs": [
        {
          "output_type": "execute_result",
          "data": {
            "text/plain": [
              "(25, 25)"
            ]
          },
          "metadata": {},
          "execution_count": 63
        }
      ]
    },
    {
      "cell_type": "code",
      "metadata": {
        "id": "yWnfeuHrZ7Nj",
        "colab": {
          "base_uri": "https://localhost:8080/",
          "height": 282
        },
        "outputId": "6da4506a-96fd-492b-edde-06c3a8f219ec"
      },
      "source": [
        "plt.plot(df.index, df['Sine'])\n",
        "plt.plot(forecast_index, forecast)"
      ],
      "execution_count": 64,
      "outputs": [
        {
          "output_type": "execute_result",
          "data": {
            "text/plain": [
              "[<matplotlib.lines.Line2D at 0x7f52fb1cf490>]"
            ]
          },
          "metadata": {},
          "execution_count": 64
        },
        {
          "output_type": "display_data",
          "data": {
            "image/png": "[encoded data removed]",
            "text/plain": [
              "<Figure size 432x288 with 1 Axes>"
            ]
          },
          "metadata": {
            "needs_background": "light"
          }
        }
      ]
    },
    {
      "cell_type": "markdown",
      "metadata": {
        "id": "Ur2-PIzaaEmn"
      },
      "source": [
        "## RNN on TimeSeries"
      ]
    },
    {
      "cell_type": "markdown",
      "metadata": {
        "id": "xaX9nljOeE6-"
      },
      "source": [
        "### Get Data"
      ]
    },
    {
      "cell_type": "code",
      "metadata": {
        "id": "UfjpsAxZeH2D",
        "outputId": "4bc2ba5e-686d-4afb-b9a6-16aea81fcb74",
        "colab": {
          "base_uri": "https://localhost:8080/"
        }
      },
      "source": [
        "!wget \"https://raw.githubusercontent.com/Dimisz/tensorflow_lectures/main/RSCCAS.csv\""
      ],
      "execution_count": 202,
      "outputs": [
        {
          "output_type": "stream",
          "name": "stdout",
          "text": [
            "--2021-10-06 03:39:44--  https://raw.githubusercontent.com/Dimisz/tensorflow_lectures/main/RSCCAS.csv\n",
            "Resolving raw.githubusercontent.com (raw.githubusercontent.com)... 185.199.108.133, 185.199.109.133, 185.199.110.133, ...\n",
            "Connecting to raw.githubusercontent.com (raw.githubusercontent.com)|185.199.108.133|:443... connected.\n",
            "HTTP request sent, awaiting response... 200 OK\n",
            "Length: 6054 (5.9K) [text/plain]\n",
            "Saving to: ‘RSCCAS.csv.3’\n",
            "\n",
            "\rRSCCAS.csv.3          0%[                    ]       0  --.-KB/s               \rRSCCAS.csv.3        100%[===================>]   5.91K  --.-KB/s    in 0s      \n",
            "\n",
            "2021-10-06 03:39:44 (62.6 MB/s) - ‘RSCCAS.csv.3’ saved [6054/6054]\n",
            "\n"
          ]
        }
      ]
    },
    {
      "cell_type": "code",
      "metadata": {
        "id": "voKF20M6eJuM"
      },
      "source": [
        "df = pd.read_csv(\"/content/RSCCASN.csv\", parse_dates=True, index_col='DATE')"
      ],
      "execution_count": 242,
      "outputs": []
    },
    {
      "cell_type": "code",
      "metadata": {
        "id": "yd-JeMpxeZQ0",
        "outputId": "facebfa4-5c27-4d10-a315-a57771f0bc5f",
        "colab": {
          "base_uri": "https://localhost:8080/"
        }
      },
      "source": [
        "df.info()"
      ],
      "execution_count": 243,
      "outputs": [
        {
          "output_type": "stream",
          "name": "stdout",
          "text": [
            "<class 'pandas.core.frame.DataFrame'>\n",
            "DatetimeIndex: 334 entries, 1992-01-01 to 2019-10-01\n",
            "Data columns (total 1 columns):\n",
            " #   Column   Non-Null Count  Dtype\n",
            "---  ------   --------------  -----\n",
            " 0   RSCCASN  334 non-null    int64\n",
            "dtypes: int64(1)\n",
            "memory usage: 5.2 KB\n"
          ]
        }
      ]
    },
    {
      "cell_type": "code",
      "metadata": {
        "id": "cu-oItN0efZT"
      },
      "source": [
        "df.columns = ['Sales']"
      ],
      "execution_count": 244,
      "outputs": []
    },
    {
      "cell_type": "code",
      "metadata": {
        "id": "oE_G-DSEek5e",
        "outputId": "ec807bc0-5348-44a7-f8e0-3ed8c9da46bc",
        "colab": {
          "base_uri": "https://localhost:8080/",
          "height": 452
        }
      },
      "source": [
        "df.plot(figsize=(12,8))\n"
      ],
      "execution_count": 245,
      "outputs": [
        {
          "output_type": "execute_result",
          "data": {
            "text/plain": [
              "<matplotlib.axes._subplots.AxesSubplot at 0x7f52c871b910>"
            ]
          },
          "metadata": {},
          "execution_count": 245
        },
        {
          "output_type": "display_data",
          "data": {
            "image/png": "[encoded data removed]",
            "text/plain": [
              "<Figure size 864x576 with 1 Axes>"
            ]
          },
          "metadata": {
            "needs_background": "light"
          }
        }
      ]
    },
    {
      "cell_type": "code",
      "metadata": {
        "id": "kU_D_3djeoLl",
        "outputId": "01db10a4-c7d5-43cd-c472-97d4a4d7c935",
        "colab": {
          "base_uri": "https://localhost:8080/"
        }
      },
      "source": [
        "len(df)"
      ],
      "execution_count": 246,
      "outputs": [
        {
          "output_type": "execute_result",
          "data": {
            "text/plain": [
              "334"
            ]
          },
          "metadata": {},
          "execution_count": 246
        }
      ]
    },
    {
      "cell_type": "code",
      "metadata": {
        "id": "SVF7dcSsfCRv"
      },
      "source": [
        "test_size = 18\n",
        "test_ind = len(df) - test_size"
      ],
      "execution_count": 247,
      "outputs": []
    },
    {
      "cell_type": "code",
      "metadata": {
        "id": "QpNKGED3fO3l"
      },
      "source": [
        "train = df.iloc[:test_ind]\n",
        "test = df.iloc[test_ind:]"
      ],
      "execution_count": 248,
      "outputs": []
    },
    {
      "cell_type": "code",
      "metadata": {
        "id": "42T_5rLKfceW"
      },
      "source": [
        "from sklearn.preprocessing import MinMaxScaler"
      ],
      "execution_count": 249,
      "outputs": []
    },
    {
      "cell_type": "code",
      "metadata": {
        "id": "Nesjb18Pfm8l"
      },
      "source": [
        "scaler = MinMaxScaler()"
      ],
      "execution_count": 250,
      "outputs": []
    },
    {
      "cell_type": "code",
      "metadata": {
        "id": "KZwVT2O3fqrr",
        "outputId": "9056bc24-b603-4190-8d6a-2fc45b617c96",
        "colab": {
          "base_uri": "https://localhost:8080/"
        }
      },
      "source": [
        "scaler.fit(train)"
      ],
      "execution_count": 251,
      "outputs": [
        {
          "output_type": "execute_result",
          "data": {
            "text/plain": [
              "MinMaxScaler(copy=True, feature_range=(0, 1))"
            ]
          },
          "metadata": {},
          "execution_count": 251
        }
      ]
    },
    {
      "cell_type": "code",
      "metadata": {
        "id": "bF7CNJgDfuap"
      },
      "source": [
        "scaled_train = scaler.transform(train)"
      ],
      "execution_count": 252,
      "outputs": []
    },
    {
      "cell_type": "code",
      "metadata": {
        "id": "Q5peGlqofzNU"
      },
      "source": [
        "scaled_test = scaler.transform(test)"
      ],
      "execution_count": 253,
      "outputs": []
    },
    {
      "cell_type": "code",
      "metadata": {
        "id": "Ddw6Terof2V1"
      },
      "source": [
        "from tensorflow.keras.preprocessing.sequence import TimeseriesGenerator"
      ],
      "execution_count": 254,
      "outputs": []
    },
    {
      "cell_type": "code",
      "metadata": {
        "id": "gMe75na8f_Cz",
        "outputId": "5a350810-66d2-48ad-e5f9-6e4b6c184be0",
        "colab": {
          "base_uri": "https://localhost:8080/"
        }
      },
      "source": [
        "len(test)"
      ],
      "execution_count": 255,
      "outputs": [
        {
          "output_type": "execute_result",
          "data": {
            "text/plain": [
              "18"
            ]
          },
          "metadata": {},
          "execution_count": 255
        }
      ]
    },
    {
      "cell_type": "code",
      "metadata": {
        "id": "gqZhl0dUgIVH"
      },
      "source": [
        "length = 12 #year\n",
        "generator = TimeseriesGenerator(scaled_train, scaled_train,\n",
        "                                length=length, batch_size=1)"
      ],
      "execution_count": 256,
      "outputs": []
    },
    {
      "cell_type": "code",
      "metadata": {
        "id": "R-rxQbpZgXuY"
      },
      "source": [
        "X,y = generator[0]"
      ],
      "execution_count": 257,
      "outputs": []
    },
    {
      "cell_type": "code",
      "metadata": {
        "id": "-NgYj1NigaGl",
        "outputId": "8f94266c-7ba2-4cd6-95aa-b9056deb2bc4",
        "colab": {
          "base_uri": "https://localhost:8080/"
        }
      },
      "source": [
        "X"
      ],
      "execution_count": 258,
      "outputs": [
        {
          "output_type": "execute_result",
          "data": {
            "text/plain": [
              "array([[[0.        ],\n",
              "        [0.02127505],\n",
              "        [0.05580163],\n",
              "        [0.08942056],\n",
              "        [0.09512053],\n",
              "        [0.08146965],\n",
              "        [0.07860151],\n",
              "        [0.12979233],\n",
              "        [0.09566512],\n",
              "        [0.1203892 ],\n",
              "        [0.15426227],\n",
              "        [0.41595266]]])"
            ]
          },
          "metadata": {},
          "execution_count": 258
        }
      ]
    },
    {
      "cell_type": "code",
      "metadata": {
        "id": "9PXwbPhggaoQ",
        "outputId": "a284d275-b989-4db6-c75c-79734fdb97f7",
        "colab": {
          "base_uri": "https://localhost:8080/"
        }
      },
      "source": [
        "y"
      ],
      "execution_count": 259,
      "outputs": [
        {
          "output_type": "execute_result",
          "data": {
            "text/plain": [
              "array([[0.02047633]])"
            ]
          },
          "metadata": {},
          "execution_count": 259
        }
      ]
    },
    {
      "cell_type": "code",
      "metadata": {
        "id": "KPkTt2w3gdHX"
      },
      "source": [
        "from tensorflow.keras.models import Sequential"
      ],
      "execution_count": 260,
      "outputs": []
    },
    {
      "cell_type": "code",
      "metadata": {
        "id": "EX1UJBQ4hDoj"
      },
      "source": [
        "from tensorflow.keras.layers import Dense, LSTM"
      ],
      "execution_count": 261,
      "outputs": []
    },
    {
      "cell_type": "code",
      "metadata": {
        "id": "my-_Tvf1hLMQ"
      },
      "source": [
        "n_features = 1"
      ],
      "execution_count": 262,
      "outputs": []
    },
    {
      "cell_type": "markdown",
      "metadata": {
        "id": "UJacLptdhacP"
      },
      "source": [
        "### Building 1st LSTM model for TimeSeries"
      ]
    },
    {
      "cell_type": "code",
      "metadata": {
        "id": "yD287RRfhNEs",
        "outputId": "96fbadd4-d801-41fd-e32a-72922675f9b5",
        "colab": {
          "base_uri": "https://localhost:8080/"
        }
      },
      "source": [
        "ts_model_1 = Sequential()\n",
        "\n",
        "ts_model_1.add(LSTM(100, activation=\"relu\", input_shape=(length, n_features)))\n",
        "ts_model_1.add(Dense(1))\n",
        "\n",
        "\n",
        "ts_model_1.compile(optimizer=\"adam\",\n",
        "                   loss=\"mse\")"
      ],
      "execution_count": 263,
      "outputs": [
        {
          "output_type": "stream",
          "name": "stdout",
          "text": [
            "WARNING:tensorflow:Layer lstm_8 will not use cuDNN kernels since it doesn't meet the criteria. It will use a generic GPU kernel as fallback when running on GPU.\n"
          ]
        }
      ]
    },
    {
      "cell_type": "code",
      "metadata": {
        "id": "27kRqRSEhyL0",
        "outputId": "4b1b88f1-19eb-4b9a-b7c7-d1090aa88dce",
        "colab": {
          "base_uri": "https://localhost:8080/"
        }
      },
      "source": [
        "ts_model_1.summary()"
      ],
      "execution_count": 264,
      "outputs": [
        {
          "output_type": "stream",
          "name": "stdout",
          "text": [
            "Model: \"sequential_9\"\n",
            "_________________________________________________________________\n",
            "Layer (type)                 Output Shape              Param #   \n",
            "=================================================================\n",
            "lstm_8 (LSTM)                (None, 100)               40800     \n",
            "_________________________________________________________________\n",
            "dense_9 (Dense)              (None, 1)                 101       \n",
            "=================================================================\n",
            "Total params: 40,901\n",
            "Trainable params: 40,901\n",
            "Non-trainable params: 0\n",
            "_________________________________________________________________\n"
          ]
        }
      ]
    },
    {
      "cell_type": "code",
      "metadata": {
        "id": "FPy8DrEfh6o7"
      },
      "source": [
        "from tensorflow.keras.callbacks import EarlyStopping"
      ],
      "execution_count": 265,
      "outputs": []
    },
    {
      "cell_type": "code",
      "metadata": {
        "id": "TGiEMEHOiBgs"
      },
      "source": [
        "early_stop = EarlyStopping(monitor=\"val_loss\", patience=2)"
      ],
      "execution_count": 197,
      "outputs": []
    },
    {
      "cell_type": "code",
      "metadata": {
        "id": "t7BzR25qiMxB"
      },
      "source": [
        "validation_generator = TimeseriesGenerator(scaled_test, scaled_test,\n",
        "                                           length=length, batch_size=1)\n"
      ],
      "execution_count": 266,
      "outputs": []
    },
    {
      "cell_type": "code",
      "metadata": {
        "id": "ad84DMYWiYmI",
        "outputId": "e977f884-465e-4fcf-e21e-e58f96244389",
        "colab": {
          "base_uri": "https://localhost:8080/"
        }
      },
      "source": [
        "ts_model_1.fit_generator(generator, epochs=20,\n",
        "                         validation_data=validation_generator, \n",
        "                         callbacks=[early_stop],\n",
        "                         )"
      ],
      "execution_count": 267,
      "outputs": [
        {
          "output_type": "stream",
          "name": "stderr",
          "text": [
            "/usr/local/lib/python3.7/dist-packages/keras/engine/training.py:1972: UserWarning: `Model.fit_generator` is deprecated and will be removed in a future version. Please use `Model.fit`, which supports generators.\n",
            "  warnings.warn('`Model.fit_generator` is deprecated and '\n"
          ]
        },
        {
          "output_type": "stream",
          "name": "stdout",
          "text": [
            "Epoch 1/20\n",
            "304/304 [==============================] - 14s 41ms/step - loss: 0.0256 - val_loss: 0.0058\n",
            "Epoch 2/20\n",
            "304/304 [==============================] - 12s 40ms/step - loss: 0.0191 - val_loss: 0.0041\n",
            "Epoch 3/20\n",
            "304/304 [==============================] - 12s 40ms/step - loss: 0.0125 - val_loss: 0.0042\n",
            "Epoch 4/20\n",
            "304/304 [==============================] - 12s 39ms/step - loss: 0.0058 - val_loss: 5.8084e-04\n",
            "Epoch 5/20\n",
            "304/304 [==============================] - 12s 40ms/step - loss: 0.0060 - val_loss: 0.0025\n",
            "Epoch 6/20\n",
            "304/304 [==============================] - 12s 39ms/step - loss: 0.0028 - val_loss: 2.8897e-04\n",
            "Epoch 7/20\n",
            "304/304 [==============================] - 12s 40ms/step - loss: 0.0019 - val_loss: 0.0024\n",
            "Epoch 8/20\n",
            "304/304 [==============================] - 12s 40ms/step - loss: 0.0013 - val_loss: 5.8104e-04\n"
          ]
        },
        {
          "output_type": "execute_result",
          "data": {
            "text/plain": [
              "<keras.callbacks.History at 0x7f52c856acd0>"
            ]
          },
          "metadata": {},
          "execution_count": 267
        }
      ]
    },
    {
      "cell_type": "code",
      "metadata": {
        "id": "wEF8dOuWio7I"
      },
      "source": [
        "losses = pd.DataFrame(ts_model_1.history.history)"
      ],
      "execution_count": 268,
      "outputs": []
    },
    {
      "cell_type": "code",
      "metadata": {
        "id": "guptRDaFkH1V",
        "outputId": "f2898828-57c0-4ef1-bbda-11417497bc61",
        "colab": {
          "base_uri": "https://localhost:8080/",
          "height": 282
        }
      },
      "source": [
        "losses.plot()"
      ],
      "execution_count": 269,
      "outputs": [
        {
          "output_type": "execute_result",
          "data": {
            "text/plain": [
              "<matplotlib.axes._subplots.AxesSubplot at 0x7f52c812ef90>"
            ]
          },
          "metadata": {},
          "execution_count": 269
        },
        {
          "output_type": "display_data",
          "data": {
            "image/png": "[encoded data removed]",
            "text/plain": [
              "<Figure size 432x288 with 1 Axes>"
            ]
          },
          "metadata": {
            "needs_background": "light"
          }
        }
      ]
    },
    {
      "cell_type": "code",
      "metadata": {
        "id": "GAv57XkxkJ3R"
      },
      "source": [
        "test_predictions = []\n",
        "\n",
        "first_eval_batch = scaled_train[-length:]\n",
        "current_batch = first_eval_batch.reshape((1, length, n_features))\n",
        "\n",
        "for i in range(len(test)):\n",
        "  #get prediction 1 time stamp ahead\n",
        "  current_pred = ts_model_1.predict(current_batch)[0]\n",
        "\n",
        "  # store predictions\n",
        "  test_predictions.append(current_pred)\n",
        "\n",
        "  #update batch to now include predictions and drop first value\n",
        "  current_batch = np.append(current_batch[:,1:,:],[[current_pred]], axis=1)"
      ],
      "execution_count": 270,
      "outputs": []
    },
    {
      "cell_type": "code",
      "metadata": {
        "id": "8Rw7NNBZlDgh"
      },
      "source": [
        "true_predictions = scaler.inverse_transform(test_predictions)"
      ],
      "execution_count": 271,
      "outputs": []
    },
    {
      "cell_type": "code",
      "metadata": {
        "id": "OcOCL4mBl1Y9",
        "outputId": "b222f66b-3507-4d7f-8075-a3ec4b70b98f",
        "colab": {
          "base_uri": "https://localhost:8080/"
        }
      },
      "source": [
        "test['Predictions'] = true_predictions"
      ],
      "execution_count": 272,
      "outputs": [
        {
          "output_type": "stream",
          "name": "stderr",
          "text": [
            "/usr/local/lib/python3.7/dist-packages/ipykernel_launcher.py:1: SettingWithCopyWarning: \n",
            "A value is trying to be set on a copy of a slice from a DataFrame.\n",
            "Try using .loc[row_indexer,col_indexer] = value instead\n",
            "\n",
            "See the caveats in the documentation: https://pandas.pydata.org/pandas-docs/stable/user_guide/indexing.html#returning-a-view-versus-a-copy\n",
            "  \"\"\"Entry point for launching an IPython kernel.\n"
          ]
        }
      ]
    },
    {
      "cell_type": "code",
      "metadata": {
        "id": "Pw7XFtFhl7FN",
        "outputId": "d4dd8b00-1c3a-40ca-e7d9-c18c70672942",
        "colab": {
          "base_uri": "https://localhost:8080/",
          "height": 638
        }
      },
      "source": [
        "test"
      ],
      "execution_count": 273,
      "outputs": [
        {
          "output_type": "execute_result",
          "data": {
            "text/html": [
              "<div>\n",
              "<style scoped>\n",
              "    .dataframe tbody tr th:only-of-type {\n",
              "        vertical-align: middle;\n",
              "    }\n",
              "\n",
              "    .dataframe tbody tr th {\n",
              "        vertical-align: top;\n",
              "    }\n",
              "\n",
              "    .dataframe thead th {\n",
              "        text-align: right;\n",
              "    }\n",
              "</style>\n",
              "<table border=\"1\" class=\"dataframe\">\n",
              "  <thead>\n",
              "    <tr style=\"text-align: right;\">\n",
              "      <th></th>\n",
              "      <th>Sales</th>\n",
              "      <th>Predictions</th>\n",
              "    </tr>\n",
              "    <tr>\n",
              "      <th>DATE</th>\n",
              "      <th></th>\n",
              "      <th></th>\n",
              "    </tr>\n",
              "  </thead>\n",
              "  <tbody>\n",
              "    <tr>\n",
              "      <th>2018-05-01</th>\n",
              "      <td>23764</td>\n",
              "      <td>21736.556933</td>\n",
              "    </tr>\n",
              "    <tr>\n",
              "      <th>2018-06-01</th>\n",
              "      <td>21589</td>\n",
              "      <td>20673.008081</td>\n",
              "    </tr>\n",
              "    <tr>\n",
              "      <th>2018-07-01</th>\n",
              "      <td>21919</td>\n",
              "      <td>20928.372496</td>\n",
              "    </tr>\n",
              "    <tr>\n",
              "      <th>2018-08-01</th>\n",
              "      <td>23381</td>\n",
              "      <td>22632.540537</td>\n",
              "    </tr>\n",
              "    <tr>\n",
              "      <th>2018-09-01</th>\n",
              "      <td>20260</td>\n",
              "      <td>20248.098468</td>\n",
              "    </tr>\n",
              "    <tr>\n",
              "      <th>2018-10-01</th>\n",
              "      <td>21473</td>\n",
              "      <td>20851.709322</td>\n",
              "    </tr>\n",
              "    <tr>\n",
              "      <th>2018-11-01</th>\n",
              "      <td>25831</td>\n",
              "      <td>24303.088816</td>\n",
              "    </tr>\n",
              "    <tr>\n",
              "      <th>2018-12-01</th>\n",
              "      <td>34706</td>\n",
              "      <td>33822.761720</td>\n",
              "    </tr>\n",
              "    <tr>\n",
              "      <th>2019-01-01</th>\n",
              "      <td>16410</td>\n",
              "      <td>16234.847981</td>\n",
              "    </tr>\n",
              "    <tr>\n",
              "      <th>2019-02-01</th>\n",
              "      <td>18134</td>\n",
              "      <td>18826.455137</td>\n",
              "    </tr>\n",
              "    <tr>\n",
              "      <th>2019-03-01</th>\n",
              "      <td>22093</td>\n",
              "      <td>22192.306827</td>\n",
              "    </tr>\n",
              "    <tr>\n",
              "      <th>2019-04-01</th>\n",
              "      <td>21597</td>\n",
              "      <td>20852.740341</td>\n",
              "    </tr>\n",
              "    <tr>\n",
              "      <th>2019-05-01</th>\n",
              "      <td>23200</td>\n",
              "      <td>21876.368392</td>\n",
              "    </tr>\n",
              "    <tr>\n",
              "      <th>2019-06-01</th>\n",
              "      <td>21123</td>\n",
              "      <td>21005.544612</td>\n",
              "    </tr>\n",
              "    <tr>\n",
              "      <th>2019-07-01</th>\n",
              "      <td>21714</td>\n",
              "      <td>21280.825099</td>\n",
              "    </tr>\n",
              "    <tr>\n",
              "      <th>2019-08-01</th>\n",
              "      <td>23791</td>\n",
              "      <td>22723.984389</td>\n",
              "    </tr>\n",
              "    <tr>\n",
              "      <th>2019-09-01</th>\n",
              "      <td>19695</td>\n",
              "      <td>20678.930696</td>\n",
              "    </tr>\n",
              "    <tr>\n",
              "      <th>2019-10-01</th>\n",
              "      <td>21113</td>\n",
              "      <td>21262.619730</td>\n",
              "    </tr>\n",
              "  </tbody>\n",
              "</table>\n",
              "</div>"
            ],
            "text/plain": [
              "            Sales   Predictions\n",
              "DATE                           \n",
              "2018-05-01  23764  21736.556933\n",
              "2018-06-01  21589  20673.008081\n",
              "2018-07-01  21919  20928.372496\n",
              "2018-08-01  23381  22632.540537\n",
              "2018-09-01  20260  20248.098468\n",
              "2018-10-01  21473  20851.709322\n",
              "2018-11-01  25831  24303.088816\n",
              "2018-12-01  34706  33822.761720\n",
              "2019-01-01  16410  16234.847981\n",
              "2019-02-01  18134  18826.455137\n",
              "2019-03-01  22093  22192.306827\n",
              "2019-04-01  21597  20852.740341\n",
              "2019-05-01  23200  21876.368392\n",
              "2019-06-01  21123  21005.544612\n",
              "2019-07-01  21714  21280.825099\n",
              "2019-08-01  23791  22723.984389\n",
              "2019-09-01  19695  20678.930696\n",
              "2019-10-01  21113  21262.619730"
            ]
          },
          "metadata": {},
          "execution_count": 273
        }
      ]
    },
    {
      "cell_type": "code",
      "metadata": {
        "id": "mhCFlpual9su",
        "outputId": "1bff3852-35fd-43c7-a780-411a9ee7f1ac",
        "colab": {
          "base_uri": "https://localhost:8080/",
          "height": 308
        }
      },
      "source": [
        "test.plot()"
      ],
      "execution_count": 274,
      "outputs": [
        {
          "output_type": "execute_result",
          "data": {
            "text/plain": [
              "<matplotlib.axes._subplots.AxesSubplot at 0x7f52c7feeb10>"
            ]
          },
          "metadata": {},
          "execution_count": 274
        },
        {
          "output_type": "display_data",
          "data": {
            "image/png": "[encoded data removed]",
            "text/plain": [
              "<Figure size 432x288 with 1 Axes>"
            ]
          },
          "metadata": {
            "needs_background": "light"
          }
        }
      ]
    },
    {
      "cell_type": "code",
      "metadata": {
        "id": "MpwD0msimcP-"
      },
      "source": [
        ""
      ],
      "execution_count": null,
      "outputs": []
    }
  ]
}