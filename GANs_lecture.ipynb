{
  "nbformat": 4,
  "nbformat_minor": 0,
  "metadata": {
    "colab": {
      "name": "GANs_lecture.ipynb",
      "provenance": [],
      "authorship_tag": "ABX9TyM+mTeMhEJqHRRNlLz4UZle",
      "include_colab_link": true
    },
    "kernelspec": {
      "name": "python3",
      "display_name": "Python 3"
    },
    "language_info": {
      "name": "python"
    }
  },
  "cells": [
    {
      "cell_type": "markdown",
      "metadata": {
        "id": "view-in-github",
        "colab_type": "text"
      },
      "source": [
        "<a href=\"https://colab.research.google.com/github/Dimisz/tensorflow_lectures/blob/main/GANs_lecture.ipynb\" target=\"_parent\"><img src=\"https://colab.research.google.com/assets/colab-badge.svg\" alt=\"Open In Colab\"/></a>"
      ]
    },
    {
      "cell_type": "markdown",
      "metadata": {
        "id": "kTY5Van1uB5U"
      },
      "source": [
        "# GANs Brief Theory"
      ]
    },
    {
      "cell_type": "markdown",
      "metadata": {
        "id": "1OSqTjwMuGe6"
      },
      "source": [
        "## Broad Overview"
      ]
    },
    {
      "cell_type": "markdown",
      "metadata": {
        "id": "gtnUdKZgsEps"
      },
      "source": [
        "GANs may be thought of as two neural networks competing with each other to create new data"
      ]
    },
    {
      "cell_type": "markdown",
      "metadata": {
        "id": "UtJRoY_mskmq"
      },
      "source": [
        "**Generator**:\n",
        "* Receives random noise (Gaussian/ normal distribution)\n",
        "* Outputs data (often an image)"
      ]
    },
    {
      "cell_type": "markdown",
      "metadata": {
        "id": "P3nNFLYts0nf"
      },
      "source": [
        "**Discriminator**:\n",
        "* Takes a dataset consisting of real images and fake images from the generator.\n",
        "* Attempts to classiify real vs fake (always binary classification)"
      ]
    },
    {
      "cell_type": "markdown",
      "metadata": {
        "id": "McVBz9ZquAbN"
      },
      "source": [
        "## Difficulties"
      ]
    },
    {
      "cell_type": "markdown",
      "metadata": {
        "id": "tJGhRIkxuL96"
      },
      "source": [
        "* Training Resources\n",
        "* Mode Collapse\n",
        "* Instability"
      ]
    },
    {
      "cell_type": "markdown",
      "metadata": {
        "id": "fxXyvvMmuZkM"
      },
      "source": [
        "### Training resources"
      ]
    },
    {
      "cell_type": "markdown",
      "metadata": {
        "id": "eXUMxUVbucyb"
      },
      "source": [
        "Since GANs are most often used for image based data, they require GPUs for reasonable training time\n"
      ]
    },
    {
      "cell_type": "markdown",
      "metadata": {
        "id": "pc4RizjTut3m"
      },
      "source": [
        "### Mode Collapse"
      ]
    },
    {
      "cell_type": "markdown",
      "metadata": {
        "id": "WlZozK6uuwKs"
      },
      "source": [
        "Often the generator will figure out a few images (or a single imaage) that can fool the discriminator, and eventually 'collapses' to only produce that image"
      ]
    },
    {
      "cell_type": "markdown",
      "metadata": {
        "id": "Swtv0FEpvSAu"
      },
      "source": [
        "#### Solutions to Mode Collapse"
      ]
    },
    {
      "cell_type": "markdown",
      "metadata": {
        "id": "lPYyphaqvWHa"
      },
      "source": [
        "* **DCGANs (Deep Convolutional GANs** are better for avoiding mode collapse.\n",
        "\n",
        "* Researchers are also experimenting with **`mini-batch discrimination`**, punishing generated batches of images that are all too similar."
      ]
    },
    {
      "cell_type": "markdown",
      "metadata": {
        "id": "VcVirGGsvyuo"
      },
      "source": [
        "### Instability"
      ]
    },
    {
      "cell_type": "markdown",
      "metadata": {
        "id": "HB_wtkPRv6a_"
      },
      "source": [
        "It can be difficult to ascertain performance and appropriate training epochs since the generated images are always truly 'fake'"
      ]
    },
    {
      "cell_type": "markdown",
      "metadata": {
        "id": "XFaU2a5swHgs"
      },
      "source": [
        "# Practical Part"
      ]
    },
    {
      "cell_type": "markdown",
      "metadata": {
        "id": "tQTbUG8Awo9W"
      },
      "source": [
        "## Data"
      ]
    },
    {
      "cell_type": "code",
      "metadata": {
        "id": "FQMwtBOgwqvp"
      },
      "source": [
        "import numpy as np\n",
        "import pandas as pd\n",
        "import matplotlib.pyplot as plt"
      ],
      "execution_count": 1,
      "outputs": []
    },
    {
      "cell_type": "code",
      "metadata": {
        "id": "NpcJXZM6wxO-"
      },
      "source": [
        "from tensorflow.keras.datasets import mnist"
      ],
      "execution_count": 2,
      "outputs": []
    },
    {
      "cell_type": "code",
      "metadata": {
        "colab": {
          "base_uri": "https://localhost:8080/"
        },
        "id": "Y708CT6jw3LT",
        "outputId": "2ad7993f-e243-477d-ff1b-7255ed6c23fb"
      },
      "source": [
        "(X_train, y_train), (X_test, y_test) = mnist.load_data()"
      ],
      "execution_count": 3,
      "outputs": [
        {
          "output_type": "stream",
          "name": "stdout",
          "text": [
            "Downloading data from https://storage.googleapis.com/tensorflow/tf-keras-datasets/mnist.npz\n",
            "11493376/11490434 [==============================] - 0s 0us/step\n",
            "11501568/11490434 [==============================] - 0s 0us/step\n"
          ]
        }
      ]
    },
    {
      "cell_type": "code",
      "metadata": {
        "colab": {
          "base_uri": "https://localhost:8080/",
          "height": 282
        },
        "id": "OofslxEfxCEj",
        "outputId": "c1b942f1-d3b9-4ce7-916c-ddc420a1b023"
      },
      "source": [
        "plt.imshow(X_train[0])"
      ],
      "execution_count": 5,
      "outputs": [
        {
          "output_type": "execute_result",
          "data": {
            "text/plain": [
              "<matplotlib.image.AxesImage at 0x7fa39701f610>"
            ]
          },
          "metadata": {},
          "execution_count": 5
        },
        {
          "output_type": "display_data",
          "data": {
            "image/png": "[encoded data removed]",
            "text/plain": [
              "<Figure size 432x288 with 1 Axes>"
            ]
          },
          "metadata": {
            "needs_background": "light"
          }
        }
      ]
    },
    {
      "cell_type": "code",
      "metadata": {
        "colab": {
          "base_uri": "https://localhost:8080/"
        },
        "id": "j_tkTsEFxEeD",
        "outputId": "c66cf477-e877-4ae1-e730-046b1def9dba"
      },
      "source": [
        "y_train"
      ],
      "execution_count": 6,
      "outputs": [
        {
          "output_type": "execute_result",
          "data": {
            "text/plain": [
              "array([5, 0, 4, ..., 5, 6, 8], dtype=uint8)"
            ]
          },
          "metadata": {},
          "execution_count": 6
        }
      ]
    },
    {
      "cell_type": "code",
      "metadata": {
        "id": "vdzkUGqjxJIN"
      },
      "source": [
        "only_zeros = X_train[y_train == 0]"
      ],
      "execution_count": 7,
      "outputs": []
    },
    {
      "cell_type": "code",
      "metadata": {
        "colab": {
          "base_uri": "https://localhost:8080/"
        },
        "id": "Qc4JWosPxeO7",
        "outputId": "9601a5aa-0be5-49b1-d9c1-fe523155c479"
      },
      "source": [
        "only_zeros.shape"
      ],
      "execution_count": 8,
      "outputs": [
        {
          "output_type": "execute_result",
          "data": {
            "text/plain": [
              "(5923, 28, 28)"
            ]
          },
          "metadata": {},
          "execution_count": 8
        }
      ]
    },
    {
      "cell_type": "code",
      "metadata": {
        "colab": {
          "base_uri": "https://localhost:8080/"
        },
        "id": "El49kxCqxhdn",
        "outputId": "2174f69d-c78a-4a8d-93c0-29bf1dbbece7"
      },
      "source": [
        "X_train.shape"
      ],
      "execution_count": 9,
      "outputs": [
        {
          "output_type": "execute_result",
          "data": {
            "text/plain": [
              "(60000, 28, 28)"
            ]
          },
          "metadata": {},
          "execution_count": 9
        }
      ]
    },
    {
      "cell_type": "code",
      "metadata": {
        "colab": {
          "base_uri": "https://localhost:8080/",
          "height": 282
        },
        "id": "zQzhJbwXxjoI",
        "outputId": "422bbfe5-5eff-4850-ee25-78c311575d79"
      },
      "source": [
        "plt.imshow(only_zeros[14])"
      ],
      "execution_count": 11,
      "outputs": [
        {
          "output_type": "execute_result",
          "data": {
            "text/plain": [
              "<matplotlib.image.AxesImage at 0x7fa396a599d0>"
            ]
          },
          "metadata": {},
          "execution_count": 11
        },
        {
          "output_type": "display_data",
          "data": {
            "image/png": "[encoded data removed]",
            "text/plain": [
              "<Figure size 432x288 with 1 Axes>"
            ]
          },
          "metadata": {
            "needs_background": "light"
          }
        }
      ]
    },
    {
      "cell_type": "markdown",
      "metadata": {
        "id": "G5CQCDL-xpqI"
      },
      "source": [
        "## Creating Generator and Discriminator"
      ]
    },
    {
      "cell_type": "code",
      "metadata": {
        "id": "f9-lBJF-yGNk"
      },
      "source": [
        "from tensorflow.keras.models import Sequential\n",
        "from tensorflow.keras.layers import Dense, Reshape, Flatten\n",
        "\n",
        "import tensorflow as tf"
      ],
      "execution_count": 12,
      "outputs": []
    },
    {
      "cell_type": "code",
      "metadata": {
        "id": "HEs-cnhbyoSL"
      },
      "source": [
        "discriminator = Sequential()\n",
        "discriminator.add(Flatten(input_shape=[28,28]))\n",
        "discriminator.add(Dense(150, activation=\"relu\"))\n",
        "discriminator.add(Dense(100, activation=\"relu\"))\n",
        "#Final output layer\n",
        "discriminator.add(Dense(1, activation='sigmoid'))\n",
        "\n",
        "discriminator.compile(loss='binary_crossentropy', optimizer='adam')"
      ],
      "execution_count": 13,
      "outputs": []
    },
    {
      "cell_type": "code",
      "metadata": {
        "id": "EDi0RBsvz1rk"
      },
      "source": [
        "# no right coding_size\n",
        "# should be less than the total number of features\n",
        "# but not so little the model cannnot learn from it\n",
        "coding_size = 100 # initial size=784\n",
        "\n",
        "generator = Sequential()\n",
        "generator.add(Dense(100, activation=\"relu\", input_shape=[coding_size]))\n",
        "generator.add(Dense(150, activation=\"relu\"))\n",
        "generator.add(Dense(784, activation=\"relu\"))\n",
        "generator.add(Reshape([28,28]))"
      ],
      "execution_count": 15,
      "outputs": []
    },
    {
      "cell_type": "code",
      "metadata": {
        "id": "w1QCFs0n0pDr"
      },
      "source": [
        "GAN = Sequential([generator, discriminator])"
      ],
      "execution_count": 16,
      "outputs": []
    },
    {
      "cell_type": "code",
      "metadata": {
        "id": "jy8slu-K1SJP"
      },
      "source": [
        "discriminator.trainable = False"
      ],
      "execution_count": 17,
      "outputs": []
    },
    {
      "cell_type": "code",
      "metadata": {
        "id": "WD6YO8qy1Yig"
      },
      "source": [
        "GAN.compile(loss='binary_crossentropy', optimizer='adam')"
      ],
      "execution_count": 18,
      "outputs": []
    },
    {
      "cell_type": "markdown",
      "metadata": {
        "id": "Y_HagHeJ1jiL"
      },
      "source": [
        "## Training the model"
      ]
    },
    {
      "cell_type": "code",
      "metadata": {
        "id": "cZIHabJ93Vx-"
      },
      "source": [
        "batch_size = 32"
      ],
      "execution_count": 19,
      "outputs": []
    },
    {
      "cell_type": "code",
      "metadata": {
        "id": "t0sHeY7r3bvR"
      },
      "source": [
        "# my_data = X_train\n",
        "my_data = only_zeros"
      ],
      "execution_count": 20,
      "outputs": []
    },
    {
      "cell_type": "code",
      "metadata": {
        "id": "98ZU_aHD3io5"
      },
      "source": [
        "dataset = tf.data.Dataset.from_tensor_slices(my_data).shuffle(buffer_size=1000)"
      ],
      "execution_count": 21,
      "outputs": []
    },
    {
      "cell_type": "code",
      "metadata": {
        "colab": {
          "base_uri": "https://localhost:8080/"
        },
        "id": "43bVzL4k3sCF",
        "outputId": "e420cc83-460b-4490-a080-5c223b679734"
      },
      "source": [
        "type(dataset)"
      ],
      "execution_count": 22,
      "outputs": [
        {
          "output_type": "execute_result",
          "data": {
            "text/plain": [
              "tensorflow.python.data.ops.dataset_ops.ShuffleDataset"
            ]
          },
          "metadata": {},
          "execution_count": 22
        }
      ]
    },
    {
      "cell_type": "code",
      "metadata": {
        "id": "d8dlBa4y3uFf"
      },
      "source": [
        "dataset = dataset.batch(batch_size, drop_remainder=True).prefetch(1)"
      ],
      "execution_count": 23,
      "outputs": []
    },
    {
      "cell_type": "code",
      "metadata": {
        "id": "VL4gZywW4C_h"
      },
      "source": [
        "epochs=1"
      ],
      "execution_count": 24,
      "outputs": []
    },
    {
      "cell_type": "code",
      "metadata": {
        "colab": {
          "base_uri": "https://localhost:8080/"
        },
        "id": "jzD7t9t94EPa",
        "outputId": "4e24e710-9ffe-483d-fa64-b01d2d39575c"
      },
      "source": [
        "GAN.layers[0].layers"
      ],
      "execution_count": 25,
      "outputs": [
        {
          "output_type": "execute_result",
          "data": {
            "text/plain": [
              "[<keras.layers.core.Dense at 0x7fa396992810>,\n",
              " <keras.layers.core.Dense at 0x7fa396985990>,\n",
              " <keras.layers.core.Dense at 0x7fa39268dd50>,\n",
              " <keras.layers.core.Reshape at 0x7fa392743310>]"
            ]
          },
          "metadata": {},
          "execution_count": 25
        }
      ]
    },
    {
      "cell_type": "code",
      "metadata": {
        "colab": {
          "base_uri": "https://localhost:8080/"
        },
        "id": "SLNPKLwA4WDJ",
        "outputId": "fc9d5dcb-fcab-44b0-a927-19fcbee22cd9"
      },
      "source": [
        "GAN.layers[1].layers"
      ],
      "execution_count": 26,
      "outputs": [
        {
          "output_type": "execute_result",
          "data": {
            "text/plain": [
              "[<keras.layers.core.Flatten at 0x7fa396985c10>,\n",
              " <keras.layers.core.Dense at 0x7fa396985a90>,\n",
              " <keras.layers.core.Dense at 0x7fa396a26710>,\n",
              " <keras.layers.core.Dense at 0x7fa39698a990>]"
            ]
          },
          "metadata": {},
          "execution_count": 26
        }
      ]
    },
    {
      "cell_type": "code",
      "metadata": {
        "colab": {
          "base_uri": "https://localhost:8080/"
        },
        "id": "ZcUwj_fi4aaq",
        "outputId": "93747227-5c0a-4e4e-9764-f785d9308d49"
      },
      "source": [
        "generator, discriminator = GAN.layers\n",
        "\n",
        "for epoch in range(epochs):\n",
        "  print(f\"Currrently on epoch: {epoch+1}\")\n",
        "  i = 0\n",
        "\n",
        "  for X_batch in dataset:\n",
        "    i = i+1\n",
        "    if i%100 == 0:\n",
        "      print(f\"Currently on batch number: {i} of {len(my_data)//batch_size}\")\n",
        "    \n",
        "    # Discriminator training phase\n",
        "    noise = tf.random.normal(shape=[batch_size, coding_size])\n",
        "\n",
        "    gen_images = generator(noise)\n",
        "\n",
        "    X_fake_vs_real = tf.concat([gen_images, tf.dtypes.cast(X_batch, tf.float32)], axis=0)\n",
        "\n",
        "    y1 = tf.constant([[0.0]]*batch_size + [[1.0]]*batch_size)\n",
        "\n",
        "    discriminator.trainable = True\n",
        "\n",
        "    discriminator.train_on_batch(X_fake_vs_real, y1)\n",
        "\n",
        "    #Training generator\n",
        "    noise = tf.random.normal(shape=[batch_size, coding_size])\n",
        "    y2 = tf.constant([[1.0]]*batch_size)\n",
        "    discriminator.trainable = False\n",
        "    GAN.train_on_batch(noise,y2)"
      ],
      "execution_count": 29,
      "outputs": [
        {
          "output_type": "stream",
          "name": "stdout",
          "text": [
            "Currrently on epoch: 1\n",
            "Currently on batch number: 100 of 185\n"
          ]
        }
      ]
    },
    {
      "cell_type": "code",
      "metadata": {
        "id": "U27Ujqti6mdo"
      },
      "source": [
        "noise = tf.random.normal(shape=[10, coding_size])"
      ],
      "execution_count": 30,
      "outputs": []
    },
    {
      "cell_type": "code",
      "metadata": {
        "colab": {
          "base_uri": "https://localhost:8080/"
        },
        "id": "mEJyH4va8OYp",
        "outputId": "ac5e22ba-7820-4f35-afc4-f315262c1b14"
      },
      "source": [
        "noise.shape"
      ],
      "execution_count": 31,
      "outputs": [
        {
          "output_type": "execute_result",
          "data": {
            "text/plain": [
              "TensorShape([10, 100])"
            ]
          },
          "metadata": {},
          "execution_count": 31
        }
      ]
    },
    {
      "cell_type": "code",
      "metadata": {
        "colab": {
          "base_uri": "https://localhost:8080/",
          "height": 101
        },
        "id": "IvoCIFwo8QBs",
        "outputId": "c2f2a149-8506-4046-e1da-ae652e8f6b88"
      },
      "source": [
        "plt.imshow(noise)"
      ],
      "execution_count": 32,
      "outputs": [
        {
          "output_type": "execute_result",
          "data": {
            "text/plain": [
              "<matplotlib.image.AxesImage at 0x7fa38ef8a310>"
            ]
          },
          "metadata": {},
          "execution_count": 32
        },
        {
          "output_type": "display_data",
          "data": {
            "image/png": "[encoded data removed]",
            "text/plain": [
              "<Figure size 432x288 with 1 Axes>"
            ]
          },
          "metadata": {
            "needs_background": "light"
          }
        }
      ]
    },
    {
      "cell_type": "code",
      "metadata": {
        "id": "vNfpT9cE8Snv"
      },
      "source": [
        "images = generator(noise)"
      ],
      "execution_count": 33,
      "outputs": []
    },
    {
      "cell_type": "code",
      "metadata": {
        "colab": {
          "base_uri": "https://localhost:8080/"
        },
        "id": "GiUIigP98Xm1",
        "outputId": "9bc9f2cd-cc05-483e-a2c2-bad4c9abaf1a"
      },
      "source": [
        "images.shape"
      ],
      "execution_count": 34,
      "outputs": [
        {
          "output_type": "execute_result",
          "data": {
            "text/plain": [
              "TensorShape([10, 28, 28])"
            ]
          },
          "metadata": {},
          "execution_count": 34
        }
      ]
    },
    {
      "cell_type": "code",
      "metadata": {
        "colab": {
          "base_uri": "https://localhost:8080/",
          "height": 761
        },
        "id": "LYfxzcu58ZIw",
        "outputId": "ef321ec8-bc75-470d-fc31-26502a2c5be2"
      },
      "source": [
        "plt.imshow(images[1])\n",
        "plt.show()\n",
        "plt.imshow(images[0])\n",
        "plt.show()\n",
        "plt.imshow(images[5])\n",
        "plt.show()"
      ],
      "execution_count": 40,
      "outputs": [
        {
          "output_type": "display_data",
          "data": {
            "image/png": "[encoded data removed]",
            "text/plain": [
              "<Figure size 432x288 with 1 Axes>"
            ]
          },
          "metadata": {
            "needs_background": "light"
          }
        },
        {
          "output_type": "display_data",
          "data": {
            "image/png": "[encoded data removed]",
            "text/plain": [
              "<Figure size 432x288 with 1 Axes>"
            ]
          },
          "metadata": {
            "needs_background": "light"
          }
        },
        {
          "output_type": "display_data",
          "data": {
            "image/png": "[encoded data removed]",
            "text/plain": [
              "<Figure size 432x288 with 1 Axes>"
            ]
          },
          "metadata": {
            "needs_background": "light"
          }
        }
      ]
    },
    {
      "cell_type": "code",
      "metadata": {
        "id": "5wNSfR7o8e9g"
      },
      "source": [
        "# It's mode collapse since all the images look similar"
      ],
      "execution_count": 41,
      "outputs": []
    }
  ]
}